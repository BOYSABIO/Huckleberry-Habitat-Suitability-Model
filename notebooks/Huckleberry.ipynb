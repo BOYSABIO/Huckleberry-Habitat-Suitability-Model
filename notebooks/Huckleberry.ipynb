{
 "cells": [
  {
   "cell_type": "markdown",
   "metadata": {},
   "source": [
    "## Loading Dataset"
   ]
  },
  {
   "cell_type": "code",
   "execution_count": 1,
   "metadata": {},
   "outputs": [],
   "source": [
    "import pandas as pd \n",
    "import numpy as np \n",
    "\n",
    "pd.set_option('display.max_columns', None)"
   ]
  },
  {
   "cell_type": "code",
   "execution_count": 2,
   "metadata": {},
   "outputs": [
    {
     "name": "stderr",
     "output_type": "stream",
     "text": [
      "C:\\Users\\SABIO\\AppData\\Local\\Temp\\ipykernel_36260\\3377765415.py:1: DtypeWarning: Columns (29,30,35,43,46,49,53,60,75,77,83,102,103,112,113,114,115,116,117,118,132,133,137,138,147,170,177) have mixed types. Specify dtype option on import or set low_memory=False.\n",
      "  df = pd.read_csv('../data/raw/occurrence.txt', sep='\\t')\n"
     ]
    },
    {
     "data": {
      "text/html": [
       "<div>\n",
       "<style scoped>\n",
       "    .dataframe tbody tr th:only-of-type {\n",
       "        vertical-align: middle;\n",
       "    }\n",
       "\n",
       "    .dataframe tbody tr th {\n",
       "        vertical-align: top;\n",
       "    }\n",
       "\n",
       "    .dataframe thead th {\n",
       "        text-align: right;\n",
       "    }\n",
       "</style>\n",
       "<table border=\"1\" class=\"dataframe\">\n",
       "  <thead>\n",
       "    <tr style=\"text-align: right;\">\n",
       "      <th></th>\n",
       "      <th>gbifID</th>\n",
       "      <th>accessRights</th>\n",
       "      <th>bibliographicCitation</th>\n",
       "      <th>language</th>\n",
       "      <th>license</th>\n",
       "      <th>modified</th>\n",
       "      <th>publisher</th>\n",
       "      <th>references</th>\n",
       "      <th>rightsHolder</th>\n",
       "      <th>type</th>\n",
       "      <th>institutionID</th>\n",
       "      <th>collectionID</th>\n",
       "      <th>datasetID</th>\n",
       "      <th>institutionCode</th>\n",
       "      <th>collectionCode</th>\n",
       "      <th>datasetName</th>\n",
       "      <th>ownerInstitutionCode</th>\n",
       "      <th>basisOfRecord</th>\n",
       "      <th>informationWithheld</th>\n",
       "      <th>dataGeneralizations</th>\n",
       "      <th>dynamicProperties</th>\n",
       "      <th>occurrenceID</th>\n",
       "      <th>catalogNumber</th>\n",
       "      <th>recordNumber</th>\n",
       "      <th>recordedBy</th>\n",
       "      <th>recordedByID</th>\n",
       "      <th>individualCount</th>\n",
       "      <th>organismQuantity</th>\n",
       "      <th>organismQuantityType</th>\n",
       "      <th>sex</th>\n",
       "      <th>lifeStage</th>\n",
       "      <th>reproductiveCondition</th>\n",
       "      <th>caste</th>\n",
       "      <th>behavior</th>\n",
       "      <th>vitality</th>\n",
       "      <th>establishmentMeans</th>\n",
       "      <th>degreeOfEstablishment</th>\n",
       "      <th>pathway</th>\n",
       "      <th>georeferenceVerificationStatus</th>\n",
       "      <th>occurrenceStatus</th>\n",
       "      <th>preparations</th>\n",
       "      <th>disposition</th>\n",
       "      <th>associatedOccurrences</th>\n",
       "      <th>associatedReferences</th>\n",
       "      <th>associatedSequences</th>\n",
       "      <th>associatedTaxa</th>\n",
       "      <th>otherCatalogNumbers</th>\n",
       "      <th>occurrenceRemarks</th>\n",
       "      <th>organismID</th>\n",
       "      <th>organismName</th>\n",
       "      <th>organismScope</th>\n",
       "      <th>associatedOrganisms</th>\n",
       "      <th>previousIdentifications</th>\n",
       "      <th>organismRemarks</th>\n",
       "      <th>materialEntityID</th>\n",
       "      <th>materialEntityRemarks</th>\n",
       "      <th>verbatimLabel</th>\n",
       "      <th>materialSampleID</th>\n",
       "      <th>eventID</th>\n",
       "      <th>parentEventID</th>\n",
       "      <th>eventType</th>\n",
       "      <th>fieldNumber</th>\n",
       "      <th>eventDate</th>\n",
       "      <th>eventTime</th>\n",
       "      <th>startDayOfYear</th>\n",
       "      <th>endDayOfYear</th>\n",
       "      <th>year</th>\n",
       "      <th>month</th>\n",
       "      <th>day</th>\n",
       "      <th>verbatimEventDate</th>\n",
       "      <th>habitat</th>\n",
       "      <th>samplingProtocol</th>\n",
       "      <th>sampleSizeValue</th>\n",
       "      <th>sampleSizeUnit</th>\n",
       "      <th>samplingEffort</th>\n",
       "      <th>fieldNotes</th>\n",
       "      <th>eventRemarks</th>\n",
       "      <th>locationID</th>\n",
       "      <th>higherGeographyID</th>\n",
       "      <th>higherGeography</th>\n",
       "      <th>continent</th>\n",
       "      <th>waterBody</th>\n",
       "      <th>islandGroup</th>\n",
       "      <th>island</th>\n",
       "      <th>countryCode</th>\n",
       "      <th>stateProvince</th>\n",
       "      <th>county</th>\n",
       "      <th>municipality</th>\n",
       "      <th>locality</th>\n",
       "      <th>verbatimLocality</th>\n",
       "      <th>verbatimElevation</th>\n",
       "      <th>verticalDatum</th>\n",
       "      <th>verbatimDepth</th>\n",
       "      <th>minimumDistanceAboveSurfaceInMeters</th>\n",
       "      <th>maximumDistanceAboveSurfaceInMeters</th>\n",
       "      <th>locationAccordingTo</th>\n",
       "      <th>locationRemarks</th>\n",
       "      <th>decimalLatitude</th>\n",
       "      <th>decimalLongitude</th>\n",
       "      <th>coordinateUncertaintyInMeters</th>\n",
       "      <th>coordinatePrecision</th>\n",
       "      <th>pointRadiusSpatialFit</th>\n",
       "      <th>verbatimCoordinateSystem</th>\n",
       "      <th>verbatimSRS</th>\n",
       "      <th>footprintWKT</th>\n",
       "      <th>footprintSRS</th>\n",
       "      <th>footprintSpatialFit</th>\n",
       "      <th>georeferencedBy</th>\n",
       "      <th>georeferencedDate</th>\n",
       "      <th>georeferenceProtocol</th>\n",
       "      <th>georeferenceSources</th>\n",
       "      <th>georeferenceRemarks</th>\n",
       "      <th>geologicalContextID</th>\n",
       "      <th>earliestEonOrLowestEonothem</th>\n",
       "      <th>latestEonOrHighestEonothem</th>\n",
       "      <th>earliestEraOrLowestErathem</th>\n",
       "      <th>latestEraOrHighestErathem</th>\n",
       "      <th>earliestPeriodOrLowestSystem</th>\n",
       "      <th>latestPeriodOrHighestSystem</th>\n",
       "      <th>earliestEpochOrLowestSeries</th>\n",
       "      <th>latestEpochOrHighestSeries</th>\n",
       "      <th>earliestAgeOrLowestStage</th>\n",
       "      <th>latestAgeOrHighestStage</th>\n",
       "      <th>lowestBiostratigraphicZone</th>\n",
       "      <th>highestBiostratigraphicZone</th>\n",
       "      <th>lithostratigraphicTerms</th>\n",
       "      <th>group</th>\n",
       "      <th>formation</th>\n",
       "      <th>member</th>\n",
       "      <th>bed</th>\n",
       "      <th>identificationID</th>\n",
       "      <th>verbatimIdentification</th>\n",
       "      <th>identificationQualifier</th>\n",
       "      <th>typeStatus</th>\n",
       "      <th>identifiedBy</th>\n",
       "      <th>identifiedByID</th>\n",
       "      <th>dateIdentified</th>\n",
       "      <th>identificationReferences</th>\n",
       "      <th>identificationVerificationStatus</th>\n",
       "      <th>identificationRemarks</th>\n",
       "      <th>taxonID</th>\n",
       "      <th>scientificNameID</th>\n",
       "      <th>acceptedNameUsageID</th>\n",
       "      <th>parentNameUsageID</th>\n",
       "      <th>originalNameUsageID</th>\n",
       "      <th>nameAccordingToID</th>\n",
       "      <th>namePublishedInID</th>\n",
       "      <th>taxonConceptID</th>\n",
       "      <th>scientificName</th>\n",
       "      <th>acceptedNameUsage</th>\n",
       "      <th>parentNameUsage</th>\n",
       "      <th>originalNameUsage</th>\n",
       "      <th>nameAccordingTo</th>\n",
       "      <th>namePublishedIn</th>\n",
       "      <th>namePublishedInYear</th>\n",
       "      <th>higherClassification</th>\n",
       "      <th>kingdom</th>\n",
       "      <th>phylum</th>\n",
       "      <th>class</th>\n",
       "      <th>order</th>\n",
       "      <th>superfamily</th>\n",
       "      <th>family</th>\n",
       "      <th>subfamily</th>\n",
       "      <th>tribe</th>\n",
       "      <th>subtribe</th>\n",
       "      <th>genus</th>\n",
       "      <th>genericName</th>\n",
       "      <th>subgenus</th>\n",
       "      <th>infragenericEpithet</th>\n",
       "      <th>specificEpithet</th>\n",
       "      <th>infraspecificEpithet</th>\n",
       "      <th>cultivarEpithet</th>\n",
       "      <th>taxonRank</th>\n",
       "      <th>verbatimTaxonRank</th>\n",
       "      <th>vernacularName</th>\n",
       "      <th>nomenclaturalCode</th>\n",
       "      <th>taxonomicStatus</th>\n",
       "      <th>nomenclaturalStatus</th>\n",
       "      <th>taxonRemarks</th>\n",
       "      <th>datasetKey</th>\n",
       "      <th>publishingCountry</th>\n",
       "      <th>lastInterpreted</th>\n",
       "      <th>elevation</th>\n",
       "      <th>elevationAccuracy</th>\n",
       "      <th>depth</th>\n",
       "      <th>depthAccuracy</th>\n",
       "      <th>distanceFromCentroidInMeters</th>\n",
       "      <th>issue</th>\n",
       "      <th>mediaType</th>\n",
       "      <th>hasCoordinate</th>\n",
       "      <th>hasGeospatialIssues</th>\n",
       "      <th>taxonKey</th>\n",
       "      <th>acceptedTaxonKey</th>\n",
       "      <th>kingdomKey</th>\n",
       "      <th>phylumKey</th>\n",
       "      <th>classKey</th>\n",
       "      <th>orderKey</th>\n",
       "      <th>familyKey</th>\n",
       "      <th>genusKey</th>\n",
       "      <th>subgenusKey</th>\n",
       "      <th>speciesKey</th>\n",
       "      <th>species</th>\n",
       "      <th>acceptedScientificName</th>\n",
       "      <th>verbatimScientificName</th>\n",
       "      <th>typifiedName</th>\n",
       "      <th>protocol</th>\n",
       "      <th>lastParsed</th>\n",
       "      <th>lastCrawled</th>\n",
       "      <th>repatriated</th>\n",
       "      <th>relativeOrganismQuantity</th>\n",
       "      <th>projectId</th>\n",
       "      <th>isSequenced</th>\n",
       "      <th>gbifRegion</th>\n",
       "      <th>publishedByGbifRegion</th>\n",
       "      <th>level0Gid</th>\n",
       "      <th>level0Name</th>\n",
       "      <th>level1Gid</th>\n",
       "      <th>level1Name</th>\n",
       "      <th>level2Gid</th>\n",
       "      <th>level2Name</th>\n",
       "      <th>level3Gid</th>\n",
       "      <th>level3Name</th>\n",
       "      <th>iucnRedListCategory</th>\n",
       "    </tr>\n",
       "  </thead>\n",
       "  <tbody>\n",
       "    <tr>\n",
       "      <th>0</th>\n",
       "      <td>931073241</td>\n",
       "      <td>NaN</td>\n",
       "      <td>NaN</td>\n",
       "      <td>en</td>\n",
       "      <td>CC0_1_0</td>\n",
       "      <td>NaN</td>\n",
       "      <td>NaN</td>\n",
       "      <td>NaN</td>\n",
       "      <td>University of Guelph</td>\n",
       "      <td>NaN</td>\n",
       "      <td>NaN</td>\n",
       "      <td>NaN</td>\n",
       "      <td>http://dataset.canadensys.net/oac-specimens</td>\n",
       "      <td>Biodiversity Institute of Ontario</td>\n",
       "      <td>OAC</td>\n",
       "      <td>Ontario Agriculture College Herbarium (OAC-BIO)</td>\n",
       "      <td>NaN</td>\n",
       "      <td>PRESERVED_SPECIMEN</td>\n",
       "      <td>NaN</td>\n",
       "      <td>NaN</td>\n",
       "      <td>NaN</td>\n",
       "      <td>41403</td>\n",
       "      <td>53588</td>\n",
       "      <td>NaN</td>\n",
       "      <td>NaN</td>\n",
       "      <td>NaN</td>\n",
       "      <td>NaN</td>\n",
       "      <td>NaN</td>\n",
       "      <td>NaN</td>\n",
       "      <td>NaN</td>\n",
       "      <td>NaN</td>\n",
       "      <td>NaN</td>\n",
       "      <td>NaN</td>\n",
       "      <td>NaN</td>\n",
       "      <td>NaN</td>\n",
       "      <td>NaN</td>\n",
       "      <td>NaN</td>\n",
       "      <td>NaN</td>\n",
       "      <td>NaN</td>\n",
       "      <td>PRESENT</td>\n",
       "      <td>NaN</td>\n",
       "      <td>NaN</td>\n",
       "      <td>NaN</td>\n",
       "      <td>NaN</td>\n",
       "      <td>NaN</td>\n",
       "      <td>NaN</td>\n",
       "      <td>NaN</td>\n",
       "      <td>NaN</td>\n",
       "      <td>NaN</td>\n",
       "      <td>NaN</td>\n",
       "      <td>NaN</td>\n",
       "      <td>NaN</td>\n",
       "      <td>NaN</td>\n",
       "      <td>NaN</td>\n",
       "      <td>NaN</td>\n",
       "      <td>NaN</td>\n",
       "      <td>NaN</td>\n",
       "      <td>NaN</td>\n",
       "      <td>NaN</td>\n",
       "      <td>NaN</td>\n",
       "      <td>NaN</td>\n",
       "      <td>NaN</td>\n",
       "      <td>NaN</td>\n",
       "      <td>NaN</td>\n",
       "      <td>NaN</td>\n",
       "      <td>NaN</td>\n",
       "      <td>NaN</td>\n",
       "      <td>NaN</td>\n",
       "      <td>NaN</td>\n",
       "      <td>NaN</td>\n",
       "      <td>NaN</td>\n",
       "      <td>NaN</td>\n",
       "      <td>NaN</td>\n",
       "      <td>NaN</td>\n",
       "      <td>NaN</td>\n",
       "      <td>NaN</td>\n",
       "      <td>NaN</td>\n",
       "      <td>NaN</td>\n",
       "      <td>NaN</td>\n",
       "      <td>NaN</td>\n",
       "      <td>NaN</td>\n",
       "      <td>NaN</td>\n",
       "      <td>NaN</td>\n",
       "      <td>NaN</td>\n",
       "      <td>NaN</td>\n",
       "      <td>NaN</td>\n",
       "      <td>NaN</td>\n",
       "      <td>NaN</td>\n",
       "      <td>NaN</td>\n",
       "      <td>NaN</td>\n",
       "      <td>NaN</td>\n",
       "      <td>NaN</td>\n",
       "      <td>NaN</td>\n",
       "      <td>NaN</td>\n",
       "      <td>NaN</td>\n",
       "      <td>NaN</td>\n",
       "      <td>NaN</td>\n",
       "      <td>NaN</td>\n",
       "      <td>NaN</td>\n",
       "      <td>NaN</td>\n",
       "      <td>NaN</td>\n",
       "      <td>NaN</td>\n",
       "      <td>NaN</td>\n",
       "      <td>NaN</td>\n",
       "      <td>NaN</td>\n",
       "      <td>NaN</td>\n",
       "      <td>NaN</td>\n",
       "      <td>NaN</td>\n",
       "      <td>NaN</td>\n",
       "      <td>NaN</td>\n",
       "      <td>NaN</td>\n",
       "      <td>NaN</td>\n",
       "      <td>NaN</td>\n",
       "      <td>NaN</td>\n",
       "      <td>NaN</td>\n",
       "      <td>NaN</td>\n",
       "      <td>NaN</td>\n",
       "      <td>NaN</td>\n",
       "      <td>NaN</td>\n",
       "      <td>NaN</td>\n",
       "      <td>NaN</td>\n",
       "      <td>NaN</td>\n",
       "      <td>NaN</td>\n",
       "      <td>NaN</td>\n",
       "      <td>NaN</td>\n",
       "      <td>NaN</td>\n",
       "      <td>NaN</td>\n",
       "      <td>NaN</td>\n",
       "      <td>NaN</td>\n",
       "      <td>NaN</td>\n",
       "      <td>NaN</td>\n",
       "      <td>NaN</td>\n",
       "      <td>NaN</td>\n",
       "      <td>NaN</td>\n",
       "      <td>NaN</td>\n",
       "      <td>NaN</td>\n",
       "      <td>NaN</td>\n",
       "      <td>NaN</td>\n",
       "      <td>NaN</td>\n",
       "      <td>NaN</td>\n",
       "      <td>NaN</td>\n",
       "      <td>NaN</td>\n",
       "      <td>NaN</td>\n",
       "      <td>NaN</td>\n",
       "      <td>NaN</td>\n",
       "      <td>NaN</td>\n",
       "      <td>NaN</td>\n",
       "      <td>NaN</td>\n",
       "      <td>Vaccinium membranaceum Douglas ex Hook.</td>\n",
       "      <td>NaN</td>\n",
       "      <td>NaN</td>\n",
       "      <td>NaN</td>\n",
       "      <td>NaN</td>\n",
       "      <td>NaN</td>\n",
       "      <td>NaN</td>\n",
       "      <td>NaN</td>\n",
       "      <td>Plantae</td>\n",
       "      <td>Tracheophyta</td>\n",
       "      <td>Magnoliopsida</td>\n",
       "      <td>Ericales</td>\n",
       "      <td>NaN</td>\n",
       "      <td>Ericaceae</td>\n",
       "      <td>NaN</td>\n",
       "      <td>NaN</td>\n",
       "      <td>NaN</td>\n",
       "      <td>Vaccinium</td>\n",
       "      <td>Vaccinium</td>\n",
       "      <td>NaN</td>\n",
       "      <td>NaN</td>\n",
       "      <td>membranaceum</td>\n",
       "      <td>NaN</td>\n",
       "      <td>NaN</td>\n",
       "      <td>SPECIES</td>\n",
       "      <td>NaN</td>\n",
       "      <td>NaN</td>\n",
       "      <td>NaN</td>\n",
       "      <td>ACCEPTED</td>\n",
       "      <td>NaN</td>\n",
       "      <td>NaN</td>\n",
       "      <td>68829f71-56b1-4015-a363-ef8f0e1d6e4f</td>\n",
       "      <td>CA</td>\n",
       "      <td>2025-02-06T18:00:58.946Z</td>\n",
       "      <td>NaN</td>\n",
       "      <td>NaN</td>\n",
       "      <td>NaN</td>\n",
       "      <td>NaN</td>\n",
       "      <td>NaN</td>\n",
       "      <td>INSTITUTION_MATCH_NONE</td>\n",
       "      <td>StillImage</td>\n",
       "      <td>False</td>\n",
       "      <td>False</td>\n",
       "      <td>9060377</td>\n",
       "      <td>9060377</td>\n",
       "      <td>6</td>\n",
       "      <td>7707728</td>\n",
       "      <td>220</td>\n",
       "      <td>1353</td>\n",
       "      <td>2505</td>\n",
       "      <td>2882813</td>\n",
       "      <td>NaN</td>\n",
       "      <td>9060377</td>\n",
       "      <td>Vaccinium membranaceum</td>\n",
       "      <td>Vaccinium membranaceum Douglas ex Hook.</td>\n",
       "      <td>Vaccinium membranaceum</td>\n",
       "      <td>NaN</td>\n",
       "      <td>EML</td>\n",
       "      <td>2025-02-06T18:00:58.946Z</td>\n",
       "      <td>2025-01-18T00:21:05.305Z</td>\n",
       "      <td>NaN</td>\n",
       "      <td>NaN</td>\n",
       "      <td>NaN</td>\n",
       "      <td>False</td>\n",
       "      <td>NaN</td>\n",
       "      <td>NORTH_AMERICA</td>\n",
       "      <td>NaN</td>\n",
       "      <td>NaN</td>\n",
       "      <td>NaN</td>\n",
       "      <td>NaN</td>\n",
       "      <td>NaN</td>\n",
       "      <td>NaN</td>\n",
       "      <td>NaN</td>\n",
       "      <td>NaN</td>\n",
       "      <td>NE</td>\n",
       "    </tr>\n",
       "    <tr>\n",
       "      <th>1</th>\n",
       "      <td>931040138</td>\n",
       "      <td>NaN</td>\n",
       "      <td>NaN</td>\n",
       "      <td>en</td>\n",
       "      <td>CC0_1_0</td>\n",
       "      <td>NaN</td>\n",
       "      <td>NaN</td>\n",
       "      <td>NaN</td>\n",
       "      <td>University of Guelph</td>\n",
       "      <td>NaN</td>\n",
       "      <td>NaN</td>\n",
       "      <td>NaN</td>\n",
       "      <td>http://dataset.canadensys.net/oac-specimens</td>\n",
       "      <td>Biodiversity Institute of Ontario</td>\n",
       "      <td>OAC</td>\n",
       "      <td>Ontario Agriculture College Herbarium (OAC-BIO)</td>\n",
       "      <td>NaN</td>\n",
       "      <td>PRESERVED_SPECIMEN</td>\n",
       "      <td>NaN</td>\n",
       "      <td>NaN</td>\n",
       "      <td>NaN</td>\n",
       "      <td>8215</td>\n",
       "      <td>12442</td>\n",
       "      <td>NaN</td>\n",
       "      <td>NaN</td>\n",
       "      <td>NaN</td>\n",
       "      <td>NaN</td>\n",
       "      <td>NaN</td>\n",
       "      <td>NaN</td>\n",
       "      <td>NaN</td>\n",
       "      <td>NaN</td>\n",
       "      <td>NaN</td>\n",
       "      <td>NaN</td>\n",
       "      <td>NaN</td>\n",
       "      <td>NaN</td>\n",
       "      <td>NaN</td>\n",
       "      <td>NaN</td>\n",
       "      <td>NaN</td>\n",
       "      <td>NaN</td>\n",
       "      <td>PRESENT</td>\n",
       "      <td>NaN</td>\n",
       "      <td>NaN</td>\n",
       "      <td>NaN</td>\n",
       "      <td>NaN</td>\n",
       "      <td>NaN</td>\n",
       "      <td>NaN</td>\n",
       "      <td>NaN</td>\n",
       "      <td>NaN</td>\n",
       "      <td>NaN</td>\n",
       "      <td>NaN</td>\n",
       "      <td>NaN</td>\n",
       "      <td>NaN</td>\n",
       "      <td>NaN</td>\n",
       "      <td>NaN</td>\n",
       "      <td>NaN</td>\n",
       "      <td>NaN</td>\n",
       "      <td>NaN</td>\n",
       "      <td>NaN</td>\n",
       "      <td>NaN</td>\n",
       "      <td>NaN</td>\n",
       "      <td>NaN</td>\n",
       "      <td>NaN</td>\n",
       "      <td>NaN</td>\n",
       "      <td>NaN</td>\n",
       "      <td>NaN</td>\n",
       "      <td>NaN</td>\n",
       "      <td>NaN</td>\n",
       "      <td>NaN</td>\n",
       "      <td>NaN</td>\n",
       "      <td>NaN</td>\n",
       "      <td>NaN</td>\n",
       "      <td>NaN</td>\n",
       "      <td>NaN</td>\n",
       "      <td>NaN</td>\n",
       "      <td>NaN</td>\n",
       "      <td>NaN</td>\n",
       "      <td>NaN</td>\n",
       "      <td>NaN</td>\n",
       "      <td>NaN</td>\n",
       "      <td>NaN</td>\n",
       "      <td>NaN</td>\n",
       "      <td>NaN</td>\n",
       "      <td>NaN</td>\n",
       "      <td>NaN</td>\n",
       "      <td>NaN</td>\n",
       "      <td>NaN</td>\n",
       "      <td>NaN</td>\n",
       "      <td>NaN</td>\n",
       "      <td>NaN</td>\n",
       "      <td>NaN</td>\n",
       "      <td>NaN</td>\n",
       "      <td>NaN</td>\n",
       "      <td>NaN</td>\n",
       "      <td>NaN</td>\n",
       "      <td>NaN</td>\n",
       "      <td>NaN</td>\n",
       "      <td>NaN</td>\n",
       "      <td>NaN</td>\n",
       "      <td>NaN</td>\n",
       "      <td>NaN</td>\n",
       "      <td>NaN</td>\n",
       "      <td>NaN</td>\n",
       "      <td>NaN</td>\n",
       "      <td>NaN</td>\n",
       "      <td>NaN</td>\n",
       "      <td>NaN</td>\n",
       "      <td>NaN</td>\n",
       "      <td>NaN</td>\n",
       "      <td>NaN</td>\n",
       "      <td>NaN</td>\n",
       "      <td>NaN</td>\n",
       "      <td>NaN</td>\n",
       "      <td>NaN</td>\n",
       "      <td>NaN</td>\n",
       "      <td>NaN</td>\n",
       "      <td>NaN</td>\n",
       "      <td>NaN</td>\n",
       "      <td>NaN</td>\n",
       "      <td>NaN</td>\n",
       "      <td>NaN</td>\n",
       "      <td>NaN</td>\n",
       "      <td>NaN</td>\n",
       "      <td>NaN</td>\n",
       "      <td>NaN</td>\n",
       "      <td>NaN</td>\n",
       "      <td>NaN</td>\n",
       "      <td>NaN</td>\n",
       "      <td>NaN</td>\n",
       "      <td>NaN</td>\n",
       "      <td>NaN</td>\n",
       "      <td>NaN</td>\n",
       "      <td>NaN</td>\n",
       "      <td>NaN</td>\n",
       "      <td>NaN</td>\n",
       "      <td>NaN</td>\n",
       "      <td>NaN</td>\n",
       "      <td>NaN</td>\n",
       "      <td>NaN</td>\n",
       "      <td>NaN</td>\n",
       "      <td>NaN</td>\n",
       "      <td>NaN</td>\n",
       "      <td>NaN</td>\n",
       "      <td>NaN</td>\n",
       "      <td>NaN</td>\n",
       "      <td>NaN</td>\n",
       "      <td>NaN</td>\n",
       "      <td>NaN</td>\n",
       "      <td>NaN</td>\n",
       "      <td>Vaccinium membranaceum Douglas ex Hook.</td>\n",
       "      <td>NaN</td>\n",
       "      <td>NaN</td>\n",
       "      <td>NaN</td>\n",
       "      <td>NaN</td>\n",
       "      <td>NaN</td>\n",
       "      <td>NaN</td>\n",
       "      <td>NaN</td>\n",
       "      <td>Plantae</td>\n",
       "      <td>Tracheophyta</td>\n",
       "      <td>Magnoliopsida</td>\n",
       "      <td>Ericales</td>\n",
       "      <td>NaN</td>\n",
       "      <td>Ericaceae</td>\n",
       "      <td>NaN</td>\n",
       "      <td>NaN</td>\n",
       "      <td>NaN</td>\n",
       "      <td>Vaccinium</td>\n",
       "      <td>Vaccinium</td>\n",
       "      <td>NaN</td>\n",
       "      <td>NaN</td>\n",
       "      <td>membranaceum</td>\n",
       "      <td>NaN</td>\n",
       "      <td>NaN</td>\n",
       "      <td>SPECIES</td>\n",
       "      <td>NaN</td>\n",
       "      <td>NaN</td>\n",
       "      <td>NaN</td>\n",
       "      <td>ACCEPTED</td>\n",
       "      <td>NaN</td>\n",
       "      <td>NaN</td>\n",
       "      <td>68829f71-56b1-4015-a363-ef8f0e1d6e4f</td>\n",
       "      <td>CA</td>\n",
       "      <td>2025-02-06T18:00:55.499Z</td>\n",
       "      <td>NaN</td>\n",
       "      <td>NaN</td>\n",
       "      <td>NaN</td>\n",
       "      <td>NaN</td>\n",
       "      <td>NaN</td>\n",
       "      <td>INSTITUTION_MATCH_NONE</td>\n",
       "      <td>StillImage</td>\n",
       "      <td>False</td>\n",
       "      <td>False</td>\n",
       "      <td>9060377</td>\n",
       "      <td>9060377</td>\n",
       "      <td>6</td>\n",
       "      <td>7707728</td>\n",
       "      <td>220</td>\n",
       "      <td>1353</td>\n",
       "      <td>2505</td>\n",
       "      <td>2882813</td>\n",
       "      <td>NaN</td>\n",
       "      <td>9060377</td>\n",
       "      <td>Vaccinium membranaceum</td>\n",
       "      <td>Vaccinium membranaceum Douglas ex Hook.</td>\n",
       "      <td>Vaccinium membranaceum</td>\n",
       "      <td>NaN</td>\n",
       "      <td>EML</td>\n",
       "      <td>2025-02-06T18:00:55.499Z</td>\n",
       "      <td>2025-01-18T00:21:05.305Z</td>\n",
       "      <td>NaN</td>\n",
       "      <td>NaN</td>\n",
       "      <td>NaN</td>\n",
       "      <td>False</td>\n",
       "      <td>NaN</td>\n",
       "      <td>NORTH_AMERICA</td>\n",
       "      <td>NaN</td>\n",
       "      <td>NaN</td>\n",
       "      <td>NaN</td>\n",
       "      <td>NaN</td>\n",
       "      <td>NaN</td>\n",
       "      <td>NaN</td>\n",
       "      <td>NaN</td>\n",
       "      <td>NaN</td>\n",
       "      <td>NE</td>\n",
       "    </tr>\n",
       "    <tr>\n",
       "      <th>2</th>\n",
       "      <td>894988018</td>\n",
       "      <td>NaN</td>\n",
       "      <td>NaN</td>\n",
       "      <td>en</td>\n",
       "      <td>CC0_1_0</td>\n",
       "      <td>NaN</td>\n",
       "      <td>NaN</td>\n",
       "      <td>NaN</td>\n",
       "      <td>University of Lethbridge Herbarium</td>\n",
       "      <td>PhysicalObject</td>\n",
       "      <td>http://grscicoll.org/institution/university-le...</td>\n",
       "      <td>https://www.gbif.org/grscicoll/collection/2816...</td>\n",
       "      <td>https://doi.org/10.5886/wrt547hq</td>\n",
       "      <td>University of Lethbridge</td>\n",
       "      <td>LEA</td>\n",
       "      <td>University of Lethbridge Herbarium (LEA)</td>\n",
       "      <td>University of Lethbridge</td>\n",
       "      <td>PRESERVED_SPECIMEN</td>\n",
       "      <td>NaN</td>\n",
       "      <td>NaN</td>\n",
       "      <td>NaN</td>\n",
       "      <td>13178</td>\n",
       "      <td>13178</td>\n",
       "      <td>4052</td>\n",
       "      <td>J. Kuijt, J. Nagy, G. Armstrong</td>\n",
       "      <td>NaN</td>\n",
       "      <td>NaN</td>\n",
       "      <td>NaN</td>\n",
       "      <td>NaN</td>\n",
       "      <td>NaN</td>\n",
       "      <td>NaN</td>\n",
       "      <td>NaN</td>\n",
       "      <td>NaN</td>\n",
       "      <td>NaN</td>\n",
       "      <td>NaN</td>\n",
       "      <td>NaN</td>\n",
       "      <td>NaN</td>\n",
       "      <td>NaN</td>\n",
       "      <td>NaN</td>\n",
       "      <td>PRESENT</td>\n",
       "      <td>NaN</td>\n",
       "      <td>NaN</td>\n",
       "      <td>NaN</td>\n",
       "      <td>NaN</td>\n",
       "      <td>NaN</td>\n",
       "      <td>NaN</td>\n",
       "      <td>NaN</td>\n",
       "      <td>NaN</td>\n",
       "      <td>NaN</td>\n",
       "      <td>NaN</td>\n",
       "      <td>NaN</td>\n",
       "      <td>NaN</td>\n",
       "      <td>NaN</td>\n",
       "      <td>NaN</td>\n",
       "      <td>NaN</td>\n",
       "      <td>NaN</td>\n",
       "      <td>NaN</td>\n",
       "      <td>NaN</td>\n",
       "      <td>NaN</td>\n",
       "      <td>NaN</td>\n",
       "      <td>NaN</td>\n",
       "      <td>NaN</td>\n",
       "      <td>1970-07-11</td>\n",
       "      <td>NaN</td>\n",
       "      <td>192.0</td>\n",
       "      <td>192.0</td>\n",
       "      <td>1970.0</td>\n",
       "      <td>7.0</td>\n",
       "      <td>11.0</td>\n",
       "      <td>NaN</td>\n",
       "      <td>scree slope, facing east</td>\n",
       "      <td>NaN</td>\n",
       "      <td>NaN</td>\n",
       "      <td>NaN</td>\n",
       "      <td>NaN</td>\n",
       "      <td>NaN</td>\n",
       "      <td>NaN</td>\n",
       "      <td>NaN</td>\n",
       "      <td>NaN</td>\n",
       "      <td>NaN</td>\n",
       "      <td>NORTH_AMERICA</td>\n",
       "      <td>NaN</td>\n",
       "      <td>NaN</td>\n",
       "      <td>NaN</td>\n",
       "      <td>CA</td>\n",
       "      <td>Alberta</td>\n",
       "      <td>NaN</td>\n",
       "      <td>Waterton Lakes National Park</td>\n",
       "      <td>West of Lost Lake</td>\n",
       "      <td>NaN</td>\n",
       "      <td>7000 feet</td>\n",
       "      <td>NaN</td>\n",
       "      <td>NaN</td>\n",
       "      <td>NaN</td>\n",
       "      <td>NaN</td>\n",
       "      <td>NaN</td>\n",
       "      <td>NaN</td>\n",
       "      <td>49.133333</td>\n",
       "      <td>-114.15</td>\n",
       "      <td>NaN</td>\n",
       "      <td>NaN</td>\n",
       "      <td>NaN</td>\n",
       "      <td>NaN</td>\n",
       "      <td>NaN</td>\n",
       "      <td>NaN</td>\n",
       "      <td>NaN</td>\n",
       "      <td>NaN</td>\n",
       "      <td>NaN</td>\n",
       "      <td>NaN</td>\n",
       "      <td>NaN</td>\n",
       "      <td>NaN</td>\n",
       "      <td>NaN</td>\n",
       "      <td>NaN</td>\n",
       "      <td>NaN</td>\n",
       "      <td>NaN</td>\n",
       "      <td>NaN</td>\n",
       "      <td>NaN</td>\n",
       "      <td>NaN</td>\n",
       "      <td>NaN</td>\n",
       "      <td>NaN</td>\n",
       "      <td>NaN</td>\n",
       "      <td>NaN</td>\n",
       "      <td>NaN</td>\n",
       "      <td>NaN</td>\n",
       "      <td>NaN</td>\n",
       "      <td>NaN</td>\n",
       "      <td>NaN</td>\n",
       "      <td>NaN</td>\n",
       "      <td>NaN</td>\n",
       "      <td>NaN</td>\n",
       "      <td>NaN</td>\n",
       "      <td>NaN</td>\n",
       "      <td>NaN</td>\n",
       "      <td>NaN</td>\n",
       "      <td>NaN</td>\n",
       "      <td>NaN</td>\n",
       "      <td>NaN</td>\n",
       "      <td>NaN</td>\n",
       "      <td>NaN</td>\n",
       "      <td>NaN</td>\n",
       "      <td>5572</td>\n",
       "      <td>NaN</td>\n",
       "      <td>NaN</td>\n",
       "      <td>NaN</td>\n",
       "      <td>NaN</td>\n",
       "      <td>NaN</td>\n",
       "      <td>NaN</td>\n",
       "      <td>NaN</td>\n",
       "      <td>Vaccinium membranaceum Douglas ex Hook.</td>\n",
       "      <td>Vaccinium membranaceum Douglas ex Torrey</td>\n",
       "      <td>NaN</td>\n",
       "      <td>NaN</td>\n",
       "      <td>NaN</td>\n",
       "      <td>NaN</td>\n",
       "      <td>NaN</td>\n",
       "      <td>NaN</td>\n",
       "      <td>Plantae</td>\n",
       "      <td>Tracheophyta</td>\n",
       "      <td>Magnoliopsida</td>\n",
       "      <td>Ericales</td>\n",
       "      <td>NaN</td>\n",
       "      <td>Ericaceae</td>\n",
       "      <td>NaN</td>\n",
       "      <td>NaN</td>\n",
       "      <td>NaN</td>\n",
       "      <td>Vaccinium</td>\n",
       "      <td>Vaccinium</td>\n",
       "      <td>NaN</td>\n",
       "      <td>NaN</td>\n",
       "      <td>membranaceum</td>\n",
       "      <td>NaN</td>\n",
       "      <td>NaN</td>\n",
       "      <td>SPECIES</td>\n",
       "      <td>NaN</td>\n",
       "      <td>airelle à feuilles membraneuses | mountain huc...</td>\n",
       "      <td>NaN</td>\n",
       "      <td>ACCEPTED</td>\n",
       "      <td>NaN</td>\n",
       "      <td>NaN</td>\n",
       "      <td>5678b0b3-450b-4513-82e1-2b32c3c50b54</td>\n",
       "      <td>CA</td>\n",
       "      <td>2025-02-06T17:56:06.757Z</td>\n",
       "      <td>2133.0</td>\n",
       "      <td>0.0</td>\n",
       "      <td>NaN</td>\n",
       "      <td>NaN</td>\n",
       "      <td>NaN</td>\n",
       "      <td>COORDINATE_ROUNDED;GEODETIC_DATUM_ASSUMED_WGS8...</td>\n",
       "      <td>StillImage</td>\n",
       "      <td>True</td>\n",
       "      <td>False</td>\n",
       "      <td>9060377</td>\n",
       "      <td>9060377</td>\n",
       "      <td>6</td>\n",
       "      <td>7707728</td>\n",
       "      <td>220</td>\n",
       "      <td>1353</td>\n",
       "      <td>2505</td>\n",
       "      <td>2882813</td>\n",
       "      <td>NaN</td>\n",
       "      <td>9060377</td>\n",
       "      <td>Vaccinium membranaceum</td>\n",
       "      <td>Vaccinium membranaceum Douglas ex Hook.</td>\n",
       "      <td>Vaccinium membranaceum Dougl. ex Hook.</td>\n",
       "      <td>NaN</td>\n",
       "      <td>EML</td>\n",
       "      <td>2025-02-06T17:56:06.757Z</td>\n",
       "      <td>2025-01-18T00:31:14.805Z</td>\n",
       "      <td>False</td>\n",
       "      <td>NaN</td>\n",
       "      <td>NaN</td>\n",
       "      <td>False</td>\n",
       "      <td>NORTH_AMERICA</td>\n",
       "      <td>NORTH_AMERICA</td>\n",
       "      <td>CAN</td>\n",
       "      <td>Canada</td>\n",
       "      <td>CAN.1_1</td>\n",
       "      <td>Alberta</td>\n",
       "      <td>CAN.1.13_1</td>\n",
       "      <td>Division No. 3</td>\n",
       "      <td>CAN.1.13.11_1</td>\n",
       "      <td>Improvement District No. 4</td>\n",
       "      <td>NE</td>\n",
       "    </tr>\n",
       "  </tbody>\n",
       "</table>\n",
       "</div>"
      ],
      "text/plain": [
       "      gbifID accessRights bibliographicCitation language  license modified  \\\n",
       "0  931073241          NaN                   NaN       en  CC0_1_0      NaN   \n",
       "1  931040138          NaN                   NaN       en  CC0_1_0      NaN   \n",
       "2  894988018          NaN                   NaN       en  CC0_1_0      NaN   \n",
       "\n",
       "   publisher references                        rightsHolder            type  \\\n",
       "0        NaN        NaN                University of Guelph             NaN   \n",
       "1        NaN        NaN                University of Guelph             NaN   \n",
       "2        NaN        NaN  University of Lethbridge Herbarium  PhysicalObject   \n",
       "\n",
       "                                       institutionID  \\\n",
       "0                                                NaN   \n",
       "1                                                NaN   \n",
       "2  http://grscicoll.org/institution/university-le...   \n",
       "\n",
       "                                        collectionID  \\\n",
       "0                                                NaN   \n",
       "1                                                NaN   \n",
       "2  https://www.gbif.org/grscicoll/collection/2816...   \n",
       "\n",
       "                                     datasetID  \\\n",
       "0  http://dataset.canadensys.net/oac-specimens   \n",
       "1  http://dataset.canadensys.net/oac-specimens   \n",
       "2             https://doi.org/10.5886/wrt547hq   \n",
       "\n",
       "                     institutionCode collectionCode  \\\n",
       "0  Biodiversity Institute of Ontario            OAC   \n",
       "1  Biodiversity Institute of Ontario            OAC   \n",
       "2           University of Lethbridge            LEA   \n",
       "\n",
       "                                       datasetName      ownerInstitutionCode  \\\n",
       "0  Ontario Agriculture College Herbarium (OAC-BIO)                       NaN   \n",
       "1  Ontario Agriculture College Herbarium (OAC-BIO)                       NaN   \n",
       "2         University of Lethbridge Herbarium (LEA)  University of Lethbridge   \n",
       "\n",
       "        basisOfRecord informationWithheld  dataGeneralizations  \\\n",
       "0  PRESERVED_SPECIMEN                 NaN                  NaN   \n",
       "1  PRESERVED_SPECIMEN                 NaN                  NaN   \n",
       "2  PRESERVED_SPECIMEN                 NaN                  NaN   \n",
       "\n",
       "  dynamicProperties occurrenceID catalogNumber recordNumber  \\\n",
       "0               NaN        41403         53588          NaN   \n",
       "1               NaN         8215         12442          NaN   \n",
       "2               NaN        13178         13178         4052   \n",
       "\n",
       "                        recordedBy recordedByID  individualCount  \\\n",
       "0                              NaN          NaN              NaN   \n",
       "1                              NaN          NaN              NaN   \n",
       "2  J. Kuijt, J. Nagy, G. Armstrong          NaN              NaN   \n",
       "\n",
       "   organismQuantity  organismQuantityType  sex lifeStage  \\\n",
       "0               NaN                   NaN  NaN       NaN   \n",
       "1               NaN                   NaN  NaN       NaN   \n",
       "2               NaN                   NaN  NaN       NaN   \n",
       "\n",
       "  reproductiveCondition  caste  behavior  vitality establishmentMeans  \\\n",
       "0                   NaN    NaN       NaN       NaN                NaN   \n",
       "1                   NaN    NaN       NaN       NaN                NaN   \n",
       "2                   NaN    NaN       NaN       NaN                NaN   \n",
       "\n",
       "   degreeOfEstablishment  pathway georeferenceVerificationStatus  \\\n",
       "0                    NaN      NaN                            NaN   \n",
       "1                    NaN      NaN                            NaN   \n",
       "2                    NaN      NaN                            NaN   \n",
       "\n",
       "  occurrenceStatus preparations disposition associatedOccurrences  \\\n",
       "0          PRESENT          NaN         NaN                   NaN   \n",
       "1          PRESENT          NaN         NaN                   NaN   \n",
       "2          PRESENT          NaN         NaN                   NaN   \n",
       "\n",
       "  associatedReferences associatedSequences associatedTaxa otherCatalogNumbers  \\\n",
       "0                  NaN                 NaN            NaN                 NaN   \n",
       "1                  NaN                 NaN            NaN                 NaN   \n",
       "2                  NaN                 NaN            NaN                 NaN   \n",
       "\n",
       "  occurrenceRemarks organismID organismName  organismScope  \\\n",
       "0               NaN        NaN          NaN            NaN   \n",
       "1               NaN        NaN          NaN            NaN   \n",
       "2               NaN        NaN          NaN            NaN   \n",
       "\n",
       "   associatedOrganisms previousIdentifications organismRemarks  \\\n",
       "0                  NaN                     NaN             NaN   \n",
       "1                  NaN                     NaN             NaN   \n",
       "2                  NaN                     NaN             NaN   \n",
       "\n",
       "   materialEntityID  materialEntityRemarks  verbatimLabel materialSampleID  \\\n",
       "0               NaN                    NaN            NaN              NaN   \n",
       "1               NaN                    NaN            NaN              NaN   \n",
       "2               NaN                    NaN            NaN              NaN   \n",
       "\n",
       "   eventID  parentEventID eventType fieldNumber   eventDate eventTime  \\\n",
       "0      NaN            NaN       NaN         NaN         NaN       NaN   \n",
       "1      NaN            NaN       NaN         NaN         NaN       NaN   \n",
       "2      NaN            NaN       NaN         NaN  1970-07-11       NaN   \n",
       "\n",
       "   startDayOfYear  endDayOfYear    year  month   day verbatimEventDate  \\\n",
       "0             NaN           NaN     NaN    NaN   NaN               NaN   \n",
       "1             NaN           NaN     NaN    NaN   NaN               NaN   \n",
       "2           192.0         192.0  1970.0    7.0  11.0               NaN   \n",
       "\n",
       "                    habitat samplingProtocol  sampleSizeValue  sampleSizeUnit  \\\n",
       "0                       NaN              NaN              NaN             NaN   \n",
       "1                       NaN              NaN              NaN             NaN   \n",
       "2  scree slope, facing east              NaN              NaN             NaN   \n",
       "\n",
       "   samplingEffort fieldNotes eventRemarks locationID  higherGeographyID  \\\n",
       "0             NaN        NaN          NaN        NaN                NaN   \n",
       "1             NaN        NaN          NaN        NaN                NaN   \n",
       "2             NaN        NaN          NaN        NaN                NaN   \n",
       "\n",
       "  higherGeography      continent  waterBody  islandGroup island countryCode  \\\n",
       "0             NaN            NaN        NaN          NaN    NaN         NaN   \n",
       "1             NaN            NaN        NaN          NaN    NaN         NaN   \n",
       "2             NaN  NORTH_AMERICA        NaN          NaN    NaN          CA   \n",
       "\n",
       "  stateProvince county                  municipality           locality  \\\n",
       "0           NaN    NaN                           NaN                NaN   \n",
       "1           NaN    NaN                           NaN                NaN   \n",
       "2       Alberta    NaN  Waterton Lakes National Park  West of Lost Lake   \n",
       "\n",
       "  verbatimLocality verbatimElevation  verticalDatum  verbatimDepth  \\\n",
       "0              NaN               NaN            NaN            NaN   \n",
       "1              NaN               NaN            NaN            NaN   \n",
       "2              NaN         7000 feet            NaN            NaN   \n",
       "\n",
       "   minimumDistanceAboveSurfaceInMeters  maximumDistanceAboveSurfaceInMeters  \\\n",
       "0                                  NaN                                  NaN   \n",
       "1                                  NaN                                  NaN   \n",
       "2                                  NaN                                  NaN   \n",
       "\n",
       "  locationAccordingTo locationRemarks  decimalLatitude  decimalLongitude  \\\n",
       "0                 NaN             NaN              NaN               NaN   \n",
       "1                 NaN             NaN              NaN               NaN   \n",
       "2                 NaN             NaN        49.133333           -114.15   \n",
       "\n",
       "   coordinateUncertaintyInMeters  coordinatePrecision  pointRadiusSpatialFit  \\\n",
       "0                            NaN                  NaN                    NaN   \n",
       "1                            NaN                  NaN                    NaN   \n",
       "2                            NaN                  NaN                    NaN   \n",
       "\n",
       "  verbatimCoordinateSystem verbatimSRS  footprintWKT  footprintSRS  \\\n",
       "0                      NaN         NaN           NaN           NaN   \n",
       "1                      NaN         NaN           NaN           NaN   \n",
       "2                      NaN         NaN           NaN           NaN   \n",
       "\n",
       "   footprintSpatialFit georeferencedBy georeferencedDate georeferenceProtocol  \\\n",
       "0                  NaN             NaN               NaN                  NaN   \n",
       "1                  NaN             NaN               NaN                  NaN   \n",
       "2                  NaN             NaN               NaN                  NaN   \n",
       "\n",
       "  georeferenceSources georeferenceRemarks geologicalContextID  \\\n",
       "0                 NaN                 NaN                 NaN   \n",
       "1                 NaN                 NaN                 NaN   \n",
       "2                 NaN                 NaN                 NaN   \n",
       "\n",
       "  earliestEonOrLowestEonothem latestEonOrHighestEonothem  \\\n",
       "0                         NaN                        NaN   \n",
       "1                         NaN                        NaN   \n",
       "2                         NaN                        NaN   \n",
       "\n",
       "  earliestEraOrLowestErathem latestEraOrHighestErathem  \\\n",
       "0                        NaN                       NaN   \n",
       "1                        NaN                       NaN   \n",
       "2                        NaN                       NaN   \n",
       "\n",
       "  earliestPeriodOrLowestSystem latestPeriodOrHighestSystem  \\\n",
       "0                          NaN                         NaN   \n",
       "1                          NaN                         NaN   \n",
       "2                          NaN                         NaN   \n",
       "\n",
       "   earliestEpochOrLowestSeries  latestEpochOrHighestSeries  \\\n",
       "0                          NaN                         NaN   \n",
       "1                          NaN                         NaN   \n",
       "2                          NaN                         NaN   \n",
       "\n",
       "   earliestAgeOrLowestStage  latestAgeOrHighestStage  \\\n",
       "0                       NaN                      NaN   \n",
       "1                       NaN                      NaN   \n",
       "2                       NaN                      NaN   \n",
       "\n",
       "   lowestBiostratigraphicZone  highestBiostratigraphicZone  \\\n",
       "0                         NaN                          NaN   \n",
       "1                         NaN                          NaN   \n",
       "2                         NaN                          NaN   \n",
       "\n",
       "   lithostratigraphicTerms  group  formation  member  bed  identificationID  \\\n",
       "0                      NaN    NaN        NaN     NaN  NaN               NaN   \n",
       "1                      NaN    NaN        NaN     NaN  NaN               NaN   \n",
       "2                      NaN    NaN        NaN     NaN  NaN               NaN   \n",
       "\n",
       "   verbatimIdentification identificationQualifier typeStatus identifiedBy  \\\n",
       "0                     NaN                     NaN        NaN          NaN   \n",
       "1                     NaN                     NaN        NaN          NaN   \n",
       "2                     NaN                     NaN        NaN          NaN   \n",
       "\n",
       "  identifiedByID dateIdentified identificationReferences  \\\n",
       "0            NaN            NaN                      NaN   \n",
       "1            NaN            NaN                      NaN   \n",
       "2            NaN            NaN                      NaN   \n",
       "\n",
       "  identificationVerificationStatus identificationRemarks taxonID  \\\n",
       "0                              NaN                   NaN     NaN   \n",
       "1                              NaN                   NaN     NaN   \n",
       "2                              NaN                   NaN    5572   \n",
       "\n",
       "  scientificNameID  acceptedNameUsageID  parentNameUsageID  \\\n",
       "0              NaN                  NaN                NaN   \n",
       "1              NaN                  NaN                NaN   \n",
       "2              NaN                  NaN                NaN   \n",
       "\n",
       "   originalNameUsageID  nameAccordingToID  namePublishedInID taxonConceptID  \\\n",
       "0                  NaN                NaN                NaN            NaN   \n",
       "1                  NaN                NaN                NaN            NaN   \n",
       "2                  NaN                NaN                NaN            NaN   \n",
       "\n",
       "                            scientificName  \\\n",
       "0  Vaccinium membranaceum Douglas ex Hook.   \n",
       "1  Vaccinium membranaceum Douglas ex Hook.   \n",
       "2  Vaccinium membranaceum Douglas ex Hook.   \n",
       "\n",
       "                          acceptedNameUsage parentNameUsage  \\\n",
       "0                                       NaN             NaN   \n",
       "1                                       NaN             NaN   \n",
       "2  Vaccinium membranaceum Douglas ex Torrey             NaN   \n",
       "\n",
       "   originalNameUsage  nameAccordingTo  namePublishedIn  namePublishedInYear  \\\n",
       "0                NaN              NaN              NaN                  NaN   \n",
       "1                NaN              NaN              NaN                  NaN   \n",
       "2                NaN              NaN              NaN                  NaN   \n",
       "\n",
       "  higherClassification  kingdom        phylum          class     order  \\\n",
       "0                  NaN  Plantae  Tracheophyta  Magnoliopsida  Ericales   \n",
       "1                  NaN  Plantae  Tracheophyta  Magnoliopsida  Ericales   \n",
       "2                  NaN  Plantae  Tracheophyta  Magnoliopsida  Ericales   \n",
       "\n",
       "   superfamily     family  subfamily  tribe  subtribe      genus genericName  \\\n",
       "0          NaN  Ericaceae        NaN    NaN       NaN  Vaccinium   Vaccinium   \n",
       "1          NaN  Ericaceae        NaN    NaN       NaN  Vaccinium   Vaccinium   \n",
       "2          NaN  Ericaceae        NaN    NaN       NaN  Vaccinium   Vaccinium   \n",
       "\n",
       "   subgenus  infragenericEpithet specificEpithet infraspecificEpithet  \\\n",
       "0       NaN                  NaN    membranaceum                  NaN   \n",
       "1       NaN                  NaN    membranaceum                  NaN   \n",
       "2       NaN                  NaN    membranaceum                  NaN   \n",
       "\n",
       "   cultivarEpithet taxonRank  verbatimTaxonRank  \\\n",
       "0              NaN   SPECIES                NaN   \n",
       "1              NaN   SPECIES                NaN   \n",
       "2              NaN   SPECIES                NaN   \n",
       "\n",
       "                                      vernacularName nomenclaturalCode  \\\n",
       "0                                                NaN               NaN   \n",
       "1                                                NaN               NaN   \n",
       "2  airelle à feuilles membraneuses | mountain huc...               NaN   \n",
       "\n",
       "  taxonomicStatus nomenclaturalStatus taxonRemarks  \\\n",
       "0        ACCEPTED                 NaN          NaN   \n",
       "1        ACCEPTED                 NaN          NaN   \n",
       "2        ACCEPTED                 NaN          NaN   \n",
       "\n",
       "                             datasetKey publishingCountry  \\\n",
       "0  68829f71-56b1-4015-a363-ef8f0e1d6e4f                CA   \n",
       "1  68829f71-56b1-4015-a363-ef8f0e1d6e4f                CA   \n",
       "2  5678b0b3-450b-4513-82e1-2b32c3c50b54                CA   \n",
       "\n",
       "            lastInterpreted  elevation  elevationAccuracy  depth  \\\n",
       "0  2025-02-06T18:00:58.946Z        NaN                NaN    NaN   \n",
       "1  2025-02-06T18:00:55.499Z        NaN                NaN    NaN   \n",
       "2  2025-02-06T17:56:06.757Z     2133.0                0.0    NaN   \n",
       "\n",
       "   depthAccuracy  distanceFromCentroidInMeters  \\\n",
       "0            NaN                           NaN   \n",
       "1            NaN                           NaN   \n",
       "2            NaN                           NaN   \n",
       "\n",
       "                                               issue   mediaType  \\\n",
       "0                             INSTITUTION_MATCH_NONE  StillImage   \n",
       "1                             INSTITUTION_MATCH_NONE  StillImage   \n",
       "2  COORDINATE_ROUNDED;GEODETIC_DATUM_ASSUMED_WGS8...  StillImage   \n",
       "\n",
       "   hasCoordinate  hasGeospatialIssues  taxonKey  acceptedTaxonKey  kingdomKey  \\\n",
       "0          False                False   9060377           9060377           6   \n",
       "1          False                False   9060377           9060377           6   \n",
       "2           True                False   9060377           9060377           6   \n",
       "\n",
       "   phylumKey  classKey  orderKey  familyKey  genusKey  subgenusKey  \\\n",
       "0    7707728       220      1353       2505   2882813          NaN   \n",
       "1    7707728       220      1353       2505   2882813          NaN   \n",
       "2    7707728       220      1353       2505   2882813          NaN   \n",
       "\n",
       "   speciesKey                 species  \\\n",
       "0     9060377  Vaccinium membranaceum   \n",
       "1     9060377  Vaccinium membranaceum   \n",
       "2     9060377  Vaccinium membranaceum   \n",
       "\n",
       "                    acceptedScientificName  \\\n",
       "0  Vaccinium membranaceum Douglas ex Hook.   \n",
       "1  Vaccinium membranaceum Douglas ex Hook.   \n",
       "2  Vaccinium membranaceum Douglas ex Hook.   \n",
       "\n",
       "                   verbatimScientificName  typifiedName protocol  \\\n",
       "0                  Vaccinium membranaceum           NaN      EML   \n",
       "1                  Vaccinium membranaceum           NaN      EML   \n",
       "2  Vaccinium membranaceum Dougl. ex Hook.           NaN      EML   \n",
       "\n",
       "                 lastParsed               lastCrawled repatriated  \\\n",
       "0  2025-02-06T18:00:58.946Z  2025-01-18T00:21:05.305Z         NaN   \n",
       "1  2025-02-06T18:00:55.499Z  2025-01-18T00:21:05.305Z         NaN   \n",
       "2  2025-02-06T17:56:06.757Z  2025-01-18T00:31:14.805Z       False   \n",
       "\n",
       "   relativeOrganismQuantity projectId  isSequenced     gbifRegion  \\\n",
       "0                       NaN       NaN        False            NaN   \n",
       "1                       NaN       NaN        False            NaN   \n",
       "2                       NaN       NaN        False  NORTH_AMERICA   \n",
       "\n",
       "  publishedByGbifRegion level0Gid level0Name level1Gid level1Name   level2Gid  \\\n",
       "0         NORTH_AMERICA       NaN        NaN       NaN        NaN         NaN   \n",
       "1         NORTH_AMERICA       NaN        NaN       NaN        NaN         NaN   \n",
       "2         NORTH_AMERICA       CAN     Canada   CAN.1_1    Alberta  CAN.1.13_1   \n",
       "\n",
       "       level2Name      level3Gid                  level3Name  \\\n",
       "0             NaN            NaN                         NaN   \n",
       "1             NaN            NaN                         NaN   \n",
       "2  Division No. 3  CAN.1.13.11_1  Improvement District No. 4   \n",
       "\n",
       "  iucnRedListCategory  \n",
       "0                  NE  \n",
       "1                  NE  \n",
       "2                  NE  "
      ]
     },
     "metadata": {},
     "output_type": "display_data"
    },
    {
     "data": {
      "text/plain": [
       "(7240, 223)"
      ]
     },
     "execution_count": 2,
     "metadata": {},
     "output_type": "execute_result"
    }
   ],
   "source": [
    "df = pd.read_csv('../data/raw/occurrence.txt', sep='\\t')\n",
    "display(df.head(3))\n",
    "df.shape"
   ]
  },
  {
   "cell_type": "markdown",
   "metadata": {},
   "source": [
    "## Extracting Meaninful Variables"
   ]
  },
  {
   "cell_type": "markdown",
   "metadata": {},
   "source": [
    "Found some occurrances appearing in ASIA and CANADA. These should be removed."
   ]
  },
  {
   "cell_type": "code",
   "execution_count": 3,
   "metadata": {},
   "outputs": [
    {
     "data": {
      "text/plain": [
       "continent\n",
       "NORTH_AMERICA    6287\n",
       "ASIA               15\n",
       "Name: count, dtype: int64"
      ]
     },
     "execution_count": 3,
     "metadata": {},
     "output_type": "execute_result"
    }
   ],
   "source": [
    "display(df['continent'].value_counts())\n",
    "display(df[df['verbatimLocality'].str.startswith('Canada', na=False)]['verbatimLocality'].value_counts())"
   ]
  },
  {
   "cell_type": "markdown",
   "metadata": {},
   "source": [
    "After ASIA and CANADA have been removed, we select all variables related to location and time in order to further clean the dataset and geocode any locations with fragmented data."
   ]
  },
  {
   "cell_type": "code",
   "execution_count": 6,
   "metadata": {},
   "outputs": [
    {
     "name": "stdout",
     "output_type": "stream",
     "text": [
      "\n",
      "Original shape: (7046, 32)\n",
      "Shape after filtering: (6823, 32)\n",
      "Removed 223 rows\n",
      "\n",
      "Pruned dataset preview:\n",
      "\n",
      "Removed rows preview:\n"
     ]
    },
    {
     "data": {
      "text/html": [
       "<div>\n",
       "<style scoped>\n",
       "    .dataframe tbody tr th:only-of-type {\n",
       "        vertical-align: middle;\n",
       "    }\n",
       "\n",
       "    .dataframe tbody tr th {\n",
       "        vertical-align: top;\n",
       "    }\n",
       "\n",
       "    .dataframe thead th {\n",
       "        text-align: right;\n",
       "    }\n",
       "</style>\n",
       "<table border=\"1\" class=\"dataframe\">\n",
       "  <thead>\n",
       "    <tr style=\"text-align: right;\">\n",
       "      <th></th>\n",
       "      <th>gbifID</th>\n",
       "      <th>reproductiveCondition</th>\n",
       "      <th>occurrenceStatus</th>\n",
       "      <th>eventDate</th>\n",
       "      <th>eventTime</th>\n",
       "      <th>startDayOfYear</th>\n",
       "      <th>endDayOfYear</th>\n",
       "      <th>year</th>\n",
       "      <th>month</th>\n",
       "      <th>day</th>\n",
       "      <th>verbatimEventDate</th>\n",
       "      <th>habitat</th>\n",
       "      <th>higherGeography</th>\n",
       "      <th>continent</th>\n",
       "      <th>countryCode</th>\n",
       "      <th>stateProvince</th>\n",
       "      <th>county</th>\n",
       "      <th>municipality</th>\n",
       "      <th>locality</th>\n",
       "      <th>verbatimLocality</th>\n",
       "      <th>verbatimElevation</th>\n",
       "      <th>minimumDistanceAboveSurfaceInMeters</th>\n",
       "      <th>maximumDistanceAboveSurfaceInMeters</th>\n",
       "      <th>decimalLatitude</th>\n",
       "      <th>decimalLongitude</th>\n",
       "      <th>coordinateUncertaintyInMeters</th>\n",
       "      <th>georeferencedDate</th>\n",
       "      <th>dateIdentified</th>\n",
       "      <th>elevation</th>\n",
       "      <th>elevationAccuracy</th>\n",
       "      <th>hasCoordinate</th>\n",
       "      <th>hasGeospatialIssues</th>\n",
       "    </tr>\n",
       "  </thead>\n",
       "  <tbody>\n",
       "    <tr>\n",
       "      <th>0</th>\n",
       "      <td>931073241</td>\n",
       "      <td>NaN</td>\n",
       "      <td>PRESENT</td>\n",
       "      <td>NaN</td>\n",
       "      <td>NaN</td>\n",
       "      <td>NaN</td>\n",
       "      <td>NaN</td>\n",
       "      <td>NaN</td>\n",
       "      <td>NaN</td>\n",
       "      <td>NaN</td>\n",
       "      <td>NaN</td>\n",
       "      <td>NaN</td>\n",
       "      <td>NaN</td>\n",
       "      <td>NaN</td>\n",
       "      <td>NaN</td>\n",
       "      <td>NaN</td>\n",
       "      <td>NaN</td>\n",
       "      <td>NaN</td>\n",
       "      <td>NaN</td>\n",
       "      <td>NaN</td>\n",
       "      <td>NaN</td>\n",
       "      <td>NaN</td>\n",
       "      <td>NaN</td>\n",
       "      <td>NaN</td>\n",
       "      <td>NaN</td>\n",
       "      <td>NaN</td>\n",
       "      <td>NaN</td>\n",
       "      <td>NaN</td>\n",
       "      <td>NaN</td>\n",
       "      <td>NaN</td>\n",
       "      <td>False</td>\n",
       "      <td>False</td>\n",
       "    </tr>\n",
       "    <tr>\n",
       "      <th>1</th>\n",
       "      <td>931040138</td>\n",
       "      <td>NaN</td>\n",
       "      <td>PRESENT</td>\n",
       "      <td>NaN</td>\n",
       "      <td>NaN</td>\n",
       "      <td>NaN</td>\n",
       "      <td>NaN</td>\n",
       "      <td>NaN</td>\n",
       "      <td>NaN</td>\n",
       "      <td>NaN</td>\n",
       "      <td>NaN</td>\n",
       "      <td>NaN</td>\n",
       "      <td>NaN</td>\n",
       "      <td>NaN</td>\n",
       "      <td>NaN</td>\n",
       "      <td>NaN</td>\n",
       "      <td>NaN</td>\n",
       "      <td>NaN</td>\n",
       "      <td>NaN</td>\n",
       "      <td>NaN</td>\n",
       "      <td>NaN</td>\n",
       "      <td>NaN</td>\n",
       "      <td>NaN</td>\n",
       "      <td>NaN</td>\n",
       "      <td>NaN</td>\n",
       "      <td>NaN</td>\n",
       "      <td>NaN</td>\n",
       "      <td>NaN</td>\n",
       "      <td>NaN</td>\n",
       "      <td>NaN</td>\n",
       "      <td>False</td>\n",
       "      <td>False</td>\n",
       "    </tr>\n",
       "    <tr>\n",
       "      <th>19</th>\n",
       "      <td>695167951</td>\n",
       "      <td>NaN</td>\n",
       "      <td>PRESENT</td>\n",
       "      <td>NaN</td>\n",
       "      <td>NaN</td>\n",
       "      <td>NaN</td>\n",
       "      <td>NaN</td>\n",
       "      <td>NaN</td>\n",
       "      <td>NaN</td>\n",
       "      <td>NaN</td>\n",
       "      <td>NaN</td>\n",
       "      <td>NaN</td>\n",
       "      <td>NaN</td>\n",
       "      <td>NaN</td>\n",
       "      <td>NaN</td>\n",
       "      <td>NaN</td>\n",
       "      <td>NaN</td>\n",
       "      <td>NaN</td>\n",
       "      <td>NaN</td>\n",
       "      <td>NaN</td>\n",
       "      <td>NaN</td>\n",
       "      <td>NaN</td>\n",
       "      <td>NaN</td>\n",
       "      <td>NaN</td>\n",
       "      <td>NaN</td>\n",
       "      <td>NaN</td>\n",
       "      <td>NaN</td>\n",
       "      <td>NaN</td>\n",
       "      <td>NaN</td>\n",
       "      <td>NaN</td>\n",
       "      <td>False</td>\n",
       "      <td>False</td>\n",
       "    </tr>\n",
       "    <tr>\n",
       "      <th>20</th>\n",
       "      <td>695167945</td>\n",
       "      <td>NaN</td>\n",
       "      <td>PRESENT</td>\n",
       "      <td>NaN</td>\n",
       "      <td>NaN</td>\n",
       "      <td>NaN</td>\n",
       "      <td>NaN</td>\n",
       "      <td>NaN</td>\n",
       "      <td>NaN</td>\n",
       "      <td>NaN</td>\n",
       "      <td>NaN</td>\n",
       "      <td>NaN</td>\n",
       "      <td>NaN</td>\n",
       "      <td>NaN</td>\n",
       "      <td>NaN</td>\n",
       "      <td>NaN</td>\n",
       "      <td>NaN</td>\n",
       "      <td>NaN</td>\n",
       "      <td>NaN</td>\n",
       "      <td>NaN</td>\n",
       "      <td>NaN</td>\n",
       "      <td>NaN</td>\n",
       "      <td>NaN</td>\n",
       "      <td>NaN</td>\n",
       "      <td>NaN</td>\n",
       "      <td>NaN</td>\n",
       "      <td>NaN</td>\n",
       "      <td>NaN</td>\n",
       "      <td>NaN</td>\n",
       "      <td>NaN</td>\n",
       "      <td>False</td>\n",
       "      <td>False</td>\n",
       "    </tr>\n",
       "    <tr>\n",
       "      <th>21</th>\n",
       "      <td>694280617</td>\n",
       "      <td>NaN</td>\n",
       "      <td>PRESENT</td>\n",
       "      <td>NaN</td>\n",
       "      <td>NaN</td>\n",
       "      <td>NaN</td>\n",
       "      <td>NaN</td>\n",
       "      <td>NaN</td>\n",
       "      <td>NaN</td>\n",
       "      <td>NaN</td>\n",
       "      <td>NaN</td>\n",
       "      <td>NaN</td>\n",
       "      <td>NaN</td>\n",
       "      <td>NaN</td>\n",
       "      <td>NaN</td>\n",
       "      <td>NaN</td>\n",
       "      <td>NaN</td>\n",
       "      <td>NaN</td>\n",
       "      <td>NaN</td>\n",
       "      <td>NaN</td>\n",
       "      <td>NaN</td>\n",
       "      <td>NaN</td>\n",
       "      <td>NaN</td>\n",
       "      <td>NaN</td>\n",
       "      <td>NaN</td>\n",
       "      <td>NaN</td>\n",
       "      <td>NaN</td>\n",
       "      <td>NaN</td>\n",
       "      <td>NaN</td>\n",
       "      <td>NaN</td>\n",
       "      <td>False</td>\n",
       "      <td>False</td>\n",
       "    </tr>\n",
       "  </tbody>\n",
       "</table>\n",
       "</div>"
      ],
      "text/plain": [
       "       gbifID reproductiveCondition occurrenceStatus eventDate eventTime  \\\n",
       "0   931073241                   NaN          PRESENT       NaN       NaN   \n",
       "1   931040138                   NaN          PRESENT       NaN       NaN   \n",
       "19  695167951                   NaN          PRESENT       NaN       NaN   \n",
       "20  695167945                   NaN          PRESENT       NaN       NaN   \n",
       "21  694280617                   NaN          PRESENT       NaN       NaN   \n",
       "\n",
       "    startDayOfYear  endDayOfYear  year  month  day verbatimEventDate habitat  \\\n",
       "0              NaN           NaN   NaN    NaN  NaN               NaN     NaN   \n",
       "1              NaN           NaN   NaN    NaN  NaN               NaN     NaN   \n",
       "19             NaN           NaN   NaN    NaN  NaN               NaN     NaN   \n",
       "20             NaN           NaN   NaN    NaN  NaN               NaN     NaN   \n",
       "21             NaN           NaN   NaN    NaN  NaN               NaN     NaN   \n",
       "\n",
       "   higherGeography continent countryCode stateProvince county municipality  \\\n",
       "0              NaN       NaN         NaN           NaN    NaN          NaN   \n",
       "1              NaN       NaN         NaN           NaN    NaN          NaN   \n",
       "19             NaN       NaN         NaN           NaN    NaN          NaN   \n",
       "20             NaN       NaN         NaN           NaN    NaN          NaN   \n",
       "21             NaN       NaN         NaN           NaN    NaN          NaN   \n",
       "\n",
       "   locality verbatimLocality verbatimElevation  \\\n",
       "0       NaN              NaN               NaN   \n",
       "1       NaN              NaN               NaN   \n",
       "19      NaN              NaN               NaN   \n",
       "20      NaN              NaN               NaN   \n",
       "21      NaN              NaN               NaN   \n",
       "\n",
       "    minimumDistanceAboveSurfaceInMeters  maximumDistanceAboveSurfaceInMeters  \\\n",
       "0                                   NaN                                  NaN   \n",
       "1                                   NaN                                  NaN   \n",
       "19                                  NaN                                  NaN   \n",
       "20                                  NaN                                  NaN   \n",
       "21                                  NaN                                  NaN   \n",
       "\n",
       "    decimalLatitude  decimalLongitude  coordinateUncertaintyInMeters  \\\n",
       "0               NaN               NaN                            NaN   \n",
       "1               NaN               NaN                            NaN   \n",
       "19              NaN               NaN                            NaN   \n",
       "20              NaN               NaN                            NaN   \n",
       "21              NaN               NaN                            NaN   \n",
       "\n",
       "   georeferencedDate dateIdentified  elevation  elevationAccuracy  \\\n",
       "0                NaN            NaN        NaN                NaN   \n",
       "1                NaN            NaN        NaN                NaN   \n",
       "19               NaN            NaN        NaN                NaN   \n",
       "20               NaN            NaN        NaN                NaN   \n",
       "21               NaN            NaN        NaN                NaN   \n",
       "\n",
       "    hasCoordinate  hasGeospatialIssues  \n",
       "0           False                False  \n",
       "1           False                False  \n",
       "19          False                False  \n",
       "20          False                False  \n",
       "21          False                False  "
      ]
     },
     "metadata": {},
     "output_type": "display_data"
    },
    {
     "name": "stdout",
     "output_type": "stream",
     "text": [
      "\n",
      "Pruned dataset preview:\n"
     ]
    },
    {
     "data": {
      "text/html": [
       "<div>\n",
       "<style scoped>\n",
       "    .dataframe tbody tr th:only-of-type {\n",
       "        vertical-align: middle;\n",
       "    }\n",
       "\n",
       "    .dataframe tbody tr th {\n",
       "        vertical-align: top;\n",
       "    }\n",
       "\n",
       "    .dataframe thead th {\n",
       "        text-align: right;\n",
       "    }\n",
       "</style>\n",
       "<table border=\"1\" class=\"dataframe\">\n",
       "  <thead>\n",
       "    <tr style=\"text-align: right;\">\n",
       "      <th></th>\n",
       "      <th>gbifID</th>\n",
       "      <th>reproductiveCondition</th>\n",
       "      <th>occurrenceStatus</th>\n",
       "      <th>eventDate</th>\n",
       "      <th>eventTime</th>\n",
       "      <th>startDayOfYear</th>\n",
       "      <th>endDayOfYear</th>\n",
       "      <th>year</th>\n",
       "      <th>month</th>\n",
       "      <th>day</th>\n",
       "      <th>verbatimEventDate</th>\n",
       "      <th>habitat</th>\n",
       "      <th>higherGeography</th>\n",
       "      <th>continent</th>\n",
       "      <th>countryCode</th>\n",
       "      <th>stateProvince</th>\n",
       "      <th>county</th>\n",
       "      <th>municipality</th>\n",
       "      <th>locality</th>\n",
       "      <th>verbatimLocality</th>\n",
       "      <th>verbatimElevation</th>\n",
       "      <th>minimumDistanceAboveSurfaceInMeters</th>\n",
       "      <th>maximumDistanceAboveSurfaceInMeters</th>\n",
       "      <th>decimalLatitude</th>\n",
       "      <th>decimalLongitude</th>\n",
       "      <th>coordinateUncertaintyInMeters</th>\n",
       "      <th>georeferencedDate</th>\n",
       "      <th>dateIdentified</th>\n",
       "      <th>elevation</th>\n",
       "      <th>elevationAccuracy</th>\n",
       "      <th>hasCoordinate</th>\n",
       "      <th>hasGeospatialIssues</th>\n",
       "    </tr>\n",
       "  </thead>\n",
       "  <tbody>\n",
       "    <tr>\n",
       "      <th>2</th>\n",
       "      <td>894988018</td>\n",
       "      <td>NaN</td>\n",
       "      <td>PRESENT</td>\n",
       "      <td>1970-07-11</td>\n",
       "      <td>NaN</td>\n",
       "      <td>192.0</td>\n",
       "      <td>192.0</td>\n",
       "      <td>1970.0</td>\n",
       "      <td>7.0</td>\n",
       "      <td>11.0</td>\n",
       "      <td>NaN</td>\n",
       "      <td>scree slope, facing east</td>\n",
       "      <td>NaN</td>\n",
       "      <td>NORTH_AMERICA</td>\n",
       "      <td>CA</td>\n",
       "      <td>Alberta</td>\n",
       "      <td>NaN</td>\n",
       "      <td>Waterton Lakes National Park</td>\n",
       "      <td>West of Lost Lake</td>\n",
       "      <td>NaN</td>\n",
       "      <td>7000 feet</td>\n",
       "      <td>NaN</td>\n",
       "      <td>NaN</td>\n",
       "      <td>49.133333</td>\n",
       "      <td>-114.15</td>\n",
       "      <td>NaN</td>\n",
       "      <td>NaN</td>\n",
       "      <td>NaN</td>\n",
       "      <td>2133.0</td>\n",
       "      <td>0.0</td>\n",
       "      <td>True</td>\n",
       "      <td>False</td>\n",
       "    </tr>\n",
       "    <tr>\n",
       "      <th>3</th>\n",
       "      <td>894988016</td>\n",
       "      <td>NaN</td>\n",
       "      <td>PRESENT</td>\n",
       "      <td>1968-08-04</td>\n",
       "      <td>NaN</td>\n",
       "      <td>217.0</td>\n",
       "      <td>217.0</td>\n",
       "      <td>1968.0</td>\n",
       "      <td>8.0</td>\n",
       "      <td>4.0</td>\n",
       "      <td>NaN</td>\n",
       "      <td>Trail side</td>\n",
       "      <td>NaN</td>\n",
       "      <td>NORTH_AMERICA</td>\n",
       "      <td>CA</td>\n",
       "      <td>Alberta</td>\n",
       "      <td>NaN</td>\n",
       "      <td>Waterton Lakes National Park</td>\n",
       "      <td>near campsite, north-west of Cameron Lake</td>\n",
       "      <td>NaN</td>\n",
       "      <td>NaN</td>\n",
       "      <td>NaN</td>\n",
       "      <td>NaN</td>\n",
       "      <td>NaN</td>\n",
       "      <td>NaN</td>\n",
       "      <td>NaN</td>\n",
       "      <td>NaN</td>\n",
       "      <td>NaN</td>\n",
       "      <td>NaN</td>\n",
       "      <td>NaN</td>\n",
       "      <td>False</td>\n",
       "      <td>False</td>\n",
       "    </tr>\n",
       "    <tr>\n",
       "      <th>4</th>\n",
       "      <td>894987984</td>\n",
       "      <td>NaN</td>\n",
       "      <td>PRESENT</td>\n",
       "      <td>1970-07-11</td>\n",
       "      <td>NaN</td>\n",
       "      <td>192.0</td>\n",
       "      <td>192.0</td>\n",
       "      <td>1970.0</td>\n",
       "      <td>7.0</td>\n",
       "      <td>11.0</td>\n",
       "      <td>NaN</td>\n",
       "      <td>scree slope, facing east</td>\n",
       "      <td>NaN</td>\n",
       "      <td>NORTH_AMERICA</td>\n",
       "      <td>CA</td>\n",
       "      <td>Alberta</td>\n",
       "      <td>NaN</td>\n",
       "      <td>Waterton Lakes National Park</td>\n",
       "      <td>West of Lost Lake</td>\n",
       "      <td>NaN</td>\n",
       "      <td>7000 feet</td>\n",
       "      <td>NaN</td>\n",
       "      <td>NaN</td>\n",
       "      <td>49.133333</td>\n",
       "      <td>-114.15</td>\n",
       "      <td>NaN</td>\n",
       "      <td>NaN</td>\n",
       "      <td>NaN</td>\n",
       "      <td>2133.0</td>\n",
       "      <td>0.0</td>\n",
       "      <td>True</td>\n",
       "      <td>False</td>\n",
       "    </tr>\n",
       "    <tr>\n",
       "      <th>5</th>\n",
       "      <td>894987983</td>\n",
       "      <td>NaN</td>\n",
       "      <td>PRESENT</td>\n",
       "      <td>1959-07-10</td>\n",
       "      <td>NaN</td>\n",
       "      <td>191.0</td>\n",
       "      <td>191.0</td>\n",
       "      <td>1959.0</td>\n",
       "      <td>7.0</td>\n",
       "      <td>10.0</td>\n",
       "      <td>NaN</td>\n",
       "      <td>Coniferous forest</td>\n",
       "      <td>NaN</td>\n",
       "      <td>NORTH_AMERICA</td>\n",
       "      <td>US</td>\n",
       "      <td>Wyoming</td>\n",
       "      <td>NaN</td>\n",
       "      <td>NaN</td>\n",
       "      <td>Teton Pass</td>\n",
       "      <td>NaN</td>\n",
       "      <td>8400 feet</td>\n",
       "      <td>NaN</td>\n",
       "      <td>NaN</td>\n",
       "      <td>NaN</td>\n",
       "      <td>NaN</td>\n",
       "      <td>NaN</td>\n",
       "      <td>NaN</td>\n",
       "      <td>NaN</td>\n",
       "      <td>2560.0</td>\n",
       "      <td>0.0</td>\n",
       "      <td>False</td>\n",
       "      <td>False</td>\n",
       "    </tr>\n",
       "    <tr>\n",
       "      <th>6</th>\n",
       "      <td>894987960</td>\n",
       "      <td>NaN</td>\n",
       "      <td>PRESENT</td>\n",
       "      <td>1970-07-11</td>\n",
       "      <td>NaN</td>\n",
       "      <td>192.0</td>\n",
       "      <td>192.0</td>\n",
       "      <td>1970.0</td>\n",
       "      <td>7.0</td>\n",
       "      <td>11.0</td>\n",
       "      <td>NaN</td>\n",
       "      <td>scree slope, facing east</td>\n",
       "      <td>NaN</td>\n",
       "      <td>NORTH_AMERICA</td>\n",
       "      <td>CA</td>\n",
       "      <td>Alberta</td>\n",
       "      <td>NaN</td>\n",
       "      <td>Waterton Lakes National Park</td>\n",
       "      <td>West of Lost Lake</td>\n",
       "      <td>NaN</td>\n",
       "      <td>7000 feet</td>\n",
       "      <td>NaN</td>\n",
       "      <td>NaN</td>\n",
       "      <td>49.133333</td>\n",
       "      <td>-114.15</td>\n",
       "      <td>NaN</td>\n",
       "      <td>NaN</td>\n",
       "      <td>NaN</td>\n",
       "      <td>2133.0</td>\n",
       "      <td>0.0</td>\n",
       "      <td>True</td>\n",
       "      <td>False</td>\n",
       "    </tr>\n",
       "  </tbody>\n",
       "</table>\n",
       "</div>"
      ],
      "text/plain": [
       "      gbifID reproductiveCondition occurrenceStatus   eventDate eventTime  \\\n",
       "2  894988018                   NaN          PRESENT  1970-07-11       NaN   \n",
       "3  894988016                   NaN          PRESENT  1968-08-04       NaN   \n",
       "4  894987984                   NaN          PRESENT  1970-07-11       NaN   \n",
       "5  894987983                   NaN          PRESENT  1959-07-10       NaN   \n",
       "6  894987960                   NaN          PRESENT  1970-07-11       NaN   \n",
       "\n",
       "   startDayOfYear  endDayOfYear    year  month   day verbatimEventDate  \\\n",
       "2           192.0         192.0  1970.0    7.0  11.0               NaN   \n",
       "3           217.0         217.0  1968.0    8.0   4.0               NaN   \n",
       "4           192.0         192.0  1970.0    7.0  11.0               NaN   \n",
       "5           191.0         191.0  1959.0    7.0  10.0               NaN   \n",
       "6           192.0         192.0  1970.0    7.0  11.0               NaN   \n",
       "\n",
       "                    habitat higherGeography      continent countryCode  \\\n",
       "2  scree slope, facing east             NaN  NORTH_AMERICA          CA   \n",
       "3                Trail side             NaN  NORTH_AMERICA          CA   \n",
       "4  scree slope, facing east             NaN  NORTH_AMERICA          CA   \n",
       "5         Coniferous forest             NaN  NORTH_AMERICA          US   \n",
       "6  scree slope, facing east             NaN  NORTH_AMERICA          CA   \n",
       "\n",
       "  stateProvince county                  municipality  \\\n",
       "2       Alberta    NaN  Waterton Lakes National Park   \n",
       "3       Alberta    NaN  Waterton Lakes National Park   \n",
       "4       Alberta    NaN  Waterton Lakes National Park   \n",
       "5       Wyoming    NaN                           NaN   \n",
       "6       Alberta    NaN  Waterton Lakes National Park   \n",
       "\n",
       "                                    locality verbatimLocality  \\\n",
       "2                          West of Lost Lake              NaN   \n",
       "3  near campsite, north-west of Cameron Lake              NaN   \n",
       "4                          West of Lost Lake              NaN   \n",
       "5                                 Teton Pass              NaN   \n",
       "6                          West of Lost Lake              NaN   \n",
       "\n",
       "  verbatimElevation  minimumDistanceAboveSurfaceInMeters  \\\n",
       "2         7000 feet                                  NaN   \n",
       "3               NaN                                  NaN   \n",
       "4         7000 feet                                  NaN   \n",
       "5         8400 feet                                  NaN   \n",
       "6         7000 feet                                  NaN   \n",
       "\n",
       "   maximumDistanceAboveSurfaceInMeters  decimalLatitude  decimalLongitude  \\\n",
       "2                                  NaN        49.133333           -114.15   \n",
       "3                                  NaN              NaN               NaN   \n",
       "4                                  NaN        49.133333           -114.15   \n",
       "5                                  NaN              NaN               NaN   \n",
       "6                                  NaN        49.133333           -114.15   \n",
       "\n",
       "   coordinateUncertaintyInMeters georeferencedDate dateIdentified  elevation  \\\n",
       "2                            NaN               NaN            NaN     2133.0   \n",
       "3                            NaN               NaN            NaN        NaN   \n",
       "4                            NaN               NaN            NaN     2133.0   \n",
       "5                            NaN               NaN            NaN     2560.0   \n",
       "6                            NaN               NaN            NaN     2133.0   \n",
       "\n",
       "   elevationAccuracy  hasCoordinate  hasGeospatialIssues  \n",
       "2                0.0           True                False  \n",
       "3                NaN          False                False  \n",
       "4                0.0           True                False  \n",
       "5                0.0          False                False  \n",
       "6                0.0           True                False  "
      ]
     },
     "metadata": {},
     "output_type": "display_data"
    }
   ],
   "source": [
    "# Create list of columns from the comment\n",
    "columns_to_keep = ['gbifID','reproductiveCondition', 'occurrenceStatus', \n",
    "                  'eventDate', 'eventTime', 'startDayOfYear', 'endDayOfYear', 'year',\n",
    "                  'month', 'day', 'verbatimEventDate', 'habitat', 'higherGeography',\n",
    "                  'continent', 'countryCode', 'stateProvince', 'county', 'municipality',\n",
    "                  'locality', 'verbatimLocality', 'verbatimElevation',\n",
    "                  'minimumDistanceAboveSurfaceInMeters', 'maximumDistanceAboveSurfaceInMeters',\n",
    "                  'decimalLatitude', 'decimalLongitude', 'coordinateUncertaintyInMeters',\n",
    "                  'georeferencedDate', 'dateIdentified', 'elevation', 'elevationAccuracy',\n",
    "                  'hasCoordinate', 'hasGeospatialIssues']\n",
    "\n",
    "# Drop rows where continent is ASIA\n",
    "df = df[\n",
    "    (df['continent'] != 'ASIA') & \n",
    "    (~df['verbatimLocality'].str.startswith('Canada', na=False))\n",
    "]\n",
    "\n",
    "# Create a copy with only the specified columns\n",
    "df_detailed = df[columns_to_keep].copy()\n",
    "\n",
    "# Split columns into coordinate and location groups\n",
    "coordinate_columns = ['decimalLatitude', 'decimalLongitude']\n",
    "location_columns = ['countryCode', 'stateProvince', 'county', 'municipality', 'locality']\n",
    "\n",
    "# Keep rows that have either:\n",
    "# 1. Both coordinates (lat & long)\n",
    "# 2. At least one location field filled\n",
    "has_coordinates = df_detailed[coordinate_columns].notna().all(axis=1)\n",
    "has_location = df_detailed[location_columns].notna().any(axis=1)\n",
    "\n",
    "# Apply the filter to keep rows with either coordinates or location info\n",
    "df_pruned = df_detailed[has_coordinates | has_location].copy()\n",
    "\n",
    "print(f\"\\nOriginal shape: {df_detailed.shape}\")\n",
    "print(f\"Shape after filtering: {df_pruned.shape}\")\n",
    "print(f\"Removed {df_detailed.shape[0] - df_pruned.shape[0]} rows\")\n",
    "\n",
    "# Save pruned dataset\n",
    "#df_pruned.to_csv('../data/processed/pruned.csv', index=False)\n",
    "\n",
    "# Display first few rows to verify the data\n",
    "print(\"\\nPruned dataset preview:\")\n",
    "# Display removed rows\n",
    "removed_rows = df_detailed[~(has_coordinates | has_location)]\n",
    "print(\"\\nRemoved rows preview:\")\n",
    "display(removed_rows.head())\n",
    "\n",
    "print(\"\\nPruned dataset preview:\")\n",
    "display(df_pruned.head())"
   ]
  },
  {
   "cell_type": "markdown",
   "metadata": {},
   "source": [
    "## Geocoding (Lon & Lat Cleaning)"
   ]
  },
  {
   "cell_type": "markdown",
   "metadata": {},
   "source": [
    "858 rows that do not have longitude or latitude however might have relevant data for geocoding including their locality."
   ]
  },
  {
   "cell_type": "code",
   "execution_count": 7,
   "metadata": {},
   "outputs": [
    {
     "data": {
      "text/plain": [
       "(858, 32)"
      ]
     },
     "execution_count": 7,
     "metadata": {},
     "output_type": "execute_result"
    }
   ],
   "source": [
    "df_pruned[df_pruned['decimalLatitude'].isna() & df_pruned['decimalLongitude'].isna()].shape"
   ]
  },
  {
   "cell_type": "code",
   "execution_count": null,
   "metadata": {},
   "outputs": [
    {
     "name": "stderr",
     "output_type": "stream",
     "text": [
      "Geocoding progress: 100%|██████████| 858/858 [34:59<00:00,  2.45s/it]"
     ]
    },
    {
     "name": "stdout",
     "output_type": "stream",
     "text": [
      "\n",
      "Geocoding Statistics:\n",
      "Total rows processed: 6823\n",
      "Rows with missing coordinates: 858\n",
      "Successfully updated: 773\n",
      "Failed updates: 85\n",
      "Rows where LLM was used: 86\n",
      "Success rate: 90.09%\n",
      "\n",
      "Detailed logs saved to: c:\\Users\\SABIO\\Documents\\GitHub\\Capstone-Microsoft\\notebooks\\..\\logs\\geocoding_20250618_175606.log\n",
      "\n",
      "Saved updated coordinates to: ../data/processed/updated_coordinates_with_verbatim_2.csv\n",
      "\n",
      "Remaining rows without coordinates:\n"
     ]
    },
    {
     "name": "stderr",
     "output_type": "stream",
     "text": [
      "\n"
     ]
    },
    {
     "data": {
      "text/html": [
       "<div>\n",
       "<style scoped>\n",
       "    .dataframe tbody tr th:only-of-type {\n",
       "        vertical-align: middle;\n",
       "    }\n",
       "\n",
       "    .dataframe tbody tr th {\n",
       "        vertical-align: top;\n",
       "    }\n",
       "\n",
       "    .dataframe thead th {\n",
       "        text-align: right;\n",
       "    }\n",
       "</style>\n",
       "<table border=\"1\" class=\"dataframe\">\n",
       "  <thead>\n",
       "    <tr style=\"text-align: right;\">\n",
       "      <th></th>\n",
       "      <th>gbifID</th>\n",
       "      <th>reproductiveCondition</th>\n",
       "      <th>occurrenceStatus</th>\n",
       "      <th>eventDate</th>\n",
       "      <th>eventTime</th>\n",
       "      <th>startDayOfYear</th>\n",
       "      <th>endDayOfYear</th>\n",
       "      <th>year</th>\n",
       "      <th>month</th>\n",
       "      <th>day</th>\n",
       "      <th>verbatimEventDate</th>\n",
       "      <th>habitat</th>\n",
       "      <th>higherGeography</th>\n",
       "      <th>continent</th>\n",
       "      <th>countryCode</th>\n",
       "      <th>stateProvince</th>\n",
       "      <th>county</th>\n",
       "      <th>municipality</th>\n",
       "      <th>locality</th>\n",
       "      <th>verbatimLocality</th>\n",
       "      <th>verbatimElevation</th>\n",
       "      <th>minimumDistanceAboveSurfaceInMeters</th>\n",
       "      <th>maximumDistanceAboveSurfaceInMeters</th>\n",
       "      <th>decimalLatitude</th>\n",
       "      <th>decimalLongitude</th>\n",
       "      <th>coordinateUncertaintyInMeters</th>\n",
       "      <th>georeferencedDate</th>\n",
       "      <th>dateIdentified</th>\n",
       "      <th>elevation</th>\n",
       "      <th>elevationAccuracy</th>\n",
       "      <th>hasCoordinate</th>\n",
       "      <th>hasGeospatialIssues</th>\n",
       "      <th>used_llm</th>\n",
       "    </tr>\n",
       "  </thead>\n",
       "  <tbody>\n",
       "    <tr>\n",
       "      <th>30</th>\n",
       "      <td>5174618020</td>\n",
       "      <td>NaN</td>\n",
       "      <td>PRESENT</td>\n",
       "      <td>1800-01-01/2008-04-25</td>\n",
       "      <td>1800-01-01/2008-04-25</td>\n",
       "      <td>1.0</td>\n",
       "      <td>116.0</td>\n",
       "      <td>NaN</td>\n",
       "      <td>NaN</td>\n",
       "      <td>NaN</td>\n",
       "      <td>not recorded</td>\n",
       "      <td>NaN</td>\n",
       "      <td>no higher geography recorded</td>\n",
       "      <td>NaN</td>\n",
       "      <td>NaN</td>\n",
       "      <td>NaN</td>\n",
       "      <td>NaN</td>\n",
       "      <td>NaN</td>\n",
       "      <td>No specific locality recorded.</td>\n",
       "      <td>No verbatim locality recorded</td>\n",
       "      <td>NaN</td>\n",
       "      <td>NaN</td>\n",
       "      <td>NaN</td>\n",
       "      <td>NaN</td>\n",
       "      <td>NaN</td>\n",
       "      <td>NaN</td>\n",
       "      <td>2012-07-08 00:00:00</td>\n",
       "      <td>2008-04-25T00:00:00</td>\n",
       "      <td>NaN</td>\n",
       "      <td>NaN</td>\n",
       "      <td>False</td>\n",
       "      <td>False</td>\n",
       "      <td>False</td>\n",
       "    </tr>\n",
       "    <tr>\n",
       "      <th>1836</th>\n",
       "      <td>441858009</td>\n",
       "      <td>NaN</td>\n",
       "      <td>PRESENT</td>\n",
       "      <td>1967-07-26</td>\n",
       "      <td>NaN</td>\n",
       "      <td>207.0</td>\n",
       "      <td>207.0</td>\n",
       "      <td>1967.0</td>\n",
       "      <td>7.0</td>\n",
       "      <td>26.0</td>\n",
       "      <td>NaN</td>\n",
       "      <td>NaN</td>\n",
       "      <td>NaN</td>\n",
       "      <td>NORTH_AMERICA</td>\n",
       "      <td>CA</td>\n",
       "      <td>British Columbia</td>\n",
       "      <td>NaN</td>\n",
       "      <td>NaN</td>\n",
       "      <td>Aeta Lake.</td>\n",
       "      <td>NaN</td>\n",
       "      <td>NaN</td>\n",
       "      <td>NaN</td>\n",
       "      <td>NaN</td>\n",
       "      <td>NaN</td>\n",
       "      <td>NaN</td>\n",
       "      <td>NaN</td>\n",
       "      <td>NaN</td>\n",
       "      <td>NaN</td>\n",
       "      <td>NaN</td>\n",
       "      <td>NaN</td>\n",
       "      <td>False</td>\n",
       "      <td>False</td>\n",
       "      <td>False</td>\n",
       "    </tr>\n",
       "    <tr>\n",
       "      <th>1849</th>\n",
       "      <td>441857874</td>\n",
       "      <td>NaN</td>\n",
       "      <td>PRESENT</td>\n",
       "      <td>1925-08</td>\n",
       "      <td>NaN</td>\n",
       "      <td>NaN</td>\n",
       "      <td>NaN</td>\n",
       "      <td>1925.0</td>\n",
       "      <td>8.0</td>\n",
       "      <td>NaN</td>\n",
       "      <td>NaN</td>\n",
       "      <td>NaN</td>\n",
       "      <td>NaN</td>\n",
       "      <td>NaN</td>\n",
       "      <td>US</td>\n",
       "      <td>Washington</td>\n",
       "      <td>NaN</td>\n",
       "      <td>NaN</td>\n",
       "      <td>Inter Fork of White River, Mount Rainier.</td>\n",
       "      <td>NaN</td>\n",
       "      <td>NaN</td>\n",
       "      <td>NaN</td>\n",
       "      <td>NaN</td>\n",
       "      <td>NaN</td>\n",
       "      <td>NaN</td>\n",
       "      <td>NaN</td>\n",
       "      <td>NaN</td>\n",
       "      <td>1944-01-01T00:00:00</td>\n",
       "      <td>1524.0</td>\n",
       "      <td>0.0</td>\n",
       "      <td>False</td>\n",
       "      <td>False</td>\n",
       "      <td>False</td>\n",
       "    </tr>\n",
       "    <tr>\n",
       "      <th>1865</th>\n",
       "      <td>441857743</td>\n",
       "      <td>NaN</td>\n",
       "      <td>PRESENT</td>\n",
       "      <td>1938-06-20</td>\n",
       "      <td>NaN</td>\n",
       "      <td>171.0</td>\n",
       "      <td>171.0</td>\n",
       "      <td>1938.0</td>\n",
       "      <td>6.0</td>\n",
       "      <td>20.0</td>\n",
       "      <td>NaN</td>\n",
       "      <td>NaN</td>\n",
       "      <td>NaN</td>\n",
       "      <td>NORTH_AMERICA</td>\n",
       "      <td>CA</td>\n",
       "      <td>British Columbia</td>\n",
       "      <td>NaN</td>\n",
       "      <td>NaN</td>\n",
       "      <td>Near Lake Bootahnie, Marble Mountains.</td>\n",
       "      <td>NaN</td>\n",
       "      <td>NaN</td>\n",
       "      <td>NaN</td>\n",
       "      <td>NaN</td>\n",
       "      <td>NaN</td>\n",
       "      <td>NaN</td>\n",
       "      <td>NaN</td>\n",
       "      <td>NaN</td>\n",
       "      <td>NaN</td>\n",
       "      <td>1524.0</td>\n",
       "      <td>0.0</td>\n",
       "      <td>False</td>\n",
       "      <td>False</td>\n",
       "      <td>False</td>\n",
       "    </tr>\n",
       "    <tr>\n",
       "      <th>1885</th>\n",
       "      <td>441857716</td>\n",
       "      <td>NaN</td>\n",
       "      <td>PRESENT</td>\n",
       "      <td>1939-06-17</td>\n",
       "      <td>NaN</td>\n",
       "      <td>168.0</td>\n",
       "      <td>168.0</td>\n",
       "      <td>1939.0</td>\n",
       "      <td>6.0</td>\n",
       "      <td>17.0</td>\n",
       "      <td>NaN</td>\n",
       "      <td>NaN</td>\n",
       "      <td>NaN</td>\n",
       "      <td>NORTH_AMERICA</td>\n",
       "      <td>CA</td>\n",
       "      <td>British Columbia</td>\n",
       "      <td>NaN</td>\n",
       "      <td>NaN</td>\n",
       "      <td>Sumup Cabin, southwest of Mount Baldy, 9 miles...</td>\n",
       "      <td>NaN</td>\n",
       "      <td>NaN</td>\n",
       "      <td>NaN</td>\n",
       "      <td>NaN</td>\n",
       "      <td>NaN</td>\n",
       "      <td>NaN</td>\n",
       "      <td>NaN</td>\n",
       "      <td>NaN</td>\n",
       "      <td>NaN</td>\n",
       "      <td>1326.0</td>\n",
       "      <td>46.0</td>\n",
       "      <td>False</td>\n",
       "      <td>False</td>\n",
       "      <td>False</td>\n",
       "    </tr>\n",
       "    <tr>\n",
       "      <th>...</th>\n",
       "      <td>...</td>\n",
       "      <td>...</td>\n",
       "      <td>...</td>\n",
       "      <td>...</td>\n",
       "      <td>...</td>\n",
       "      <td>...</td>\n",
       "      <td>...</td>\n",
       "      <td>...</td>\n",
       "      <td>...</td>\n",
       "      <td>...</td>\n",
       "      <td>...</td>\n",
       "      <td>...</td>\n",
       "      <td>...</td>\n",
       "      <td>...</td>\n",
       "      <td>...</td>\n",
       "      <td>...</td>\n",
       "      <td>...</td>\n",
       "      <td>...</td>\n",
       "      <td>...</td>\n",
       "      <td>...</td>\n",
       "      <td>...</td>\n",
       "      <td>...</td>\n",
       "      <td>...</td>\n",
       "      <td>...</td>\n",
       "      <td>...</td>\n",
       "      <td>...</td>\n",
       "      <td>...</td>\n",
       "      <td>...</td>\n",
       "      <td>...</td>\n",
       "      <td>...</td>\n",
       "      <td>...</td>\n",
       "      <td>...</td>\n",
       "      <td>...</td>\n",
       "    </tr>\n",
       "    <tr>\n",
       "      <th>6338</th>\n",
       "      <td>1302601879</td>\n",
       "      <td>NaN</td>\n",
       "      <td>PRESENT</td>\n",
       "      <td>1983</td>\n",
       "      <td>NaN</td>\n",
       "      <td>NaN</td>\n",
       "      <td>NaN</td>\n",
       "      <td>1983.0</td>\n",
       "      <td>NaN</td>\n",
       "      <td>NaN</td>\n",
       "      <td>NaN</td>\n",
       "      <td>NaN</td>\n",
       "      <td>NaN</td>\n",
       "      <td>NaN</td>\n",
       "      <td>US</td>\n",
       "      <td>NaN</td>\n",
       "      <td>NaN</td>\n",
       "      <td>NaN</td>\n",
       "      <td>+9 miles southeast of McKenzie Bridge, Willame...</td>\n",
       "      <td>NaN</td>\n",
       "      <td>NaN</td>\n",
       "      <td>NaN</td>\n",
       "      <td>NaN</td>\n",
       "      <td>NaN</td>\n",
       "      <td>NaN</td>\n",
       "      <td>NaN</td>\n",
       "      <td>NaN</td>\n",
       "      <td>NaN</td>\n",
       "      <td>NaN</td>\n",
       "      <td>NaN</td>\n",
       "      <td>False</td>\n",
       "      <td>False</td>\n",
       "      <td>False</td>\n",
       "    </tr>\n",
       "    <tr>\n",
       "      <th>6373</th>\n",
       "      <td>1302588522</td>\n",
       "      <td>NaN</td>\n",
       "      <td>PRESENT</td>\n",
       "      <td>1992-07-22</td>\n",
       "      <td>NaN</td>\n",
       "      <td>204.0</td>\n",
       "      <td>204.0</td>\n",
       "      <td>1992.0</td>\n",
       "      <td>7.0</td>\n",
       "      <td>22.0</td>\n",
       "      <td>NaN</td>\n",
       "      <td>NaN</td>\n",
       "      <td>NaN</td>\n",
       "      <td>NaN</td>\n",
       "      <td>US</td>\n",
       "      <td>California</td>\n",
       "      <td>NaN</td>\n",
       "      <td>NaN</td>\n",
       "      <td>Near summit of o''brien-happy camp road, at ju...</td>\n",
       "      <td>NaN</td>\n",
       "      <td>NaN</td>\n",
       "      <td>NaN</td>\n",
       "      <td>NaN</td>\n",
       "      <td>NaN</td>\n",
       "      <td>NaN</td>\n",
       "      <td>NaN</td>\n",
       "      <td>NaN</td>\n",
       "      <td>NaN</td>\n",
       "      <td>NaN</td>\n",
       "      <td>NaN</td>\n",
       "      <td>False</td>\n",
       "      <td>False</td>\n",
       "      <td>False</td>\n",
       "    </tr>\n",
       "    <tr>\n",
       "      <th>6466</th>\n",
       "      <td>1302588421</td>\n",
       "      <td>NaN</td>\n",
       "      <td>PRESENT</td>\n",
       "      <td>1892-07-06</td>\n",
       "      <td>NaN</td>\n",
       "      <td>188.0</td>\n",
       "      <td>188.0</td>\n",
       "      <td>1892.0</td>\n",
       "      <td>7.0</td>\n",
       "      <td>6.0</td>\n",
       "      <td>NaN</td>\n",
       "      <td>NaN</td>\n",
       "      <td>NaN</td>\n",
       "      <td>NaN</td>\n",
       "      <td>US</td>\n",
       "      <td>Idaho</td>\n",
       "      <td>NaN</td>\n",
       "      <td>NaN</td>\n",
       "      <td>Owyhee Mountains</td>\n",
       "      <td>NaN</td>\n",
       "      <td>NaN</td>\n",
       "      <td>NaN</td>\n",
       "      <td>NaN</td>\n",
       "      <td>NaN</td>\n",
       "      <td>NaN</td>\n",
       "      <td>NaN</td>\n",
       "      <td>NaN</td>\n",
       "      <td>NaN</td>\n",
       "      <td>NaN</td>\n",
       "      <td>NaN</td>\n",
       "      <td>False</td>\n",
       "      <td>False</td>\n",
       "      <td>False</td>\n",
       "    </tr>\n",
       "    <tr>\n",
       "      <th>6675</th>\n",
       "      <td>1302583044</td>\n",
       "      <td>NaN</td>\n",
       "      <td>PRESENT</td>\n",
       "      <td>1892-06-20</td>\n",
       "      <td>NaN</td>\n",
       "      <td>172.0</td>\n",
       "      <td>172.0</td>\n",
       "      <td>1892.0</td>\n",
       "      <td>6.0</td>\n",
       "      <td>20.0</td>\n",
       "      <td>NaN</td>\n",
       "      <td>NaN</td>\n",
       "      <td>NaN</td>\n",
       "      <td>NaN</td>\n",
       "      <td>US</td>\n",
       "      <td>Washington</td>\n",
       "      <td>NaN</td>\n",
       "      <td>NaN</td>\n",
       "      <td>[no locality given on the label].</td>\n",
       "      <td>NaN</td>\n",
       "      <td>NaN</td>\n",
       "      <td>NaN</td>\n",
       "      <td>NaN</td>\n",
       "      <td>NaN</td>\n",
       "      <td>NaN</td>\n",
       "      <td>NaN</td>\n",
       "      <td>NaN</td>\n",
       "      <td>NaN</td>\n",
       "      <td>NaN</td>\n",
       "      <td>NaN</td>\n",
       "      <td>False</td>\n",
       "      <td>False</td>\n",
       "      <td>False</td>\n",
       "    </tr>\n",
       "    <tr>\n",
       "      <th>6921</th>\n",
       "      <td>1302581831</td>\n",
       "      <td>NaN</td>\n",
       "      <td>PRESENT</td>\n",
       "      <td>1929-08</td>\n",
       "      <td>NaN</td>\n",
       "      <td>NaN</td>\n",
       "      <td>NaN</td>\n",
       "      <td>1929.0</td>\n",
       "      <td>8.0</td>\n",
       "      <td>NaN</td>\n",
       "      <td>NaN</td>\n",
       "      <td>NaN</td>\n",
       "      <td>NaN</td>\n",
       "      <td>NaN</td>\n",
       "      <td>US</td>\n",
       "      <td>Washington</td>\n",
       "      <td>NaN</td>\n",
       "      <td>NaN</td>\n",
       "      <td>Stevens Pass Region, Cascade Mountains.</td>\n",
       "      <td>NaN</td>\n",
       "      <td>NaN</td>\n",
       "      <td>NaN</td>\n",
       "      <td>NaN</td>\n",
       "      <td>NaN</td>\n",
       "      <td>NaN</td>\n",
       "      <td>NaN</td>\n",
       "      <td>NaN</td>\n",
       "      <td>NaN</td>\n",
       "      <td>NaN</td>\n",
       "      <td>NaN</td>\n",
       "      <td>False</td>\n",
       "      <td>False</td>\n",
       "      <td>False</td>\n",
       "    </tr>\n",
       "  </tbody>\n",
       "</table>\n",
       "<p>85 rows × 33 columns</p>\n",
       "</div>"
      ],
      "text/plain": [
       "          gbifID reproductiveCondition occurrenceStatus  \\\n",
       "30    5174618020                   NaN          PRESENT   \n",
       "1836   441858009                   NaN          PRESENT   \n",
       "1849   441857874                   NaN          PRESENT   \n",
       "1865   441857743                   NaN          PRESENT   \n",
       "1885   441857716                   NaN          PRESENT   \n",
       "...          ...                   ...              ...   \n",
       "6338  1302601879                   NaN          PRESENT   \n",
       "6373  1302588522                   NaN          PRESENT   \n",
       "6466  1302588421                   NaN          PRESENT   \n",
       "6675  1302583044                   NaN          PRESENT   \n",
       "6921  1302581831                   NaN          PRESENT   \n",
       "\n",
       "                  eventDate              eventTime  startDayOfYear  \\\n",
       "30    1800-01-01/2008-04-25  1800-01-01/2008-04-25             1.0   \n",
       "1836             1967-07-26                    NaN           207.0   \n",
       "1849                1925-08                    NaN             NaN   \n",
       "1865             1938-06-20                    NaN           171.0   \n",
       "1885             1939-06-17                    NaN           168.0   \n",
       "...                     ...                    ...             ...   \n",
       "6338                   1983                    NaN             NaN   \n",
       "6373             1992-07-22                    NaN           204.0   \n",
       "6466             1892-07-06                    NaN           188.0   \n",
       "6675             1892-06-20                    NaN           172.0   \n",
       "6921                1929-08                    NaN             NaN   \n",
       "\n",
       "      endDayOfYear    year  month   day verbatimEventDate habitat  \\\n",
       "30           116.0     NaN    NaN   NaN      not recorded     NaN   \n",
       "1836         207.0  1967.0    7.0  26.0               NaN     NaN   \n",
       "1849           NaN  1925.0    8.0   NaN               NaN     NaN   \n",
       "1865         171.0  1938.0    6.0  20.0               NaN     NaN   \n",
       "1885         168.0  1939.0    6.0  17.0               NaN     NaN   \n",
       "...            ...     ...    ...   ...               ...     ...   \n",
       "6338           NaN  1983.0    NaN   NaN               NaN     NaN   \n",
       "6373         204.0  1992.0    7.0  22.0               NaN     NaN   \n",
       "6466         188.0  1892.0    7.0   6.0               NaN     NaN   \n",
       "6675         172.0  1892.0    6.0  20.0               NaN     NaN   \n",
       "6921           NaN  1929.0    8.0   NaN               NaN     NaN   \n",
       "\n",
       "                   higherGeography      continent countryCode  \\\n",
       "30    no higher geography recorded            NaN         NaN   \n",
       "1836                           NaN  NORTH_AMERICA          CA   \n",
       "1849                           NaN            NaN          US   \n",
       "1865                           NaN  NORTH_AMERICA          CA   \n",
       "1885                           NaN  NORTH_AMERICA          CA   \n",
       "...                            ...            ...         ...   \n",
       "6338                           NaN            NaN          US   \n",
       "6373                           NaN            NaN          US   \n",
       "6466                           NaN            NaN          US   \n",
       "6675                           NaN            NaN          US   \n",
       "6921                           NaN            NaN          US   \n",
       "\n",
       "         stateProvince county municipality  \\\n",
       "30                 NaN    NaN          NaN   \n",
       "1836  British Columbia    NaN          NaN   \n",
       "1849        Washington    NaN          NaN   \n",
       "1865  British Columbia    NaN          NaN   \n",
       "1885  British Columbia    NaN          NaN   \n",
       "...                ...    ...          ...   \n",
       "6338               NaN    NaN          NaN   \n",
       "6373        California    NaN          NaN   \n",
       "6466             Idaho    NaN          NaN   \n",
       "6675        Washington    NaN          NaN   \n",
       "6921        Washington    NaN          NaN   \n",
       "\n",
       "                                               locality  \\\n",
       "30                       No specific locality recorded.   \n",
       "1836                                         Aeta Lake.   \n",
       "1849          Inter Fork of White River, Mount Rainier.   \n",
       "1865             Near Lake Bootahnie, Marble Mountains.   \n",
       "1885  Sumup Cabin, southwest of Mount Baldy, 9 miles...   \n",
       "...                                                 ...   \n",
       "6338  +9 miles southeast of McKenzie Bridge, Willame...   \n",
       "6373  Near summit of o''brien-happy camp road, at ju...   \n",
       "6466                                   Owyhee Mountains   \n",
       "6675                  [no locality given on the label].   \n",
       "6921            Stevens Pass Region, Cascade Mountains.   \n",
       "\n",
       "                   verbatimLocality verbatimElevation  \\\n",
       "30    No verbatim locality recorded               NaN   \n",
       "1836                            NaN               NaN   \n",
       "1849                            NaN               NaN   \n",
       "1865                            NaN               NaN   \n",
       "1885                            NaN               NaN   \n",
       "...                             ...               ...   \n",
       "6338                            NaN               NaN   \n",
       "6373                            NaN               NaN   \n",
       "6466                            NaN               NaN   \n",
       "6675                            NaN               NaN   \n",
       "6921                            NaN               NaN   \n",
       "\n",
       "      minimumDistanceAboveSurfaceInMeters  \\\n",
       "30                                    NaN   \n",
       "1836                                  NaN   \n",
       "1849                                  NaN   \n",
       "1865                                  NaN   \n",
       "1885                                  NaN   \n",
       "...                                   ...   \n",
       "6338                                  NaN   \n",
       "6373                                  NaN   \n",
       "6466                                  NaN   \n",
       "6675                                  NaN   \n",
       "6921                                  NaN   \n",
       "\n",
       "      maximumDistanceAboveSurfaceInMeters  decimalLatitude  decimalLongitude  \\\n",
       "30                                    NaN              NaN               NaN   \n",
       "1836                                  NaN              NaN               NaN   \n",
       "1849                                  NaN              NaN               NaN   \n",
       "1865                                  NaN              NaN               NaN   \n",
       "1885                                  NaN              NaN               NaN   \n",
       "...                                   ...              ...               ...   \n",
       "6338                                  NaN              NaN               NaN   \n",
       "6373                                  NaN              NaN               NaN   \n",
       "6466                                  NaN              NaN               NaN   \n",
       "6675                                  NaN              NaN               NaN   \n",
       "6921                                  NaN              NaN               NaN   \n",
       "\n",
       "      coordinateUncertaintyInMeters    georeferencedDate       dateIdentified  \\\n",
       "30                              NaN  2012-07-08 00:00:00  2008-04-25T00:00:00   \n",
       "1836                            NaN                  NaN                  NaN   \n",
       "1849                            NaN                  NaN  1944-01-01T00:00:00   \n",
       "1865                            NaN                  NaN                  NaN   \n",
       "1885                            NaN                  NaN                  NaN   \n",
       "...                             ...                  ...                  ...   \n",
       "6338                            NaN                  NaN                  NaN   \n",
       "6373                            NaN                  NaN                  NaN   \n",
       "6466                            NaN                  NaN                  NaN   \n",
       "6675                            NaN                  NaN                  NaN   \n",
       "6921                            NaN                  NaN                  NaN   \n",
       "\n",
       "      elevation  elevationAccuracy  hasCoordinate  hasGeospatialIssues  \\\n",
       "30          NaN                NaN          False                False   \n",
       "1836        NaN                NaN          False                False   \n",
       "1849     1524.0                0.0          False                False   \n",
       "1865     1524.0                0.0          False                False   \n",
       "1885     1326.0               46.0          False                False   \n",
       "...         ...                ...            ...                  ...   \n",
       "6338        NaN                NaN          False                False   \n",
       "6373        NaN                NaN          False                False   \n",
       "6466        NaN                NaN          False                False   \n",
       "6675        NaN                NaN          False                False   \n",
       "6921        NaN                NaN          False                False   \n",
       "\n",
       "      used_llm  \n",
       "30       False  \n",
       "1836     False  \n",
       "1849     False  \n",
       "1865     False  \n",
       "1885     False  \n",
       "...        ...  \n",
       "6338     False  \n",
       "6373     False  \n",
       "6466     False  \n",
       "6675     False  \n",
       "6921     False  \n",
       "\n",
       "[85 rows x 33 columns]"
      ]
     },
     "metadata": {},
     "output_type": "display_data"
    },
    {
     "name": "stdout",
     "output_type": "stream",
     "text": [
      "\n",
      "Rows where LLM was used for geocoding:\n"
     ]
    },
    {
     "data": {
      "text/html": [
       "<div>\n",
       "<style scoped>\n",
       "    .dataframe tbody tr th:only-of-type {\n",
       "        vertical-align: middle;\n",
       "    }\n",
       "\n",
       "    .dataframe tbody tr th {\n",
       "        vertical-align: top;\n",
       "    }\n",
       "\n",
       "    .dataframe thead th {\n",
       "        text-align: right;\n",
       "    }\n",
       "</style>\n",
       "<table border=\"1\" class=\"dataframe\">\n",
       "  <thead>\n",
       "    <tr style=\"text-align: right;\">\n",
       "      <th></th>\n",
       "      <th>gbifID</th>\n",
       "      <th>reproductiveCondition</th>\n",
       "      <th>occurrenceStatus</th>\n",
       "      <th>eventDate</th>\n",
       "      <th>eventTime</th>\n",
       "      <th>startDayOfYear</th>\n",
       "      <th>endDayOfYear</th>\n",
       "      <th>year</th>\n",
       "      <th>month</th>\n",
       "      <th>day</th>\n",
       "      <th>verbatimEventDate</th>\n",
       "      <th>habitat</th>\n",
       "      <th>higherGeography</th>\n",
       "      <th>continent</th>\n",
       "      <th>countryCode</th>\n",
       "      <th>stateProvince</th>\n",
       "      <th>county</th>\n",
       "      <th>municipality</th>\n",
       "      <th>locality</th>\n",
       "      <th>verbatimLocality</th>\n",
       "      <th>verbatimElevation</th>\n",
       "      <th>minimumDistanceAboveSurfaceInMeters</th>\n",
       "      <th>maximumDistanceAboveSurfaceInMeters</th>\n",
       "      <th>decimalLatitude</th>\n",
       "      <th>decimalLongitude</th>\n",
       "      <th>coordinateUncertaintyInMeters</th>\n",
       "      <th>georeferencedDate</th>\n",
       "      <th>dateIdentified</th>\n",
       "      <th>elevation</th>\n",
       "      <th>elevationAccuracy</th>\n",
       "      <th>hasCoordinate</th>\n",
       "      <th>hasGeospatialIssues</th>\n",
       "      <th>used_llm</th>\n",
       "    </tr>\n",
       "  </thead>\n",
       "  <tbody>\n",
       "    <tr>\n",
       "      <th>3</th>\n",
       "      <td>894988016</td>\n",
       "      <td>NaN</td>\n",
       "      <td>PRESENT</td>\n",
       "      <td>1968-08-04</td>\n",
       "      <td>NaN</td>\n",
       "      <td>217.0</td>\n",
       "      <td>217.0</td>\n",
       "      <td>1968.0</td>\n",
       "      <td>8.0</td>\n",
       "      <td>4.0</td>\n",
       "      <td>NaN</td>\n",
       "      <td>Trail side</td>\n",
       "      <td>NaN</td>\n",
       "      <td>NORTH_AMERICA</td>\n",
       "      <td>CA</td>\n",
       "      <td>Alberta</td>\n",
       "      <td>NaN</td>\n",
       "      <td>Waterton Lakes National Park</td>\n",
       "      <td>near campsite, north-west of Cameron Lake</td>\n",
       "      <td>NaN</td>\n",
       "      <td>NaN</td>\n",
       "      <td>NaN</td>\n",
       "      <td>NaN</td>\n",
       "      <td>44.553159</td>\n",
       "      <td>-78.761708</td>\n",
       "      <td>NaN</td>\n",
       "      <td>NaN</td>\n",
       "      <td>NaN</td>\n",
       "      <td>NaN</td>\n",
       "      <td>NaN</td>\n",
       "      <td>False</td>\n",
       "      <td>False</td>\n",
       "      <td>True</td>\n",
       "    </tr>\n",
       "    <tr>\n",
       "      <th>29</th>\n",
       "      <td>5174673580</td>\n",
       "      <td>NaN</td>\n",
       "      <td>PRESENT</td>\n",
       "      <td>1976-07-16</td>\n",
       "      <td>1976-07-16</td>\n",
       "      <td>198.0</td>\n",
       "      <td>198.0</td>\n",
       "      <td>1976.0</td>\n",
       "      <td>7.0</td>\n",
       "      <td>16.0</td>\n",
       "      <td>16 July 1976</td>\n",
       "      <td>NaN</td>\n",
       "      <td>United States, Washington</td>\n",
       "      <td>NaN</td>\n",
       "      <td>US</td>\n",
       "      <td>Washington</td>\n",
       "      <td>NaN</td>\n",
       "      <td>NaN</td>\n",
       "      <td>Chelan Co., Mazama: Along rocky shore of Lake ...</td>\n",
       "      <td>Chelan Co., Mazama: Along rocky shore of Lake ...</td>\n",
       "      <td>NaN</td>\n",
       "      <td>NaN</td>\n",
       "      <td>NaN</td>\n",
       "      <td>48.735298</td>\n",
       "      <td>-121.864987</td>\n",
       "      <td>NaN</td>\n",
       "      <td>1800-01-01 00:00:00</td>\n",
       "      <td>1800-01-01T00:00:00</td>\n",
       "      <td>NaN</td>\n",
       "      <td>NaN</td>\n",
       "      <td>False</td>\n",
       "      <td>False</td>\n",
       "      <td>True</td>\n",
       "    </tr>\n",
       "    <tr>\n",
       "      <th>67</th>\n",
       "      <td>5089841149</td>\n",
       "      <td>NaN</td>\n",
       "      <td>PRESENT</td>\n",
       "      <td>1925-07-25T00:00</td>\n",
       "      <td>NaN</td>\n",
       "      <td>206.0</td>\n",
       "      <td>206.0</td>\n",
       "      <td>1925.0</td>\n",
       "      <td>7.0</td>\n",
       "      <td>25.0</td>\n",
       "      <td>NaN</td>\n",
       "      <td>NaN</td>\n",
       "      <td>NaN</td>\n",
       "      <td>NaN</td>\n",
       "      <td>NaN</td>\n",
       "      <td>NaN</td>\n",
       "      <td>NaN</td>\n",
       "      <td>NaN</td>\n",
       "      <td>Seeley Lake, west side slough, north end</td>\n",
       "      <td>NaN</td>\n",
       "      <td>NaN</td>\n",
       "      <td>NaN</td>\n",
       "      <td>NaN</td>\n",
       "      <td>47.155299</td>\n",
       "      <td>-113.448428</td>\n",
       "      <td>NaN</td>\n",
       "      <td>NaN</td>\n",
       "      <td>NaN</td>\n",
       "      <td>NaN</td>\n",
       "      <td>NaN</td>\n",
       "      <td>False</td>\n",
       "      <td>False</td>\n",
       "      <td>True</td>\n",
       "    </tr>\n",
       "    <tr>\n",
       "      <th>1833</th>\n",
       "      <td>441858030</td>\n",
       "      <td>NaN</td>\n",
       "      <td>PRESENT</td>\n",
       "      <td>1941-07-08</td>\n",
       "      <td>NaN</td>\n",
       "      <td>189.0</td>\n",
       "      <td>189.0</td>\n",
       "      <td>1941.0</td>\n",
       "      <td>7.0</td>\n",
       "      <td>8.0</td>\n",
       "      <td>NaN</td>\n",
       "      <td>NaN</td>\n",
       "      <td>NaN</td>\n",
       "      <td>NORTH_AMERICA</td>\n",
       "      <td>CA</td>\n",
       "      <td>British Columbia</td>\n",
       "      <td>NaN</td>\n",
       "      <td>NaN</td>\n",
       "      <td>West side of Mountain Revelstoke.</td>\n",
       "      <td>NaN</td>\n",
       "      <td>NaN</td>\n",
       "      <td>NaN</td>\n",
       "      <td>NaN</td>\n",
       "      <td>50.969263</td>\n",
       "      <td>-118.109209</td>\n",
       "      <td>NaN</td>\n",
       "      <td>NaN</td>\n",
       "      <td>2006-04-06T00:00:00</td>\n",
       "      <td>1616.0</td>\n",
       "      <td>0.0</td>\n",
       "      <td>False</td>\n",
       "      <td>False</td>\n",
       "      <td>True</td>\n",
       "    </tr>\n",
       "    <tr>\n",
       "      <th>1851</th>\n",
       "      <td>441857872</td>\n",
       "      <td>NaN</td>\n",
       "      <td>PRESENT</td>\n",
       "      <td>1907-08-02</td>\n",
       "      <td>NaN</td>\n",
       "      <td>214.0</td>\n",
       "      <td>214.0</td>\n",
       "      <td>1907.0</td>\n",
       "      <td>8.0</td>\n",
       "      <td>2.0</td>\n",
       "      <td>NaN</td>\n",
       "      <td>NaN</td>\n",
       "      <td>NaN</td>\n",
       "      <td>NaN</td>\n",
       "      <td>US</td>\n",
       "      <td>Washington</td>\n",
       "      <td>NaN</td>\n",
       "      <td>NaN</td>\n",
       "      <td>Olympic Mountains. Elwha Valley.</td>\n",
       "      <td>NaN</td>\n",
       "      <td>NaN</td>\n",
       "      <td>NaN</td>\n",
       "      <td>NaN</td>\n",
       "      <td>47.703130</td>\n",
       "      <td>-123.522704</td>\n",
       "      <td>NaN</td>\n",
       "      <td>NaN</td>\n",
       "      <td>NaN</td>\n",
       "      <td>915.0</td>\n",
       "      <td>305.0</td>\n",
       "      <td>False</td>\n",
       "      <td>False</td>\n",
       "      <td>True</td>\n",
       "    </tr>\n",
       "    <tr>\n",
       "      <th>...</th>\n",
       "      <td>...</td>\n",
       "      <td>...</td>\n",
       "      <td>...</td>\n",
       "      <td>...</td>\n",
       "      <td>...</td>\n",
       "      <td>...</td>\n",
       "      <td>...</td>\n",
       "      <td>...</td>\n",
       "      <td>...</td>\n",
       "      <td>...</td>\n",
       "      <td>...</td>\n",
       "      <td>...</td>\n",
       "      <td>...</td>\n",
       "      <td>...</td>\n",
       "      <td>...</td>\n",
       "      <td>...</td>\n",
       "      <td>...</td>\n",
       "      <td>...</td>\n",
       "      <td>...</td>\n",
       "      <td>...</td>\n",
       "      <td>...</td>\n",
       "      <td>...</td>\n",
       "      <td>...</td>\n",
       "      <td>...</td>\n",
       "      <td>...</td>\n",
       "      <td>...</td>\n",
       "      <td>...</td>\n",
       "      <td>...</td>\n",
       "      <td>...</td>\n",
       "      <td>...</td>\n",
       "      <td>...</td>\n",
       "      <td>...</td>\n",
       "      <td>...</td>\n",
       "    </tr>\n",
       "    <tr>\n",
       "      <th>6972</th>\n",
       "      <td>1302581773</td>\n",
       "      <td>NaN</td>\n",
       "      <td>PRESENT</td>\n",
       "      <td>1896-06-19</td>\n",
       "      <td>NaN</td>\n",
       "      <td>171.0</td>\n",
       "      <td>171.0</td>\n",
       "      <td>1896.0</td>\n",
       "      <td>6.0</td>\n",
       "      <td>19.0</td>\n",
       "      <td>NaN</td>\n",
       "      <td>NaN</td>\n",
       "      <td>NaN</td>\n",
       "      <td>NaN</td>\n",
       "      <td>US</td>\n",
       "      <td>Washington</td>\n",
       "      <td>NaN</td>\n",
       "      <td>NaN</td>\n",
       "      <td>Cascade Mountains, Mount Rainier and adjacent ...</td>\n",
       "      <td>NaN</td>\n",
       "      <td>NaN</td>\n",
       "      <td>NaN</td>\n",
       "      <td>NaN</td>\n",
       "      <td>49.000491</td>\n",
       "      <td>-119.755842</td>\n",
       "      <td>NaN</td>\n",
       "      <td>NaN</td>\n",
       "      <td>NaN</td>\n",
       "      <td>NaN</td>\n",
       "      <td>NaN</td>\n",
       "      <td>False</td>\n",
       "      <td>False</td>\n",
       "      <td>True</td>\n",
       "    </tr>\n",
       "    <tr>\n",
       "      <th>7013</th>\n",
       "      <td>1302579961</td>\n",
       "      <td>NaN</td>\n",
       "      <td>PRESENT</td>\n",
       "      <td>1923-07-02</td>\n",
       "      <td>NaN</td>\n",
       "      <td>183.0</td>\n",
       "      <td>183.0</td>\n",
       "      <td>1923.0</td>\n",
       "      <td>7.0</td>\n",
       "      <td>2.0</td>\n",
       "      <td>NaN</td>\n",
       "      <td>NaN</td>\n",
       "      <td>NaN</td>\n",
       "      <td>NaN</td>\n",
       "      <td>US</td>\n",
       "      <td>Montana</td>\n",
       "      <td>NaN</td>\n",
       "      <td>NaN</td>\n",
       "      <td>Missoula National Forest: Montour Creek.</td>\n",
       "      <td>NaN</td>\n",
       "      <td>NaN</td>\n",
       "      <td>NaN</td>\n",
       "      <td>NaN</td>\n",
       "      <td>47.060103</td>\n",
       "      <td>-115.115845</td>\n",
       "      <td>NaN</td>\n",
       "      <td>NaN</td>\n",
       "      <td>NaN</td>\n",
       "      <td>NaN</td>\n",
       "      <td>NaN</td>\n",
       "      <td>False</td>\n",
       "      <td>False</td>\n",
       "      <td>True</td>\n",
       "    </tr>\n",
       "    <tr>\n",
       "      <th>7152</th>\n",
       "      <td>1302577454</td>\n",
       "      <td>NaN</td>\n",
       "      <td>PRESENT</td>\n",
       "      <td>1942-06-10</td>\n",
       "      <td>NaN</td>\n",
       "      <td>161.0</td>\n",
       "      <td>161.0</td>\n",
       "      <td>1942.0</td>\n",
       "      <td>6.0</td>\n",
       "      <td>10.0</td>\n",
       "      <td>NaN</td>\n",
       "      <td>NaN</td>\n",
       "      <td>NaN</td>\n",
       "      <td>NaN</td>\n",
       "      <td>US</td>\n",
       "      <td>Montana</td>\n",
       "      <td>NaN</td>\n",
       "      <td>NaN</td>\n",
       "      <td>Glacier National Park, south slope of Quartz R...</td>\n",
       "      <td>NaN</td>\n",
       "      <td>NaN</td>\n",
       "      <td>NaN</td>\n",
       "      <td>NaN</td>\n",
       "      <td>48.617486</td>\n",
       "      <td>-113.760885</td>\n",
       "      <td>NaN</td>\n",
       "      <td>NaN</td>\n",
       "      <td>NaN</td>\n",
       "      <td>NaN</td>\n",
       "      <td>NaN</td>\n",
       "      <td>False</td>\n",
       "      <td>False</td>\n",
       "      <td>True</td>\n",
       "    </tr>\n",
       "    <tr>\n",
       "      <th>7191</th>\n",
       "      <td>1302577415</td>\n",
       "      <td>NaN</td>\n",
       "      <td>PRESENT</td>\n",
       "      <td>1938-05-14</td>\n",
       "      <td>NaN</td>\n",
       "      <td>134.0</td>\n",
       "      <td>134.0</td>\n",
       "      <td>1938.0</td>\n",
       "      <td>5.0</td>\n",
       "      <td>14.0</td>\n",
       "      <td>NaN</td>\n",
       "      <td>NaN</td>\n",
       "      <td>NaN</td>\n",
       "      <td>NaN</td>\n",
       "      <td>US</td>\n",
       "      <td>Idaho</td>\n",
       "      <td>NaN</td>\n",
       "      <td>NaN</td>\n",
       "      <td>Near South shore of Priest Lake.</td>\n",
       "      <td>NaN</td>\n",
       "      <td>NaN</td>\n",
       "      <td>NaN</td>\n",
       "      <td>NaN</td>\n",
       "      <td>48.609535</td>\n",
       "      <td>-116.878512</td>\n",
       "      <td>NaN</td>\n",
       "      <td>NaN</td>\n",
       "      <td>NaN</td>\n",
       "      <td>NaN</td>\n",
       "      <td>NaN</td>\n",
       "      <td>False</td>\n",
       "      <td>False</td>\n",
       "      <td>True</td>\n",
       "    </tr>\n",
       "    <tr>\n",
       "      <th>7209</th>\n",
       "      <td>1302577394</td>\n",
       "      <td>NaN</td>\n",
       "      <td>PRESENT</td>\n",
       "      <td>1936-05-14</td>\n",
       "      <td>NaN</td>\n",
       "      <td>135.0</td>\n",
       "      <td>135.0</td>\n",
       "      <td>1936.0</td>\n",
       "      <td>5.0</td>\n",
       "      <td>14.0</td>\n",
       "      <td>NaN</td>\n",
       "      <td>NaN</td>\n",
       "      <td>NaN</td>\n",
       "      <td>NaN</td>\n",
       "      <td>US</td>\n",
       "      <td>Idaho</td>\n",
       "      <td>NaN</td>\n",
       "      <td>NaN</td>\n",
       "      <td>Near south shore of Priest Lake.</td>\n",
       "      <td>NaN</td>\n",
       "      <td>NaN</td>\n",
       "      <td>NaN</td>\n",
       "      <td>NaN</td>\n",
       "      <td>48.609535</td>\n",
       "      <td>-116.878512</td>\n",
       "      <td>NaN</td>\n",
       "      <td>NaN</td>\n",
       "      <td>NaN</td>\n",
       "      <td>NaN</td>\n",
       "      <td>NaN</td>\n",
       "      <td>False</td>\n",
       "      <td>False</td>\n",
       "      <td>True</td>\n",
       "    </tr>\n",
       "  </tbody>\n",
       "</table>\n",
       "<p>86 rows × 33 columns</p>\n",
       "</div>"
      ],
      "text/plain": [
       "          gbifID reproductiveCondition occurrenceStatus         eventDate  \\\n",
       "3      894988016                   NaN          PRESENT        1968-08-04   \n",
       "29    5174673580                   NaN          PRESENT        1976-07-16   \n",
       "67    5089841149                   NaN          PRESENT  1925-07-25T00:00   \n",
       "1833   441858030                   NaN          PRESENT        1941-07-08   \n",
       "1851   441857872                   NaN          PRESENT        1907-08-02   \n",
       "...          ...                   ...              ...               ...   \n",
       "6972  1302581773                   NaN          PRESENT        1896-06-19   \n",
       "7013  1302579961                   NaN          PRESENT        1923-07-02   \n",
       "7152  1302577454                   NaN          PRESENT        1942-06-10   \n",
       "7191  1302577415                   NaN          PRESENT        1938-05-14   \n",
       "7209  1302577394                   NaN          PRESENT        1936-05-14   \n",
       "\n",
       "       eventTime  startDayOfYear  endDayOfYear    year  month   day  \\\n",
       "3            NaN           217.0         217.0  1968.0    8.0   4.0   \n",
       "29    1976-07-16           198.0         198.0  1976.0    7.0  16.0   \n",
       "67           NaN           206.0         206.0  1925.0    7.0  25.0   \n",
       "1833         NaN           189.0         189.0  1941.0    7.0   8.0   \n",
       "1851         NaN           214.0         214.0  1907.0    8.0   2.0   \n",
       "...          ...             ...           ...     ...    ...   ...   \n",
       "6972         NaN           171.0         171.0  1896.0    6.0  19.0   \n",
       "7013         NaN           183.0         183.0  1923.0    7.0   2.0   \n",
       "7152         NaN           161.0         161.0  1942.0    6.0  10.0   \n",
       "7191         NaN           134.0         134.0  1938.0    5.0  14.0   \n",
       "7209         NaN           135.0         135.0  1936.0    5.0  14.0   \n",
       "\n",
       "     verbatimEventDate     habitat            higherGeography      continent  \\\n",
       "3                  NaN  Trail side                        NaN  NORTH_AMERICA   \n",
       "29        16 July 1976         NaN  United States, Washington            NaN   \n",
       "67                 NaN         NaN                        NaN            NaN   \n",
       "1833               NaN         NaN                        NaN  NORTH_AMERICA   \n",
       "1851               NaN         NaN                        NaN            NaN   \n",
       "...                ...         ...                        ...            ...   \n",
       "6972               NaN         NaN                        NaN            NaN   \n",
       "7013               NaN         NaN                        NaN            NaN   \n",
       "7152               NaN         NaN                        NaN            NaN   \n",
       "7191               NaN         NaN                        NaN            NaN   \n",
       "7209               NaN         NaN                        NaN            NaN   \n",
       "\n",
       "     countryCode     stateProvince county                  municipality  \\\n",
       "3             CA           Alberta    NaN  Waterton Lakes National Park   \n",
       "29            US        Washington    NaN                           NaN   \n",
       "67           NaN               NaN    NaN                           NaN   \n",
       "1833          CA  British Columbia    NaN                           NaN   \n",
       "1851          US        Washington    NaN                           NaN   \n",
       "...          ...               ...    ...                           ...   \n",
       "6972          US        Washington    NaN                           NaN   \n",
       "7013          US           Montana    NaN                           NaN   \n",
       "7152          US           Montana    NaN                           NaN   \n",
       "7191          US             Idaho    NaN                           NaN   \n",
       "7209          US             Idaho    NaN                           NaN   \n",
       "\n",
       "                                               locality  \\\n",
       "3             near campsite, north-west of Cameron Lake   \n",
       "29    Chelan Co., Mazama: Along rocky shore of Lake ...   \n",
       "67             Seeley Lake, west side slough, north end   \n",
       "1833                  West side of Mountain Revelstoke.   \n",
       "1851                   Olympic Mountains. Elwha Valley.   \n",
       "...                                                 ...   \n",
       "6972  Cascade Mountains, Mount Rainier and adjacent ...   \n",
       "7013           Missoula National Forest: Montour Creek.   \n",
       "7152  Glacier National Park, south slope of Quartz R...   \n",
       "7191                   Near South shore of Priest Lake.   \n",
       "7209                   Near south shore of Priest Lake.   \n",
       "\n",
       "                                       verbatimLocality verbatimElevation  \\\n",
       "3                                                   NaN               NaN   \n",
       "29    Chelan Co., Mazama: Along rocky shore of Lake ...               NaN   \n",
       "67                                                  NaN               NaN   \n",
       "1833                                                NaN               NaN   \n",
       "1851                                                NaN               NaN   \n",
       "...                                                 ...               ...   \n",
       "6972                                                NaN               NaN   \n",
       "7013                                                NaN               NaN   \n",
       "7152                                                NaN               NaN   \n",
       "7191                                                NaN               NaN   \n",
       "7209                                                NaN               NaN   \n",
       "\n",
       "      minimumDistanceAboveSurfaceInMeters  \\\n",
       "3                                     NaN   \n",
       "29                                    NaN   \n",
       "67                                    NaN   \n",
       "1833                                  NaN   \n",
       "1851                                  NaN   \n",
       "...                                   ...   \n",
       "6972                                  NaN   \n",
       "7013                                  NaN   \n",
       "7152                                  NaN   \n",
       "7191                                  NaN   \n",
       "7209                                  NaN   \n",
       "\n",
       "      maximumDistanceAboveSurfaceInMeters  decimalLatitude  decimalLongitude  \\\n",
       "3                                     NaN        44.553159        -78.761708   \n",
       "29                                    NaN        48.735298       -121.864987   \n",
       "67                                    NaN        47.155299       -113.448428   \n",
       "1833                                  NaN        50.969263       -118.109209   \n",
       "1851                                  NaN        47.703130       -123.522704   \n",
       "...                                   ...              ...               ...   \n",
       "6972                                  NaN        49.000491       -119.755842   \n",
       "7013                                  NaN        47.060103       -115.115845   \n",
       "7152                                  NaN        48.617486       -113.760885   \n",
       "7191                                  NaN        48.609535       -116.878512   \n",
       "7209                                  NaN        48.609535       -116.878512   \n",
       "\n",
       "      coordinateUncertaintyInMeters    georeferencedDate       dateIdentified  \\\n",
       "3                               NaN                  NaN                  NaN   \n",
       "29                              NaN  1800-01-01 00:00:00  1800-01-01T00:00:00   \n",
       "67                              NaN                  NaN                  NaN   \n",
       "1833                            NaN                  NaN  2006-04-06T00:00:00   \n",
       "1851                            NaN                  NaN                  NaN   \n",
       "...                             ...                  ...                  ...   \n",
       "6972                            NaN                  NaN                  NaN   \n",
       "7013                            NaN                  NaN                  NaN   \n",
       "7152                            NaN                  NaN                  NaN   \n",
       "7191                            NaN                  NaN                  NaN   \n",
       "7209                            NaN                  NaN                  NaN   \n",
       "\n",
       "      elevation  elevationAccuracy  hasCoordinate  hasGeospatialIssues  \\\n",
       "3           NaN                NaN          False                False   \n",
       "29          NaN                NaN          False                False   \n",
       "67          NaN                NaN          False                False   \n",
       "1833     1616.0                0.0          False                False   \n",
       "1851      915.0              305.0          False                False   \n",
       "...         ...                ...            ...                  ...   \n",
       "6972        NaN                NaN          False                False   \n",
       "7013        NaN                NaN          False                False   \n",
       "7152        NaN                NaN          False                False   \n",
       "7191        NaN                NaN          False                False   \n",
       "7209        NaN                NaN          False                False   \n",
       "\n",
       "      used_llm  \n",
       "3         True  \n",
       "29        True  \n",
       "67        True  \n",
       "1833      True  \n",
       "1851      True  \n",
       "...        ...  \n",
       "6972      True  \n",
       "7013      True  \n",
       "7152      True  \n",
       "7191      True  \n",
       "7209      True  \n",
       "\n",
       "[86 rows x 33 columns]"
      ]
     },
     "metadata": {},
     "output_type": "display_data"
    },
    {
     "name": "stdout",
     "output_type": "stream",
     "text": [
      "\n",
      "Examples of verbatimLocality data:\n"
     ]
    },
    {
     "data": {
      "text/html": [
       "<div>\n",
       "<style scoped>\n",
       "    .dataframe tbody tr th:only-of-type {\n",
       "        vertical-align: middle;\n",
       "    }\n",
       "\n",
       "    .dataframe tbody tr th {\n",
       "        vertical-align: top;\n",
       "    }\n",
       "\n",
       "    .dataframe thead th {\n",
       "        text-align: right;\n",
       "    }\n",
       "</style>\n",
       "<table border=\"1\" class=\"dataframe\">\n",
       "  <thead>\n",
       "    <tr style=\"text-align: right;\">\n",
       "      <th></th>\n",
       "      <th>locality</th>\n",
       "      <th>verbatimLocality</th>\n",
       "    </tr>\n",
       "  </thead>\n",
       "  <tbody>\n",
       "    <tr>\n",
       "      <th>10</th>\n",
       "      <td>Mount Edith Cavell</td>\n",
       "      <td>Jasper Nat. Park, Mt. Edith Cavell: up from ch...</td>\n",
       "    </tr>\n",
       "    <tr>\n",
       "      <th>11</th>\n",
       "      <td>Ewin pass</td>\n",
       "      <td>Flora of the Elk Valley, B.C. Ewin Pass - Mnt....</td>\n",
       "    </tr>\n",
       "    <tr>\n",
       "      <th>12</th>\n",
       "      <td>Nose Mountain</td>\n",
       "      <td>Nose Mt. 64-11-W6. Conifer forest (Ab. la. wit...</td>\n",
       "    </tr>\n",
       "    <tr>\n",
       "      <th>13</th>\n",
       "      <td>Kakwa Falls</td>\n",
       "      <td>Kakwa Wildland Provincial Park: Kakwa Falls Tr...</td>\n",
       "    </tr>\n",
       "    <tr>\n",
       "      <th>14</th>\n",
       "      <td>Valleyview</td>\n",
       "      <td>Alberta: 17.6 km east of Valleyview with acces...</td>\n",
       "    </tr>\n",
       "    <tr>\n",
       "      <th>15</th>\n",
       "      <td>Fox Creek</td>\n",
       "      <td>19.5 km on hwy 947 (south of hwy #43); 11.2 km...</td>\n",
       "    </tr>\n",
       "    <tr>\n",
       "      <th>16</th>\n",
       "      <td>Fox Creek</td>\n",
       "      <td>Southeast of Fox Creek on road 947.  29.9 km S...</td>\n",
       "    </tr>\n",
       "    <tr>\n",
       "      <th>17</th>\n",
       "      <td>Valleyview</td>\n",
       "      <td>Alberta: 17.6 km east of Valleyview with acces...</td>\n",
       "    </tr>\n",
       "    <tr>\n",
       "      <th>18</th>\n",
       "      <td>Hinton</td>\n",
       "      <td>Hinton Area:  1.0 mi. south of Hwy. 16 on Hwy....</td>\n",
       "    </tr>\n",
       "    <tr>\n",
       "      <th>24</th>\n",
       "      <td>NaN</td>\n",
       "      <td>Okanagan Mountain Provincial Park, BC, Canada</td>\n",
       "    </tr>\n",
       "  </tbody>\n",
       "</table>\n",
       "</div>"
      ],
      "text/plain": [
       "              locality                                   verbatimLocality\n",
       "10  Mount Edith Cavell  Jasper Nat. Park, Mt. Edith Cavell: up from ch...\n",
       "11           Ewin pass  Flora of the Elk Valley, B.C. Ewin Pass - Mnt....\n",
       "12       Nose Mountain  Nose Mt. 64-11-W6. Conifer forest (Ab. la. wit...\n",
       "13         Kakwa Falls  Kakwa Wildland Provincial Park: Kakwa Falls Tr...\n",
       "14          Valleyview  Alberta: 17.6 km east of Valleyview with acces...\n",
       "15           Fox Creek  19.5 km on hwy 947 (south of hwy #43); 11.2 km...\n",
       "16           Fox Creek  Southeast of Fox Creek on road 947.  29.9 km S...\n",
       "17          Valleyview  Alberta: 17.6 km east of Valleyview with acces...\n",
       "18              Hinton  Hinton Area:  1.0 mi. south of Hwy. 16 on Hwy....\n",
       "24                 NaN      Okanagan Mountain Provincial Park, BC, Canada"
      ]
     },
     "metadata": {},
     "output_type": "display_data"
    },
    {
     "name": "stdout",
     "output_type": "stream",
     "text": [
      "\n",
      "Cases where locality is empty but verbatimLocality has data:\n"
     ]
    },
    {
     "data": {
      "text/html": [
       "<div>\n",
       "<style scoped>\n",
       "    .dataframe tbody tr th:only-of-type {\n",
       "        vertical-align: middle;\n",
       "    }\n",
       "\n",
       "    .dataframe tbody tr th {\n",
       "        vertical-align: top;\n",
       "    }\n",
       "\n",
       "    .dataframe thead th {\n",
       "        text-align: right;\n",
       "    }\n",
       "</style>\n",
       "<table border=\"1\" class=\"dataframe\">\n",
       "  <thead>\n",
       "    <tr style=\"text-align: right;\">\n",
       "      <th></th>\n",
       "      <th>locality</th>\n",
       "      <th>verbatimLocality</th>\n",
       "    </tr>\n",
       "  </thead>\n",
       "  <tbody>\n",
       "    <tr>\n",
       "      <th>24</th>\n",
       "      <td>NaN</td>\n",
       "      <td>Okanagan Mountain Provincial Park, BC, Canada</td>\n",
       "    </tr>\n",
       "    <tr>\n",
       "      <th>25</th>\n",
       "      <td>NaN</td>\n",
       "      <td>Okanagan Mountain Provincial Park, BC, Canada</td>\n",
       "    </tr>\n",
       "    <tr>\n",
       "      <th>26</th>\n",
       "      <td>NaN</td>\n",
       "      <td>Anthill Trail, Hood River County, OR, USA</td>\n",
       "    </tr>\n",
       "    <tr>\n",
       "      <th>27</th>\n",
       "      <td>NaN</td>\n",
       "      <td>Fraser Valley, CA-BC, CA</td>\n",
       "    </tr>\n",
       "    <tr>\n",
       "      <th>28</th>\n",
       "      <td>NaN</td>\n",
       "      <td>Eastern Hillsides, Chilliwack, BC, CA</td>\n",
       "    </tr>\n",
       "    <tr>\n",
       "      <th>32</th>\n",
       "      <td>NaN</td>\n",
       "      <td>Olympic National Forest, Hoodsport, WA, US</td>\n",
       "    </tr>\n",
       "    <tr>\n",
       "      <th>33</th>\n",
       "      <td>NaN</td>\n",
       "      <td>Okanogan County, WA, USA</td>\n",
       "    </tr>\n",
       "    <tr>\n",
       "      <th>34</th>\n",
       "      <td>NaN</td>\n",
       "      <td>Allouez, MI 49805, USA</td>\n",
       "    </tr>\n",
       "    <tr>\n",
       "      <th>35</th>\n",
       "      <td>NaN</td>\n",
       "      <td>Clallam County, Olympic, Olympic National Park...</td>\n",
       "    </tr>\n",
       "    <tr>\n",
       "      <th>36</th>\n",
       "      <td>NaN</td>\n",
       "      <td>King, Washington, United States</td>\n",
       "    </tr>\n",
       "  </tbody>\n",
       "</table>\n",
       "</div>"
      ],
      "text/plain": [
       "   locality                                   verbatimLocality\n",
       "24      NaN      Okanagan Mountain Provincial Park, BC, Canada\n",
       "25      NaN      Okanagan Mountain Provincial Park, BC, Canada\n",
       "26      NaN          Anthill Trail, Hood River County, OR, USA\n",
       "27      NaN                           Fraser Valley, CA-BC, CA\n",
       "28      NaN              Eastern Hillsides, Chilliwack, BC, CA\n",
       "32      NaN         Olympic National Forest, Hoodsport, WA, US\n",
       "33      NaN                           Okanogan County, WA, USA\n",
       "34      NaN                             Allouez, MI 49805, USA\n",
       "35      NaN  Clallam County, Olympic, Olympic National Park...\n",
       "36      NaN                    King, Washington, United States"
      ]
     },
     "metadata": {},
     "output_type": "display_data"
    },
    {
     "name": "stdout",
     "output_type": "stream",
     "text": [
      "\n",
      "Final Statistics:\n",
      "Total rows processed: 6823\n",
      "Rows with missing coordinates: 858\n",
      "Successfully updated: 773\n",
      "Failed updates: 85\n",
      "Rows where LLM was used: 86\n",
      "Success rate: 90.09%\n"
     ]
    }
   ],
   "source": [
    "import sys\n",
    "sys.path.append('..')\n",
    "from src.geocoding import process_dataset\n",
    "import pandas as pd\n",
    "import os\n",
    "\n",
    "# Load your original dataset (assuming it's df_pruned or similar)\n",
    "# Replace 'df_pruned' with whatever your original dataframe variable name is\n",
    "df_original = df_pruned.copy()  # or whatever your original dataframe is called\n",
    "\n",
    "# Process ALL rows that don't have coordinates with the updated logic\n",
    "df_enhanced, stats = process_dataset(df_original)\n",
    "\n",
    "# Save the updated dataframe\n",
    "output_path = '../data/processed/updated_coordinates_with_verbatim.csv'\n",
    "os.makedirs(os.path.dirname(output_path), exist_ok=True)\n",
    "df_enhanced.to_csv(output_path, index=False)\n",
    "print(f\"\\nSaved updated coordinates to: {output_path}\")\n",
    "\n",
    "# Show remaining rows without coordinates\n",
    "print(\"\\nRemaining rows without coordinates:\")\n",
    "display(df_enhanced[df_enhanced['decimalLatitude'].isna() & df_enhanced['decimalLongitude'].isna()])\n",
    "\n",
    "# Show rows where LLM was used\n",
    "print(\"\\nRows where LLM was used for geocoding:\")\n",
    "display(df_enhanced[df_enhanced['used_llm']])\n",
    "\n",
    "# Show some examples of verbatimLocality usage\n",
    "print(\"\\nExamples of verbatimLocality data:\")\n",
    "verbatim_examples = df_enhanced[df_enhanced['verbatimLocality'].notna()][['locality', 'verbatimLocality']].head(10)\n",
    "display(verbatim_examples)\n",
    "\n",
    "# Show cases where locality is empty but verbatimLocality has data\n",
    "print(\"\\nCases where locality is empty but verbatimLocality has data:\")\n",
    "empty_locality_with_verbatim = df_enhanced[\n",
    "    (df_enhanced['locality'].isna() | \n",
    "     df_enhanced['locality'].str.lower().isin(['no specific locality recorded', 'no locality recorded', 'nan', 'none', ''])) &\n",
    "    df_enhanced['verbatimLocality'].notna() &\n",
    "    (~df_enhanced['verbatimLocality'].str.lower().isin(['no verbatim locality recorded', 'no locality recorded', 'nan', 'none', '']))\n",
    "][['locality', 'verbatimLocality']].head(10)\n",
    "display(empty_locality_with_verbatim)\n",
    "\n",
    "# Show statistics\n",
    "print(f\"\\nFinal Statistics:\")\n",
    "print(f\"Total rows processed: {stats['total_rows']}\")\n",
    "print(f\"Rows with missing coordinates: {stats['missing_coords']}\")\n",
    "print(f\"Successfully updated: {stats['successfully_updated']}\")\n",
    "print(f\"Failed updates: {stats['failed_updates']}\")\n",
    "print(f\"Rows where LLM was used: {stats['llm_used_count']}\")\n",
    "success_rate = (stats['successfully_updated'] / stats['missing_coords'] * 100)\n",
    "print(f\"Success rate: {success_rate:.2f}%\")"
   ]
  },
  {
   "cell_type": "markdown",
   "metadata": {},
   "source": [
    "## Manual Geocoding "
   ]
  },
  {
   "cell_type": "markdown",
   "metadata": {},
   "source": [
    "There are not many coordinates left and considering we tried many different options for the rest of the dataset, we can either drop it or manually geocode the remaining values using the locality / municipality."
   ]
  },
  {
   "cell_type": "code",
   "execution_count": 6,
   "metadata": {},
   "outputs": [
    {
     "data": {
      "text/html": [
       "<div>\n",
       "<style scoped>\n",
       "    .dataframe tbody tr th:only-of-type {\n",
       "        vertical-align: middle;\n",
       "    }\n",
       "\n",
       "    .dataframe tbody tr th {\n",
       "        vertical-align: top;\n",
       "    }\n",
       "\n",
       "    .dataframe thead th {\n",
       "        text-align: right;\n",
       "    }\n",
       "</style>\n",
       "<table border=\"1\" class=\"dataframe\">\n",
       "  <thead>\n",
       "    <tr style=\"text-align: right;\">\n",
       "      <th></th>\n",
       "      <th>gbifID</th>\n",
       "      <th>reproductiveCondition</th>\n",
       "      <th>occurrenceStatus</th>\n",
       "      <th>eventDate</th>\n",
       "      <th>eventTime</th>\n",
       "      <th>startDayOfYear</th>\n",
       "      <th>endDayOfYear</th>\n",
       "      <th>year</th>\n",
       "      <th>month</th>\n",
       "      <th>day</th>\n",
       "      <th>verbatimEventDate</th>\n",
       "      <th>habitat</th>\n",
       "      <th>higherGeography</th>\n",
       "      <th>continent</th>\n",
       "      <th>countryCode</th>\n",
       "      <th>stateProvince</th>\n",
       "      <th>county</th>\n",
       "      <th>municipality</th>\n",
       "      <th>locality</th>\n",
       "      <th>verbatimLocality</th>\n",
       "      <th>verbatimElevation</th>\n",
       "      <th>minimumDistanceAboveSurfaceInMeters</th>\n",
       "      <th>maximumDistanceAboveSurfaceInMeters</th>\n",
       "      <th>decimalLatitude</th>\n",
       "      <th>decimalLongitude</th>\n",
       "      <th>coordinateUncertaintyInMeters</th>\n",
       "      <th>georeferencedDate</th>\n",
       "      <th>dateIdentified</th>\n",
       "      <th>elevation</th>\n",
       "      <th>elevationAccuracy</th>\n",
       "      <th>hasCoordinate</th>\n",
       "      <th>hasGeospatialIssues</th>\n",
       "      <th>used_llm</th>\n",
       "    </tr>\n",
       "  </thead>\n",
       "  <tbody>\n",
       "    <tr>\n",
       "      <th>24</th>\n",
       "      <td>5174618020</td>\n",
       "      <td>NaN</td>\n",
       "      <td>PRESENT</td>\n",
       "      <td>1800-01-01/2008-04-25</td>\n",
       "      <td>1800-01-01/2008-04-25</td>\n",
       "      <td>1.0</td>\n",
       "      <td>116.0</td>\n",
       "      <td>NaN</td>\n",
       "      <td>NaN</td>\n",
       "      <td>NaN</td>\n",
       "      <td>not recorded</td>\n",
       "      <td>NaN</td>\n",
       "      <td>no higher geography recorded</td>\n",
       "      <td>NaN</td>\n",
       "      <td>NaN</td>\n",
       "      <td>NaN</td>\n",
       "      <td>NaN</td>\n",
       "      <td>NaN</td>\n",
       "      <td>No specific locality recorded.</td>\n",
       "      <td>No verbatim locality recorded</td>\n",
       "      <td>NaN</td>\n",
       "      <td>NaN</td>\n",
       "      <td>NaN</td>\n",
       "      <td>NaN</td>\n",
       "      <td>NaN</td>\n",
       "      <td>NaN</td>\n",
       "      <td>2012-07-08 00:00:00</td>\n",
       "      <td>2008-04-25T00:00:00</td>\n",
       "      <td>NaN</td>\n",
       "      <td>NaN</td>\n",
       "      <td>False</td>\n",
       "      <td>False</td>\n",
       "      <td>False</td>\n",
       "    </tr>\n",
       "    <tr>\n",
       "      <th>1829</th>\n",
       "      <td>441858009</td>\n",
       "      <td>NaN</td>\n",
       "      <td>PRESENT</td>\n",
       "      <td>1967-07-26</td>\n",
       "      <td>NaN</td>\n",
       "      <td>207.0</td>\n",
       "      <td>207.0</td>\n",
       "      <td>1967.0</td>\n",
       "      <td>7.0</td>\n",
       "      <td>26.0</td>\n",
       "      <td>NaN</td>\n",
       "      <td>NaN</td>\n",
       "      <td>NaN</td>\n",
       "      <td>NORTH_AMERICA</td>\n",
       "      <td>CA</td>\n",
       "      <td>British Columbia</td>\n",
       "      <td>NaN</td>\n",
       "      <td>NaN</td>\n",
       "      <td>Aeta Lake.</td>\n",
       "      <td>NaN</td>\n",
       "      <td>NaN</td>\n",
       "      <td>NaN</td>\n",
       "      <td>NaN</td>\n",
       "      <td>NaN</td>\n",
       "      <td>NaN</td>\n",
       "      <td>NaN</td>\n",
       "      <td>NaN</td>\n",
       "      <td>NaN</td>\n",
       "      <td>NaN</td>\n",
       "      <td>NaN</td>\n",
       "      <td>False</td>\n",
       "      <td>False</td>\n",
       "      <td>False</td>\n",
       "    </tr>\n",
       "    <tr>\n",
       "      <th>1842</th>\n",
       "      <td>441857874</td>\n",
       "      <td>NaN</td>\n",
       "      <td>PRESENT</td>\n",
       "      <td>1925-08</td>\n",
       "      <td>NaN</td>\n",
       "      <td>NaN</td>\n",
       "      <td>NaN</td>\n",
       "      <td>1925.0</td>\n",
       "      <td>8.0</td>\n",
       "      <td>NaN</td>\n",
       "      <td>NaN</td>\n",
       "      <td>NaN</td>\n",
       "      <td>NaN</td>\n",
       "      <td>NaN</td>\n",
       "      <td>US</td>\n",
       "      <td>Washington</td>\n",
       "      <td>NaN</td>\n",
       "      <td>NaN</td>\n",
       "      <td>Inter Fork of White River, Mount Rainier.</td>\n",
       "      <td>NaN</td>\n",
       "      <td>NaN</td>\n",
       "      <td>NaN</td>\n",
       "      <td>NaN</td>\n",
       "      <td>NaN</td>\n",
       "      <td>NaN</td>\n",
       "      <td>NaN</td>\n",
       "      <td>NaN</td>\n",
       "      <td>1944-01-01T00:00:00</td>\n",
       "      <td>1524.0</td>\n",
       "      <td>0.0</td>\n",
       "      <td>False</td>\n",
       "      <td>False</td>\n",
       "      <td>False</td>\n",
       "    </tr>\n",
       "  </tbody>\n",
       "</table>\n",
       "</div>"
      ],
      "text/plain": [
       "          gbifID reproductiveCondition occurrenceStatus  \\\n",
       "24    5174618020                   NaN          PRESENT   \n",
       "1829   441858009                   NaN          PRESENT   \n",
       "1842   441857874                   NaN          PRESENT   \n",
       "\n",
       "                  eventDate              eventTime  startDayOfYear  \\\n",
       "24    1800-01-01/2008-04-25  1800-01-01/2008-04-25             1.0   \n",
       "1829             1967-07-26                    NaN           207.0   \n",
       "1842                1925-08                    NaN             NaN   \n",
       "\n",
       "      endDayOfYear    year  month   day verbatimEventDate habitat  \\\n",
       "24           116.0     NaN    NaN   NaN      not recorded     NaN   \n",
       "1829         207.0  1967.0    7.0  26.0               NaN     NaN   \n",
       "1842           NaN  1925.0    8.0   NaN               NaN     NaN   \n",
       "\n",
       "                   higherGeography      continent countryCode  \\\n",
       "24    no higher geography recorded            NaN         NaN   \n",
       "1829                           NaN  NORTH_AMERICA          CA   \n",
       "1842                           NaN            NaN          US   \n",
       "\n",
       "         stateProvince county municipality  \\\n",
       "24                 NaN    NaN          NaN   \n",
       "1829  British Columbia    NaN          NaN   \n",
       "1842        Washington    NaN          NaN   \n",
       "\n",
       "                                       locality  \\\n",
       "24               No specific locality recorded.   \n",
       "1829                                 Aeta Lake.   \n",
       "1842  Inter Fork of White River, Mount Rainier.   \n",
       "\n",
       "                   verbatimLocality verbatimElevation  \\\n",
       "24    No verbatim locality recorded               NaN   \n",
       "1829                            NaN               NaN   \n",
       "1842                            NaN               NaN   \n",
       "\n",
       "      minimumDistanceAboveSurfaceInMeters  \\\n",
       "24                                    NaN   \n",
       "1829                                  NaN   \n",
       "1842                                  NaN   \n",
       "\n",
       "      maximumDistanceAboveSurfaceInMeters  decimalLatitude  decimalLongitude  \\\n",
       "24                                    NaN              NaN               NaN   \n",
       "1829                                  NaN              NaN               NaN   \n",
       "1842                                  NaN              NaN               NaN   \n",
       "\n",
       "      coordinateUncertaintyInMeters    georeferencedDate       dateIdentified  \\\n",
       "24                              NaN  2012-07-08 00:00:00  2008-04-25T00:00:00   \n",
       "1829                            NaN                  NaN                  NaN   \n",
       "1842                            NaN                  NaN  1944-01-01T00:00:00   \n",
       "\n",
       "      elevation  elevationAccuracy  hasCoordinate  hasGeospatialIssues  \\\n",
       "24          NaN                NaN          False                False   \n",
       "1829        NaN                NaN          False                False   \n",
       "1842     1524.0                0.0          False                False   \n",
       "\n",
       "      used_llm  \n",
       "24       False  \n",
       "1829     False  \n",
       "1842     False  "
      ]
     },
     "execution_count": 6,
     "metadata": {},
     "output_type": "execute_result"
    }
   ],
   "source": [
    "import pandas as pd\n",
    "pd.set_option('display.max_columns', None)\n",
    "verb = pd.read_csv('../data/processed/updated_coordinates_with_verbatim.csv')\n",
    "verb[verb['decimalLatitude'].isna() & verb['decimalLongitude'].isna()].head(3)"
   ]
  },
  {
   "cell_type": "code",
   "execution_count": 7,
   "metadata": {},
   "outputs": [
    {
     "data": {
      "text/plain": [
       "locality\n",
       "Copenhagen University's Arboretum                                                                       5\n",
       "Stevens Pass Region, Cascade Mountains.                                                                 2\n",
       "[no locality given on the label].                                                                       2\n",
       "Owyhee Mountains                                                                                        2\n",
       "Near Lake Bootahnie, Marble Mountains.                                                                  1\n",
       "Inter Fork of White River, Mount Rainier.                                                               1\n",
       "Aeta Lake.                                                                                              1\n",
       "No specific locality recorded.                                                                          1\n",
       "Sumup Cabin, southwest of Mount Baldy, 9 miles northwest of Ross Spur.                                  1\n",
       "4 mi. E of Stevens Pass on U.S. 2 by turnoff in Spruce-Hemlock forest & alpine.                         1\n",
       "\"11 mi. S of Lost Trail Pass on U.S. 93 N of North Fork at Twin Crk. Campgrd., Salmon Nat 1 Forest.\"    1\n",
       "\"Sphinx glacier foreland, Garbildi park Locality Glacial moraines\"                                      1\n",
       "Blewett Pass Region. Cascade Mountains.                                                                 1\n",
       "Meagher Co: in lodgepole forest. Harley Park, ca. 6 mi. west of Neihart, Little Belt Mts.               1\n",
       "Deep woods, Selkirk Mts.                                                                                1\n",
       "Cascade Mtns                                                                                            1\n",
       "Chelan County, Okanogan National Forest. Rainy Lake Outlet                                              1\n",
       "near West Thumb. Yellowstone Natl Park.                                                                 1\n",
       "East side of Warm River Canyon, near Henry's Fork of Snake River.                                       1\n",
       "Steven's Pacific Rairoad Survey                                                                         1\n",
       "[no additional data]                                                                                    1\n",
       "Oregon Boundry Commission                                                                               1\n",
       "+9 miles southeast of McKenzie Bridge, Willamette National Forest.                                      1\n",
       "Near summit of o''brien-happy camp road, at junction of bolan lake road, del norte County.              1\n",
       "Name: count, dtype: int64"
      ]
     },
     "execution_count": 7,
     "metadata": {},
     "output_type": "execute_result"
    }
   ],
   "source": [
    "verb[verb['decimalLatitude'].isna() & verb['decimalLongitude'].isna()]['locality'].value_counts()"
   ]
  },
  {
   "cell_type": "code",
   "execution_count": 8,
   "metadata": {},
   "outputs": [
    {
     "data": {
      "text/plain": [
       "(58, 33)"
      ]
     },
     "metadata": {},
     "output_type": "display_data"
    },
    {
     "data": {
      "text/plain": [
       "locality\n",
       "[no locality given on the label].    2\n",
       "No specific locality recorded.       1\n",
       "[no additional data]                 1\n",
       "Name: count, dtype: int64"
      ]
     },
     "metadata": {},
     "output_type": "display_data"
    },
    {
     "data": {
      "text/plain": [
       "(5, 33)"
      ]
     },
     "metadata": {},
     "output_type": "display_data"
    },
    {
     "data": {
      "text/plain": [
       "municipality\n",
       "[no locality given on the label].    1\n",
       "Name: count, dtype: int64"
      ]
     },
     "metadata": {},
     "output_type": "display_data"
    },
    {
     "data": {
      "text/html": [
       "<div>\n",
       "<style scoped>\n",
       "    .dataframe tbody tr th:only-of-type {\n",
       "        vertical-align: middle;\n",
       "    }\n",
       "\n",
       "    .dataframe tbody tr th {\n",
       "        vertical-align: top;\n",
       "    }\n",
       "\n",
       "    .dataframe thead th {\n",
       "        text-align: right;\n",
       "    }\n",
       "</style>\n",
       "<table border=\"1\" class=\"dataframe\">\n",
       "  <thead>\n",
       "    <tr style=\"text-align: right;\">\n",
       "      <th></th>\n",
       "      <th>gbifID</th>\n",
       "      <th>reproductiveCondition</th>\n",
       "      <th>occurrenceStatus</th>\n",
       "      <th>eventDate</th>\n",
       "      <th>eventTime</th>\n",
       "      <th>startDayOfYear</th>\n",
       "      <th>endDayOfYear</th>\n",
       "      <th>year</th>\n",
       "      <th>month</th>\n",
       "      <th>day</th>\n",
       "      <th>verbatimEventDate</th>\n",
       "      <th>habitat</th>\n",
       "      <th>higherGeography</th>\n",
       "      <th>continent</th>\n",
       "      <th>countryCode</th>\n",
       "      <th>stateProvince</th>\n",
       "      <th>county</th>\n",
       "      <th>municipality</th>\n",
       "      <th>locality</th>\n",
       "      <th>verbatimLocality</th>\n",
       "      <th>verbatimElevation</th>\n",
       "      <th>minimumDistanceAboveSurfaceInMeters</th>\n",
       "      <th>maximumDistanceAboveSurfaceInMeters</th>\n",
       "      <th>decimalLatitude</th>\n",
       "      <th>decimalLongitude</th>\n",
       "      <th>coordinateUncertaintyInMeters</th>\n",
       "      <th>georeferencedDate</th>\n",
       "      <th>dateIdentified</th>\n",
       "      <th>elevation</th>\n",
       "      <th>elevationAccuracy</th>\n",
       "      <th>hasCoordinate</th>\n",
       "      <th>hasGeospatialIssues</th>\n",
       "      <th>used_llm</th>\n",
       "    </tr>\n",
       "  </thead>\n",
       "  <tbody>\n",
       "    <tr>\n",
       "      <th>24</th>\n",
       "      <td>5174618020</td>\n",
       "      <td>NaN</td>\n",
       "      <td>PRESENT</td>\n",
       "      <td>1800-01-01/2008-04-25</td>\n",
       "      <td>1800-01-01/2008-04-25</td>\n",
       "      <td>1.0</td>\n",
       "      <td>116.0</td>\n",
       "      <td>NaN</td>\n",
       "      <td>NaN</td>\n",
       "      <td>NaN</td>\n",
       "      <td>not recorded</td>\n",
       "      <td>NaN</td>\n",
       "      <td>no higher geography recorded</td>\n",
       "      <td>NaN</td>\n",
       "      <td>NaN</td>\n",
       "      <td>NaN</td>\n",
       "      <td>NaN</td>\n",
       "      <td>NaN</td>\n",
       "      <td>No specific locality recorded.</td>\n",
       "      <td>No verbatim locality recorded</td>\n",
       "      <td>NaN</td>\n",
       "      <td>NaN</td>\n",
       "      <td>NaN</td>\n",
       "      <td>NaN</td>\n",
       "      <td>NaN</td>\n",
       "      <td>NaN</td>\n",
       "      <td>2012-07-08 00:00:00</td>\n",
       "      <td>2008-04-25T00:00:00</td>\n",
       "      <td>NaN</td>\n",
       "      <td>NaN</td>\n",
       "      <td>False</td>\n",
       "      <td>False</td>\n",
       "      <td>False</td>\n",
       "    </tr>\n",
       "    <tr>\n",
       "      <th>1958</th>\n",
       "      <td>441857473</td>\n",
       "      <td>NaN</td>\n",
       "      <td>PRESENT</td>\n",
       "      <td>1892-06-20</td>\n",
       "      <td>NaN</td>\n",
       "      <td>172.0</td>\n",
       "      <td>172.0</td>\n",
       "      <td>1892.0</td>\n",
       "      <td>6.0</td>\n",
       "      <td>20.0</td>\n",
       "      <td>NaN</td>\n",
       "      <td>NaN</td>\n",
       "      <td>NaN</td>\n",
       "      <td>NaN</td>\n",
       "      <td>US</td>\n",
       "      <td>Washington</td>\n",
       "      <td>NaN</td>\n",
       "      <td>NaN</td>\n",
       "      <td>[no locality given on the label].</td>\n",
       "      <td>NaN</td>\n",
       "      <td>NaN</td>\n",
       "      <td>NaN</td>\n",
       "      <td>NaN</td>\n",
       "      <td>NaN</td>\n",
       "      <td>NaN</td>\n",
       "      <td>NaN</td>\n",
       "      <td>NaN</td>\n",
       "      <td>1944-01-01T00:00:00</td>\n",
       "      <td>NaN</td>\n",
       "      <td>NaN</td>\n",
       "      <td>False</td>\n",
       "      <td>False</td>\n",
       "      <td>False</td>\n",
       "    </tr>\n",
       "    <tr>\n",
       "      <th>5000</th>\n",
       "      <td>1304428407</td>\n",
       "      <td>NaN</td>\n",
       "      <td>PRESENT</td>\n",
       "      <td>NaN</td>\n",
       "      <td>NaN</td>\n",
       "      <td>NaN</td>\n",
       "      <td>NaN</td>\n",
       "      <td>NaN</td>\n",
       "      <td>NaN</td>\n",
       "      <td>NaN</td>\n",
       "      <td>NaN</td>\n",
       "      <td>NaN</td>\n",
       "      <td>NaN</td>\n",
       "      <td>NaN</td>\n",
       "      <td>US</td>\n",
       "      <td>California</td>\n",
       "      <td>NaN</td>\n",
       "      <td>NaN</td>\n",
       "      <td>[no additional data]</td>\n",
       "      <td>NaN</td>\n",
       "      <td>NaN</td>\n",
       "      <td>NaN</td>\n",
       "      <td>NaN</td>\n",
       "      <td>NaN</td>\n",
       "      <td>NaN</td>\n",
       "      <td>NaN</td>\n",
       "      <td>NaN</td>\n",
       "      <td>NaN</td>\n",
       "      <td>NaN</td>\n",
       "      <td>NaN</td>\n",
       "      <td>False</td>\n",
       "      <td>False</td>\n",
       "      <td>False</td>\n",
       "    </tr>\n",
       "    <tr>\n",
       "      <th>5291</th>\n",
       "      <td>1302779510</td>\n",
       "      <td>NaN</td>\n",
       "      <td>PRESENT</td>\n",
       "      <td>1892-06-20</td>\n",
       "      <td>NaN</td>\n",
       "      <td>172.0</td>\n",
       "      <td>172.0</td>\n",
       "      <td>1892.0</td>\n",
       "      <td>6.0</td>\n",
       "      <td>20.0</td>\n",
       "      <td>NaN</td>\n",
       "      <td>NaN</td>\n",
       "      <td>NaN</td>\n",
       "      <td>NaN</td>\n",
       "      <td>US</td>\n",
       "      <td>Washington</td>\n",
       "      <td>NaN</td>\n",
       "      <td>[no locality given on the label].</td>\n",
       "      <td>NaN</td>\n",
       "      <td>NaN</td>\n",
       "      <td>NaN</td>\n",
       "      <td>NaN</td>\n",
       "      <td>NaN</td>\n",
       "      <td>NaN</td>\n",
       "      <td>NaN</td>\n",
       "      <td>NaN</td>\n",
       "      <td>NaN</td>\n",
       "      <td>NaN</td>\n",
       "      <td>NaN</td>\n",
       "      <td>NaN</td>\n",
       "      <td>False</td>\n",
       "      <td>False</td>\n",
       "      <td>False</td>\n",
       "    </tr>\n",
       "    <tr>\n",
       "      <th>6258</th>\n",
       "      <td>1302583044</td>\n",
       "      <td>NaN</td>\n",
       "      <td>PRESENT</td>\n",
       "      <td>1892-06-20</td>\n",
       "      <td>NaN</td>\n",
       "      <td>172.0</td>\n",
       "      <td>172.0</td>\n",
       "      <td>1892.0</td>\n",
       "      <td>6.0</td>\n",
       "      <td>20.0</td>\n",
       "      <td>NaN</td>\n",
       "      <td>NaN</td>\n",
       "      <td>NaN</td>\n",
       "      <td>NaN</td>\n",
       "      <td>US</td>\n",
       "      <td>Washington</td>\n",
       "      <td>NaN</td>\n",
       "      <td>NaN</td>\n",
       "      <td>[no locality given on the label].</td>\n",
       "      <td>NaN</td>\n",
       "      <td>NaN</td>\n",
       "      <td>NaN</td>\n",
       "      <td>NaN</td>\n",
       "      <td>NaN</td>\n",
       "      <td>NaN</td>\n",
       "      <td>NaN</td>\n",
       "      <td>NaN</td>\n",
       "      <td>NaN</td>\n",
       "      <td>NaN</td>\n",
       "      <td>NaN</td>\n",
       "      <td>False</td>\n",
       "      <td>False</td>\n",
       "      <td>False</td>\n",
       "    </tr>\n",
       "  </tbody>\n",
       "</table>\n",
       "</div>"
      ],
      "text/plain": [
       "          gbifID reproductiveCondition occurrenceStatus  \\\n",
       "24    5174618020                   NaN          PRESENT   \n",
       "1958   441857473                   NaN          PRESENT   \n",
       "5000  1304428407                   NaN          PRESENT   \n",
       "5291  1302779510                   NaN          PRESENT   \n",
       "6258  1302583044                   NaN          PRESENT   \n",
       "\n",
       "                  eventDate              eventTime  startDayOfYear  \\\n",
       "24    1800-01-01/2008-04-25  1800-01-01/2008-04-25             1.0   \n",
       "1958             1892-06-20                    NaN           172.0   \n",
       "5000                    NaN                    NaN             NaN   \n",
       "5291             1892-06-20                    NaN           172.0   \n",
       "6258             1892-06-20                    NaN           172.0   \n",
       "\n",
       "      endDayOfYear    year  month   day verbatimEventDate habitat  \\\n",
       "24           116.0     NaN    NaN   NaN      not recorded     NaN   \n",
       "1958         172.0  1892.0    6.0  20.0               NaN     NaN   \n",
       "5000           NaN     NaN    NaN   NaN               NaN     NaN   \n",
       "5291         172.0  1892.0    6.0  20.0               NaN     NaN   \n",
       "6258         172.0  1892.0    6.0  20.0               NaN     NaN   \n",
       "\n",
       "                   higherGeography continent countryCode stateProvince county  \\\n",
       "24    no higher geography recorded       NaN         NaN           NaN    NaN   \n",
       "1958                           NaN       NaN          US    Washington    NaN   \n",
       "5000                           NaN       NaN          US    California    NaN   \n",
       "5291                           NaN       NaN          US    Washington    NaN   \n",
       "6258                           NaN       NaN          US    Washington    NaN   \n",
       "\n",
       "                           municipality                           locality  \\\n",
       "24                                  NaN     No specific locality recorded.   \n",
       "1958                                NaN  [no locality given on the label].   \n",
       "5000                                NaN               [no additional data]   \n",
       "5291  [no locality given on the label].                                NaN   \n",
       "6258                                NaN  [no locality given on the label].   \n",
       "\n",
       "                   verbatimLocality verbatimElevation  \\\n",
       "24    No verbatim locality recorded               NaN   \n",
       "1958                            NaN               NaN   \n",
       "5000                            NaN               NaN   \n",
       "5291                            NaN               NaN   \n",
       "6258                            NaN               NaN   \n",
       "\n",
       "      minimumDistanceAboveSurfaceInMeters  \\\n",
       "24                                    NaN   \n",
       "1958                                  NaN   \n",
       "5000                                  NaN   \n",
       "5291                                  NaN   \n",
       "6258                                  NaN   \n",
       "\n",
       "      maximumDistanceAboveSurfaceInMeters  decimalLatitude  decimalLongitude  \\\n",
       "24                                    NaN              NaN               NaN   \n",
       "1958                                  NaN              NaN               NaN   \n",
       "5000                                  NaN              NaN               NaN   \n",
       "5291                                  NaN              NaN               NaN   \n",
       "6258                                  NaN              NaN               NaN   \n",
       "\n",
       "      coordinateUncertaintyInMeters    georeferencedDate       dateIdentified  \\\n",
       "24                              NaN  2012-07-08 00:00:00  2008-04-25T00:00:00   \n",
       "1958                            NaN                  NaN  1944-01-01T00:00:00   \n",
       "5000                            NaN                  NaN                  NaN   \n",
       "5291                            NaN                  NaN                  NaN   \n",
       "6258                            NaN                  NaN                  NaN   \n",
       "\n",
       "      elevation  elevationAccuracy  hasCoordinate  hasGeospatialIssues  \\\n",
       "24          NaN                NaN          False                False   \n",
       "1958        NaN                NaN          False                False   \n",
       "5000        NaN                NaN          False                False   \n",
       "5291        NaN                NaN          False                False   \n",
       "6258        NaN                NaN          False                False   \n",
       "\n",
       "      used_llm  \n",
       "24       False  \n",
       "1958     False  \n",
       "5000     False  \n",
       "5291     False  \n",
       "6258     False  "
      ]
     },
     "execution_count": 8,
     "metadata": {},
     "output_type": "execute_result"
    }
   ],
   "source": [
    "manual_geocodes = {\n",
    "    \"Copenhagen University's Arboretum\": (55.7847, 12.5197),  # Charlottenlund, Denmark\n",
    "    \"Stevens Pass Region, Cascade Mountains.\": (47.7458, -121.0896),\n",
    "    \"Owyhee Mountains\": (42.6197, -116.7894),\n",
    "    \"Near South shore of Priest Lake.\": (48.5272, -116.9150),\n",
    "    \"Near Lake Bootahnie, Marble Mountains.\": (41.6528, -123.7283),\n",
    "    \"Aeta Lake.\": (49.7683, -125.0020),\n",
    "    \"Sumup Cabin, southwest of Mount Baldy, 9 miles northwest of Ross Spur.\": (48.3039, -117.2667),\n",
    "    \"String Lake, Teton Park.\": (43.8039, -110.7456),\n",
    "    \"Grimes Creek, Boise National Forest.\": (43.6750, -115.8947),\n",
    "    '\"Sphinx glacier foreland, Garbildi park Locality Glacial moraines\"': (49.9615, -123.0135),\n",
    "    '\"11 mi. S of Lost Trail Pass on U.S. 93 N of North Fork at Twin Crk. Campgrd., Salmon Nat 1 Forest.\"': (44.9461, -113.9361),\n",
    "    \"Cascade Mtns\": (47.5000, -121.8000),\n",
    "    \"Near summit of the Metolias Trail, Cascade Mts.\": (44.4608, -121.8053),\n",
    "    \"Blewett Pass Region. Cascade Mountains.\": (47.3333, -120.6333),\n",
    "    \"Deep woods, Selkirk Mts.\": (49.0000, -117.0000),\n",
    "    \"Chelan County, Okanogan National Forest. Rainy Lake Outlet\": (48.5167, -120.7500),\n",
    "    \"near West Thumb. Yellowstone Natl Park.\": (44.4170, -110.5730),\n",
    "    \"Meagher Co: in lodgepole forest. Harley Park, ca. 6 mi. west of Neihart, Little Belt Mts.\": (46.9581, -110.8262),\n",
    "    \"Steven's Pacific Rairoad Survey\": (47.0000, -120.0000),  # Approx. WA Cascades\n",
    "    \"East side of Warm River Canyon, near Henry's Fork of Snake River.\": (44.0713, -111.2935),\n",
    "    \"Oregon Boundry Commission\": (44.0000, -120.5000),  # Approx. central Oregon\n",
    "    \"Headwaters of Jocko River\": (47.2000, -114.0000),\n",
    "    \"+9 miles southeast of McKenzie Bridge, Willamette National Forest.\": (44.0935, -122.0135),\n",
    "    \"Rogue river valley.\": (42.4331, -123.3286),\n",
    "    \"Inter Fork of White River, Mount Rainier.\": (46.8535, -121.7017),\n",
    "    \"4 mi. E of Stevens Pass on U.S. 2 by turnoff in Spruce-Hemlock forest & alpine.\": (47.7440, -120.9840),\n",
    "    \"Near summit of o''brien-happy camp road, at junction of bolan lake road, del norte County.\": (41.8989, -123.6705)\n",
    "}\n",
    "\n",
    "manual_geocodes_municipality = {\n",
    "    \"Green Mountain, near Haylmore.\": (50.6983, -122.4821),\n",
    "    \"Rogue river valley.\": (42.4331, -123.3286),\n",
    "    \"Mt. hood, wapinilia pass.\": (45.1600, -121.7810),\n",
    "    \"Above the government camp, Mt. hood.\": (45.3106, -121.7526),\n",
    "    \"Blue Mts.\": (45.7167, -118.1000),\n",
    "    \"Cameron lake, Waterton Lakes National Park.\": (49.0239, -113.8982),\n",
    "    \"Slide overlooking Meager Creek, ca. 1 mile above its junction with Lillooet River.\": (50.4675, -123.4753),\n",
    "    \"Mile 355, Alaska highway.\": (60.0954, -128.7983),\n",
    "    \"Mile 195, Alaska highway.\": (59.3769, -126.9608),\n",
    "    \"10 miles north of Summit Lake on Hart Highway.\": (55.3033, -122.6625),\n",
    "    \"Arrow park, fisher creek.\": (50.3210, -117.8820),\n",
    "    \"One mile N of parsnip river along the hart highway.\": (55.6833, -122.5833),\n",
    "    \"Takla Lake about 9 miles northwest of Takla Landing.\": (55.7660, -126.2500),\n",
    "    \"Olympic Mountains. Elwha Valley.\": (47.9714, -123.6061),\n",
    "    \"Along trail to forest fire lookout station, mcbride.\": (53.3072, -120.1750),\n",
    "    \"Arrow park, stevens creek.\": (50.3070, -117.8700),\n",
    "    \"Arrow park, makison flats.\": (50.3000, -117.8000),\n",
    "    \"Dam Mt.\": (50.0719, -123.0833),\n",
    "    \"Stevens Pass Region, Cascade Mountains.\": (47.7458, -121.0896),\n",
    "    \"Owyhee Mountains\": (42.6197, -116.7894),\n",
    "    \"Echo Lake, Rocky Mountains, Flathead National Forest.\": (47.5441, -113.9427),\n",
    "    \"Inter Fork of White River, Mount Rainier.\": (46.8535, -121.7017),\n",
    "    \"Cascade Mountains, Mount Rainier and adjacent mountains.\": (46.8523, -121.7603),\n",
    "    \"Near hope.\": (49.3824, -121.4409),\n",
    "    \"Burman Lake, drainage, Burman River. Vancouver Island.\": (49.6887, -126.0917),\n",
    "    \"Trail that runs along east shore of burges pass, emerald lake.\": (51.4206, -116.4728),\n",
    "    \"1.7 miles south of Lakeview.\": (41.9900, -120.5581),\n",
    "    \"Aeta Lake.\": (49.7683, -125.0020),\n",
    "    \"Burges pass.\": (51.4220, -116.4850),\n",
    "    \"Trail to Elk Summit to Kooskooska. Selway Forest. (county unknown)\": (46.1476, -114.7625),\n",
    "    \"Glacier National Park, Sun Camp.\": (48.6101, -113.4541),\n",
    "    \"Between horsefly & crooked lake.\": (52.2667, -121.1167),\n",
    "    \"Missoula County, north of upper Holland Lake, swan range, ca. 80 miles NE of Missoula, township 30 n, r15w, s. 29.\": (47.4167, -113.4167),\n",
    "    \"Mt. richards, NE of 60 degree slope, Waterton Lakes National Park.\": (49.1167, -113.7833),\n",
    "    \"Azouzetta Lake on Hart Highway.\": (55.3667, -122.7167),\n",
    "    \"Seven Devils Mountains Nez Perce National Forest.\": (45.2506, -116.6706),\n",
    "    \"Ant Basin, Idaho, East Lago.\": (42.1722, -111.3833),\n",
    "    \"Near South shore of Priest Lake.\": (48.5272, -116.9150),\n",
    "    \"Sumup Cabin, southwest of Mount Baldy, 9 miles northwest of Ross Spur.\": (48.3039, -117.2667),\n",
    "    \"Monashee road above inooklin creek, just SE of banting creek.\": (50.2375, -118.2428),\n",
    "    \"Near kootenay florence mine, ainsworth.\": (49.7589, -116.9256),\n",
    "    \"West side of Mountain Revelstoke.\": (51.0312, -118.1790),\n",
    "    \"Along Hope-Princeton Highway where road crosses Skaist River.\": (49.3000, -120.7833),\n",
    "    \"Circa. 4.25 miles northeast by east of Falkland.\": (50.5383, -119.1667),\n",
    "    \"East of takatoot l.\": (54.3167, -126.2500),\n",
    "    \"Shore of Blackwater Lake, circa 32 miles north of Golden.\": (51.7833, -116.9667),\n",
    "    \"Outpost lake trail, Jasper National Park.\": (52.8442, -117.9394),\n",
    "    \"On Bolean Lake Trail, circa. 4 miles northeast by east of Falkland.\": (50.5400, -119.1500),\n",
    "    \"Glacier National Park, south slope of Quartz Ridge, north of Quartz Lake.\": (48.8667, -114.0000),\n",
    "    \"Headwaters of Jocko River\": (47.2000, -114.0000),\n",
    "    \"Near Lake Bootahnie, Marble Mountains.\": (41.6528, -123.7283),\n",
    "    \"Near south shore of Priest Lake.\": (48.5272, -116.9150),\n",
    "}\n",
    "\n",
    "def fill_manual_coords(row):\n",
    "    locality = row['locality']\n",
    "    if pd.isna(row['decimalLatitude']) and pd.isna(row['decimalLongitude']) and locality in manual_geocodes:\n",
    "        lat, lon = manual_geocodes[locality]\n",
    "        row['decimalLatitude'] = lat\n",
    "        row['decimalLongitude'] = lon\n",
    "    return row\n",
    "\n",
    "def fill_from_municipality(row):\n",
    "    if pd.isna(row['decimalLatitude']) and pd.isna(row['decimalLongitude']):\n",
    "        muni = row['municipality']\n",
    "        if pd.notna(muni) and muni in manual_geocodes_municipality:\n",
    "            lat, lon = manual_geocodes_municipality[muni]\n",
    "            row['decimalLatitude'] = lat\n",
    "            row['decimalLongitude'] = lon\n",
    "    return row\n",
    "\n",
    "verb = verb.apply(fill_manual_coords, axis=1)\n",
    "display(verb[verb['decimalLatitude'].isna() & verb['decimalLongitude'].isna()].shape)\n",
    "display(verb[verb['decimalLatitude'].isna() & verb['decimalLongitude'].isna()]['locality'].value_counts())\n",
    "\n",
    "verb = verb.apply(fill_from_municipality, axis=1)\n",
    "display(verb[verb['decimalLatitude'].isna() & verb['decimalLongitude'].isna()].shape)\n",
    "display(verb[verb['decimalLatitude'].isna() & verb['decimalLongitude'].isna()]['municipality'].value_counts())\n",
    "\n",
    "verb[verb['decimalLatitude'].isna() & verb['decimalLongitude'].isna()].head()"
   ]
  },
  {
   "cell_type": "markdown",
   "metadata": {},
   "source": [
    "Last couple rows have no locality, verbatimLocality or municipality to work with and therefore we will drop these aswell."
   ]
  },
  {
   "cell_type": "code",
   "execution_count": 9,
   "metadata": {},
   "outputs": [
    {
     "data": {
      "text/plain": [
       "(0, 33)"
      ]
     },
     "execution_count": 9,
     "metadata": {},
     "output_type": "execute_result"
    }
   ],
   "source": [
    "verb = verb.dropna(subset=['decimalLatitude', 'decimalLongitude'])  # Final clean-up\n",
    "verb[verb['decimalLatitude'].isna() & verb['decimalLongitude'].isna()].shape"
   ]
  },
  {
   "cell_type": "markdown",
   "metadata": {},
   "source": [
    "Get rid of all the columns we used and clean up our dataset. We will keep the date and time information as this will be cleaned next in a similar fashion"
   ]
  },
  {
   "cell_type": "code",
   "execution_count": 11,
   "metadata": {},
   "outputs": [
    {
     "data": {
      "text/html": [
       "<div>\n",
       "<style scoped>\n",
       "    .dataframe tbody tr th:only-of-type {\n",
       "        vertical-align: middle;\n",
       "    }\n",
       "\n",
       "    .dataframe tbody tr th {\n",
       "        vertical-align: top;\n",
       "    }\n",
       "\n",
       "    .dataframe thead th {\n",
       "        text-align: right;\n",
       "    }\n",
       "</style>\n",
       "<table border=\"1\" class=\"dataframe\">\n",
       "  <thead>\n",
       "    <tr style=\"text-align: right;\">\n",
       "      <th></th>\n",
       "      <th>gbifID</th>\n",
       "      <th>reproductiveCondition</th>\n",
       "      <th>occurrenceStatus</th>\n",
       "      <th>eventDate</th>\n",
       "      <th>eventTime</th>\n",
       "      <th>startDayOfYear</th>\n",
       "      <th>endDayOfYear</th>\n",
       "      <th>year</th>\n",
       "      <th>month</th>\n",
       "      <th>day</th>\n",
       "      <th>verbatimEventDate</th>\n",
       "      <th>habitat</th>\n",
       "      <th>verbatimElevation</th>\n",
       "      <th>minimumDistanceAboveSurfaceInMeters</th>\n",
       "      <th>maximumDistanceAboveSurfaceInMeters</th>\n",
       "      <th>decimalLatitude</th>\n",
       "      <th>decimalLongitude</th>\n",
       "      <th>georeferencedDate</th>\n",
       "      <th>dateIdentified</th>\n",
       "      <th>elevation</th>\n",
       "      <th>elevationAccuracy</th>\n",
       "    </tr>\n",
       "  </thead>\n",
       "  <tbody>\n",
       "    <tr>\n",
       "      <th>0</th>\n",
       "      <td>894988018</td>\n",
       "      <td>NaN</td>\n",
       "      <td>PRESENT</td>\n",
       "      <td>1970-07-11</td>\n",
       "      <td>NaN</td>\n",
       "      <td>192.0</td>\n",
       "      <td>192.0</td>\n",
       "      <td>1970.0</td>\n",
       "      <td>7.0</td>\n",
       "      <td>11.0</td>\n",
       "      <td>NaN</td>\n",
       "      <td>scree slope, facing east</td>\n",
       "      <td>7000 feet</td>\n",
       "      <td>NaN</td>\n",
       "      <td>NaN</td>\n",
       "      <td>49.133333</td>\n",
       "      <td>-114.150000</td>\n",
       "      <td>NaN</td>\n",
       "      <td>NaN</td>\n",
       "      <td>2133.0</td>\n",
       "      <td>0.0</td>\n",
       "    </tr>\n",
       "    <tr>\n",
       "      <th>1</th>\n",
       "      <td>894988016</td>\n",
       "      <td>NaN</td>\n",
       "      <td>PRESENT</td>\n",
       "      <td>1968-08-04</td>\n",
       "      <td>NaN</td>\n",
       "      <td>217.0</td>\n",
       "      <td>217.0</td>\n",
       "      <td>1968.0</td>\n",
       "      <td>8.0</td>\n",
       "      <td>4.0</td>\n",
       "      <td>NaN</td>\n",
       "      <td>Trail side</td>\n",
       "      <td>NaN</td>\n",
       "      <td>NaN</td>\n",
       "      <td>NaN</td>\n",
       "      <td>44.553159</td>\n",
       "      <td>-78.761708</td>\n",
       "      <td>NaN</td>\n",
       "      <td>NaN</td>\n",
       "      <td>NaN</td>\n",
       "      <td>NaN</td>\n",
       "    </tr>\n",
       "    <tr>\n",
       "      <th>2</th>\n",
       "      <td>894987984</td>\n",
       "      <td>NaN</td>\n",
       "      <td>PRESENT</td>\n",
       "      <td>1970-07-11</td>\n",
       "      <td>NaN</td>\n",
       "      <td>192.0</td>\n",
       "      <td>192.0</td>\n",
       "      <td>1970.0</td>\n",
       "      <td>7.0</td>\n",
       "      <td>11.0</td>\n",
       "      <td>NaN</td>\n",
       "      <td>scree slope, facing east</td>\n",
       "      <td>7000 feet</td>\n",
       "      <td>NaN</td>\n",
       "      <td>NaN</td>\n",
       "      <td>49.133333</td>\n",
       "      <td>-114.150000</td>\n",
       "      <td>NaN</td>\n",
       "      <td>NaN</td>\n",
       "      <td>2133.0</td>\n",
       "      <td>0.0</td>\n",
       "    </tr>\n",
       "  </tbody>\n",
       "</table>\n",
       "</div>"
      ],
      "text/plain": [
       "      gbifID reproductiveCondition occurrenceStatus   eventDate eventTime  \\\n",
       "0  894988018                   NaN          PRESENT  1970-07-11       NaN   \n",
       "1  894988016                   NaN          PRESENT  1968-08-04       NaN   \n",
       "2  894987984                   NaN          PRESENT  1970-07-11       NaN   \n",
       "\n",
       "   startDayOfYear  endDayOfYear    year  month   day verbatimEventDate  \\\n",
       "0           192.0         192.0  1970.0    7.0  11.0               NaN   \n",
       "1           217.0         217.0  1968.0    8.0   4.0               NaN   \n",
       "2           192.0         192.0  1970.0    7.0  11.0               NaN   \n",
       "\n",
       "                    habitat verbatimElevation  \\\n",
       "0  scree slope, facing east         7000 feet   \n",
       "1                Trail side               NaN   \n",
       "2  scree slope, facing east         7000 feet   \n",
       "\n",
       "   minimumDistanceAboveSurfaceInMeters  maximumDistanceAboveSurfaceInMeters  \\\n",
       "0                                  NaN                                  NaN   \n",
       "1                                  NaN                                  NaN   \n",
       "2                                  NaN                                  NaN   \n",
       "\n",
       "   decimalLatitude  decimalLongitude georeferencedDate dateIdentified  \\\n",
       "0        49.133333       -114.150000               NaN            NaN   \n",
       "1        44.553159        -78.761708               NaN            NaN   \n",
       "2        49.133333       -114.150000               NaN            NaN   \n",
       "\n",
       "   elevation  elevationAccuracy  \n",
       "0     2133.0                0.0  \n",
       "1        NaN                NaN  \n",
       "2     2133.0                0.0  "
      ]
     },
     "execution_count": 11,
     "metadata": {},
     "output_type": "execute_result"
    }
   ],
   "source": [
    "# Create a subset with just the columns we need for coordinates\n",
    "columns_to_keep = [col for col in verb.columns if col not in [\n",
    "    'higherGeography', 'continent', 'countryCode', 'stateProvince',\n",
    "    'county', 'municipality', 'locality', 'verbatimLocality', \n",
    "    'hasCoordinate', 'used_llm', 'coordinateUncertaintyInMeters', \"hasGeospatialIssues\"\n",
    "]]\n",
    "\n",
    "coords_subset = verb[columns_to_keep]\n",
    "coords_subset.head(3)"
   ]
  },
  {
   "cell_type": "code",
   "execution_count": 13,
   "metadata": {},
   "outputs": [
    {
     "data": {
      "text/plain": [
       "(6818, 21)"
      ]
     },
     "execution_count": 13,
     "metadata": {},
     "output_type": "execute_result"
    }
   ],
   "source": [
    "coords_subset.shape"
   ]
  },
  {
   "cell_type": "code",
   "execution_count": 23,
   "metadata": {},
   "outputs": [],
   "source": [
    "coords_subset.to_csv('../data/processed/coordinates_cleaned.csv', index=False)"
   ]
  },
  {
   "cell_type": "markdown",
   "metadata": {},
   "source": [
    "## Datetime Cleaning"
   ]
  },
  {
   "cell_type": "code",
   "execution_count": 1,
   "metadata": {},
   "outputs": [
    {
     "data": {
      "text/plain": [
       "Index(['gbifID', 'reproductiveCondition', 'occurrenceStatus', 'eventDate',\n",
       "       'eventTime', 'startDayOfYear', 'endDayOfYear', 'year', 'month', 'day',\n",
       "       'verbatimEventDate', 'habitat', 'verbatimElevation',\n",
       "       'minimumDistanceAboveSurfaceInMeters',\n",
       "       'maximumDistanceAboveSurfaceInMeters', 'decimalLatitude',\n",
       "       'decimalLongitude', 'georeferencedDate', 'dateIdentified', 'elevation',\n",
       "       'elevationAccuracy'],\n",
       "      dtype='object')"
      ]
     },
     "metadata": {},
     "output_type": "display_data"
    },
    {
     "data": {
      "text/plain": [
       "(170, 21)"
      ]
     },
     "execution_count": 1,
     "metadata": {},
     "output_type": "execute_result"
    }
   ],
   "source": [
    "import pandas as pd\n",
    "pd.set_option('display.max_columns', None)\n",
    "dat = pd.read_csv('../data/processed/coordinates_cleaned.csv')\n",
    "display(dat.columns)\n",
    "dat[dat['eventDate'].isna()].shape"
   ]
  },
  {
   "cell_type": "code",
   "execution_count": 2,
   "metadata": {},
   "outputs": [
    {
     "name": "stderr",
     "output_type": "stream",
     "text": [
      "C:\\Users\\SABIO\\AppData\\Local\\Temp\\ipykernel_28984\\1460910216.py:29: UserWarning: Could not infer format, so each element will be parsed individually, falling back to `dateutil`. To ensure parsing is consistent and as-expected, please specify a format.\n",
      "  test.loc[mask, 'datetime'] = pd.to_datetime(test.loc[mask, 'verbatimEventDate'], errors='coerce')\n"
     ]
    },
    {
     "data": {
      "text/plain": [
       "(543, 13)"
      ]
     },
     "execution_count": 2,
     "metadata": {},
     "output_type": "execute_result"
    }
   ],
   "source": [
    "# Create a copy of the dataframe to work with\n",
    "test = dat.copy()\n",
    "\n",
    "# First try to convert eventDate directly to datetime where possible\n",
    "test['datetime'] = pd.to_datetime(test['eventDate'], errors='coerce')\n",
    "\n",
    "# For rows where eventDate conversion failed, try to construct datetime from year/month/day\n",
    "mask = test['datetime'].isna()\n",
    "test.loc[mask, 'datetime'] = pd.to_datetime({\n",
    "    'year': test.loc[mask, 'year'],\n",
    "    'month': test.loc[mask, 'month'], \n",
    "    'day': test.loc[mask, 'day']\n",
    "}, errors='coerce')\n",
    "\n",
    "# For rows still missing datetime, try to use startDayOfYear with year\n",
    "mask = test['datetime'].isna()\n",
    "def day_of_year_to_date(row):\n",
    "    try:\n",
    "        if pd.notna(row['year']) and pd.notna(row['startDayOfYear']):\n",
    "            return pd.Timestamp(year=int(row['year']), month=1, day=1) + pd.Timedelta(days=int(row['startDayOfYear'])-1)\n",
    "    except:\n",
    "        return pd.NaT\n",
    "    return pd.NaT\n",
    "\n",
    "test.loc[mask, 'datetime'] = test[mask].apply(day_of_year_to_date, axis=1)\n",
    "\n",
    "# For remaining NaN, try verbatimEventDate\n",
    "mask = test['datetime'].isna()\n",
    "test.loc[mask, 'datetime'] = pd.to_datetime(test.loc[mask, 'verbatimEventDate'], errors='coerce')\n",
    "\n",
    "# As last resort, use dateIdentified \n",
    "mask = test['datetime'].isna()\n",
    "test.loc[mask, 'datetime'] = pd.to_datetime(test.loc[mask, 'dateIdentified'], errors='coerce')\n",
    "\n",
    "# Drop the original date/time columns since we now have a clean datetime column\n",
    "test = test.drop(['eventDate', 'eventTime', 'startDayOfYear', 'endDayOfYear', \n",
    "                  'year', 'month', 'day', 'verbatimEventDate', 'dateIdentified'], axis=1)\n",
    "\n",
    "test[test['datetime'].isna()].shape"
   ]
  },
  {
   "cell_type": "code",
   "execution_count": 3,
   "metadata": {},
   "outputs": [
    {
     "data": {
      "text/plain": [
       "(0, 13)"
      ]
     },
     "execution_count": 3,
     "metadata": {},
     "output_type": "execute_result"
    }
   ],
   "source": [
    "dat = test.dropna(subset=['datetime'])  # Final clean-up\n",
    "dat[dat['datetime'].isna()].shape"
   ]
  },
  {
   "cell_type": "code",
   "execution_count": 4,
   "metadata": {},
   "outputs": [],
   "source": [
    "dat = dat[['gbifID', 'datetime', 'decimalLatitude', 'decimalLongitude']]"
   ]
  },
  {
   "cell_type": "code",
   "execution_count": 5,
   "metadata": {},
   "outputs": [
    {
     "data": {
      "text/plain": [
       "(6275, 4)"
      ]
     },
     "execution_count": 5,
     "metadata": {},
     "output_type": "execute_result"
    }
   ],
   "source": [
    "dat.shape"
   ]
  },
  {
   "cell_type": "code",
   "execution_count": 6,
   "metadata": {},
   "outputs": [],
   "source": [
    "dat.to_csv('../data/processed/date_location_occurrances.csv', index=False)"
   ]
  },
  {
   "cell_type": "markdown",
   "metadata": {},
   "source": [
    "## Merging Datasets"
   ]
  },
  {
   "cell_type": "code",
   "execution_count": 7,
   "metadata": {},
   "outputs": [
    {
     "data": {
      "text/html": [
       "<div>\n",
       "<style scoped>\n",
       "    .dataframe tbody tr th:only-of-type {\n",
       "        vertical-align: middle;\n",
       "    }\n",
       "\n",
       "    .dataframe tbody tr th {\n",
       "        vertical-align: top;\n",
       "    }\n",
       "\n",
       "    .dataframe thead th {\n",
       "        text-align: right;\n",
       "    }\n",
       "</style>\n",
       "<table border=\"1\" class=\"dataframe\">\n",
       "  <thead>\n",
       "    <tr style=\"text-align: right;\">\n",
       "      <th></th>\n",
       "      <th>gbifID</th>\n",
       "      <th>datetime</th>\n",
       "      <th>decimalLatitude</th>\n",
       "      <th>decimalLongitude</th>\n",
       "    </tr>\n",
       "  </thead>\n",
       "  <tbody>\n",
       "    <tr>\n",
       "      <th>0</th>\n",
       "      <td>894988018</td>\n",
       "      <td>1970-07-11</td>\n",
       "      <td>49.133333</td>\n",
       "      <td>-114.150000</td>\n",
       "    </tr>\n",
       "    <tr>\n",
       "      <th>1</th>\n",
       "      <td>894988016</td>\n",
       "      <td>1968-08-04</td>\n",
       "      <td>44.553159</td>\n",
       "      <td>-78.761708</td>\n",
       "    </tr>\n",
       "    <tr>\n",
       "      <th>2</th>\n",
       "      <td>894987984</td>\n",
       "      <td>1970-07-11</td>\n",
       "      <td>49.133333</td>\n",
       "      <td>-114.150000</td>\n",
       "    </tr>\n",
       "  </tbody>\n",
       "</table>\n",
       "</div>"
      ],
      "text/plain": [
       "      gbifID    datetime  decimalLatitude  decimalLongitude\n",
       "0  894988018  1970-07-11        49.133333       -114.150000\n",
       "1  894988016  1968-08-04        44.553159        -78.761708\n",
       "2  894987984  1970-07-11        49.133333       -114.150000"
      ]
     },
     "metadata": {},
     "output_type": "display_data"
    },
    {
     "data": {
      "text/plain": [
       "(6275, 4)"
      ]
     },
     "metadata": {},
     "output_type": "display_data"
    }
   ],
   "source": [
    "import pandas as pd\n",
    "huckleberry = pd.read_csv('../data/processed/date_location_occurrances.csv')\n",
    "# huckleberry = huckleberry[['gbifID', 'datetime', 'decimalLatitude', 'decimalLongitude']]\n",
    "display(huckleberry.head(3))\n",
    "display(huckleberry.shape)"
   ]
  },
  {
   "cell_type": "code",
   "execution_count": 1,
   "metadata": {},
   "outputs": [],
   "source": [
    "import pystac_client\n",
    "import planetary_computer\n",
    "import xarray as xr\n",
    "\n",
    "catalog = pystac_client.Client.open(\n",
    "    \"https://planetarycomputer.microsoft.com/api/stac/v1\",\n",
    "    modifier=planetary_computer.sign_inplace,\n",
    ")\n",
    "\n",
    "asset = catalog.get_collection(\"gridmet\").assets[\"zarr-abfs\"]\n",
    "\n",
    "ds = xr.open_zarr(\n",
    "    asset.href,\n",
    "    storage_options=asset.extra_fields[\"xarray:storage_options\"],\n",
    "    **asset.extra_fields[\"xarray:open_kwargs\"]\n",
    ")"
   ]
  },
  {
   "cell_type": "code",
   "execution_count": 2,
   "metadata": {},
   "outputs": [
    {
     "data": {
      "text/html": [
       "<div><svg style=\"position: absolute; width: 0; height: 0; overflow: hidden\">\n",
       "<defs>\n",
       "<symbol id=\"icon-database\" viewBox=\"0 0 32 32\">\n",
       "<path d=\"M16 0c-8.837 0-16 2.239-16 5v4c0 2.761 7.163 5 16 5s16-2.239 16-5v-4c0-2.761-7.163-5-16-5z\"></path>\n",
       "<path d=\"M16 17c-8.837 0-16-2.239-16-5v6c0 2.761 7.163 5 16 5s16-2.239 16-5v-6c0 2.761-7.163 5-16 5z\"></path>\n",
       "<path d=\"M16 26c-8.837 0-16-2.239-16-5v6c0 2.761 7.163 5 16 5s16-2.239 16-5v-6c0 2.761-7.163 5-16 5z\"></path>\n",
       "</symbol>\n",
       "<symbol id=\"icon-file-text2\" viewBox=\"0 0 32 32\">\n",
       "<path d=\"M28.681 7.159c-0.694-0.947-1.662-2.053-2.724-3.116s-2.169-2.030-3.116-2.724c-1.612-1.182-2.393-1.319-2.841-1.319h-15.5c-1.378 0-2.5 1.121-2.5 2.5v27c0 1.378 1.122 2.5 2.5 2.5h23c1.378 0 2.5-1.122 2.5-2.5v-19.5c0-0.448-0.137-1.23-1.319-2.841zM24.543 5.457c0.959 0.959 1.712 1.825 2.268 2.543h-4.811v-4.811c0.718 0.556 1.584 1.309 2.543 2.268zM28 29.5c0 0.271-0.229 0.5-0.5 0.5h-23c-0.271 0-0.5-0.229-0.5-0.5v-27c0-0.271 0.229-0.5 0.5-0.5 0 0 15.499-0 15.5 0v7c0 0.552 0.448 1 1 1h7v19.5z\"></path>\n",
       "<path d=\"M23 26h-14c-0.552 0-1-0.448-1-1s0.448-1 1-1h14c0.552 0 1 0.448 1 1s-0.448 1-1 1z\"></path>\n",
       "<path d=\"M23 22h-14c-0.552 0-1-0.448-1-1s0.448-1 1-1h14c0.552 0 1 0.448 1 1s-0.448 1-1 1z\"></path>\n",
       "<path d=\"M23 18h-14c-0.552 0-1-0.448-1-1s0.448-1 1-1h14c0.552 0 1 0.448 1 1s-0.448 1-1 1z\"></path>\n",
       "</symbol>\n",
       "</defs>\n",
       "</svg>\n",
       "<style>/* CSS stylesheet for displaying xarray objects in jupyterlab.\n",
       " *\n",
       " */\n",
       "\n",
       ":root {\n",
       "  --xr-font-color0: var(--jp-content-font-color0, rgba(0, 0, 0, 1));\n",
       "  --xr-font-color2: var(--jp-content-font-color2, rgba(0, 0, 0, 0.54));\n",
       "  --xr-font-color3: var(--jp-content-font-color3, rgba(0, 0, 0, 0.38));\n",
       "  --xr-border-color: var(--jp-border-color2, #e0e0e0);\n",
       "  --xr-disabled-color: var(--jp-layout-color3, #bdbdbd);\n",
       "  --xr-background-color: var(--jp-layout-color0, white);\n",
       "  --xr-background-color-row-even: var(--jp-layout-color1, white);\n",
       "  --xr-background-color-row-odd: var(--jp-layout-color2, #eeeeee);\n",
       "}\n",
       "\n",
       "html[theme=dark],\n",
       "html[data-theme=dark],\n",
       "body[data-theme=dark],\n",
       "body.vscode-dark {\n",
       "  --xr-font-color0: rgba(255, 255, 255, 1);\n",
       "  --xr-font-color2: rgba(255, 255, 255, 0.54);\n",
       "  --xr-font-color3: rgba(255, 255, 255, 0.38);\n",
       "  --xr-border-color: #1F1F1F;\n",
       "  --xr-disabled-color: #515151;\n",
       "  --xr-background-color: #111111;\n",
       "  --xr-background-color-row-even: #111111;\n",
       "  --xr-background-color-row-odd: #313131;\n",
       "}\n",
       "\n",
       ".xr-wrap {\n",
       "  display: block !important;\n",
       "  min-width: 300px;\n",
       "  max-width: 700px;\n",
       "}\n",
       "\n",
       ".xr-text-repr-fallback {\n",
       "  /* fallback to plain text repr when CSS is not injected (untrusted notebook) */\n",
       "  display: none;\n",
       "}\n",
       "\n",
       ".xr-header {\n",
       "  padding-top: 6px;\n",
       "  padding-bottom: 6px;\n",
       "  margin-bottom: 4px;\n",
       "  border-bottom: solid 1px var(--xr-border-color);\n",
       "}\n",
       "\n",
       ".xr-header > div,\n",
       ".xr-header > ul {\n",
       "  display: inline;\n",
       "  margin-top: 0;\n",
       "  margin-bottom: 0;\n",
       "}\n",
       "\n",
       ".xr-obj-type,\n",
       ".xr-array-name {\n",
       "  margin-left: 2px;\n",
       "  margin-right: 10px;\n",
       "}\n",
       "\n",
       ".xr-obj-type {\n",
       "  color: var(--xr-font-color2);\n",
       "}\n",
       "\n",
       ".xr-sections {\n",
       "  padding-left: 0 !important;\n",
       "  display: grid;\n",
       "  grid-template-columns: 150px auto auto 1fr 20px 20px;\n",
       "}\n",
       "\n",
       ".xr-section-item {\n",
       "  display: contents;\n",
       "}\n",
       "\n",
       ".xr-section-item input {\n",
       "  display: none;\n",
       "}\n",
       "\n",
       ".xr-section-item input + label {\n",
       "  color: var(--xr-disabled-color);\n",
       "}\n",
       "\n",
       ".xr-section-item input:enabled + label {\n",
       "  cursor: pointer;\n",
       "  color: var(--xr-font-color2);\n",
       "}\n",
       "\n",
       ".xr-section-item input:enabled + label:hover {\n",
       "  color: var(--xr-font-color0);\n",
       "}\n",
       "\n",
       ".xr-section-summary {\n",
       "  grid-column: 1;\n",
       "  color: var(--xr-font-color2);\n",
       "  font-weight: 500;\n",
       "}\n",
       "\n",
       ".xr-section-summary > span {\n",
       "  display: inline-block;\n",
       "  padding-left: 0.5em;\n",
       "}\n",
       "\n",
       ".xr-section-summary-in:disabled + label {\n",
       "  color: var(--xr-font-color2);\n",
       "}\n",
       "\n",
       ".xr-section-summary-in + label:before {\n",
       "  display: inline-block;\n",
       "  content: '►';\n",
       "  font-size: 11px;\n",
       "  width: 15px;\n",
       "  text-align: center;\n",
       "}\n",
       "\n",
       ".xr-section-summary-in:disabled + label:before {\n",
       "  color: var(--xr-disabled-color);\n",
       "}\n",
       "\n",
       ".xr-section-summary-in:checked + label:before {\n",
       "  content: '▼';\n",
       "}\n",
       "\n",
       ".xr-section-summary-in:checked + label > span {\n",
       "  display: none;\n",
       "}\n",
       "\n",
       ".xr-section-summary,\n",
       ".xr-section-inline-details {\n",
       "  padding-top: 4px;\n",
       "  padding-bottom: 4px;\n",
       "}\n",
       "\n",
       ".xr-section-inline-details {\n",
       "  grid-column: 2 / -1;\n",
       "}\n",
       "\n",
       ".xr-section-details {\n",
       "  display: none;\n",
       "  grid-column: 1 / -1;\n",
       "  margin-bottom: 5px;\n",
       "}\n",
       "\n",
       ".xr-section-summary-in:checked ~ .xr-section-details {\n",
       "  display: contents;\n",
       "}\n",
       "\n",
       ".xr-array-wrap {\n",
       "  grid-column: 1 / -1;\n",
       "  display: grid;\n",
       "  grid-template-columns: 20px auto;\n",
       "}\n",
       "\n",
       ".xr-array-wrap > label {\n",
       "  grid-column: 1;\n",
       "  vertical-align: top;\n",
       "}\n",
       "\n",
       ".xr-preview {\n",
       "  color: var(--xr-font-color3);\n",
       "}\n",
       "\n",
       ".xr-array-preview,\n",
       ".xr-array-data {\n",
       "  padding: 0 5px !important;\n",
       "  grid-column: 2;\n",
       "}\n",
       "\n",
       ".xr-array-data,\n",
       ".xr-array-in:checked ~ .xr-array-preview {\n",
       "  display: none;\n",
       "}\n",
       "\n",
       ".xr-array-in:checked ~ .xr-array-data,\n",
       ".xr-array-preview {\n",
       "  display: inline-block;\n",
       "}\n",
       "\n",
       ".xr-dim-list {\n",
       "  display: inline-block !important;\n",
       "  list-style: none;\n",
       "  padding: 0 !important;\n",
       "  margin: 0;\n",
       "}\n",
       "\n",
       ".xr-dim-list li {\n",
       "  display: inline-block;\n",
       "  padding: 0;\n",
       "  margin: 0;\n",
       "}\n",
       "\n",
       ".xr-dim-list:before {\n",
       "  content: '(';\n",
       "}\n",
       "\n",
       ".xr-dim-list:after {\n",
       "  content: ')';\n",
       "}\n",
       "\n",
       ".xr-dim-list li:not(:last-child):after {\n",
       "  content: ',';\n",
       "  padding-right: 5px;\n",
       "}\n",
       "\n",
       ".xr-has-index {\n",
       "  font-weight: bold;\n",
       "}\n",
       "\n",
       ".xr-var-list,\n",
       ".xr-var-item {\n",
       "  display: contents;\n",
       "}\n",
       "\n",
       ".xr-var-item > div,\n",
       ".xr-var-item label,\n",
       ".xr-var-item > .xr-var-name span {\n",
       "  background-color: var(--xr-background-color-row-even);\n",
       "  margin-bottom: 0;\n",
       "}\n",
       "\n",
       ".xr-var-item > .xr-var-name:hover span {\n",
       "  padding-right: 5px;\n",
       "}\n",
       "\n",
       ".xr-var-list > li:nth-child(odd) > div,\n",
       ".xr-var-list > li:nth-child(odd) > label,\n",
       ".xr-var-list > li:nth-child(odd) > .xr-var-name span {\n",
       "  background-color: var(--xr-background-color-row-odd);\n",
       "}\n",
       "\n",
       ".xr-var-name {\n",
       "  grid-column: 1;\n",
       "}\n",
       "\n",
       ".xr-var-dims {\n",
       "  grid-column: 2;\n",
       "}\n",
       "\n",
       ".xr-var-dtype {\n",
       "  grid-column: 3;\n",
       "  text-align: right;\n",
       "  color: var(--xr-font-color2);\n",
       "}\n",
       "\n",
       ".xr-var-preview {\n",
       "  grid-column: 4;\n",
       "}\n",
       "\n",
       ".xr-index-preview {\n",
       "  grid-column: 2 / 5;\n",
       "  color: var(--xr-font-color2);\n",
       "}\n",
       "\n",
       ".xr-var-name,\n",
       ".xr-var-dims,\n",
       ".xr-var-dtype,\n",
       ".xr-preview,\n",
       ".xr-attrs dt {\n",
       "  white-space: nowrap;\n",
       "  overflow: hidden;\n",
       "  text-overflow: ellipsis;\n",
       "  padding-right: 10px;\n",
       "}\n",
       "\n",
       ".xr-var-name:hover,\n",
       ".xr-var-dims:hover,\n",
       ".xr-var-dtype:hover,\n",
       ".xr-attrs dt:hover {\n",
       "  overflow: visible;\n",
       "  width: auto;\n",
       "  z-index: 1;\n",
       "}\n",
       "\n",
       ".xr-var-attrs,\n",
       ".xr-var-data,\n",
       ".xr-index-data {\n",
       "  display: none;\n",
       "  background-color: var(--xr-background-color) !important;\n",
       "  padding-bottom: 5px !important;\n",
       "}\n",
       "\n",
       ".xr-var-attrs-in:checked ~ .xr-var-attrs,\n",
       ".xr-var-data-in:checked ~ .xr-var-data,\n",
       ".xr-index-data-in:checked ~ .xr-index-data {\n",
       "  display: block;\n",
       "}\n",
       "\n",
       ".xr-var-data > table {\n",
       "  float: right;\n",
       "}\n",
       "\n",
       ".xr-var-name span,\n",
       ".xr-var-data,\n",
       ".xr-index-name div,\n",
       ".xr-index-data,\n",
       ".xr-attrs {\n",
       "  padding-left: 25px !important;\n",
       "}\n",
       "\n",
       ".xr-attrs,\n",
       ".xr-var-attrs,\n",
       ".xr-var-data,\n",
       ".xr-index-data {\n",
       "  grid-column: 1 / -1;\n",
       "}\n",
       "\n",
       "dl.xr-attrs {\n",
       "  padding: 0;\n",
       "  margin: 0;\n",
       "  display: grid;\n",
       "  grid-template-columns: 125px auto;\n",
       "}\n",
       "\n",
       ".xr-attrs dt,\n",
       ".xr-attrs dd {\n",
       "  padding: 0;\n",
       "  margin: 0;\n",
       "  float: left;\n",
       "  padding-right: 10px;\n",
       "  width: auto;\n",
       "}\n",
       "\n",
       ".xr-attrs dt {\n",
       "  font-weight: normal;\n",
       "  grid-column: 1;\n",
       "}\n",
       "\n",
       ".xr-attrs dt:hover span {\n",
       "  display: inline-block;\n",
       "  background: var(--xr-background-color);\n",
       "  padding-right: 10px;\n",
       "}\n",
       "\n",
       ".xr-attrs dd {\n",
       "  grid-column: 2;\n",
       "  white-space: pre-wrap;\n",
       "  word-break: break-all;\n",
       "}\n",
       "\n",
       ".xr-icon-database,\n",
       ".xr-icon-file-text2,\n",
       ".xr-no-icon {\n",
       "  display: inline-block;\n",
       "  vertical-align: middle;\n",
       "  width: 1em;\n",
       "  height: 1.5em !important;\n",
       "  stroke-width: 0;\n",
       "  stroke: currentColor;\n",
       "  fill: currentColor;\n",
       "}\n",
       "</style><pre class='xr-text-repr-fallback'>&lt;xarray.Dataset&gt; Size: 597GB\n",
       "Dimensions:                                    (time: 15341, lat: 585,\n",
       "                                                lon: 1386, crs: 1)\n",
       "Coordinates:\n",
       "  * crs                                        (crs) uint16 2B 3\n",
       "  * lat                                        (lat) float64 5kB 49.4 ... 25.07\n",
       "  * lon                                        (lon) float64 11kB -124.8 ... ...\n",
       "  * time                                       (time) datetime64[ns] 123kB 19...\n",
       "Data variables:\n",
       "    air_temperature                            (time, lat, lon) float32 50GB dask.array&lt;chunksize=(30, 585, 1386), meta=np.ndarray&gt;\n",
       "    burning_index_g                            (time, lat, lon) float32 50GB dask.array&lt;chunksize=(30, 585, 1386), meta=np.ndarray&gt;\n",
       "    dead_fuel_moisture_1000hr                  (time, lat, lon) float32 50GB dask.array&lt;chunksize=(30, 585, 1386), meta=np.ndarray&gt;\n",
       "    dead_fuel_moisture_100hr                   (time, lat, lon) float32 50GB dask.array&lt;chunksize=(30, 585, 1386), meta=np.ndarray&gt;\n",
       "    mean_vapor_pressure_deficit                (time, lat, lon) float32 50GB dask.array&lt;chunksize=(30, 585, 1386), meta=np.ndarray&gt;\n",
       "    potential_evapotranspiration               (time, lat, lon) float32 50GB dask.array&lt;chunksize=(30, 585, 1386), meta=np.ndarray&gt;\n",
       "    precipitation_amount                       (time, lat, lon) float32 50GB dask.array&lt;chunksize=(30, 585, 1386), meta=np.ndarray&gt;\n",
       "    relative_humidity                          (time, lat, lon) float32 50GB dask.array&lt;chunksize=(30, 585, 1386), meta=np.ndarray&gt;\n",
       "    specific_humidity                          (time, lat, lon) float32 50GB dask.array&lt;chunksize=(30, 585, 1386), meta=np.ndarray&gt;\n",
       "    surface_downwelling_shortwave_flux_in_air  (time, lat, lon) float32 50GB dask.array&lt;chunksize=(30, 585, 1386), meta=np.ndarray&gt;\n",
       "    wind_from_direction                        (time, lat, lon) float32 50GB dask.array&lt;chunksize=(30, 585, 1386), meta=np.ndarray&gt;\n",
       "    wind_speed                                 (time, lat, lon) float32 50GB dask.array&lt;chunksize=(30, 585, 1386), meta=np.ndarray&gt;\n",
       "Attributes: (12/19)\n",
       "    Conventions:                CF-1.6\n",
       "    author:                     John Abatzoglou - University of Idaho, jabatz...\n",
       "    coordinate_system:          EPSG:4326\n",
       "    date:                       02 July 2019\n",
       "    geospatial_bounds:          POLYGON((-124.7666666333333 49.40000000000000...\n",
       "    geospatial_bounds_crs:      EPSG:4326\n",
       "    ...                         ...\n",
       "    geospatial_lon_units:       decimal_degrees east\n",
       "    note1:                      The projection information for this file is: ...\n",
       "    note2:                      Citation: Abatzoglou, J.T., 2013, Development...\n",
       "    note3:                      Data in slices after last_permanent_slice (1-...\n",
       "    note4:                      Data in slices after last_provisional_slice (...\n",
       "    note5:                      Days correspond approximately to calendar day...</pre><div class='xr-wrap' style='display:none'><div class='xr-header'><div class='xr-obj-type'>xarray.Dataset</div></div><ul class='xr-sections'><li class='xr-section-item'><input id='section-e54b54ff-0150-49ea-8c93-565c7c6c9ef8' class='xr-section-summary-in' type='checkbox' disabled ><label for='section-e54b54ff-0150-49ea-8c93-565c7c6c9ef8' class='xr-section-summary'  title='Expand/collapse section'>Dimensions:</label><div class='xr-section-inline-details'><ul class='xr-dim-list'><li><span class='xr-has-index'>time</span>: 15341</li><li><span class='xr-has-index'>lat</span>: 585</li><li><span class='xr-has-index'>lon</span>: 1386</li><li><span class='xr-has-index'>crs</span>: 1</li></ul></div><div class='xr-section-details'></div></li><li class='xr-section-item'><input id='section-00a63f4e-0a8a-4131-8a6b-ddcdf48725f8' class='xr-section-summary-in' type='checkbox'  checked><label for='section-00a63f4e-0a8a-4131-8a6b-ddcdf48725f8' class='xr-section-summary' >Coordinates: <span>(4)</span></label><div class='xr-section-inline-details'></div><div class='xr-section-details'><ul class='xr-var-list'><li class='xr-var-item'><div class='xr-var-name'><span class='xr-has-index'>crs</span></div><div class='xr-var-dims'>(crs)</div><div class='xr-var-dtype'>uint16</div><div class='xr-var-preview xr-preview'>3</div><input id='attrs-3e000f4b-677c-497b-8c2a-6a6887ff311a' class='xr-var-attrs-in' type='checkbox' ><label for='attrs-3e000f4b-677c-497b-8c2a-6a6887ff311a' title='Show/Hide attributes'><svg class='icon xr-icon-file-text2'><use xlink:href='#icon-file-text2'></use></svg></label><input id='data-a168b305-f330-4d7c-9360-82a35f265101' class='xr-var-data-in' type='checkbox'><label for='data-a168b305-f330-4d7c-9360-82a35f265101' title='Show/Hide data repr'><svg class='icon xr-icon-database'><use xlink:href='#icon-database'></use></svg></label><div class='xr-var-attrs'><dl class='xr-attrs'><dt><span>GeoTransform :</span></dt><dd>-124.7666666333333 0.041666666666666 0  49.400000000000000 -0.041666666666666</dd><dt><span>grid_mapping_name :</span></dt><dd>latitude_longitude</dd><dt><span>inverse_flattening :</span></dt><dd>298.257223563</dd><dt><span>long_name :</span></dt><dd>WGS 84</dd><dt><span>longitude_of_prime_meridian :</span></dt><dd>0.0</dd><dt><span>semi_major_axis :</span></dt><dd>6378137.0</dd><dt><span>spatial_ref :</span></dt><dd>GEOGCS[&quot;WGS 84&quot;,DATUM[&quot;WGS_1984&quot;,SPHEROID[&quot;WGS 84&quot;,6378137,298.257223563,AUTHORITY[&quot;EPSG&quot;,&quot;7030&quot;]],AUTHORITY[&quot;EPSG&quot;,&quot;6326&quot;]],PRIMEM[&quot;Greenwich&quot;,0,AUTHORITY[&quot;EPSG&quot;,&quot;8901&quot;]],UNIT[&quot;degree&quot;,0.0174532925199433,AUTHORITY[&quot;EPSG&quot;,&quot;9122&quot;]],AUTHORITY[&quot;EPSG&quot;,&quot;4326&quot;]]</dd></dl></div><div class='xr-var-data'><pre>array([3], dtype=uint16)</pre></div></li><li class='xr-var-item'><div class='xr-var-name'><span class='xr-has-index'>lat</span></div><div class='xr-var-dims'>(lat)</div><div class='xr-var-dtype'>float64</div><div class='xr-var-preview xr-preview'>49.4 49.36 49.32 ... 25.11 25.07</div><input id='attrs-51742890-4e2f-4341-b759-ac2ce3948645' class='xr-var-attrs-in' type='checkbox' ><label for='attrs-51742890-4e2f-4341-b759-ac2ce3948645' title='Show/Hide attributes'><svg class='icon xr-icon-file-text2'><use xlink:href='#icon-file-text2'></use></svg></label><input id='data-e960f5b6-5f3c-47f3-99c3-55a761c1fa3b' class='xr-var-data-in' type='checkbox'><label for='data-e960f5b6-5f3c-47f3-99c3-55a761c1fa3b' title='Show/Hide data repr'><svg class='icon xr-icon-database'><use xlink:href='#icon-database'></use></svg></label><div class='xr-var-attrs'><dl class='xr-attrs'><dt><span>axis :</span></dt><dd>Y</dd><dt><span>description :</span></dt><dd>latitude</dd><dt><span>long_name :</span></dt><dd>latitude</dd><dt><span>standard_name :</span></dt><dd>latitude</dd><dt><span>units :</span></dt><dd>degrees_north</dd></dl></div><div class='xr-var-data'><pre>array([49.4     , 49.358333, 49.316667, ..., 25.15    , 25.108333, 25.066667])</pre></div></li><li class='xr-var-item'><div class='xr-var-name'><span class='xr-has-index'>lon</span></div><div class='xr-var-dims'>(lon)</div><div class='xr-var-dtype'>float64</div><div class='xr-var-preview xr-preview'>-124.8 -124.7 ... -67.1 -67.06</div><input id='attrs-a11a5b11-434d-4c5b-8d23-5f04443966ee' class='xr-var-attrs-in' type='checkbox' ><label for='attrs-a11a5b11-434d-4c5b-8d23-5f04443966ee' title='Show/Hide attributes'><svg class='icon xr-icon-file-text2'><use xlink:href='#icon-file-text2'></use></svg></label><input id='data-a2d63928-2c40-4f1a-a619-bd6758b10ed5' class='xr-var-data-in' type='checkbox'><label for='data-a2d63928-2c40-4f1a-a619-bd6758b10ed5' title='Show/Hide data repr'><svg class='icon xr-icon-database'><use xlink:href='#icon-database'></use></svg></label><div class='xr-var-attrs'><dl class='xr-attrs'><dt><span>axis :</span></dt><dd>X</dd><dt><span>description :</span></dt><dd>longitude</dd><dt><span>long_name :</span></dt><dd>longitude</dd><dt><span>standard_name :</span></dt><dd>longitude</dd><dt><span>units :</span></dt><dd>degrees_east</dd></dl></div><div class='xr-var-data'><pre>array([-124.766667, -124.725   , -124.683333, ...,  -67.141667,  -67.1     ,\n",
       "        -67.058333])</pre></div></li><li class='xr-var-item'><div class='xr-var-name'><span class='xr-has-index'>time</span></div><div class='xr-var-dims'>(time)</div><div class='xr-var-dtype'>datetime64[ns]</div><div class='xr-var-preview xr-preview'>1979-01-01 ... 2020-12-31</div><input id='attrs-23f48ce1-d2fd-46a1-a466-5e14ff7cb877' class='xr-var-attrs-in' type='checkbox' ><label for='attrs-23f48ce1-d2fd-46a1-a466-5e14ff7cb877' title='Show/Hide attributes'><svg class='icon xr-icon-file-text2'><use xlink:href='#icon-file-text2'></use></svg></label><input id='data-8fa1bcde-04bf-409f-a269-cb7b7e6ec7ad' class='xr-var-data-in' type='checkbox'><label for='data-8fa1bcde-04bf-409f-a269-cb7b7e6ec7ad' title='Show/Hide data repr'><svg class='icon xr-icon-database'><use xlink:href='#icon-database'></use></svg></label><div class='xr-var-attrs'><dl class='xr-attrs'><dt><span>description :</span></dt><dd>days since 1900-01-01</dd><dt><span>long_name :</span></dt><dd>time</dd><dt><span>standard_name :</span></dt><dd>time</dd></dl></div><div class='xr-var-data'><pre>array([&#x27;1979-01-01T00:00:00.000000000&#x27;, &#x27;1979-01-02T00:00:00.000000000&#x27;,\n",
       "       &#x27;1979-01-03T00:00:00.000000000&#x27;, ..., &#x27;2020-12-29T00:00:00.000000000&#x27;,\n",
       "       &#x27;2020-12-30T00:00:00.000000000&#x27;, &#x27;2020-12-31T00:00:00.000000000&#x27;],\n",
       "      dtype=&#x27;datetime64[ns]&#x27;)</pre></div></li></ul></div></li><li class='xr-section-item'><input id='section-1a19c050-e7ed-4bfc-ad60-df3c1ae436bd' class='xr-section-summary-in' type='checkbox'  checked><label for='section-1a19c050-e7ed-4bfc-ad60-df3c1ae436bd' class='xr-section-summary' >Data variables: <span>(12)</span></label><div class='xr-section-inline-details'></div><div class='xr-section-details'><ul class='xr-var-list'><li class='xr-var-item'><div class='xr-var-name'><span>air_temperature</span></div><div class='xr-var-dims'>(time, lat, lon)</div><div class='xr-var-dtype'>float32</div><div class='xr-var-preview xr-preview'>dask.array&lt;chunksize=(30, 585, 1386), meta=np.ndarray&gt;</div><input id='attrs-5ddb167b-7c24-4889-8429-69a9b57b7739' class='xr-var-attrs-in' type='checkbox' ><label for='attrs-5ddb167b-7c24-4889-8429-69a9b57b7739' title='Show/Hide attributes'><svg class='icon xr-icon-file-text2'><use xlink:href='#icon-file-text2'></use></svg></label><input id='data-e9aa5e74-3c20-4485-9e0a-32744bb6dc11' class='xr-var-data-in' type='checkbox'><label for='data-e9aa5e74-3c20-4485-9e0a-32744bb6dc11' title='Show/Hide data repr'><svg class='icon xr-icon-database'><use xlink:href='#icon-database'></use></svg></label><div class='xr-var-attrs'><dl class='xr-attrs'><dt><span>coordinate_system :</span></dt><dd>WGS84,EPSG:4326</dd><dt><span>description :</span></dt><dd>Daily Minimum Temperature</dd><dt><span>dimensions :</span></dt><dd>lon lat time</dd><dt><span>grid_mapping :</span></dt><dd>crs</dd><dt><span>long_name :</span></dt><dd>tmmn</dd><dt><span>standard_name :</span></dt><dd>tmmn</dd><dt><span>units :</span></dt><dd>K</dd></dl></div><div class='xr-var-data'><table>\n",
       "    <tr>\n",
       "        <td>\n",
       "            <table style=\"border-collapse: collapse;\">\n",
       "                <thead>\n",
       "                    <tr>\n",
       "                        <td> </td>\n",
       "                        <th> Array </th>\n",
       "                        <th> Chunk </th>\n",
       "                    </tr>\n",
       "                </thead>\n",
       "                <tbody>\n",
       "                    \n",
       "                    <tr>\n",
       "                        <th> Bytes </th>\n",
       "                        <td> 46.34 GiB </td>\n",
       "                        <td> 92.79 MiB </td>\n",
       "                    </tr>\n",
       "                    \n",
       "                    <tr>\n",
       "                        <th> Shape </th>\n",
       "                        <td> (15341, 585, 1386) </td>\n",
       "                        <td> (30, 585, 1386) </td>\n",
       "                    </tr>\n",
       "                    <tr>\n",
       "                        <th> Dask graph </th>\n",
       "                        <td colspan=\"2\"> 512 chunks in 2 graph layers </td>\n",
       "                    </tr>\n",
       "                    <tr>\n",
       "                        <th> Data type </th>\n",
       "                        <td colspan=\"2\"> float32 numpy.ndarray </td>\n",
       "                    </tr>\n",
       "                </tbody>\n",
       "            </table>\n",
       "        </td>\n",
       "        <td>\n",
       "        <svg width=\"168\" height=\"153\" style=\"stroke:rgb(0,0,0);stroke-width:1\" >\n",
       "\n",
       "  <!-- Horizontal lines -->\n",
       "  <line x1=\"10\" y1=\"0\" x2=\"80\" y2=\"70\" style=\"stroke-width:2\" />\n",
       "  <line x1=\"10\" y1=\"32\" x2=\"80\" y2=\"103\" style=\"stroke-width:2\" />\n",
       "\n",
       "  <!-- Vertical lines -->\n",
       "  <line x1=\"10\" y1=\"0\" x2=\"10\" y2=\"32\" style=\"stroke-width:2\" />\n",
       "  <line x1=\"13\" y1=\"3\" x2=\"13\" y2=\"36\" />\n",
       "  <line x1=\"17\" y1=\"7\" x2=\"17\" y2=\"40\" />\n",
       "  <line x1=\"21\" y1=\"11\" x2=\"21\" y2=\"43\" />\n",
       "  <line x1=\"24\" y1=\"14\" x2=\"24\" y2=\"47\" />\n",
       "  <line x1=\"28\" y1=\"18\" x2=\"28\" y2=\"51\" />\n",
       "  <line x1=\"32\" y1=\"22\" x2=\"32\" y2=\"55\" />\n",
       "  <line x1=\"35\" y1=\"25\" x2=\"35\" y2=\"58\" />\n",
       "  <line x1=\"39\" y1=\"29\" x2=\"39\" y2=\"62\" />\n",
       "  <line x1=\"43\" y1=\"33\" x2=\"43\" y2=\"66\" />\n",
       "  <line x1=\"47\" y1=\"37\" x2=\"47\" y2=\"69\" />\n",
       "  <line x1=\"50\" y1=\"40\" x2=\"50\" y2=\"73\" />\n",
       "  <line x1=\"54\" y1=\"44\" x2=\"54\" y2=\"77\" />\n",
       "  <line x1=\"58\" y1=\"48\" x2=\"58\" y2=\"81\" />\n",
       "  <line x1=\"62\" y1=\"52\" x2=\"62\" y2=\"84\" />\n",
       "  <line x1=\"65\" y1=\"55\" x2=\"65\" y2=\"88\" />\n",
       "  <line x1=\"69\" y1=\"59\" x2=\"69\" y2=\"92\" />\n",
       "  <line x1=\"73\" y1=\"63\" x2=\"73\" y2=\"96\" />\n",
       "  <line x1=\"76\" y1=\"66\" x2=\"76\" y2=\"99\" />\n",
       "  <line x1=\"80\" y1=\"70\" x2=\"80\" y2=\"103\" style=\"stroke-width:2\" />\n",
       "\n",
       "  <!-- Colored Rectangle -->\n",
       "  <polygon points=\"10.0,0.0 80.58823529411765,70.58823529411765 80.58823529411765,103.43010757359329 10.0,32.84187227947563\" style=\"fill:#8B4903A0;stroke-width:0\"/>\n",
       "\n",
       "  <!-- Horizontal lines -->\n",
       "  <line x1=\"10\" y1=\"0\" x2=\"48\" y2=\"0\" style=\"stroke-width:2\" />\n",
       "  <line x1=\"13\" y1=\"3\" x2=\"51\" y2=\"3\" />\n",
       "  <line x1=\"17\" y1=\"7\" x2=\"55\" y2=\"7\" />\n",
       "  <line x1=\"21\" y1=\"11\" x2=\"59\" y2=\"11\" />\n",
       "  <line x1=\"24\" y1=\"14\" x2=\"62\" y2=\"14\" />\n",
       "  <line x1=\"28\" y1=\"18\" x2=\"66\" y2=\"18\" />\n",
       "  <line x1=\"32\" y1=\"22\" x2=\"70\" y2=\"22\" />\n",
       "  <line x1=\"35\" y1=\"25\" x2=\"73\" y2=\"25\" />\n",
       "  <line x1=\"39\" y1=\"29\" x2=\"77\" y2=\"29\" />\n",
       "  <line x1=\"43\" y1=\"33\" x2=\"81\" y2=\"33\" />\n",
       "  <line x1=\"47\" y1=\"37\" x2=\"85\" y2=\"37\" />\n",
       "  <line x1=\"50\" y1=\"40\" x2=\"88\" y2=\"40\" />\n",
       "  <line x1=\"54\" y1=\"44\" x2=\"92\" y2=\"44\" />\n",
       "  <line x1=\"58\" y1=\"48\" x2=\"96\" y2=\"48\" />\n",
       "  <line x1=\"62\" y1=\"52\" x2=\"100\" y2=\"52\" />\n",
       "  <line x1=\"65\" y1=\"55\" x2=\"103\" y2=\"55\" />\n",
       "  <line x1=\"69\" y1=\"59\" x2=\"107\" y2=\"59\" />\n",
       "  <line x1=\"73\" y1=\"63\" x2=\"111\" y2=\"63\" />\n",
       "  <line x1=\"76\" y1=\"66\" x2=\"114\" y2=\"66\" />\n",
       "  <line x1=\"80\" y1=\"70\" x2=\"118\" y2=\"70\" style=\"stroke-width:2\" />\n",
       "\n",
       "  <!-- Vertical lines -->\n",
       "  <line x1=\"10\" y1=\"0\" x2=\"80\" y2=\"70\" style=\"stroke-width:2\" />\n",
       "  <line x1=\"48\" y1=\"0\" x2=\"118\" y2=\"70\" style=\"stroke-width:2\" />\n",
       "\n",
       "  <!-- Colored Rectangle -->\n",
       "  <polygon points=\"10.0,0.0 48.02689940743392,0.0 118.61513470155157,70.58823529411765 80.58823529411765,70.58823529411765\" style=\"fill:#8B4903A0;stroke-width:0\"/>\n",
       "\n",
       "  <!-- Horizontal lines -->\n",
       "  <line x1=\"80\" y1=\"70\" x2=\"118\" y2=\"70\" style=\"stroke-width:2\" />\n",
       "  <line x1=\"80\" y1=\"103\" x2=\"118\" y2=\"103\" style=\"stroke-width:2\" />\n",
       "\n",
       "  <!-- Vertical lines -->\n",
       "  <line x1=\"80\" y1=\"70\" x2=\"80\" y2=\"103\" style=\"stroke-width:2\" />\n",
       "  <line x1=\"118\" y1=\"70\" x2=\"118\" y2=\"103\" style=\"stroke-width:2\" />\n",
       "\n",
       "  <!-- Colored Rectangle -->\n",
       "  <polygon points=\"80.58823529411765,70.58823529411765 118.61513470155157,70.58823529411765 118.61513470155157,103.43010757359329 80.58823529411765,103.43010757359329\" style=\"fill:#ECB172A0;stroke-width:0\"/>\n",
       "\n",
       "  <!-- Text -->\n",
       "  <text x=\"99.601685\" y=\"123.430108\" font-size=\"1.0rem\" font-weight=\"100\" text-anchor=\"middle\" >1386</text>\n",
       "  <text x=\"138.615135\" y=\"87.009171\" font-size=\"1.0rem\" font-weight=\"100\" text-anchor=\"middle\" transform=\"rotate(-90,138.615135,87.009171)\">585</text>\n",
       "  <text x=\"35.294118\" y=\"88.135990\" font-size=\"1.0rem\" font-weight=\"100\" text-anchor=\"middle\" transform=\"rotate(45,35.294118,88.135990)\">15341</text>\n",
       "</svg>\n",
       "        </td>\n",
       "    </tr>\n",
       "</table></div></li><li class='xr-var-item'><div class='xr-var-name'><span>burning_index_g</span></div><div class='xr-var-dims'>(time, lat, lon)</div><div class='xr-var-dtype'>float32</div><div class='xr-var-preview xr-preview'>dask.array&lt;chunksize=(30, 585, 1386), meta=np.ndarray&gt;</div><input id='attrs-119c637e-c597-45cf-a7ec-ce07c748ac45' class='xr-var-attrs-in' type='checkbox' ><label for='attrs-119c637e-c597-45cf-a7ec-ce07c748ac45' title='Show/Hide attributes'><svg class='icon xr-icon-file-text2'><use xlink:href='#icon-file-text2'></use></svg></label><input id='data-f8e12118-276f-43c1-9fc0-1d3cd2c574fb' class='xr-var-data-in' type='checkbox'><label for='data-f8e12118-276f-43c1-9fc0-1d3cd2c574fb' title='Show/Hide data repr'><svg class='icon xr-icon-database'><use xlink:href='#icon-database'></use></svg></label><div class='xr-var-attrs'><dl class='xr-attrs'><dt><span>coordinate_system :</span></dt><dd>WGS84,EPSG:4326</dd><dt><span>description :</span></dt><dd>BI-G</dd><dt><span>dimensions :</span></dt><dd>lon lat time</dd><dt><span>grid_mapping :</span></dt><dd>crs</dd><dt><span>long_name :</span></dt><dd>bi</dd><dt><span>standard_name :</span></dt><dd>bi</dd><dt><span>units :</span></dt><dd>Unitless</dd></dl></div><div class='xr-var-data'><table>\n",
       "    <tr>\n",
       "        <td>\n",
       "            <table style=\"border-collapse: collapse;\">\n",
       "                <thead>\n",
       "                    <tr>\n",
       "                        <td> </td>\n",
       "                        <th> Array </th>\n",
       "                        <th> Chunk </th>\n",
       "                    </tr>\n",
       "                </thead>\n",
       "                <tbody>\n",
       "                    \n",
       "                    <tr>\n",
       "                        <th> Bytes </th>\n",
       "                        <td> 46.34 GiB </td>\n",
       "                        <td> 92.79 MiB </td>\n",
       "                    </tr>\n",
       "                    \n",
       "                    <tr>\n",
       "                        <th> Shape </th>\n",
       "                        <td> (15341, 585, 1386) </td>\n",
       "                        <td> (30, 585, 1386) </td>\n",
       "                    </tr>\n",
       "                    <tr>\n",
       "                        <th> Dask graph </th>\n",
       "                        <td colspan=\"2\"> 512 chunks in 2 graph layers </td>\n",
       "                    </tr>\n",
       "                    <tr>\n",
       "                        <th> Data type </th>\n",
       "                        <td colspan=\"2\"> float32 numpy.ndarray </td>\n",
       "                    </tr>\n",
       "                </tbody>\n",
       "            </table>\n",
       "        </td>\n",
       "        <td>\n",
       "        <svg width=\"168\" height=\"153\" style=\"stroke:rgb(0,0,0);stroke-width:1\" >\n",
       "\n",
       "  <!-- Horizontal lines -->\n",
       "  <line x1=\"10\" y1=\"0\" x2=\"80\" y2=\"70\" style=\"stroke-width:2\" />\n",
       "  <line x1=\"10\" y1=\"32\" x2=\"80\" y2=\"103\" style=\"stroke-width:2\" />\n",
       "\n",
       "  <!-- Vertical lines -->\n",
       "  <line x1=\"10\" y1=\"0\" x2=\"10\" y2=\"32\" style=\"stroke-width:2\" />\n",
       "  <line x1=\"13\" y1=\"3\" x2=\"13\" y2=\"36\" />\n",
       "  <line x1=\"17\" y1=\"7\" x2=\"17\" y2=\"40\" />\n",
       "  <line x1=\"21\" y1=\"11\" x2=\"21\" y2=\"43\" />\n",
       "  <line x1=\"24\" y1=\"14\" x2=\"24\" y2=\"47\" />\n",
       "  <line x1=\"28\" y1=\"18\" x2=\"28\" y2=\"51\" />\n",
       "  <line x1=\"32\" y1=\"22\" x2=\"32\" y2=\"55\" />\n",
       "  <line x1=\"35\" y1=\"25\" x2=\"35\" y2=\"58\" />\n",
       "  <line x1=\"39\" y1=\"29\" x2=\"39\" y2=\"62\" />\n",
       "  <line x1=\"43\" y1=\"33\" x2=\"43\" y2=\"66\" />\n",
       "  <line x1=\"47\" y1=\"37\" x2=\"47\" y2=\"69\" />\n",
       "  <line x1=\"50\" y1=\"40\" x2=\"50\" y2=\"73\" />\n",
       "  <line x1=\"54\" y1=\"44\" x2=\"54\" y2=\"77\" />\n",
       "  <line x1=\"58\" y1=\"48\" x2=\"58\" y2=\"81\" />\n",
       "  <line x1=\"62\" y1=\"52\" x2=\"62\" y2=\"84\" />\n",
       "  <line x1=\"65\" y1=\"55\" x2=\"65\" y2=\"88\" />\n",
       "  <line x1=\"69\" y1=\"59\" x2=\"69\" y2=\"92\" />\n",
       "  <line x1=\"73\" y1=\"63\" x2=\"73\" y2=\"96\" />\n",
       "  <line x1=\"76\" y1=\"66\" x2=\"76\" y2=\"99\" />\n",
       "  <line x1=\"80\" y1=\"70\" x2=\"80\" y2=\"103\" style=\"stroke-width:2\" />\n",
       "\n",
       "  <!-- Colored Rectangle -->\n",
       "  <polygon points=\"10.0,0.0 80.58823529411765,70.58823529411765 80.58823529411765,103.43010757359329 10.0,32.84187227947563\" style=\"fill:#8B4903A0;stroke-width:0\"/>\n",
       "\n",
       "  <!-- Horizontal lines -->\n",
       "  <line x1=\"10\" y1=\"0\" x2=\"48\" y2=\"0\" style=\"stroke-width:2\" />\n",
       "  <line x1=\"13\" y1=\"3\" x2=\"51\" y2=\"3\" />\n",
       "  <line x1=\"17\" y1=\"7\" x2=\"55\" y2=\"7\" />\n",
       "  <line x1=\"21\" y1=\"11\" x2=\"59\" y2=\"11\" />\n",
       "  <line x1=\"24\" y1=\"14\" x2=\"62\" y2=\"14\" />\n",
       "  <line x1=\"28\" y1=\"18\" x2=\"66\" y2=\"18\" />\n",
       "  <line x1=\"32\" y1=\"22\" x2=\"70\" y2=\"22\" />\n",
       "  <line x1=\"35\" y1=\"25\" x2=\"73\" y2=\"25\" />\n",
       "  <line x1=\"39\" y1=\"29\" x2=\"77\" y2=\"29\" />\n",
       "  <line x1=\"43\" y1=\"33\" x2=\"81\" y2=\"33\" />\n",
       "  <line x1=\"47\" y1=\"37\" x2=\"85\" y2=\"37\" />\n",
       "  <line x1=\"50\" y1=\"40\" x2=\"88\" y2=\"40\" />\n",
       "  <line x1=\"54\" y1=\"44\" x2=\"92\" y2=\"44\" />\n",
       "  <line x1=\"58\" y1=\"48\" x2=\"96\" y2=\"48\" />\n",
       "  <line x1=\"62\" y1=\"52\" x2=\"100\" y2=\"52\" />\n",
       "  <line x1=\"65\" y1=\"55\" x2=\"103\" y2=\"55\" />\n",
       "  <line x1=\"69\" y1=\"59\" x2=\"107\" y2=\"59\" />\n",
       "  <line x1=\"73\" y1=\"63\" x2=\"111\" y2=\"63\" />\n",
       "  <line x1=\"76\" y1=\"66\" x2=\"114\" y2=\"66\" />\n",
       "  <line x1=\"80\" y1=\"70\" x2=\"118\" y2=\"70\" style=\"stroke-width:2\" />\n",
       "\n",
       "  <!-- Vertical lines -->\n",
       "  <line x1=\"10\" y1=\"0\" x2=\"80\" y2=\"70\" style=\"stroke-width:2\" />\n",
       "  <line x1=\"48\" y1=\"0\" x2=\"118\" y2=\"70\" style=\"stroke-width:2\" />\n",
       "\n",
       "  <!-- Colored Rectangle -->\n",
       "  <polygon points=\"10.0,0.0 48.02689940743392,0.0 118.61513470155157,70.58823529411765 80.58823529411765,70.58823529411765\" style=\"fill:#8B4903A0;stroke-width:0\"/>\n",
       "\n",
       "  <!-- Horizontal lines -->\n",
       "  <line x1=\"80\" y1=\"70\" x2=\"118\" y2=\"70\" style=\"stroke-width:2\" />\n",
       "  <line x1=\"80\" y1=\"103\" x2=\"118\" y2=\"103\" style=\"stroke-width:2\" />\n",
       "\n",
       "  <!-- Vertical lines -->\n",
       "  <line x1=\"80\" y1=\"70\" x2=\"80\" y2=\"103\" style=\"stroke-width:2\" />\n",
       "  <line x1=\"118\" y1=\"70\" x2=\"118\" y2=\"103\" style=\"stroke-width:2\" />\n",
       "\n",
       "  <!-- Colored Rectangle -->\n",
       "  <polygon points=\"80.58823529411765,70.58823529411765 118.61513470155157,70.58823529411765 118.61513470155157,103.43010757359329 80.58823529411765,103.43010757359329\" style=\"fill:#ECB172A0;stroke-width:0\"/>\n",
       "\n",
       "  <!-- Text -->\n",
       "  <text x=\"99.601685\" y=\"123.430108\" font-size=\"1.0rem\" font-weight=\"100\" text-anchor=\"middle\" >1386</text>\n",
       "  <text x=\"138.615135\" y=\"87.009171\" font-size=\"1.0rem\" font-weight=\"100\" text-anchor=\"middle\" transform=\"rotate(-90,138.615135,87.009171)\">585</text>\n",
       "  <text x=\"35.294118\" y=\"88.135990\" font-size=\"1.0rem\" font-weight=\"100\" text-anchor=\"middle\" transform=\"rotate(45,35.294118,88.135990)\">15341</text>\n",
       "</svg>\n",
       "        </td>\n",
       "    </tr>\n",
       "</table></div></li><li class='xr-var-item'><div class='xr-var-name'><span>dead_fuel_moisture_1000hr</span></div><div class='xr-var-dims'>(time, lat, lon)</div><div class='xr-var-dtype'>float32</div><div class='xr-var-preview xr-preview'>dask.array&lt;chunksize=(30, 585, 1386), meta=np.ndarray&gt;</div><input id='attrs-46ff492b-46b3-4404-b079-2bfb0f8703c2' class='xr-var-attrs-in' type='checkbox' ><label for='attrs-46ff492b-46b3-4404-b079-2bfb0f8703c2' title='Show/Hide attributes'><svg class='icon xr-icon-file-text2'><use xlink:href='#icon-file-text2'></use></svg></label><input id='data-5a417797-6d76-4ce0-bd17-503cdc2fc245' class='xr-var-data-in' type='checkbox'><label for='data-5a417797-6d76-4ce0-bd17-503cdc2fc245' title='Show/Hide data repr'><svg class='icon xr-icon-database'><use xlink:href='#icon-database'></use></svg></label><div class='xr-var-attrs'><dl class='xr-attrs'><dt><span>coordinate_system :</span></dt><dd>WGS84,EPSG:4326</dd><dt><span>description :</span></dt><dd>1000 hour fuel moisture</dd><dt><span>dimensions :</span></dt><dd>lon lat time</dd><dt><span>grid_mapping :</span></dt><dd>crs</dd><dt><span>long_name :</span></dt><dd>fm1000</dd><dt><span>standard_name :</span></dt><dd>fm1000</dd><dt><span>units :</span></dt><dd>Percent</dd></dl></div><div class='xr-var-data'><table>\n",
       "    <tr>\n",
       "        <td>\n",
       "            <table style=\"border-collapse: collapse;\">\n",
       "                <thead>\n",
       "                    <tr>\n",
       "                        <td> </td>\n",
       "                        <th> Array </th>\n",
       "                        <th> Chunk </th>\n",
       "                    </tr>\n",
       "                </thead>\n",
       "                <tbody>\n",
       "                    \n",
       "                    <tr>\n",
       "                        <th> Bytes </th>\n",
       "                        <td> 46.34 GiB </td>\n",
       "                        <td> 92.79 MiB </td>\n",
       "                    </tr>\n",
       "                    \n",
       "                    <tr>\n",
       "                        <th> Shape </th>\n",
       "                        <td> (15341, 585, 1386) </td>\n",
       "                        <td> (30, 585, 1386) </td>\n",
       "                    </tr>\n",
       "                    <tr>\n",
       "                        <th> Dask graph </th>\n",
       "                        <td colspan=\"2\"> 512 chunks in 2 graph layers </td>\n",
       "                    </tr>\n",
       "                    <tr>\n",
       "                        <th> Data type </th>\n",
       "                        <td colspan=\"2\"> float32 numpy.ndarray </td>\n",
       "                    </tr>\n",
       "                </tbody>\n",
       "            </table>\n",
       "        </td>\n",
       "        <td>\n",
       "        <svg width=\"168\" height=\"153\" style=\"stroke:rgb(0,0,0);stroke-width:1\" >\n",
       "\n",
       "  <!-- Horizontal lines -->\n",
       "  <line x1=\"10\" y1=\"0\" x2=\"80\" y2=\"70\" style=\"stroke-width:2\" />\n",
       "  <line x1=\"10\" y1=\"32\" x2=\"80\" y2=\"103\" style=\"stroke-width:2\" />\n",
       "\n",
       "  <!-- Vertical lines -->\n",
       "  <line x1=\"10\" y1=\"0\" x2=\"10\" y2=\"32\" style=\"stroke-width:2\" />\n",
       "  <line x1=\"13\" y1=\"3\" x2=\"13\" y2=\"36\" />\n",
       "  <line x1=\"17\" y1=\"7\" x2=\"17\" y2=\"40\" />\n",
       "  <line x1=\"21\" y1=\"11\" x2=\"21\" y2=\"43\" />\n",
       "  <line x1=\"24\" y1=\"14\" x2=\"24\" y2=\"47\" />\n",
       "  <line x1=\"28\" y1=\"18\" x2=\"28\" y2=\"51\" />\n",
       "  <line x1=\"32\" y1=\"22\" x2=\"32\" y2=\"55\" />\n",
       "  <line x1=\"35\" y1=\"25\" x2=\"35\" y2=\"58\" />\n",
       "  <line x1=\"39\" y1=\"29\" x2=\"39\" y2=\"62\" />\n",
       "  <line x1=\"43\" y1=\"33\" x2=\"43\" y2=\"66\" />\n",
       "  <line x1=\"47\" y1=\"37\" x2=\"47\" y2=\"69\" />\n",
       "  <line x1=\"50\" y1=\"40\" x2=\"50\" y2=\"73\" />\n",
       "  <line x1=\"54\" y1=\"44\" x2=\"54\" y2=\"77\" />\n",
       "  <line x1=\"58\" y1=\"48\" x2=\"58\" y2=\"81\" />\n",
       "  <line x1=\"62\" y1=\"52\" x2=\"62\" y2=\"84\" />\n",
       "  <line x1=\"65\" y1=\"55\" x2=\"65\" y2=\"88\" />\n",
       "  <line x1=\"69\" y1=\"59\" x2=\"69\" y2=\"92\" />\n",
       "  <line x1=\"73\" y1=\"63\" x2=\"73\" y2=\"96\" />\n",
       "  <line x1=\"76\" y1=\"66\" x2=\"76\" y2=\"99\" />\n",
       "  <line x1=\"80\" y1=\"70\" x2=\"80\" y2=\"103\" style=\"stroke-width:2\" />\n",
       "\n",
       "  <!-- Colored Rectangle -->\n",
       "  <polygon points=\"10.0,0.0 80.58823529411765,70.58823529411765 80.58823529411765,103.43010757359329 10.0,32.84187227947563\" style=\"fill:#8B4903A0;stroke-width:0\"/>\n",
       "\n",
       "  <!-- Horizontal lines -->\n",
       "  <line x1=\"10\" y1=\"0\" x2=\"48\" y2=\"0\" style=\"stroke-width:2\" />\n",
       "  <line x1=\"13\" y1=\"3\" x2=\"51\" y2=\"3\" />\n",
       "  <line x1=\"17\" y1=\"7\" x2=\"55\" y2=\"7\" />\n",
       "  <line x1=\"21\" y1=\"11\" x2=\"59\" y2=\"11\" />\n",
       "  <line x1=\"24\" y1=\"14\" x2=\"62\" y2=\"14\" />\n",
       "  <line x1=\"28\" y1=\"18\" x2=\"66\" y2=\"18\" />\n",
       "  <line x1=\"32\" y1=\"22\" x2=\"70\" y2=\"22\" />\n",
       "  <line x1=\"35\" y1=\"25\" x2=\"73\" y2=\"25\" />\n",
       "  <line x1=\"39\" y1=\"29\" x2=\"77\" y2=\"29\" />\n",
       "  <line x1=\"43\" y1=\"33\" x2=\"81\" y2=\"33\" />\n",
       "  <line x1=\"47\" y1=\"37\" x2=\"85\" y2=\"37\" />\n",
       "  <line x1=\"50\" y1=\"40\" x2=\"88\" y2=\"40\" />\n",
       "  <line x1=\"54\" y1=\"44\" x2=\"92\" y2=\"44\" />\n",
       "  <line x1=\"58\" y1=\"48\" x2=\"96\" y2=\"48\" />\n",
       "  <line x1=\"62\" y1=\"52\" x2=\"100\" y2=\"52\" />\n",
       "  <line x1=\"65\" y1=\"55\" x2=\"103\" y2=\"55\" />\n",
       "  <line x1=\"69\" y1=\"59\" x2=\"107\" y2=\"59\" />\n",
       "  <line x1=\"73\" y1=\"63\" x2=\"111\" y2=\"63\" />\n",
       "  <line x1=\"76\" y1=\"66\" x2=\"114\" y2=\"66\" />\n",
       "  <line x1=\"80\" y1=\"70\" x2=\"118\" y2=\"70\" style=\"stroke-width:2\" />\n",
       "\n",
       "  <!-- Vertical lines -->\n",
       "  <line x1=\"10\" y1=\"0\" x2=\"80\" y2=\"70\" style=\"stroke-width:2\" />\n",
       "  <line x1=\"48\" y1=\"0\" x2=\"118\" y2=\"70\" style=\"stroke-width:2\" />\n",
       "\n",
       "  <!-- Colored Rectangle -->\n",
       "  <polygon points=\"10.0,0.0 48.02689940743392,0.0 118.61513470155157,70.58823529411765 80.58823529411765,70.58823529411765\" style=\"fill:#8B4903A0;stroke-width:0\"/>\n",
       "\n",
       "  <!-- Horizontal lines -->\n",
       "  <line x1=\"80\" y1=\"70\" x2=\"118\" y2=\"70\" style=\"stroke-width:2\" />\n",
       "  <line x1=\"80\" y1=\"103\" x2=\"118\" y2=\"103\" style=\"stroke-width:2\" />\n",
       "\n",
       "  <!-- Vertical lines -->\n",
       "  <line x1=\"80\" y1=\"70\" x2=\"80\" y2=\"103\" style=\"stroke-width:2\" />\n",
       "  <line x1=\"118\" y1=\"70\" x2=\"118\" y2=\"103\" style=\"stroke-width:2\" />\n",
       "\n",
       "  <!-- Colored Rectangle -->\n",
       "  <polygon points=\"80.58823529411765,70.58823529411765 118.61513470155157,70.58823529411765 118.61513470155157,103.43010757359329 80.58823529411765,103.43010757359329\" style=\"fill:#ECB172A0;stroke-width:0\"/>\n",
       "\n",
       "  <!-- Text -->\n",
       "  <text x=\"99.601685\" y=\"123.430108\" font-size=\"1.0rem\" font-weight=\"100\" text-anchor=\"middle\" >1386</text>\n",
       "  <text x=\"138.615135\" y=\"87.009171\" font-size=\"1.0rem\" font-weight=\"100\" text-anchor=\"middle\" transform=\"rotate(-90,138.615135,87.009171)\">585</text>\n",
       "  <text x=\"35.294118\" y=\"88.135990\" font-size=\"1.0rem\" font-weight=\"100\" text-anchor=\"middle\" transform=\"rotate(45,35.294118,88.135990)\">15341</text>\n",
       "</svg>\n",
       "        </td>\n",
       "    </tr>\n",
       "</table></div></li><li class='xr-var-item'><div class='xr-var-name'><span>dead_fuel_moisture_100hr</span></div><div class='xr-var-dims'>(time, lat, lon)</div><div class='xr-var-dtype'>float32</div><div class='xr-var-preview xr-preview'>dask.array&lt;chunksize=(30, 585, 1386), meta=np.ndarray&gt;</div><input id='attrs-995a69c7-aeec-4aed-926f-c6155c358ecd' class='xr-var-attrs-in' type='checkbox' ><label for='attrs-995a69c7-aeec-4aed-926f-c6155c358ecd' title='Show/Hide attributes'><svg class='icon xr-icon-file-text2'><use xlink:href='#icon-file-text2'></use></svg></label><input id='data-c16f5443-3daf-48fa-ba4d-38f1564b89b1' class='xr-var-data-in' type='checkbox'><label for='data-c16f5443-3daf-48fa-ba4d-38f1564b89b1' title='Show/Hide data repr'><svg class='icon xr-icon-database'><use xlink:href='#icon-database'></use></svg></label><div class='xr-var-attrs'><dl class='xr-attrs'><dt><span>coordinate_system :</span></dt><dd>WGS84,EPSG:4326</dd><dt><span>description :</span></dt><dd>100 hour fuel moisture</dd><dt><span>dimensions :</span></dt><dd>lon lat time</dd><dt><span>grid_mapping :</span></dt><dd>crs</dd><dt><span>long_name :</span></dt><dd>fm100</dd><dt><span>standard_name :</span></dt><dd>fm100</dd><dt><span>units :</span></dt><dd>Percent</dd></dl></div><div class='xr-var-data'><table>\n",
       "    <tr>\n",
       "        <td>\n",
       "            <table style=\"border-collapse: collapse;\">\n",
       "                <thead>\n",
       "                    <tr>\n",
       "                        <td> </td>\n",
       "                        <th> Array </th>\n",
       "                        <th> Chunk </th>\n",
       "                    </tr>\n",
       "                </thead>\n",
       "                <tbody>\n",
       "                    \n",
       "                    <tr>\n",
       "                        <th> Bytes </th>\n",
       "                        <td> 46.34 GiB </td>\n",
       "                        <td> 92.79 MiB </td>\n",
       "                    </tr>\n",
       "                    \n",
       "                    <tr>\n",
       "                        <th> Shape </th>\n",
       "                        <td> (15341, 585, 1386) </td>\n",
       "                        <td> (30, 585, 1386) </td>\n",
       "                    </tr>\n",
       "                    <tr>\n",
       "                        <th> Dask graph </th>\n",
       "                        <td colspan=\"2\"> 512 chunks in 2 graph layers </td>\n",
       "                    </tr>\n",
       "                    <tr>\n",
       "                        <th> Data type </th>\n",
       "                        <td colspan=\"2\"> float32 numpy.ndarray </td>\n",
       "                    </tr>\n",
       "                </tbody>\n",
       "            </table>\n",
       "        </td>\n",
       "        <td>\n",
       "        <svg width=\"168\" height=\"153\" style=\"stroke:rgb(0,0,0);stroke-width:1\" >\n",
       "\n",
       "  <!-- Horizontal lines -->\n",
       "  <line x1=\"10\" y1=\"0\" x2=\"80\" y2=\"70\" style=\"stroke-width:2\" />\n",
       "  <line x1=\"10\" y1=\"32\" x2=\"80\" y2=\"103\" style=\"stroke-width:2\" />\n",
       "\n",
       "  <!-- Vertical lines -->\n",
       "  <line x1=\"10\" y1=\"0\" x2=\"10\" y2=\"32\" style=\"stroke-width:2\" />\n",
       "  <line x1=\"13\" y1=\"3\" x2=\"13\" y2=\"36\" />\n",
       "  <line x1=\"17\" y1=\"7\" x2=\"17\" y2=\"40\" />\n",
       "  <line x1=\"21\" y1=\"11\" x2=\"21\" y2=\"43\" />\n",
       "  <line x1=\"24\" y1=\"14\" x2=\"24\" y2=\"47\" />\n",
       "  <line x1=\"28\" y1=\"18\" x2=\"28\" y2=\"51\" />\n",
       "  <line x1=\"32\" y1=\"22\" x2=\"32\" y2=\"55\" />\n",
       "  <line x1=\"35\" y1=\"25\" x2=\"35\" y2=\"58\" />\n",
       "  <line x1=\"39\" y1=\"29\" x2=\"39\" y2=\"62\" />\n",
       "  <line x1=\"43\" y1=\"33\" x2=\"43\" y2=\"66\" />\n",
       "  <line x1=\"47\" y1=\"37\" x2=\"47\" y2=\"69\" />\n",
       "  <line x1=\"50\" y1=\"40\" x2=\"50\" y2=\"73\" />\n",
       "  <line x1=\"54\" y1=\"44\" x2=\"54\" y2=\"77\" />\n",
       "  <line x1=\"58\" y1=\"48\" x2=\"58\" y2=\"81\" />\n",
       "  <line x1=\"62\" y1=\"52\" x2=\"62\" y2=\"84\" />\n",
       "  <line x1=\"65\" y1=\"55\" x2=\"65\" y2=\"88\" />\n",
       "  <line x1=\"69\" y1=\"59\" x2=\"69\" y2=\"92\" />\n",
       "  <line x1=\"73\" y1=\"63\" x2=\"73\" y2=\"96\" />\n",
       "  <line x1=\"76\" y1=\"66\" x2=\"76\" y2=\"99\" />\n",
       "  <line x1=\"80\" y1=\"70\" x2=\"80\" y2=\"103\" style=\"stroke-width:2\" />\n",
       "\n",
       "  <!-- Colored Rectangle -->\n",
       "  <polygon points=\"10.0,0.0 80.58823529411765,70.58823529411765 80.58823529411765,103.43010757359329 10.0,32.84187227947563\" style=\"fill:#8B4903A0;stroke-width:0\"/>\n",
       "\n",
       "  <!-- Horizontal lines -->\n",
       "  <line x1=\"10\" y1=\"0\" x2=\"48\" y2=\"0\" style=\"stroke-width:2\" />\n",
       "  <line x1=\"13\" y1=\"3\" x2=\"51\" y2=\"3\" />\n",
       "  <line x1=\"17\" y1=\"7\" x2=\"55\" y2=\"7\" />\n",
       "  <line x1=\"21\" y1=\"11\" x2=\"59\" y2=\"11\" />\n",
       "  <line x1=\"24\" y1=\"14\" x2=\"62\" y2=\"14\" />\n",
       "  <line x1=\"28\" y1=\"18\" x2=\"66\" y2=\"18\" />\n",
       "  <line x1=\"32\" y1=\"22\" x2=\"70\" y2=\"22\" />\n",
       "  <line x1=\"35\" y1=\"25\" x2=\"73\" y2=\"25\" />\n",
       "  <line x1=\"39\" y1=\"29\" x2=\"77\" y2=\"29\" />\n",
       "  <line x1=\"43\" y1=\"33\" x2=\"81\" y2=\"33\" />\n",
       "  <line x1=\"47\" y1=\"37\" x2=\"85\" y2=\"37\" />\n",
       "  <line x1=\"50\" y1=\"40\" x2=\"88\" y2=\"40\" />\n",
       "  <line x1=\"54\" y1=\"44\" x2=\"92\" y2=\"44\" />\n",
       "  <line x1=\"58\" y1=\"48\" x2=\"96\" y2=\"48\" />\n",
       "  <line x1=\"62\" y1=\"52\" x2=\"100\" y2=\"52\" />\n",
       "  <line x1=\"65\" y1=\"55\" x2=\"103\" y2=\"55\" />\n",
       "  <line x1=\"69\" y1=\"59\" x2=\"107\" y2=\"59\" />\n",
       "  <line x1=\"73\" y1=\"63\" x2=\"111\" y2=\"63\" />\n",
       "  <line x1=\"76\" y1=\"66\" x2=\"114\" y2=\"66\" />\n",
       "  <line x1=\"80\" y1=\"70\" x2=\"118\" y2=\"70\" style=\"stroke-width:2\" />\n",
       "\n",
       "  <!-- Vertical lines -->\n",
       "  <line x1=\"10\" y1=\"0\" x2=\"80\" y2=\"70\" style=\"stroke-width:2\" />\n",
       "  <line x1=\"48\" y1=\"0\" x2=\"118\" y2=\"70\" style=\"stroke-width:2\" />\n",
       "\n",
       "  <!-- Colored Rectangle -->\n",
       "  <polygon points=\"10.0,0.0 48.02689940743392,0.0 118.61513470155157,70.58823529411765 80.58823529411765,70.58823529411765\" style=\"fill:#8B4903A0;stroke-width:0\"/>\n",
       "\n",
       "  <!-- Horizontal lines -->\n",
       "  <line x1=\"80\" y1=\"70\" x2=\"118\" y2=\"70\" style=\"stroke-width:2\" />\n",
       "  <line x1=\"80\" y1=\"103\" x2=\"118\" y2=\"103\" style=\"stroke-width:2\" />\n",
       "\n",
       "  <!-- Vertical lines -->\n",
       "  <line x1=\"80\" y1=\"70\" x2=\"80\" y2=\"103\" style=\"stroke-width:2\" />\n",
       "  <line x1=\"118\" y1=\"70\" x2=\"118\" y2=\"103\" style=\"stroke-width:2\" />\n",
       "\n",
       "  <!-- Colored Rectangle -->\n",
       "  <polygon points=\"80.58823529411765,70.58823529411765 118.61513470155157,70.58823529411765 118.61513470155157,103.43010757359329 80.58823529411765,103.43010757359329\" style=\"fill:#ECB172A0;stroke-width:0\"/>\n",
       "\n",
       "  <!-- Text -->\n",
       "  <text x=\"99.601685\" y=\"123.430108\" font-size=\"1.0rem\" font-weight=\"100\" text-anchor=\"middle\" >1386</text>\n",
       "  <text x=\"138.615135\" y=\"87.009171\" font-size=\"1.0rem\" font-weight=\"100\" text-anchor=\"middle\" transform=\"rotate(-90,138.615135,87.009171)\">585</text>\n",
       "  <text x=\"35.294118\" y=\"88.135990\" font-size=\"1.0rem\" font-weight=\"100\" text-anchor=\"middle\" transform=\"rotate(45,35.294118,88.135990)\">15341</text>\n",
       "</svg>\n",
       "        </td>\n",
       "    </tr>\n",
       "</table></div></li><li class='xr-var-item'><div class='xr-var-name'><span>mean_vapor_pressure_deficit</span></div><div class='xr-var-dims'>(time, lat, lon)</div><div class='xr-var-dtype'>float32</div><div class='xr-var-preview xr-preview'>dask.array&lt;chunksize=(30, 585, 1386), meta=np.ndarray&gt;</div><input id='attrs-3afa8dec-d7c0-4b13-b391-05864ac973f6' class='xr-var-attrs-in' type='checkbox' ><label for='attrs-3afa8dec-d7c0-4b13-b391-05864ac973f6' title='Show/Hide attributes'><svg class='icon xr-icon-file-text2'><use xlink:href='#icon-file-text2'></use></svg></label><input id='data-2c40fc6b-66a8-4b27-9cb6-81f95e87b127' class='xr-var-data-in' type='checkbox'><label for='data-2c40fc6b-66a8-4b27-9cb6-81f95e87b127' title='Show/Hide data repr'><svg class='icon xr-icon-database'><use xlink:href='#icon-database'></use></svg></label><div class='xr-var-attrs'><dl class='xr-attrs'><dt><span>coordinate_system :</span></dt><dd>WGS84,EPSG:4326</dd><dt><span>description :</span></dt><dd>mean vapor presure deficit</dd><dt><span>dimensions :</span></dt><dd>lon lat time</dd><dt><span>grid_mapping :</span></dt><dd>crs</dd><dt><span>long_name :</span></dt><dd>vpd</dd><dt><span>standard_name :</span></dt><dd>vpd</dd><dt><span>units :</span></dt><dd>kPa</dd></dl></div><div class='xr-var-data'><table>\n",
       "    <tr>\n",
       "        <td>\n",
       "            <table style=\"border-collapse: collapse;\">\n",
       "                <thead>\n",
       "                    <tr>\n",
       "                        <td> </td>\n",
       "                        <th> Array </th>\n",
       "                        <th> Chunk </th>\n",
       "                    </tr>\n",
       "                </thead>\n",
       "                <tbody>\n",
       "                    \n",
       "                    <tr>\n",
       "                        <th> Bytes </th>\n",
       "                        <td> 46.34 GiB </td>\n",
       "                        <td> 92.79 MiB </td>\n",
       "                    </tr>\n",
       "                    \n",
       "                    <tr>\n",
       "                        <th> Shape </th>\n",
       "                        <td> (15341, 585, 1386) </td>\n",
       "                        <td> (30, 585, 1386) </td>\n",
       "                    </tr>\n",
       "                    <tr>\n",
       "                        <th> Dask graph </th>\n",
       "                        <td colspan=\"2\"> 512 chunks in 2 graph layers </td>\n",
       "                    </tr>\n",
       "                    <tr>\n",
       "                        <th> Data type </th>\n",
       "                        <td colspan=\"2\"> float32 numpy.ndarray </td>\n",
       "                    </tr>\n",
       "                </tbody>\n",
       "            </table>\n",
       "        </td>\n",
       "        <td>\n",
       "        <svg width=\"168\" height=\"153\" style=\"stroke:rgb(0,0,0);stroke-width:1\" >\n",
       "\n",
       "  <!-- Horizontal lines -->\n",
       "  <line x1=\"10\" y1=\"0\" x2=\"80\" y2=\"70\" style=\"stroke-width:2\" />\n",
       "  <line x1=\"10\" y1=\"32\" x2=\"80\" y2=\"103\" style=\"stroke-width:2\" />\n",
       "\n",
       "  <!-- Vertical lines -->\n",
       "  <line x1=\"10\" y1=\"0\" x2=\"10\" y2=\"32\" style=\"stroke-width:2\" />\n",
       "  <line x1=\"13\" y1=\"3\" x2=\"13\" y2=\"36\" />\n",
       "  <line x1=\"17\" y1=\"7\" x2=\"17\" y2=\"40\" />\n",
       "  <line x1=\"21\" y1=\"11\" x2=\"21\" y2=\"43\" />\n",
       "  <line x1=\"24\" y1=\"14\" x2=\"24\" y2=\"47\" />\n",
       "  <line x1=\"28\" y1=\"18\" x2=\"28\" y2=\"51\" />\n",
       "  <line x1=\"32\" y1=\"22\" x2=\"32\" y2=\"55\" />\n",
       "  <line x1=\"35\" y1=\"25\" x2=\"35\" y2=\"58\" />\n",
       "  <line x1=\"39\" y1=\"29\" x2=\"39\" y2=\"62\" />\n",
       "  <line x1=\"43\" y1=\"33\" x2=\"43\" y2=\"66\" />\n",
       "  <line x1=\"47\" y1=\"37\" x2=\"47\" y2=\"69\" />\n",
       "  <line x1=\"50\" y1=\"40\" x2=\"50\" y2=\"73\" />\n",
       "  <line x1=\"54\" y1=\"44\" x2=\"54\" y2=\"77\" />\n",
       "  <line x1=\"58\" y1=\"48\" x2=\"58\" y2=\"81\" />\n",
       "  <line x1=\"62\" y1=\"52\" x2=\"62\" y2=\"84\" />\n",
       "  <line x1=\"65\" y1=\"55\" x2=\"65\" y2=\"88\" />\n",
       "  <line x1=\"69\" y1=\"59\" x2=\"69\" y2=\"92\" />\n",
       "  <line x1=\"73\" y1=\"63\" x2=\"73\" y2=\"96\" />\n",
       "  <line x1=\"76\" y1=\"66\" x2=\"76\" y2=\"99\" />\n",
       "  <line x1=\"80\" y1=\"70\" x2=\"80\" y2=\"103\" style=\"stroke-width:2\" />\n",
       "\n",
       "  <!-- Colored Rectangle -->\n",
       "  <polygon points=\"10.0,0.0 80.58823529411765,70.58823529411765 80.58823529411765,103.43010757359329 10.0,32.84187227947563\" style=\"fill:#8B4903A0;stroke-width:0\"/>\n",
       "\n",
       "  <!-- Horizontal lines -->\n",
       "  <line x1=\"10\" y1=\"0\" x2=\"48\" y2=\"0\" style=\"stroke-width:2\" />\n",
       "  <line x1=\"13\" y1=\"3\" x2=\"51\" y2=\"3\" />\n",
       "  <line x1=\"17\" y1=\"7\" x2=\"55\" y2=\"7\" />\n",
       "  <line x1=\"21\" y1=\"11\" x2=\"59\" y2=\"11\" />\n",
       "  <line x1=\"24\" y1=\"14\" x2=\"62\" y2=\"14\" />\n",
       "  <line x1=\"28\" y1=\"18\" x2=\"66\" y2=\"18\" />\n",
       "  <line x1=\"32\" y1=\"22\" x2=\"70\" y2=\"22\" />\n",
       "  <line x1=\"35\" y1=\"25\" x2=\"73\" y2=\"25\" />\n",
       "  <line x1=\"39\" y1=\"29\" x2=\"77\" y2=\"29\" />\n",
       "  <line x1=\"43\" y1=\"33\" x2=\"81\" y2=\"33\" />\n",
       "  <line x1=\"47\" y1=\"37\" x2=\"85\" y2=\"37\" />\n",
       "  <line x1=\"50\" y1=\"40\" x2=\"88\" y2=\"40\" />\n",
       "  <line x1=\"54\" y1=\"44\" x2=\"92\" y2=\"44\" />\n",
       "  <line x1=\"58\" y1=\"48\" x2=\"96\" y2=\"48\" />\n",
       "  <line x1=\"62\" y1=\"52\" x2=\"100\" y2=\"52\" />\n",
       "  <line x1=\"65\" y1=\"55\" x2=\"103\" y2=\"55\" />\n",
       "  <line x1=\"69\" y1=\"59\" x2=\"107\" y2=\"59\" />\n",
       "  <line x1=\"73\" y1=\"63\" x2=\"111\" y2=\"63\" />\n",
       "  <line x1=\"76\" y1=\"66\" x2=\"114\" y2=\"66\" />\n",
       "  <line x1=\"80\" y1=\"70\" x2=\"118\" y2=\"70\" style=\"stroke-width:2\" />\n",
       "\n",
       "  <!-- Vertical lines -->\n",
       "  <line x1=\"10\" y1=\"0\" x2=\"80\" y2=\"70\" style=\"stroke-width:2\" />\n",
       "  <line x1=\"48\" y1=\"0\" x2=\"118\" y2=\"70\" style=\"stroke-width:2\" />\n",
       "\n",
       "  <!-- Colored Rectangle -->\n",
       "  <polygon points=\"10.0,0.0 48.02689940743392,0.0 118.61513470155157,70.58823529411765 80.58823529411765,70.58823529411765\" style=\"fill:#8B4903A0;stroke-width:0\"/>\n",
       "\n",
       "  <!-- Horizontal lines -->\n",
       "  <line x1=\"80\" y1=\"70\" x2=\"118\" y2=\"70\" style=\"stroke-width:2\" />\n",
       "  <line x1=\"80\" y1=\"103\" x2=\"118\" y2=\"103\" style=\"stroke-width:2\" />\n",
       "\n",
       "  <!-- Vertical lines -->\n",
       "  <line x1=\"80\" y1=\"70\" x2=\"80\" y2=\"103\" style=\"stroke-width:2\" />\n",
       "  <line x1=\"118\" y1=\"70\" x2=\"118\" y2=\"103\" style=\"stroke-width:2\" />\n",
       "\n",
       "  <!-- Colored Rectangle -->\n",
       "  <polygon points=\"80.58823529411765,70.58823529411765 118.61513470155157,70.58823529411765 118.61513470155157,103.43010757359329 80.58823529411765,103.43010757359329\" style=\"fill:#ECB172A0;stroke-width:0\"/>\n",
       "\n",
       "  <!-- Text -->\n",
       "  <text x=\"99.601685\" y=\"123.430108\" font-size=\"1.0rem\" font-weight=\"100\" text-anchor=\"middle\" >1386</text>\n",
       "  <text x=\"138.615135\" y=\"87.009171\" font-size=\"1.0rem\" font-weight=\"100\" text-anchor=\"middle\" transform=\"rotate(-90,138.615135,87.009171)\">585</text>\n",
       "  <text x=\"35.294118\" y=\"88.135990\" font-size=\"1.0rem\" font-weight=\"100\" text-anchor=\"middle\" transform=\"rotate(45,35.294118,88.135990)\">15341</text>\n",
       "</svg>\n",
       "        </td>\n",
       "    </tr>\n",
       "</table></div></li><li class='xr-var-item'><div class='xr-var-name'><span>potential_evapotranspiration</span></div><div class='xr-var-dims'>(time, lat, lon)</div><div class='xr-var-dtype'>float32</div><div class='xr-var-preview xr-preview'>dask.array&lt;chunksize=(30, 585, 1386), meta=np.ndarray&gt;</div><input id='attrs-96a9b362-8f40-4bf8-9db0-49722efaf67f' class='xr-var-attrs-in' type='checkbox' ><label for='attrs-96a9b362-8f40-4bf8-9db0-49722efaf67f' title='Show/Hide attributes'><svg class='icon xr-icon-file-text2'><use xlink:href='#icon-file-text2'></use></svg></label><input id='data-a79085fb-a2d7-4a76-8fc8-640b6ca41eb5' class='xr-var-data-in' type='checkbox'><label for='data-a79085fb-a2d7-4a76-8fc8-640b6ca41eb5' title='Show/Hide data repr'><svg class='icon xr-icon-database'><use xlink:href='#icon-database'></use></svg></label><div class='xr-var-attrs'><dl class='xr-attrs'><dt><span>coordinate_system :</span></dt><dd>WGS84,EPSG:4326</dd><dt><span>description :</span></dt><dd>Daily reference evapotranspiration (short grass)</dd><dt><span>dimensions :</span></dt><dd>lon lat time</dd><dt><span>grid_mapping :</span></dt><dd>crs</dd><dt><span>long_name :</span></dt><dd>pet</dd><dt><span>standard_name :</span></dt><dd>pet</dd><dt><span>units :</span></dt><dd>mm</dd></dl></div><div class='xr-var-data'><table>\n",
       "    <tr>\n",
       "        <td>\n",
       "            <table style=\"border-collapse: collapse;\">\n",
       "                <thead>\n",
       "                    <tr>\n",
       "                        <td> </td>\n",
       "                        <th> Array </th>\n",
       "                        <th> Chunk </th>\n",
       "                    </tr>\n",
       "                </thead>\n",
       "                <tbody>\n",
       "                    \n",
       "                    <tr>\n",
       "                        <th> Bytes </th>\n",
       "                        <td> 46.34 GiB </td>\n",
       "                        <td> 92.79 MiB </td>\n",
       "                    </tr>\n",
       "                    \n",
       "                    <tr>\n",
       "                        <th> Shape </th>\n",
       "                        <td> (15341, 585, 1386) </td>\n",
       "                        <td> (30, 585, 1386) </td>\n",
       "                    </tr>\n",
       "                    <tr>\n",
       "                        <th> Dask graph </th>\n",
       "                        <td colspan=\"2\"> 512 chunks in 2 graph layers </td>\n",
       "                    </tr>\n",
       "                    <tr>\n",
       "                        <th> Data type </th>\n",
       "                        <td colspan=\"2\"> float32 numpy.ndarray </td>\n",
       "                    </tr>\n",
       "                </tbody>\n",
       "            </table>\n",
       "        </td>\n",
       "        <td>\n",
       "        <svg width=\"168\" height=\"153\" style=\"stroke:rgb(0,0,0);stroke-width:1\" >\n",
       "\n",
       "  <!-- Horizontal lines -->\n",
       "  <line x1=\"10\" y1=\"0\" x2=\"80\" y2=\"70\" style=\"stroke-width:2\" />\n",
       "  <line x1=\"10\" y1=\"32\" x2=\"80\" y2=\"103\" style=\"stroke-width:2\" />\n",
       "\n",
       "  <!-- Vertical lines -->\n",
       "  <line x1=\"10\" y1=\"0\" x2=\"10\" y2=\"32\" style=\"stroke-width:2\" />\n",
       "  <line x1=\"13\" y1=\"3\" x2=\"13\" y2=\"36\" />\n",
       "  <line x1=\"17\" y1=\"7\" x2=\"17\" y2=\"40\" />\n",
       "  <line x1=\"21\" y1=\"11\" x2=\"21\" y2=\"43\" />\n",
       "  <line x1=\"24\" y1=\"14\" x2=\"24\" y2=\"47\" />\n",
       "  <line x1=\"28\" y1=\"18\" x2=\"28\" y2=\"51\" />\n",
       "  <line x1=\"32\" y1=\"22\" x2=\"32\" y2=\"55\" />\n",
       "  <line x1=\"35\" y1=\"25\" x2=\"35\" y2=\"58\" />\n",
       "  <line x1=\"39\" y1=\"29\" x2=\"39\" y2=\"62\" />\n",
       "  <line x1=\"43\" y1=\"33\" x2=\"43\" y2=\"66\" />\n",
       "  <line x1=\"47\" y1=\"37\" x2=\"47\" y2=\"69\" />\n",
       "  <line x1=\"50\" y1=\"40\" x2=\"50\" y2=\"73\" />\n",
       "  <line x1=\"54\" y1=\"44\" x2=\"54\" y2=\"77\" />\n",
       "  <line x1=\"58\" y1=\"48\" x2=\"58\" y2=\"81\" />\n",
       "  <line x1=\"62\" y1=\"52\" x2=\"62\" y2=\"84\" />\n",
       "  <line x1=\"65\" y1=\"55\" x2=\"65\" y2=\"88\" />\n",
       "  <line x1=\"69\" y1=\"59\" x2=\"69\" y2=\"92\" />\n",
       "  <line x1=\"73\" y1=\"63\" x2=\"73\" y2=\"96\" />\n",
       "  <line x1=\"76\" y1=\"66\" x2=\"76\" y2=\"99\" />\n",
       "  <line x1=\"80\" y1=\"70\" x2=\"80\" y2=\"103\" style=\"stroke-width:2\" />\n",
       "\n",
       "  <!-- Colored Rectangle -->\n",
       "  <polygon points=\"10.0,0.0 80.58823529411765,70.58823529411765 80.58823529411765,103.43010757359329 10.0,32.84187227947563\" style=\"fill:#8B4903A0;stroke-width:0\"/>\n",
       "\n",
       "  <!-- Horizontal lines -->\n",
       "  <line x1=\"10\" y1=\"0\" x2=\"48\" y2=\"0\" style=\"stroke-width:2\" />\n",
       "  <line x1=\"13\" y1=\"3\" x2=\"51\" y2=\"3\" />\n",
       "  <line x1=\"17\" y1=\"7\" x2=\"55\" y2=\"7\" />\n",
       "  <line x1=\"21\" y1=\"11\" x2=\"59\" y2=\"11\" />\n",
       "  <line x1=\"24\" y1=\"14\" x2=\"62\" y2=\"14\" />\n",
       "  <line x1=\"28\" y1=\"18\" x2=\"66\" y2=\"18\" />\n",
       "  <line x1=\"32\" y1=\"22\" x2=\"70\" y2=\"22\" />\n",
       "  <line x1=\"35\" y1=\"25\" x2=\"73\" y2=\"25\" />\n",
       "  <line x1=\"39\" y1=\"29\" x2=\"77\" y2=\"29\" />\n",
       "  <line x1=\"43\" y1=\"33\" x2=\"81\" y2=\"33\" />\n",
       "  <line x1=\"47\" y1=\"37\" x2=\"85\" y2=\"37\" />\n",
       "  <line x1=\"50\" y1=\"40\" x2=\"88\" y2=\"40\" />\n",
       "  <line x1=\"54\" y1=\"44\" x2=\"92\" y2=\"44\" />\n",
       "  <line x1=\"58\" y1=\"48\" x2=\"96\" y2=\"48\" />\n",
       "  <line x1=\"62\" y1=\"52\" x2=\"100\" y2=\"52\" />\n",
       "  <line x1=\"65\" y1=\"55\" x2=\"103\" y2=\"55\" />\n",
       "  <line x1=\"69\" y1=\"59\" x2=\"107\" y2=\"59\" />\n",
       "  <line x1=\"73\" y1=\"63\" x2=\"111\" y2=\"63\" />\n",
       "  <line x1=\"76\" y1=\"66\" x2=\"114\" y2=\"66\" />\n",
       "  <line x1=\"80\" y1=\"70\" x2=\"118\" y2=\"70\" style=\"stroke-width:2\" />\n",
       "\n",
       "  <!-- Vertical lines -->\n",
       "  <line x1=\"10\" y1=\"0\" x2=\"80\" y2=\"70\" style=\"stroke-width:2\" />\n",
       "  <line x1=\"48\" y1=\"0\" x2=\"118\" y2=\"70\" style=\"stroke-width:2\" />\n",
       "\n",
       "  <!-- Colored Rectangle -->\n",
       "  <polygon points=\"10.0,0.0 48.02689940743392,0.0 118.61513470155157,70.58823529411765 80.58823529411765,70.58823529411765\" style=\"fill:#8B4903A0;stroke-width:0\"/>\n",
       "\n",
       "  <!-- Horizontal lines -->\n",
       "  <line x1=\"80\" y1=\"70\" x2=\"118\" y2=\"70\" style=\"stroke-width:2\" />\n",
       "  <line x1=\"80\" y1=\"103\" x2=\"118\" y2=\"103\" style=\"stroke-width:2\" />\n",
       "\n",
       "  <!-- Vertical lines -->\n",
       "  <line x1=\"80\" y1=\"70\" x2=\"80\" y2=\"103\" style=\"stroke-width:2\" />\n",
       "  <line x1=\"118\" y1=\"70\" x2=\"118\" y2=\"103\" style=\"stroke-width:2\" />\n",
       "\n",
       "  <!-- Colored Rectangle -->\n",
       "  <polygon points=\"80.58823529411765,70.58823529411765 118.61513470155157,70.58823529411765 118.61513470155157,103.43010757359329 80.58823529411765,103.43010757359329\" style=\"fill:#ECB172A0;stroke-width:0\"/>\n",
       "\n",
       "  <!-- Text -->\n",
       "  <text x=\"99.601685\" y=\"123.430108\" font-size=\"1.0rem\" font-weight=\"100\" text-anchor=\"middle\" >1386</text>\n",
       "  <text x=\"138.615135\" y=\"87.009171\" font-size=\"1.0rem\" font-weight=\"100\" text-anchor=\"middle\" transform=\"rotate(-90,138.615135,87.009171)\">585</text>\n",
       "  <text x=\"35.294118\" y=\"88.135990\" font-size=\"1.0rem\" font-weight=\"100\" text-anchor=\"middle\" transform=\"rotate(45,35.294118,88.135990)\">15341</text>\n",
       "</svg>\n",
       "        </td>\n",
       "    </tr>\n",
       "</table></div></li><li class='xr-var-item'><div class='xr-var-name'><span>precipitation_amount</span></div><div class='xr-var-dims'>(time, lat, lon)</div><div class='xr-var-dtype'>float32</div><div class='xr-var-preview xr-preview'>dask.array&lt;chunksize=(30, 585, 1386), meta=np.ndarray&gt;</div><input id='attrs-56d385cf-9208-47af-bc4e-57bd22495e92' class='xr-var-attrs-in' type='checkbox' ><label for='attrs-56d385cf-9208-47af-bc4e-57bd22495e92' title='Show/Hide attributes'><svg class='icon xr-icon-file-text2'><use xlink:href='#icon-file-text2'></use></svg></label><input id='data-040d416d-2f04-410a-acb5-633533396f88' class='xr-var-data-in' type='checkbox'><label for='data-040d416d-2f04-410a-acb5-633533396f88' title='Show/Hide data repr'><svg class='icon xr-icon-database'><use xlink:href='#icon-database'></use></svg></label><div class='xr-var-attrs'><dl class='xr-attrs'><dt><span>coordinate_system :</span></dt><dd>WGS84,EPSG:4326</dd><dt><span>description :</span></dt><dd>Daily Accumulated Precipitation</dd><dt><span>dimensions :</span></dt><dd>lon lat time</dd><dt><span>grid_mapping :</span></dt><dd>crs</dd><dt><span>long_name :</span></dt><dd>pr</dd><dt><span>standard_name :</span></dt><dd>pr</dd><dt><span>units :</span></dt><dd>mm</dd></dl></div><div class='xr-var-data'><table>\n",
       "    <tr>\n",
       "        <td>\n",
       "            <table style=\"border-collapse: collapse;\">\n",
       "                <thead>\n",
       "                    <tr>\n",
       "                        <td> </td>\n",
       "                        <th> Array </th>\n",
       "                        <th> Chunk </th>\n",
       "                    </tr>\n",
       "                </thead>\n",
       "                <tbody>\n",
       "                    \n",
       "                    <tr>\n",
       "                        <th> Bytes </th>\n",
       "                        <td> 46.34 GiB </td>\n",
       "                        <td> 92.79 MiB </td>\n",
       "                    </tr>\n",
       "                    \n",
       "                    <tr>\n",
       "                        <th> Shape </th>\n",
       "                        <td> (15341, 585, 1386) </td>\n",
       "                        <td> (30, 585, 1386) </td>\n",
       "                    </tr>\n",
       "                    <tr>\n",
       "                        <th> Dask graph </th>\n",
       "                        <td colspan=\"2\"> 512 chunks in 2 graph layers </td>\n",
       "                    </tr>\n",
       "                    <tr>\n",
       "                        <th> Data type </th>\n",
       "                        <td colspan=\"2\"> float32 numpy.ndarray </td>\n",
       "                    </tr>\n",
       "                </tbody>\n",
       "            </table>\n",
       "        </td>\n",
       "        <td>\n",
       "        <svg width=\"168\" height=\"153\" style=\"stroke:rgb(0,0,0);stroke-width:1\" >\n",
       "\n",
       "  <!-- Horizontal lines -->\n",
       "  <line x1=\"10\" y1=\"0\" x2=\"80\" y2=\"70\" style=\"stroke-width:2\" />\n",
       "  <line x1=\"10\" y1=\"32\" x2=\"80\" y2=\"103\" style=\"stroke-width:2\" />\n",
       "\n",
       "  <!-- Vertical lines -->\n",
       "  <line x1=\"10\" y1=\"0\" x2=\"10\" y2=\"32\" style=\"stroke-width:2\" />\n",
       "  <line x1=\"13\" y1=\"3\" x2=\"13\" y2=\"36\" />\n",
       "  <line x1=\"17\" y1=\"7\" x2=\"17\" y2=\"40\" />\n",
       "  <line x1=\"21\" y1=\"11\" x2=\"21\" y2=\"43\" />\n",
       "  <line x1=\"24\" y1=\"14\" x2=\"24\" y2=\"47\" />\n",
       "  <line x1=\"28\" y1=\"18\" x2=\"28\" y2=\"51\" />\n",
       "  <line x1=\"32\" y1=\"22\" x2=\"32\" y2=\"55\" />\n",
       "  <line x1=\"35\" y1=\"25\" x2=\"35\" y2=\"58\" />\n",
       "  <line x1=\"39\" y1=\"29\" x2=\"39\" y2=\"62\" />\n",
       "  <line x1=\"43\" y1=\"33\" x2=\"43\" y2=\"66\" />\n",
       "  <line x1=\"47\" y1=\"37\" x2=\"47\" y2=\"69\" />\n",
       "  <line x1=\"50\" y1=\"40\" x2=\"50\" y2=\"73\" />\n",
       "  <line x1=\"54\" y1=\"44\" x2=\"54\" y2=\"77\" />\n",
       "  <line x1=\"58\" y1=\"48\" x2=\"58\" y2=\"81\" />\n",
       "  <line x1=\"62\" y1=\"52\" x2=\"62\" y2=\"84\" />\n",
       "  <line x1=\"65\" y1=\"55\" x2=\"65\" y2=\"88\" />\n",
       "  <line x1=\"69\" y1=\"59\" x2=\"69\" y2=\"92\" />\n",
       "  <line x1=\"73\" y1=\"63\" x2=\"73\" y2=\"96\" />\n",
       "  <line x1=\"76\" y1=\"66\" x2=\"76\" y2=\"99\" />\n",
       "  <line x1=\"80\" y1=\"70\" x2=\"80\" y2=\"103\" style=\"stroke-width:2\" />\n",
       "\n",
       "  <!-- Colored Rectangle -->\n",
       "  <polygon points=\"10.0,0.0 80.58823529411765,70.58823529411765 80.58823529411765,103.43010757359329 10.0,32.84187227947563\" style=\"fill:#8B4903A0;stroke-width:0\"/>\n",
       "\n",
       "  <!-- Horizontal lines -->\n",
       "  <line x1=\"10\" y1=\"0\" x2=\"48\" y2=\"0\" style=\"stroke-width:2\" />\n",
       "  <line x1=\"13\" y1=\"3\" x2=\"51\" y2=\"3\" />\n",
       "  <line x1=\"17\" y1=\"7\" x2=\"55\" y2=\"7\" />\n",
       "  <line x1=\"21\" y1=\"11\" x2=\"59\" y2=\"11\" />\n",
       "  <line x1=\"24\" y1=\"14\" x2=\"62\" y2=\"14\" />\n",
       "  <line x1=\"28\" y1=\"18\" x2=\"66\" y2=\"18\" />\n",
       "  <line x1=\"32\" y1=\"22\" x2=\"70\" y2=\"22\" />\n",
       "  <line x1=\"35\" y1=\"25\" x2=\"73\" y2=\"25\" />\n",
       "  <line x1=\"39\" y1=\"29\" x2=\"77\" y2=\"29\" />\n",
       "  <line x1=\"43\" y1=\"33\" x2=\"81\" y2=\"33\" />\n",
       "  <line x1=\"47\" y1=\"37\" x2=\"85\" y2=\"37\" />\n",
       "  <line x1=\"50\" y1=\"40\" x2=\"88\" y2=\"40\" />\n",
       "  <line x1=\"54\" y1=\"44\" x2=\"92\" y2=\"44\" />\n",
       "  <line x1=\"58\" y1=\"48\" x2=\"96\" y2=\"48\" />\n",
       "  <line x1=\"62\" y1=\"52\" x2=\"100\" y2=\"52\" />\n",
       "  <line x1=\"65\" y1=\"55\" x2=\"103\" y2=\"55\" />\n",
       "  <line x1=\"69\" y1=\"59\" x2=\"107\" y2=\"59\" />\n",
       "  <line x1=\"73\" y1=\"63\" x2=\"111\" y2=\"63\" />\n",
       "  <line x1=\"76\" y1=\"66\" x2=\"114\" y2=\"66\" />\n",
       "  <line x1=\"80\" y1=\"70\" x2=\"118\" y2=\"70\" style=\"stroke-width:2\" />\n",
       "\n",
       "  <!-- Vertical lines -->\n",
       "  <line x1=\"10\" y1=\"0\" x2=\"80\" y2=\"70\" style=\"stroke-width:2\" />\n",
       "  <line x1=\"48\" y1=\"0\" x2=\"118\" y2=\"70\" style=\"stroke-width:2\" />\n",
       "\n",
       "  <!-- Colored Rectangle -->\n",
       "  <polygon points=\"10.0,0.0 48.02689940743392,0.0 118.61513470155157,70.58823529411765 80.58823529411765,70.58823529411765\" style=\"fill:#8B4903A0;stroke-width:0\"/>\n",
       "\n",
       "  <!-- Horizontal lines -->\n",
       "  <line x1=\"80\" y1=\"70\" x2=\"118\" y2=\"70\" style=\"stroke-width:2\" />\n",
       "  <line x1=\"80\" y1=\"103\" x2=\"118\" y2=\"103\" style=\"stroke-width:2\" />\n",
       "\n",
       "  <!-- Vertical lines -->\n",
       "  <line x1=\"80\" y1=\"70\" x2=\"80\" y2=\"103\" style=\"stroke-width:2\" />\n",
       "  <line x1=\"118\" y1=\"70\" x2=\"118\" y2=\"103\" style=\"stroke-width:2\" />\n",
       "\n",
       "  <!-- Colored Rectangle -->\n",
       "  <polygon points=\"80.58823529411765,70.58823529411765 118.61513470155157,70.58823529411765 118.61513470155157,103.43010757359329 80.58823529411765,103.43010757359329\" style=\"fill:#ECB172A0;stroke-width:0\"/>\n",
       "\n",
       "  <!-- Text -->\n",
       "  <text x=\"99.601685\" y=\"123.430108\" font-size=\"1.0rem\" font-weight=\"100\" text-anchor=\"middle\" >1386</text>\n",
       "  <text x=\"138.615135\" y=\"87.009171\" font-size=\"1.0rem\" font-weight=\"100\" text-anchor=\"middle\" transform=\"rotate(-90,138.615135,87.009171)\">585</text>\n",
       "  <text x=\"35.294118\" y=\"88.135990\" font-size=\"1.0rem\" font-weight=\"100\" text-anchor=\"middle\" transform=\"rotate(45,35.294118,88.135990)\">15341</text>\n",
       "</svg>\n",
       "        </td>\n",
       "    </tr>\n",
       "</table></div></li><li class='xr-var-item'><div class='xr-var-name'><span>relative_humidity</span></div><div class='xr-var-dims'>(time, lat, lon)</div><div class='xr-var-dtype'>float32</div><div class='xr-var-preview xr-preview'>dask.array&lt;chunksize=(30, 585, 1386), meta=np.ndarray&gt;</div><input id='attrs-8fdb6074-aea2-49e6-82a2-5ded0ff1502a' class='xr-var-attrs-in' type='checkbox' ><label for='attrs-8fdb6074-aea2-49e6-82a2-5ded0ff1502a' title='Show/Hide attributes'><svg class='icon xr-icon-file-text2'><use xlink:href='#icon-file-text2'></use></svg></label><input id='data-e99e87f0-aa9d-45e5-b22c-23eb03bb36a9' class='xr-var-data-in' type='checkbox'><label for='data-e99e87f0-aa9d-45e5-b22c-23eb03bb36a9' title='Show/Hide data repr'><svg class='icon xr-icon-database'><use xlink:href='#icon-database'></use></svg></label><div class='xr-var-attrs'><dl class='xr-attrs'><dt><span>coordinate_system :</span></dt><dd>WGS84,EPSG:4326</dd><dt><span>description :</span></dt><dd>Daily Minimum Relative Humidity</dd><dt><span>dimensions :</span></dt><dd>lon lat time</dd><dt><span>grid_mapping :</span></dt><dd>crs</dd><dt><span>long_name :</span></dt><dd>rmin</dd><dt><span>standard_name :</span></dt><dd>rmin</dd><dt><span>units :</span></dt><dd>%</dd></dl></div><div class='xr-var-data'><table>\n",
       "    <tr>\n",
       "        <td>\n",
       "            <table style=\"border-collapse: collapse;\">\n",
       "                <thead>\n",
       "                    <tr>\n",
       "                        <td> </td>\n",
       "                        <th> Array </th>\n",
       "                        <th> Chunk </th>\n",
       "                    </tr>\n",
       "                </thead>\n",
       "                <tbody>\n",
       "                    \n",
       "                    <tr>\n",
       "                        <th> Bytes </th>\n",
       "                        <td> 46.34 GiB </td>\n",
       "                        <td> 92.79 MiB </td>\n",
       "                    </tr>\n",
       "                    \n",
       "                    <tr>\n",
       "                        <th> Shape </th>\n",
       "                        <td> (15341, 585, 1386) </td>\n",
       "                        <td> (30, 585, 1386) </td>\n",
       "                    </tr>\n",
       "                    <tr>\n",
       "                        <th> Dask graph </th>\n",
       "                        <td colspan=\"2\"> 512 chunks in 2 graph layers </td>\n",
       "                    </tr>\n",
       "                    <tr>\n",
       "                        <th> Data type </th>\n",
       "                        <td colspan=\"2\"> float32 numpy.ndarray </td>\n",
       "                    </tr>\n",
       "                </tbody>\n",
       "            </table>\n",
       "        </td>\n",
       "        <td>\n",
       "        <svg width=\"168\" height=\"153\" style=\"stroke:rgb(0,0,0);stroke-width:1\" >\n",
       "\n",
       "  <!-- Horizontal lines -->\n",
       "  <line x1=\"10\" y1=\"0\" x2=\"80\" y2=\"70\" style=\"stroke-width:2\" />\n",
       "  <line x1=\"10\" y1=\"32\" x2=\"80\" y2=\"103\" style=\"stroke-width:2\" />\n",
       "\n",
       "  <!-- Vertical lines -->\n",
       "  <line x1=\"10\" y1=\"0\" x2=\"10\" y2=\"32\" style=\"stroke-width:2\" />\n",
       "  <line x1=\"13\" y1=\"3\" x2=\"13\" y2=\"36\" />\n",
       "  <line x1=\"17\" y1=\"7\" x2=\"17\" y2=\"40\" />\n",
       "  <line x1=\"21\" y1=\"11\" x2=\"21\" y2=\"43\" />\n",
       "  <line x1=\"24\" y1=\"14\" x2=\"24\" y2=\"47\" />\n",
       "  <line x1=\"28\" y1=\"18\" x2=\"28\" y2=\"51\" />\n",
       "  <line x1=\"32\" y1=\"22\" x2=\"32\" y2=\"55\" />\n",
       "  <line x1=\"35\" y1=\"25\" x2=\"35\" y2=\"58\" />\n",
       "  <line x1=\"39\" y1=\"29\" x2=\"39\" y2=\"62\" />\n",
       "  <line x1=\"43\" y1=\"33\" x2=\"43\" y2=\"66\" />\n",
       "  <line x1=\"47\" y1=\"37\" x2=\"47\" y2=\"69\" />\n",
       "  <line x1=\"50\" y1=\"40\" x2=\"50\" y2=\"73\" />\n",
       "  <line x1=\"54\" y1=\"44\" x2=\"54\" y2=\"77\" />\n",
       "  <line x1=\"58\" y1=\"48\" x2=\"58\" y2=\"81\" />\n",
       "  <line x1=\"62\" y1=\"52\" x2=\"62\" y2=\"84\" />\n",
       "  <line x1=\"65\" y1=\"55\" x2=\"65\" y2=\"88\" />\n",
       "  <line x1=\"69\" y1=\"59\" x2=\"69\" y2=\"92\" />\n",
       "  <line x1=\"73\" y1=\"63\" x2=\"73\" y2=\"96\" />\n",
       "  <line x1=\"76\" y1=\"66\" x2=\"76\" y2=\"99\" />\n",
       "  <line x1=\"80\" y1=\"70\" x2=\"80\" y2=\"103\" style=\"stroke-width:2\" />\n",
       "\n",
       "  <!-- Colored Rectangle -->\n",
       "  <polygon points=\"10.0,0.0 80.58823529411765,70.58823529411765 80.58823529411765,103.43010757359329 10.0,32.84187227947563\" style=\"fill:#8B4903A0;stroke-width:0\"/>\n",
       "\n",
       "  <!-- Horizontal lines -->\n",
       "  <line x1=\"10\" y1=\"0\" x2=\"48\" y2=\"0\" style=\"stroke-width:2\" />\n",
       "  <line x1=\"13\" y1=\"3\" x2=\"51\" y2=\"3\" />\n",
       "  <line x1=\"17\" y1=\"7\" x2=\"55\" y2=\"7\" />\n",
       "  <line x1=\"21\" y1=\"11\" x2=\"59\" y2=\"11\" />\n",
       "  <line x1=\"24\" y1=\"14\" x2=\"62\" y2=\"14\" />\n",
       "  <line x1=\"28\" y1=\"18\" x2=\"66\" y2=\"18\" />\n",
       "  <line x1=\"32\" y1=\"22\" x2=\"70\" y2=\"22\" />\n",
       "  <line x1=\"35\" y1=\"25\" x2=\"73\" y2=\"25\" />\n",
       "  <line x1=\"39\" y1=\"29\" x2=\"77\" y2=\"29\" />\n",
       "  <line x1=\"43\" y1=\"33\" x2=\"81\" y2=\"33\" />\n",
       "  <line x1=\"47\" y1=\"37\" x2=\"85\" y2=\"37\" />\n",
       "  <line x1=\"50\" y1=\"40\" x2=\"88\" y2=\"40\" />\n",
       "  <line x1=\"54\" y1=\"44\" x2=\"92\" y2=\"44\" />\n",
       "  <line x1=\"58\" y1=\"48\" x2=\"96\" y2=\"48\" />\n",
       "  <line x1=\"62\" y1=\"52\" x2=\"100\" y2=\"52\" />\n",
       "  <line x1=\"65\" y1=\"55\" x2=\"103\" y2=\"55\" />\n",
       "  <line x1=\"69\" y1=\"59\" x2=\"107\" y2=\"59\" />\n",
       "  <line x1=\"73\" y1=\"63\" x2=\"111\" y2=\"63\" />\n",
       "  <line x1=\"76\" y1=\"66\" x2=\"114\" y2=\"66\" />\n",
       "  <line x1=\"80\" y1=\"70\" x2=\"118\" y2=\"70\" style=\"stroke-width:2\" />\n",
       "\n",
       "  <!-- Vertical lines -->\n",
       "  <line x1=\"10\" y1=\"0\" x2=\"80\" y2=\"70\" style=\"stroke-width:2\" />\n",
       "  <line x1=\"48\" y1=\"0\" x2=\"118\" y2=\"70\" style=\"stroke-width:2\" />\n",
       "\n",
       "  <!-- Colored Rectangle -->\n",
       "  <polygon points=\"10.0,0.0 48.02689940743392,0.0 118.61513470155157,70.58823529411765 80.58823529411765,70.58823529411765\" style=\"fill:#8B4903A0;stroke-width:0\"/>\n",
       "\n",
       "  <!-- Horizontal lines -->\n",
       "  <line x1=\"80\" y1=\"70\" x2=\"118\" y2=\"70\" style=\"stroke-width:2\" />\n",
       "  <line x1=\"80\" y1=\"103\" x2=\"118\" y2=\"103\" style=\"stroke-width:2\" />\n",
       "\n",
       "  <!-- Vertical lines -->\n",
       "  <line x1=\"80\" y1=\"70\" x2=\"80\" y2=\"103\" style=\"stroke-width:2\" />\n",
       "  <line x1=\"118\" y1=\"70\" x2=\"118\" y2=\"103\" style=\"stroke-width:2\" />\n",
       "\n",
       "  <!-- Colored Rectangle -->\n",
       "  <polygon points=\"80.58823529411765,70.58823529411765 118.61513470155157,70.58823529411765 118.61513470155157,103.43010757359329 80.58823529411765,103.43010757359329\" style=\"fill:#ECB172A0;stroke-width:0\"/>\n",
       "\n",
       "  <!-- Text -->\n",
       "  <text x=\"99.601685\" y=\"123.430108\" font-size=\"1.0rem\" font-weight=\"100\" text-anchor=\"middle\" >1386</text>\n",
       "  <text x=\"138.615135\" y=\"87.009171\" font-size=\"1.0rem\" font-weight=\"100\" text-anchor=\"middle\" transform=\"rotate(-90,138.615135,87.009171)\">585</text>\n",
       "  <text x=\"35.294118\" y=\"88.135990\" font-size=\"1.0rem\" font-weight=\"100\" text-anchor=\"middle\" transform=\"rotate(45,35.294118,88.135990)\">15341</text>\n",
       "</svg>\n",
       "        </td>\n",
       "    </tr>\n",
       "</table></div></li><li class='xr-var-item'><div class='xr-var-name'><span>specific_humidity</span></div><div class='xr-var-dims'>(time, lat, lon)</div><div class='xr-var-dtype'>float32</div><div class='xr-var-preview xr-preview'>dask.array&lt;chunksize=(30, 585, 1386), meta=np.ndarray&gt;</div><input id='attrs-4961a96f-d84c-43ca-a2b3-f187926cd682' class='xr-var-attrs-in' type='checkbox' ><label for='attrs-4961a96f-d84c-43ca-a2b3-f187926cd682' title='Show/Hide attributes'><svg class='icon xr-icon-file-text2'><use xlink:href='#icon-file-text2'></use></svg></label><input id='data-46c189db-c4ce-4cf6-b9e9-25814ee3d759' class='xr-var-data-in' type='checkbox'><label for='data-46c189db-c4ce-4cf6-b9e9-25814ee3d759' title='Show/Hide data repr'><svg class='icon xr-icon-database'><use xlink:href='#icon-database'></use></svg></label><div class='xr-var-attrs'><dl class='xr-attrs'><dt><span>coordinate_system :</span></dt><dd>WGS84,EPSG:4326</dd><dt><span>description :</span></dt><dd>Daily mean specific humidity</dd><dt><span>dimensions :</span></dt><dd>lon lat time</dd><dt><span>grid_mapping :</span></dt><dd>crs</dd><dt><span>long_name :</span></dt><dd>sph</dd><dt><span>standard_name :</span></dt><dd>sph</dd><dt><span>units :</span></dt><dd>kg/kg</dd></dl></div><div class='xr-var-data'><table>\n",
       "    <tr>\n",
       "        <td>\n",
       "            <table style=\"border-collapse: collapse;\">\n",
       "                <thead>\n",
       "                    <tr>\n",
       "                        <td> </td>\n",
       "                        <th> Array </th>\n",
       "                        <th> Chunk </th>\n",
       "                    </tr>\n",
       "                </thead>\n",
       "                <tbody>\n",
       "                    \n",
       "                    <tr>\n",
       "                        <th> Bytes </th>\n",
       "                        <td> 46.34 GiB </td>\n",
       "                        <td> 92.79 MiB </td>\n",
       "                    </tr>\n",
       "                    \n",
       "                    <tr>\n",
       "                        <th> Shape </th>\n",
       "                        <td> (15341, 585, 1386) </td>\n",
       "                        <td> (30, 585, 1386) </td>\n",
       "                    </tr>\n",
       "                    <tr>\n",
       "                        <th> Dask graph </th>\n",
       "                        <td colspan=\"2\"> 512 chunks in 2 graph layers </td>\n",
       "                    </tr>\n",
       "                    <tr>\n",
       "                        <th> Data type </th>\n",
       "                        <td colspan=\"2\"> float32 numpy.ndarray </td>\n",
       "                    </tr>\n",
       "                </tbody>\n",
       "            </table>\n",
       "        </td>\n",
       "        <td>\n",
       "        <svg width=\"168\" height=\"153\" style=\"stroke:rgb(0,0,0);stroke-width:1\" >\n",
       "\n",
       "  <!-- Horizontal lines -->\n",
       "  <line x1=\"10\" y1=\"0\" x2=\"80\" y2=\"70\" style=\"stroke-width:2\" />\n",
       "  <line x1=\"10\" y1=\"32\" x2=\"80\" y2=\"103\" style=\"stroke-width:2\" />\n",
       "\n",
       "  <!-- Vertical lines -->\n",
       "  <line x1=\"10\" y1=\"0\" x2=\"10\" y2=\"32\" style=\"stroke-width:2\" />\n",
       "  <line x1=\"13\" y1=\"3\" x2=\"13\" y2=\"36\" />\n",
       "  <line x1=\"17\" y1=\"7\" x2=\"17\" y2=\"40\" />\n",
       "  <line x1=\"21\" y1=\"11\" x2=\"21\" y2=\"43\" />\n",
       "  <line x1=\"24\" y1=\"14\" x2=\"24\" y2=\"47\" />\n",
       "  <line x1=\"28\" y1=\"18\" x2=\"28\" y2=\"51\" />\n",
       "  <line x1=\"32\" y1=\"22\" x2=\"32\" y2=\"55\" />\n",
       "  <line x1=\"35\" y1=\"25\" x2=\"35\" y2=\"58\" />\n",
       "  <line x1=\"39\" y1=\"29\" x2=\"39\" y2=\"62\" />\n",
       "  <line x1=\"43\" y1=\"33\" x2=\"43\" y2=\"66\" />\n",
       "  <line x1=\"47\" y1=\"37\" x2=\"47\" y2=\"69\" />\n",
       "  <line x1=\"50\" y1=\"40\" x2=\"50\" y2=\"73\" />\n",
       "  <line x1=\"54\" y1=\"44\" x2=\"54\" y2=\"77\" />\n",
       "  <line x1=\"58\" y1=\"48\" x2=\"58\" y2=\"81\" />\n",
       "  <line x1=\"62\" y1=\"52\" x2=\"62\" y2=\"84\" />\n",
       "  <line x1=\"65\" y1=\"55\" x2=\"65\" y2=\"88\" />\n",
       "  <line x1=\"69\" y1=\"59\" x2=\"69\" y2=\"92\" />\n",
       "  <line x1=\"73\" y1=\"63\" x2=\"73\" y2=\"96\" />\n",
       "  <line x1=\"76\" y1=\"66\" x2=\"76\" y2=\"99\" />\n",
       "  <line x1=\"80\" y1=\"70\" x2=\"80\" y2=\"103\" style=\"stroke-width:2\" />\n",
       "\n",
       "  <!-- Colored Rectangle -->\n",
       "  <polygon points=\"10.0,0.0 80.58823529411765,70.58823529411765 80.58823529411765,103.43010757359329 10.0,32.84187227947563\" style=\"fill:#8B4903A0;stroke-width:0\"/>\n",
       "\n",
       "  <!-- Horizontal lines -->\n",
       "  <line x1=\"10\" y1=\"0\" x2=\"48\" y2=\"0\" style=\"stroke-width:2\" />\n",
       "  <line x1=\"13\" y1=\"3\" x2=\"51\" y2=\"3\" />\n",
       "  <line x1=\"17\" y1=\"7\" x2=\"55\" y2=\"7\" />\n",
       "  <line x1=\"21\" y1=\"11\" x2=\"59\" y2=\"11\" />\n",
       "  <line x1=\"24\" y1=\"14\" x2=\"62\" y2=\"14\" />\n",
       "  <line x1=\"28\" y1=\"18\" x2=\"66\" y2=\"18\" />\n",
       "  <line x1=\"32\" y1=\"22\" x2=\"70\" y2=\"22\" />\n",
       "  <line x1=\"35\" y1=\"25\" x2=\"73\" y2=\"25\" />\n",
       "  <line x1=\"39\" y1=\"29\" x2=\"77\" y2=\"29\" />\n",
       "  <line x1=\"43\" y1=\"33\" x2=\"81\" y2=\"33\" />\n",
       "  <line x1=\"47\" y1=\"37\" x2=\"85\" y2=\"37\" />\n",
       "  <line x1=\"50\" y1=\"40\" x2=\"88\" y2=\"40\" />\n",
       "  <line x1=\"54\" y1=\"44\" x2=\"92\" y2=\"44\" />\n",
       "  <line x1=\"58\" y1=\"48\" x2=\"96\" y2=\"48\" />\n",
       "  <line x1=\"62\" y1=\"52\" x2=\"100\" y2=\"52\" />\n",
       "  <line x1=\"65\" y1=\"55\" x2=\"103\" y2=\"55\" />\n",
       "  <line x1=\"69\" y1=\"59\" x2=\"107\" y2=\"59\" />\n",
       "  <line x1=\"73\" y1=\"63\" x2=\"111\" y2=\"63\" />\n",
       "  <line x1=\"76\" y1=\"66\" x2=\"114\" y2=\"66\" />\n",
       "  <line x1=\"80\" y1=\"70\" x2=\"118\" y2=\"70\" style=\"stroke-width:2\" />\n",
       "\n",
       "  <!-- Vertical lines -->\n",
       "  <line x1=\"10\" y1=\"0\" x2=\"80\" y2=\"70\" style=\"stroke-width:2\" />\n",
       "  <line x1=\"48\" y1=\"0\" x2=\"118\" y2=\"70\" style=\"stroke-width:2\" />\n",
       "\n",
       "  <!-- Colored Rectangle -->\n",
       "  <polygon points=\"10.0,0.0 48.02689940743392,0.0 118.61513470155157,70.58823529411765 80.58823529411765,70.58823529411765\" style=\"fill:#8B4903A0;stroke-width:0\"/>\n",
       "\n",
       "  <!-- Horizontal lines -->\n",
       "  <line x1=\"80\" y1=\"70\" x2=\"118\" y2=\"70\" style=\"stroke-width:2\" />\n",
       "  <line x1=\"80\" y1=\"103\" x2=\"118\" y2=\"103\" style=\"stroke-width:2\" />\n",
       "\n",
       "  <!-- Vertical lines -->\n",
       "  <line x1=\"80\" y1=\"70\" x2=\"80\" y2=\"103\" style=\"stroke-width:2\" />\n",
       "  <line x1=\"118\" y1=\"70\" x2=\"118\" y2=\"103\" style=\"stroke-width:2\" />\n",
       "\n",
       "  <!-- Colored Rectangle -->\n",
       "  <polygon points=\"80.58823529411765,70.58823529411765 118.61513470155157,70.58823529411765 118.61513470155157,103.43010757359329 80.58823529411765,103.43010757359329\" style=\"fill:#ECB172A0;stroke-width:0\"/>\n",
       "\n",
       "  <!-- Text -->\n",
       "  <text x=\"99.601685\" y=\"123.430108\" font-size=\"1.0rem\" font-weight=\"100\" text-anchor=\"middle\" >1386</text>\n",
       "  <text x=\"138.615135\" y=\"87.009171\" font-size=\"1.0rem\" font-weight=\"100\" text-anchor=\"middle\" transform=\"rotate(-90,138.615135,87.009171)\">585</text>\n",
       "  <text x=\"35.294118\" y=\"88.135990\" font-size=\"1.0rem\" font-weight=\"100\" text-anchor=\"middle\" transform=\"rotate(45,35.294118,88.135990)\">15341</text>\n",
       "</svg>\n",
       "        </td>\n",
       "    </tr>\n",
       "</table></div></li><li class='xr-var-item'><div class='xr-var-name'><span>surface_downwelling_shortwave_flux_in_air</span></div><div class='xr-var-dims'>(time, lat, lon)</div><div class='xr-var-dtype'>float32</div><div class='xr-var-preview xr-preview'>dask.array&lt;chunksize=(30, 585, 1386), meta=np.ndarray&gt;</div><input id='attrs-dca51c7c-f696-4e30-a2d0-816da96671f5' class='xr-var-attrs-in' type='checkbox' ><label for='attrs-dca51c7c-f696-4e30-a2d0-816da96671f5' title='Show/Hide attributes'><svg class='icon xr-icon-file-text2'><use xlink:href='#icon-file-text2'></use></svg></label><input id='data-e601d6c7-9b25-4b8c-9de2-c9c39122e17f' class='xr-var-data-in' type='checkbox'><label for='data-e601d6c7-9b25-4b8c-9de2-c9c39122e17f' title='Show/Hide data repr'><svg class='icon xr-icon-database'><use xlink:href='#icon-database'></use></svg></label><div class='xr-var-attrs'><dl class='xr-attrs'><dt><span>coordinate_system :</span></dt><dd>WGS84,EPSG:4326</dd><dt><span>description :</span></dt><dd>Daily Mean downward shortwave radiation at surface</dd><dt><span>dimensions :</span></dt><dd>lon lat time</dd><dt><span>grid_mapping :</span></dt><dd>crs</dd><dt><span>long_name :</span></dt><dd>srad</dd><dt><span>standard_name :</span></dt><dd>srad</dd><dt><span>units :</span></dt><dd>W m-2</dd></dl></div><div class='xr-var-data'><table>\n",
       "    <tr>\n",
       "        <td>\n",
       "            <table style=\"border-collapse: collapse;\">\n",
       "                <thead>\n",
       "                    <tr>\n",
       "                        <td> </td>\n",
       "                        <th> Array </th>\n",
       "                        <th> Chunk </th>\n",
       "                    </tr>\n",
       "                </thead>\n",
       "                <tbody>\n",
       "                    \n",
       "                    <tr>\n",
       "                        <th> Bytes </th>\n",
       "                        <td> 46.34 GiB </td>\n",
       "                        <td> 92.79 MiB </td>\n",
       "                    </tr>\n",
       "                    \n",
       "                    <tr>\n",
       "                        <th> Shape </th>\n",
       "                        <td> (15341, 585, 1386) </td>\n",
       "                        <td> (30, 585, 1386) </td>\n",
       "                    </tr>\n",
       "                    <tr>\n",
       "                        <th> Dask graph </th>\n",
       "                        <td colspan=\"2\"> 512 chunks in 2 graph layers </td>\n",
       "                    </tr>\n",
       "                    <tr>\n",
       "                        <th> Data type </th>\n",
       "                        <td colspan=\"2\"> float32 numpy.ndarray </td>\n",
       "                    </tr>\n",
       "                </tbody>\n",
       "            </table>\n",
       "        </td>\n",
       "        <td>\n",
       "        <svg width=\"168\" height=\"153\" style=\"stroke:rgb(0,0,0);stroke-width:1\" >\n",
       "\n",
       "  <!-- Horizontal lines -->\n",
       "  <line x1=\"10\" y1=\"0\" x2=\"80\" y2=\"70\" style=\"stroke-width:2\" />\n",
       "  <line x1=\"10\" y1=\"32\" x2=\"80\" y2=\"103\" style=\"stroke-width:2\" />\n",
       "\n",
       "  <!-- Vertical lines -->\n",
       "  <line x1=\"10\" y1=\"0\" x2=\"10\" y2=\"32\" style=\"stroke-width:2\" />\n",
       "  <line x1=\"13\" y1=\"3\" x2=\"13\" y2=\"36\" />\n",
       "  <line x1=\"17\" y1=\"7\" x2=\"17\" y2=\"40\" />\n",
       "  <line x1=\"21\" y1=\"11\" x2=\"21\" y2=\"43\" />\n",
       "  <line x1=\"24\" y1=\"14\" x2=\"24\" y2=\"47\" />\n",
       "  <line x1=\"28\" y1=\"18\" x2=\"28\" y2=\"51\" />\n",
       "  <line x1=\"32\" y1=\"22\" x2=\"32\" y2=\"55\" />\n",
       "  <line x1=\"35\" y1=\"25\" x2=\"35\" y2=\"58\" />\n",
       "  <line x1=\"39\" y1=\"29\" x2=\"39\" y2=\"62\" />\n",
       "  <line x1=\"43\" y1=\"33\" x2=\"43\" y2=\"66\" />\n",
       "  <line x1=\"47\" y1=\"37\" x2=\"47\" y2=\"69\" />\n",
       "  <line x1=\"50\" y1=\"40\" x2=\"50\" y2=\"73\" />\n",
       "  <line x1=\"54\" y1=\"44\" x2=\"54\" y2=\"77\" />\n",
       "  <line x1=\"58\" y1=\"48\" x2=\"58\" y2=\"81\" />\n",
       "  <line x1=\"62\" y1=\"52\" x2=\"62\" y2=\"84\" />\n",
       "  <line x1=\"65\" y1=\"55\" x2=\"65\" y2=\"88\" />\n",
       "  <line x1=\"69\" y1=\"59\" x2=\"69\" y2=\"92\" />\n",
       "  <line x1=\"73\" y1=\"63\" x2=\"73\" y2=\"96\" />\n",
       "  <line x1=\"76\" y1=\"66\" x2=\"76\" y2=\"99\" />\n",
       "  <line x1=\"80\" y1=\"70\" x2=\"80\" y2=\"103\" style=\"stroke-width:2\" />\n",
       "\n",
       "  <!-- Colored Rectangle -->\n",
       "  <polygon points=\"10.0,0.0 80.58823529411765,70.58823529411765 80.58823529411765,103.43010757359329 10.0,32.84187227947563\" style=\"fill:#8B4903A0;stroke-width:0\"/>\n",
       "\n",
       "  <!-- Horizontal lines -->\n",
       "  <line x1=\"10\" y1=\"0\" x2=\"48\" y2=\"0\" style=\"stroke-width:2\" />\n",
       "  <line x1=\"13\" y1=\"3\" x2=\"51\" y2=\"3\" />\n",
       "  <line x1=\"17\" y1=\"7\" x2=\"55\" y2=\"7\" />\n",
       "  <line x1=\"21\" y1=\"11\" x2=\"59\" y2=\"11\" />\n",
       "  <line x1=\"24\" y1=\"14\" x2=\"62\" y2=\"14\" />\n",
       "  <line x1=\"28\" y1=\"18\" x2=\"66\" y2=\"18\" />\n",
       "  <line x1=\"32\" y1=\"22\" x2=\"70\" y2=\"22\" />\n",
       "  <line x1=\"35\" y1=\"25\" x2=\"73\" y2=\"25\" />\n",
       "  <line x1=\"39\" y1=\"29\" x2=\"77\" y2=\"29\" />\n",
       "  <line x1=\"43\" y1=\"33\" x2=\"81\" y2=\"33\" />\n",
       "  <line x1=\"47\" y1=\"37\" x2=\"85\" y2=\"37\" />\n",
       "  <line x1=\"50\" y1=\"40\" x2=\"88\" y2=\"40\" />\n",
       "  <line x1=\"54\" y1=\"44\" x2=\"92\" y2=\"44\" />\n",
       "  <line x1=\"58\" y1=\"48\" x2=\"96\" y2=\"48\" />\n",
       "  <line x1=\"62\" y1=\"52\" x2=\"100\" y2=\"52\" />\n",
       "  <line x1=\"65\" y1=\"55\" x2=\"103\" y2=\"55\" />\n",
       "  <line x1=\"69\" y1=\"59\" x2=\"107\" y2=\"59\" />\n",
       "  <line x1=\"73\" y1=\"63\" x2=\"111\" y2=\"63\" />\n",
       "  <line x1=\"76\" y1=\"66\" x2=\"114\" y2=\"66\" />\n",
       "  <line x1=\"80\" y1=\"70\" x2=\"118\" y2=\"70\" style=\"stroke-width:2\" />\n",
       "\n",
       "  <!-- Vertical lines -->\n",
       "  <line x1=\"10\" y1=\"0\" x2=\"80\" y2=\"70\" style=\"stroke-width:2\" />\n",
       "  <line x1=\"48\" y1=\"0\" x2=\"118\" y2=\"70\" style=\"stroke-width:2\" />\n",
       "\n",
       "  <!-- Colored Rectangle -->\n",
       "  <polygon points=\"10.0,0.0 48.02689940743392,0.0 118.61513470155157,70.58823529411765 80.58823529411765,70.58823529411765\" style=\"fill:#8B4903A0;stroke-width:0\"/>\n",
       "\n",
       "  <!-- Horizontal lines -->\n",
       "  <line x1=\"80\" y1=\"70\" x2=\"118\" y2=\"70\" style=\"stroke-width:2\" />\n",
       "  <line x1=\"80\" y1=\"103\" x2=\"118\" y2=\"103\" style=\"stroke-width:2\" />\n",
       "\n",
       "  <!-- Vertical lines -->\n",
       "  <line x1=\"80\" y1=\"70\" x2=\"80\" y2=\"103\" style=\"stroke-width:2\" />\n",
       "  <line x1=\"118\" y1=\"70\" x2=\"118\" y2=\"103\" style=\"stroke-width:2\" />\n",
       "\n",
       "  <!-- Colored Rectangle -->\n",
       "  <polygon points=\"80.58823529411765,70.58823529411765 118.61513470155157,70.58823529411765 118.61513470155157,103.43010757359329 80.58823529411765,103.43010757359329\" style=\"fill:#ECB172A0;stroke-width:0\"/>\n",
       "\n",
       "  <!-- Text -->\n",
       "  <text x=\"99.601685\" y=\"123.430108\" font-size=\"1.0rem\" font-weight=\"100\" text-anchor=\"middle\" >1386</text>\n",
       "  <text x=\"138.615135\" y=\"87.009171\" font-size=\"1.0rem\" font-weight=\"100\" text-anchor=\"middle\" transform=\"rotate(-90,138.615135,87.009171)\">585</text>\n",
       "  <text x=\"35.294118\" y=\"88.135990\" font-size=\"1.0rem\" font-weight=\"100\" text-anchor=\"middle\" transform=\"rotate(45,35.294118,88.135990)\">15341</text>\n",
       "</svg>\n",
       "        </td>\n",
       "    </tr>\n",
       "</table></div></li><li class='xr-var-item'><div class='xr-var-name'><span>wind_from_direction</span></div><div class='xr-var-dims'>(time, lat, lon)</div><div class='xr-var-dtype'>float32</div><div class='xr-var-preview xr-preview'>dask.array&lt;chunksize=(30, 585, 1386), meta=np.ndarray&gt;</div><input id='attrs-9c68fa18-58d9-41e9-a17a-6bbbf8c39311' class='xr-var-attrs-in' type='checkbox' ><label for='attrs-9c68fa18-58d9-41e9-a17a-6bbbf8c39311' title='Show/Hide attributes'><svg class='icon xr-icon-file-text2'><use xlink:href='#icon-file-text2'></use></svg></label><input id='data-d27c16ac-e34f-4bda-a6f5-89f0390dc383' class='xr-var-data-in' type='checkbox'><label for='data-d27c16ac-e34f-4bda-a6f5-89f0390dc383' title='Show/Hide data repr'><svg class='icon xr-icon-database'><use xlink:href='#icon-database'></use></svg></label><div class='xr-var-attrs'><dl class='xr-attrs'><dt><span>coordinate_system :</span></dt><dd>WGS84,EPSG:4326</dd><dt><span>description :</span></dt><dd>Daily mean wind direction</dd><dt><span>dimensions :</span></dt><dd>lon lat time</dd><dt><span>grid_mapping :</span></dt><dd>crs</dd><dt><span>long_name :</span></dt><dd>th</dd><dt><span>standard_name :</span></dt><dd>th</dd><dt><span>units :</span></dt><dd>Degrees Clockwise from north</dd></dl></div><div class='xr-var-data'><table>\n",
       "    <tr>\n",
       "        <td>\n",
       "            <table style=\"border-collapse: collapse;\">\n",
       "                <thead>\n",
       "                    <tr>\n",
       "                        <td> </td>\n",
       "                        <th> Array </th>\n",
       "                        <th> Chunk </th>\n",
       "                    </tr>\n",
       "                </thead>\n",
       "                <tbody>\n",
       "                    \n",
       "                    <tr>\n",
       "                        <th> Bytes </th>\n",
       "                        <td> 46.34 GiB </td>\n",
       "                        <td> 92.79 MiB </td>\n",
       "                    </tr>\n",
       "                    \n",
       "                    <tr>\n",
       "                        <th> Shape </th>\n",
       "                        <td> (15341, 585, 1386) </td>\n",
       "                        <td> (30, 585, 1386) </td>\n",
       "                    </tr>\n",
       "                    <tr>\n",
       "                        <th> Dask graph </th>\n",
       "                        <td colspan=\"2\"> 512 chunks in 2 graph layers </td>\n",
       "                    </tr>\n",
       "                    <tr>\n",
       "                        <th> Data type </th>\n",
       "                        <td colspan=\"2\"> float32 numpy.ndarray </td>\n",
       "                    </tr>\n",
       "                </tbody>\n",
       "            </table>\n",
       "        </td>\n",
       "        <td>\n",
       "        <svg width=\"168\" height=\"153\" style=\"stroke:rgb(0,0,0);stroke-width:1\" >\n",
       "\n",
       "  <!-- Horizontal lines -->\n",
       "  <line x1=\"10\" y1=\"0\" x2=\"80\" y2=\"70\" style=\"stroke-width:2\" />\n",
       "  <line x1=\"10\" y1=\"32\" x2=\"80\" y2=\"103\" style=\"stroke-width:2\" />\n",
       "\n",
       "  <!-- Vertical lines -->\n",
       "  <line x1=\"10\" y1=\"0\" x2=\"10\" y2=\"32\" style=\"stroke-width:2\" />\n",
       "  <line x1=\"13\" y1=\"3\" x2=\"13\" y2=\"36\" />\n",
       "  <line x1=\"17\" y1=\"7\" x2=\"17\" y2=\"40\" />\n",
       "  <line x1=\"21\" y1=\"11\" x2=\"21\" y2=\"43\" />\n",
       "  <line x1=\"24\" y1=\"14\" x2=\"24\" y2=\"47\" />\n",
       "  <line x1=\"28\" y1=\"18\" x2=\"28\" y2=\"51\" />\n",
       "  <line x1=\"32\" y1=\"22\" x2=\"32\" y2=\"55\" />\n",
       "  <line x1=\"35\" y1=\"25\" x2=\"35\" y2=\"58\" />\n",
       "  <line x1=\"39\" y1=\"29\" x2=\"39\" y2=\"62\" />\n",
       "  <line x1=\"43\" y1=\"33\" x2=\"43\" y2=\"66\" />\n",
       "  <line x1=\"47\" y1=\"37\" x2=\"47\" y2=\"69\" />\n",
       "  <line x1=\"50\" y1=\"40\" x2=\"50\" y2=\"73\" />\n",
       "  <line x1=\"54\" y1=\"44\" x2=\"54\" y2=\"77\" />\n",
       "  <line x1=\"58\" y1=\"48\" x2=\"58\" y2=\"81\" />\n",
       "  <line x1=\"62\" y1=\"52\" x2=\"62\" y2=\"84\" />\n",
       "  <line x1=\"65\" y1=\"55\" x2=\"65\" y2=\"88\" />\n",
       "  <line x1=\"69\" y1=\"59\" x2=\"69\" y2=\"92\" />\n",
       "  <line x1=\"73\" y1=\"63\" x2=\"73\" y2=\"96\" />\n",
       "  <line x1=\"76\" y1=\"66\" x2=\"76\" y2=\"99\" />\n",
       "  <line x1=\"80\" y1=\"70\" x2=\"80\" y2=\"103\" style=\"stroke-width:2\" />\n",
       "\n",
       "  <!-- Colored Rectangle -->\n",
       "  <polygon points=\"10.0,0.0 80.58823529411765,70.58823529411765 80.58823529411765,103.43010757359329 10.0,32.84187227947563\" style=\"fill:#8B4903A0;stroke-width:0\"/>\n",
       "\n",
       "  <!-- Horizontal lines -->\n",
       "  <line x1=\"10\" y1=\"0\" x2=\"48\" y2=\"0\" style=\"stroke-width:2\" />\n",
       "  <line x1=\"13\" y1=\"3\" x2=\"51\" y2=\"3\" />\n",
       "  <line x1=\"17\" y1=\"7\" x2=\"55\" y2=\"7\" />\n",
       "  <line x1=\"21\" y1=\"11\" x2=\"59\" y2=\"11\" />\n",
       "  <line x1=\"24\" y1=\"14\" x2=\"62\" y2=\"14\" />\n",
       "  <line x1=\"28\" y1=\"18\" x2=\"66\" y2=\"18\" />\n",
       "  <line x1=\"32\" y1=\"22\" x2=\"70\" y2=\"22\" />\n",
       "  <line x1=\"35\" y1=\"25\" x2=\"73\" y2=\"25\" />\n",
       "  <line x1=\"39\" y1=\"29\" x2=\"77\" y2=\"29\" />\n",
       "  <line x1=\"43\" y1=\"33\" x2=\"81\" y2=\"33\" />\n",
       "  <line x1=\"47\" y1=\"37\" x2=\"85\" y2=\"37\" />\n",
       "  <line x1=\"50\" y1=\"40\" x2=\"88\" y2=\"40\" />\n",
       "  <line x1=\"54\" y1=\"44\" x2=\"92\" y2=\"44\" />\n",
       "  <line x1=\"58\" y1=\"48\" x2=\"96\" y2=\"48\" />\n",
       "  <line x1=\"62\" y1=\"52\" x2=\"100\" y2=\"52\" />\n",
       "  <line x1=\"65\" y1=\"55\" x2=\"103\" y2=\"55\" />\n",
       "  <line x1=\"69\" y1=\"59\" x2=\"107\" y2=\"59\" />\n",
       "  <line x1=\"73\" y1=\"63\" x2=\"111\" y2=\"63\" />\n",
       "  <line x1=\"76\" y1=\"66\" x2=\"114\" y2=\"66\" />\n",
       "  <line x1=\"80\" y1=\"70\" x2=\"118\" y2=\"70\" style=\"stroke-width:2\" />\n",
       "\n",
       "  <!-- Vertical lines -->\n",
       "  <line x1=\"10\" y1=\"0\" x2=\"80\" y2=\"70\" style=\"stroke-width:2\" />\n",
       "  <line x1=\"48\" y1=\"0\" x2=\"118\" y2=\"70\" style=\"stroke-width:2\" />\n",
       "\n",
       "  <!-- Colored Rectangle -->\n",
       "  <polygon points=\"10.0,0.0 48.02689940743392,0.0 118.61513470155157,70.58823529411765 80.58823529411765,70.58823529411765\" style=\"fill:#8B4903A0;stroke-width:0\"/>\n",
       "\n",
       "  <!-- Horizontal lines -->\n",
       "  <line x1=\"80\" y1=\"70\" x2=\"118\" y2=\"70\" style=\"stroke-width:2\" />\n",
       "  <line x1=\"80\" y1=\"103\" x2=\"118\" y2=\"103\" style=\"stroke-width:2\" />\n",
       "\n",
       "  <!-- Vertical lines -->\n",
       "  <line x1=\"80\" y1=\"70\" x2=\"80\" y2=\"103\" style=\"stroke-width:2\" />\n",
       "  <line x1=\"118\" y1=\"70\" x2=\"118\" y2=\"103\" style=\"stroke-width:2\" />\n",
       "\n",
       "  <!-- Colored Rectangle -->\n",
       "  <polygon points=\"80.58823529411765,70.58823529411765 118.61513470155157,70.58823529411765 118.61513470155157,103.43010757359329 80.58823529411765,103.43010757359329\" style=\"fill:#ECB172A0;stroke-width:0\"/>\n",
       "\n",
       "  <!-- Text -->\n",
       "  <text x=\"99.601685\" y=\"123.430108\" font-size=\"1.0rem\" font-weight=\"100\" text-anchor=\"middle\" >1386</text>\n",
       "  <text x=\"138.615135\" y=\"87.009171\" font-size=\"1.0rem\" font-weight=\"100\" text-anchor=\"middle\" transform=\"rotate(-90,138.615135,87.009171)\">585</text>\n",
       "  <text x=\"35.294118\" y=\"88.135990\" font-size=\"1.0rem\" font-weight=\"100\" text-anchor=\"middle\" transform=\"rotate(45,35.294118,88.135990)\">15341</text>\n",
       "</svg>\n",
       "        </td>\n",
       "    </tr>\n",
       "</table></div></li><li class='xr-var-item'><div class='xr-var-name'><span>wind_speed</span></div><div class='xr-var-dims'>(time, lat, lon)</div><div class='xr-var-dtype'>float32</div><div class='xr-var-preview xr-preview'>dask.array&lt;chunksize=(30, 585, 1386), meta=np.ndarray&gt;</div><input id='attrs-431252cf-6447-4311-8cc3-9867345fb993' class='xr-var-attrs-in' type='checkbox' ><label for='attrs-431252cf-6447-4311-8cc3-9867345fb993' title='Show/Hide attributes'><svg class='icon xr-icon-file-text2'><use xlink:href='#icon-file-text2'></use></svg></label><input id='data-a2c0b17c-2dd8-482b-a27d-51862e5bcaa3' class='xr-var-data-in' type='checkbox'><label for='data-a2c0b17c-2dd8-482b-a27d-51862e5bcaa3' title='Show/Hide data repr'><svg class='icon xr-icon-database'><use xlink:href='#icon-database'></use></svg></label><div class='xr-var-attrs'><dl class='xr-attrs'><dt><span>coordinate_system :</span></dt><dd>WGS84,EPSG:4326</dd><dt><span>description :</span></dt><dd>Daily Mean Wind Speed</dd><dt><span>dimensions :</span></dt><dd>lon lat time</dd><dt><span>grid_mapping :</span></dt><dd>crs</dd><dt><span>long_name :</span></dt><dd>vs</dd><dt><span>standard_name :</span></dt><dd>vs</dd><dt><span>units :</span></dt><dd>m/s</dd></dl></div><div class='xr-var-data'><table>\n",
       "    <tr>\n",
       "        <td>\n",
       "            <table style=\"border-collapse: collapse;\">\n",
       "                <thead>\n",
       "                    <tr>\n",
       "                        <td> </td>\n",
       "                        <th> Array </th>\n",
       "                        <th> Chunk </th>\n",
       "                    </tr>\n",
       "                </thead>\n",
       "                <tbody>\n",
       "                    \n",
       "                    <tr>\n",
       "                        <th> Bytes </th>\n",
       "                        <td> 46.34 GiB </td>\n",
       "                        <td> 92.79 MiB </td>\n",
       "                    </tr>\n",
       "                    \n",
       "                    <tr>\n",
       "                        <th> Shape </th>\n",
       "                        <td> (15341, 585, 1386) </td>\n",
       "                        <td> (30, 585, 1386) </td>\n",
       "                    </tr>\n",
       "                    <tr>\n",
       "                        <th> Dask graph </th>\n",
       "                        <td colspan=\"2\"> 512 chunks in 2 graph layers </td>\n",
       "                    </tr>\n",
       "                    <tr>\n",
       "                        <th> Data type </th>\n",
       "                        <td colspan=\"2\"> float32 numpy.ndarray </td>\n",
       "                    </tr>\n",
       "                </tbody>\n",
       "            </table>\n",
       "        </td>\n",
       "        <td>\n",
       "        <svg width=\"168\" height=\"153\" style=\"stroke:rgb(0,0,0);stroke-width:1\" >\n",
       "\n",
       "  <!-- Horizontal lines -->\n",
       "  <line x1=\"10\" y1=\"0\" x2=\"80\" y2=\"70\" style=\"stroke-width:2\" />\n",
       "  <line x1=\"10\" y1=\"32\" x2=\"80\" y2=\"103\" style=\"stroke-width:2\" />\n",
       "\n",
       "  <!-- Vertical lines -->\n",
       "  <line x1=\"10\" y1=\"0\" x2=\"10\" y2=\"32\" style=\"stroke-width:2\" />\n",
       "  <line x1=\"13\" y1=\"3\" x2=\"13\" y2=\"36\" />\n",
       "  <line x1=\"17\" y1=\"7\" x2=\"17\" y2=\"40\" />\n",
       "  <line x1=\"21\" y1=\"11\" x2=\"21\" y2=\"43\" />\n",
       "  <line x1=\"24\" y1=\"14\" x2=\"24\" y2=\"47\" />\n",
       "  <line x1=\"28\" y1=\"18\" x2=\"28\" y2=\"51\" />\n",
       "  <line x1=\"32\" y1=\"22\" x2=\"32\" y2=\"55\" />\n",
       "  <line x1=\"35\" y1=\"25\" x2=\"35\" y2=\"58\" />\n",
       "  <line x1=\"39\" y1=\"29\" x2=\"39\" y2=\"62\" />\n",
       "  <line x1=\"43\" y1=\"33\" x2=\"43\" y2=\"66\" />\n",
       "  <line x1=\"47\" y1=\"37\" x2=\"47\" y2=\"69\" />\n",
       "  <line x1=\"50\" y1=\"40\" x2=\"50\" y2=\"73\" />\n",
       "  <line x1=\"54\" y1=\"44\" x2=\"54\" y2=\"77\" />\n",
       "  <line x1=\"58\" y1=\"48\" x2=\"58\" y2=\"81\" />\n",
       "  <line x1=\"62\" y1=\"52\" x2=\"62\" y2=\"84\" />\n",
       "  <line x1=\"65\" y1=\"55\" x2=\"65\" y2=\"88\" />\n",
       "  <line x1=\"69\" y1=\"59\" x2=\"69\" y2=\"92\" />\n",
       "  <line x1=\"73\" y1=\"63\" x2=\"73\" y2=\"96\" />\n",
       "  <line x1=\"76\" y1=\"66\" x2=\"76\" y2=\"99\" />\n",
       "  <line x1=\"80\" y1=\"70\" x2=\"80\" y2=\"103\" style=\"stroke-width:2\" />\n",
       "\n",
       "  <!-- Colored Rectangle -->\n",
       "  <polygon points=\"10.0,0.0 80.58823529411765,70.58823529411765 80.58823529411765,103.43010757359329 10.0,32.84187227947563\" style=\"fill:#8B4903A0;stroke-width:0\"/>\n",
       "\n",
       "  <!-- Horizontal lines -->\n",
       "  <line x1=\"10\" y1=\"0\" x2=\"48\" y2=\"0\" style=\"stroke-width:2\" />\n",
       "  <line x1=\"13\" y1=\"3\" x2=\"51\" y2=\"3\" />\n",
       "  <line x1=\"17\" y1=\"7\" x2=\"55\" y2=\"7\" />\n",
       "  <line x1=\"21\" y1=\"11\" x2=\"59\" y2=\"11\" />\n",
       "  <line x1=\"24\" y1=\"14\" x2=\"62\" y2=\"14\" />\n",
       "  <line x1=\"28\" y1=\"18\" x2=\"66\" y2=\"18\" />\n",
       "  <line x1=\"32\" y1=\"22\" x2=\"70\" y2=\"22\" />\n",
       "  <line x1=\"35\" y1=\"25\" x2=\"73\" y2=\"25\" />\n",
       "  <line x1=\"39\" y1=\"29\" x2=\"77\" y2=\"29\" />\n",
       "  <line x1=\"43\" y1=\"33\" x2=\"81\" y2=\"33\" />\n",
       "  <line x1=\"47\" y1=\"37\" x2=\"85\" y2=\"37\" />\n",
       "  <line x1=\"50\" y1=\"40\" x2=\"88\" y2=\"40\" />\n",
       "  <line x1=\"54\" y1=\"44\" x2=\"92\" y2=\"44\" />\n",
       "  <line x1=\"58\" y1=\"48\" x2=\"96\" y2=\"48\" />\n",
       "  <line x1=\"62\" y1=\"52\" x2=\"100\" y2=\"52\" />\n",
       "  <line x1=\"65\" y1=\"55\" x2=\"103\" y2=\"55\" />\n",
       "  <line x1=\"69\" y1=\"59\" x2=\"107\" y2=\"59\" />\n",
       "  <line x1=\"73\" y1=\"63\" x2=\"111\" y2=\"63\" />\n",
       "  <line x1=\"76\" y1=\"66\" x2=\"114\" y2=\"66\" />\n",
       "  <line x1=\"80\" y1=\"70\" x2=\"118\" y2=\"70\" style=\"stroke-width:2\" />\n",
       "\n",
       "  <!-- Vertical lines -->\n",
       "  <line x1=\"10\" y1=\"0\" x2=\"80\" y2=\"70\" style=\"stroke-width:2\" />\n",
       "  <line x1=\"48\" y1=\"0\" x2=\"118\" y2=\"70\" style=\"stroke-width:2\" />\n",
       "\n",
       "  <!-- Colored Rectangle -->\n",
       "  <polygon points=\"10.0,0.0 48.02689940743392,0.0 118.61513470155157,70.58823529411765 80.58823529411765,70.58823529411765\" style=\"fill:#8B4903A0;stroke-width:0\"/>\n",
       "\n",
       "  <!-- Horizontal lines -->\n",
       "  <line x1=\"80\" y1=\"70\" x2=\"118\" y2=\"70\" style=\"stroke-width:2\" />\n",
       "  <line x1=\"80\" y1=\"103\" x2=\"118\" y2=\"103\" style=\"stroke-width:2\" />\n",
       "\n",
       "  <!-- Vertical lines -->\n",
       "  <line x1=\"80\" y1=\"70\" x2=\"80\" y2=\"103\" style=\"stroke-width:2\" />\n",
       "  <line x1=\"118\" y1=\"70\" x2=\"118\" y2=\"103\" style=\"stroke-width:2\" />\n",
       "\n",
       "  <!-- Colored Rectangle -->\n",
       "  <polygon points=\"80.58823529411765,70.58823529411765 118.61513470155157,70.58823529411765 118.61513470155157,103.43010757359329 80.58823529411765,103.43010757359329\" style=\"fill:#ECB172A0;stroke-width:0\"/>\n",
       "\n",
       "  <!-- Text -->\n",
       "  <text x=\"99.601685\" y=\"123.430108\" font-size=\"1.0rem\" font-weight=\"100\" text-anchor=\"middle\" >1386</text>\n",
       "  <text x=\"138.615135\" y=\"87.009171\" font-size=\"1.0rem\" font-weight=\"100\" text-anchor=\"middle\" transform=\"rotate(-90,138.615135,87.009171)\">585</text>\n",
       "  <text x=\"35.294118\" y=\"88.135990\" font-size=\"1.0rem\" font-weight=\"100\" text-anchor=\"middle\" transform=\"rotate(45,35.294118,88.135990)\">15341</text>\n",
       "</svg>\n",
       "        </td>\n",
       "    </tr>\n",
       "</table></div></li></ul></div></li><li class='xr-section-item'><input id='section-97f7eb05-e776-4138-8b44-86bf924fcb5d' class='xr-section-summary-in' type='checkbox'  ><label for='section-97f7eb05-e776-4138-8b44-86bf924fcb5d' class='xr-section-summary' >Indexes: <span>(4)</span></label><div class='xr-section-inline-details'></div><div class='xr-section-details'><ul class='xr-var-list'><li class='xr-var-item'><div class='xr-index-name'><div>crs</div></div><div class='xr-index-preview'>PandasIndex</div><div></div><input id='index-f05ec636-8d84-4ab4-b4a2-df3a24db06a0' class='xr-index-data-in' type='checkbox'/><label for='index-f05ec636-8d84-4ab4-b4a2-df3a24db06a0' title='Show/Hide index repr'><svg class='icon xr-icon-database'><use xlink:href='#icon-database'></use></svg></label><div class='xr-index-data'><pre>PandasIndex(Index([3], dtype=&#x27;uint16&#x27;, name=&#x27;crs&#x27;))</pre></div></li><li class='xr-var-item'><div class='xr-index-name'><div>lat</div></div><div class='xr-index-preview'>PandasIndex</div><div></div><input id='index-65d04b83-c47c-45f3-be3a-a87d885fe4db' class='xr-index-data-in' type='checkbox'/><label for='index-65d04b83-c47c-45f3-be3a-a87d885fe4db' title='Show/Hide index repr'><svg class='icon xr-icon-database'><use xlink:href='#icon-database'></use></svg></label><div class='xr-index-data'><pre>PandasIndex(Index([49.400000000000006, 49.358333333333334,  49.31666666666667,\n",
       "       49.275000000000006, 49.233333333333334,  49.19166666666667,\n",
       "       49.150000000000006, 49.108333333333334,  49.06666666666667,\n",
       "       49.025000000000006,\n",
       "       ...\n",
       "       25.441666666666666,               25.4, 25.358333333333334,\n",
       "       25.316666666666666,             25.275, 25.233333333333334,\n",
       "       25.191666666666666,              25.15, 25.108333333333334,\n",
       "       25.066666666666666],\n",
       "      dtype=&#x27;float64&#x27;, name=&#x27;lat&#x27;, length=585))</pre></div></li><li class='xr-var-item'><div class='xr-index-name'><div>lon</div></div><div class='xr-index-preview'>PandasIndex</div><div></div><input id='index-fed186a2-b521-4bff-9466-e0537ba4d930' class='xr-index-data-in' type='checkbox'/><label for='index-fed186a2-b521-4bff-9466-e0537ba4d930' title='Show/Hide index repr'><svg class='icon xr-icon-database'><use xlink:href='#icon-database'></use></svg></label><div class='xr-index-data'><pre>PandasIndex(Index([-124.76666663333334, -124.72499996666667, -124.68333330000002,\n",
       "       -124.64166663333334, -124.59999996666667, -124.55833330000002,\n",
       "       -124.51666663333334, -124.47499996666667, -124.43333330000002,\n",
       "       -124.39166663333334,\n",
       "       ...\n",
       "        -67.43333330000002,  -67.39166663333334,  -67.34999996666667,\n",
       "        -67.30833330000002,  -67.26666663333334,  -67.22499996666667,\n",
       "        -67.18333330000002,  -67.14166663333334,  -67.09999996666667,\n",
       "        -67.05833330000002],\n",
       "      dtype=&#x27;float64&#x27;, name=&#x27;lon&#x27;, length=1386))</pre></div></li><li class='xr-var-item'><div class='xr-index-name'><div>time</div></div><div class='xr-index-preview'>PandasIndex</div><div></div><input id='index-ce9a3d15-9678-412a-9d3d-51682e7c58ab' class='xr-index-data-in' type='checkbox'/><label for='index-ce9a3d15-9678-412a-9d3d-51682e7c58ab' title='Show/Hide index repr'><svg class='icon xr-icon-database'><use xlink:href='#icon-database'></use></svg></label><div class='xr-index-data'><pre>PandasIndex(DatetimeIndex([&#x27;1979-01-01&#x27;, &#x27;1979-01-02&#x27;, &#x27;1979-01-03&#x27;, &#x27;1979-01-04&#x27;,\n",
       "               &#x27;1979-01-05&#x27;, &#x27;1979-01-06&#x27;, &#x27;1979-01-07&#x27;, &#x27;1979-01-08&#x27;,\n",
       "               &#x27;1979-01-09&#x27;, &#x27;1979-01-10&#x27;,\n",
       "               ...\n",
       "               &#x27;2020-12-22&#x27;, &#x27;2020-12-23&#x27;, &#x27;2020-12-24&#x27;, &#x27;2020-12-25&#x27;,\n",
       "               &#x27;2020-12-26&#x27;, &#x27;2020-12-27&#x27;, &#x27;2020-12-28&#x27;, &#x27;2020-12-29&#x27;,\n",
       "               &#x27;2020-12-30&#x27;, &#x27;2020-12-31&#x27;],\n",
       "              dtype=&#x27;datetime64[ns]&#x27;, name=&#x27;time&#x27;, length=15341, freq=None))</pre></div></li></ul></div></li><li class='xr-section-item'><input id='section-30e4183a-b756-48be-8a9f-a381b90b963a' class='xr-section-summary-in' type='checkbox'  ><label for='section-30e4183a-b756-48be-8a9f-a381b90b963a' class='xr-section-summary' >Attributes: <span>(19)</span></label><div class='xr-section-inline-details'></div><div class='xr-section-details'><dl class='xr-attrs'><dt><span>Conventions :</span></dt><dd>CF-1.6</dd><dt><span>author :</span></dt><dd>John Abatzoglou - University of Idaho, jabatzoglou@uidaho.edu</dd><dt><span>coordinate_system :</span></dt><dd>EPSG:4326</dd><dt><span>date :</span></dt><dd>02 July 2019</dd><dt><span>geospatial_bounds :</span></dt><dd>POLYGON((-124.7666666333333 49.400000000000000, -124.7666666333333 25.066666666666666, -67.058333300000015 25.066666666666666, -67.058333300000015 49.400000000000000, -124.7666666333333 49.400000000000000))</dd><dt><span>geospatial_bounds_crs :</span></dt><dd>EPSG:4326</dd><dt><span>geospatial_lat_max :</span></dt><dd>49.40000000000000</dd><dt><span>geospatial_lat_min :</span></dt><dd>25.066666666666666</dd><dt><span>geospatial_lat_resolution :</span></dt><dd>0.041666666666666</dd><dt><span>geospatial_lat_units :</span></dt><dd>decimal_degrees north</dd><dt><span>geospatial_lon_max :</span></dt><dd>-67.058333300000015</dd><dt><span>geospatial_lon_min :</span></dt><dd>-124.7666666333333</dd><dt><span>geospatial_lon_resolution :</span></dt><dd>0.041666666666666</dd><dt><span>geospatial_lon_units :</span></dt><dd>decimal_degrees east</dd><dt><span>note1 :</span></dt><dd>The projection information for this file is: GCS WGS 1984.</dd><dt><span>note2 :</span></dt><dd>Citation: Abatzoglou, J.T., 2013, Development of gridded surface meteorological data for ecological applications and modeling, International Journal of Climatology, DOI: 10.1002/joc.3413</dd><dt><span>note3 :</span></dt><dd>Data in slices after last_permanent_slice (1-based) are considered provisional and subject to change with subsequent updates</dd><dt><span>note4 :</span></dt><dd>Data in slices after last_provisional_slice (1-based) are considered early and subject to change with subsequent updates</dd><dt><span>note5 :</span></dt><dd>Days correspond approximately to calendar days ending at midnight, Mountain Standard Time (7 UTC the next calendar day)</dd></dl></div></li></ul></div></div>"
      ],
      "text/plain": [
       "<xarray.Dataset> Size: 597GB\n",
       "Dimensions:                                    (time: 15341, lat: 585,\n",
       "                                                lon: 1386, crs: 1)\n",
       "Coordinates:\n",
       "  * crs                                        (crs) uint16 2B 3\n",
       "  * lat                                        (lat) float64 5kB 49.4 ... 25.07\n",
       "  * lon                                        (lon) float64 11kB -124.8 ... ...\n",
       "  * time                                       (time) datetime64[ns] 123kB 19...\n",
       "Data variables:\n",
       "    air_temperature                            (time, lat, lon) float32 50GB dask.array<chunksize=(30, 585, 1386), meta=np.ndarray>\n",
       "    burning_index_g                            (time, lat, lon) float32 50GB dask.array<chunksize=(30, 585, 1386), meta=np.ndarray>\n",
       "    dead_fuel_moisture_1000hr                  (time, lat, lon) float32 50GB dask.array<chunksize=(30, 585, 1386), meta=np.ndarray>\n",
       "    dead_fuel_moisture_100hr                   (time, lat, lon) float32 50GB dask.array<chunksize=(30, 585, 1386), meta=np.ndarray>\n",
       "    mean_vapor_pressure_deficit                (time, lat, lon) float32 50GB dask.array<chunksize=(30, 585, 1386), meta=np.ndarray>\n",
       "    potential_evapotranspiration               (time, lat, lon) float32 50GB dask.array<chunksize=(30, 585, 1386), meta=np.ndarray>\n",
       "    precipitation_amount                       (time, lat, lon) float32 50GB dask.array<chunksize=(30, 585, 1386), meta=np.ndarray>\n",
       "    relative_humidity                          (time, lat, lon) float32 50GB dask.array<chunksize=(30, 585, 1386), meta=np.ndarray>\n",
       "    specific_humidity                          (time, lat, lon) float32 50GB dask.array<chunksize=(30, 585, 1386), meta=np.ndarray>\n",
       "    surface_downwelling_shortwave_flux_in_air  (time, lat, lon) float32 50GB dask.array<chunksize=(30, 585, 1386), meta=np.ndarray>\n",
       "    wind_from_direction                        (time, lat, lon) float32 50GB dask.array<chunksize=(30, 585, 1386), meta=np.ndarray>\n",
       "    wind_speed                                 (time, lat, lon) float32 50GB dask.array<chunksize=(30, 585, 1386), meta=np.ndarray>\n",
       "Attributes: (12/19)\n",
       "    Conventions:                CF-1.6\n",
       "    author:                     John Abatzoglou - University of Idaho, jabatz...\n",
       "    coordinate_system:          EPSG:4326\n",
       "    date:                       02 July 2019\n",
       "    geospatial_bounds:          POLYGON((-124.7666666333333 49.40000000000000...\n",
       "    geospatial_bounds_crs:      EPSG:4326\n",
       "    ...                         ...\n",
       "    geospatial_lon_units:       decimal_degrees east\n",
       "    note1:                      The projection information for this file is: ...\n",
       "    note2:                      Citation: Abatzoglou, J.T., 2013, Development...\n",
       "    note3:                      Data in slices after last_permanent_slice (1-...\n",
       "    note4:                      Data in slices after last_provisional_slice (...\n",
       "    note5:                      Days correspond approximately to calendar day..."
      ]
     },
     "execution_count": 2,
     "metadata": {},
     "output_type": "execute_result"
    }
   ],
   "source": [
    "ds"
   ]
  },
  {
   "cell_type": "code",
   "execution_count": null,
   "metadata": {},
   "outputs": [],
   "source": [
    "import pandas as pd\n",
    "from datetime import timedelta\n",
    "from dask import delayed, compute\n",
    "import xarray as xr\n",
    "import pystac_client\n",
    "import planetary_computer\n",
    "\n",
    "# ----------------------------\n",
    "# Load GBIF cleaned dataset\n",
    "# ----------------------------\n",
    "df = pd.read_csv(\"../data/processed/date_location_occurrances.csv\")\n",
    "df[\"datetime\"] = pd.to_datetime(df[\"datetime\"])\n",
    "\n",
    "# # ----------------------------\n",
    "# # Load GridMET via Planetary Computer\n",
    "# # ----------------------------\n",
    "# catalog = pystac_client.Client.open(\n",
    "#     \"https://planetarycomputer.microsoft.com/api/stac/v1\",\n",
    "#     modifier=planetary_computer.sign_inplace,\n",
    "# )\n",
    "\n",
    "# asset = catalog.get_collection(\"gridmet\").assets[\"zarr-abfs\"]\n",
    "# ds = xr.open_zarr(\n",
    "#     asset.href,\n",
    "#     storage_options=asset.extra_fields[\"xarray:storage_options\"],\n",
    "#     **asset.extra_fields[\"xarray:open_kwargs\"]\n",
    "# )\n",
    "\n",
    "# ----------------------------\n",
    "# Define Variables & Windows\n",
    "# ----------------------------\n",
    "variables = [\n",
    "    \"air_temperature\",\n",
    "    \"precipitation_amount\",\n",
    "    \"vapor_pressure_deficit\",\n",
    "    \"surface_downwelling_shortwave_flux_in_air\",\n",
    "    \"wind_speed\",\n",
    "    \"wind_from_direction\",\n",
    "    \"relative_humidity\",\n",
    "    \"specific_humidity\",\n",
    "    \"potential_evapotranspiration\",\n",
    "    \"burning_index_g\",\n",
    "    \"dead_fuel_moisture_100hr\",\n",
    "    \"dead_fuel_moisture_1000hr\"\n",
    "]\n",
    "\n",
    "windows = [7, 30]  # days before observation\n",
    "\n",
    "# ----------------------------\n",
    "# Feature Extraction Function\n",
    "# ----------------------------\n",
    "def extract_features(row, ds, variables, windows):\n",
    "    lat, lon, date = row[\"decimalLatitude\"], row[\"decimalLongitude\"], row[\"datetime\"]\n",
    "    features = {}\n",
    "\n",
    "    for var in variables:\n",
    "        for window in windows:\n",
    "            start = date - timedelta(days=window)\n",
    "            end = date\n",
    "\n",
    "            try:\n",
    "                chunk = ds[var].sel(time=slice(start, end)).interp(lat=lat, lon=lon)\n",
    "                value = chunk.sum(dim=\"time\") if \"precip\" in var else chunk.mean(dim=\"time\")\n",
    "                features[f\"{var}_{window}d\"] = value.compute().item()\n",
    "            except Exception:\n",
    "                features[f\"{var}_{window}d\"] = None\n",
    "\n",
    "    return pd.Series(features)\n",
    "\n",
    "# ----------------------------\n",
    "# Dask Parallel Execution\n",
    "# ----------------------------\n",
    "tasks = [delayed(extract_features)(row, ds, variables, windows) for _, row in df.iterrows()]\n",
    "results = compute(*tasks)\n",
    "\n",
    "# ----------------------------\n",
    "# Combine with GBIF Data\n",
    "# ----------------------------\n",
    "df_features = pd.concat([df.reset_index(drop=True), pd.DataFrame(results)], axis=1)\n",
    "df_features.to_csv(\"gbif_with_all_gridmet_features.csv\", index=False)"
   ]
  },
  {
   "cell_type": "markdown",
   "metadata": {},
   "source": [
    "## TESTING"
   ]
  },
  {
   "cell_type": "code",
   "execution_count": 23,
   "metadata": {},
   "outputs": [
    {
     "data": {
      "text/plain": [
       "8.886036228783341"
      ]
     },
     "metadata": {},
     "output_type": "display_data"
    },
    {
     "data": {
      "text/plain": [
       "6.4898017401226635"
      ]
     },
     "metadata": {},
     "output_type": "display_data"
    }
   ],
   "source": [
    "final = test.copy()\n",
    "final.head(3)\n",
    "\n",
    "display(int(final['reproductiveCondition'].value_counts().values.sum()) / final.shape[0] * 100)\n",
    "display(int(final['elevation'].value_counts().values.sum()) / final.shape[0] * 100)"
   ]
  },
  {
   "cell_type": "code",
   "execution_count": 8,
   "metadata": {},
   "outputs": [
    {
     "name": "stdout",
     "output_type": "stream",
     "text": [
      "✅ Extraction complete. Saved to 'test_gridmet_features_filtered.csv'\n"
     ]
    }
   ],
   "source": [
    "import pandas as pd\n",
    "from datetime import timedelta\n",
    "import xarray as xr\n",
    "import pystac_client\n",
    "import planetary_computer\n",
    "\n",
    "# ----------------------------\n",
    "# Load GBIF cleaned dataset\n",
    "# ----------------------------\n",
    "df = pd.read_csv(\"../data/processed/date_location_occurrances.csv\")\n",
    "df[\"datetime\"] = pd.to_datetime(df[\"datetime\"])\n",
    "\n",
    "# ----------------------------\n",
    "# Filter to contiguous US lat/lon bounds\n",
    "# ----------------------------\n",
    "df = df[\n",
    "    (df[\"decimalLatitude\"] >= 25) & (df[\"decimalLatitude\"] <= 49.5) &\n",
    "    (df[\"decimalLongitude\"] >= -125) & (df[\"decimalLongitude\"] <= -66)\n",
    "]\n",
    "\n",
    "# Sample 5 rows for testing\n",
    "sample_df = df.sample(5, random_state=42).reset_index(drop=True)\n",
    "\n",
    "# ----------------------------\n",
    "# Load GridMET dataset\n",
    "# ----------------------------\n",
    "catalog = pystac_client.Client.open(\n",
    "    \"https://planetarycomputer.microsoft.com/api/stac/v1\",\n",
    "    modifier=planetary_computer.sign_inplace,\n",
    ")\n",
    "\n",
    "asset = catalog.get_collection(\"gridmet\").assets[\"zarr-abfs\"]\n",
    "ds = xr.open_zarr(\n",
    "    asset.href,\n",
    "    storage_options=asset.extra_fields[\"xarray:storage_options\"],\n",
    "    **asset.extra_fields[\"xarray:open_kwargs\"]\n",
    ")\n",
    "\n",
    "# ----------------------------\n",
    "# Variables and Time Windows\n",
    "# ----------------------------\n",
    "variables = [\n",
    "    \"air_temperature\",\n",
    "    \"precipitation_amount\",\n",
    "    \"mean_vapor_pressure_deficit\",  # ✅ fixed name\n",
    "    \"surface_downwelling_shortwave_flux_in_air\",\n",
    "    \"wind_speed\",\n",
    "    \"wind_from_direction\",\n",
    "    \"relative_humidity\",\n",
    "    \"specific_humidity\",\n",
    "    \"potential_evapotranspiration\",\n",
    "    \"burning_index_g\",\n",
    "    \"dead_fuel_moisture_100hr\",\n",
    "    \"dead_fuel_moisture_1000hr\"\n",
    "]\n",
    "\n",
    "windows = [7, 30]\n",
    "\n",
    "# ----------------------------\n",
    "# Feature Extraction Loop\n",
    "# ----------------------------\n",
    "features_list = []\n",
    "\n",
    "for i, row in sample_df.iterrows():\n",
    "    lat, lon, date = row[\"decimalLatitude\"], row[\"decimalLongitude\"], row[\"datetime\"]\n",
    "    feats = {}\n",
    "    \n",
    "    for var in variables:\n",
    "        for win in windows:\n",
    "            start = date - timedelta(days=win)\n",
    "            end = date\n",
    "\n",
    "            try:\n",
    "                sel = ds[var].sel(time=slice(start, end)).interp(lat=lat, lon=lon)\n",
    "                val = sel.sum(dim=\"time\") if \"precip\" in var else sel.mean(dim=\"time\")\n",
    "                feats[f\"{var}_{win}d\"] = float(val.values)\n",
    "            except Exception as e:\n",
    "                print(f\"⚠️ {var} failed at ({lat}, {lon}) on {date.date()} → {e}\")\n",
    "                feats[f\"{var}_{win}d\"] = None\n",
    "\n",
    "    features_list.append(feats)\n",
    "\n",
    "# ----------------------------\n",
    "# Save merged result\n",
    "# ----------------------------\n",
    "features_df = pd.concat([sample_df, pd.DataFrame(features_list)], axis=1)\n",
    "features_df.to_csv(\"test_gridmet_features_filtered.csv\", index=False)\n",
    "\n",
    "print(\"✅ Extraction complete. Saved to 'test_gridmet_features_filtered.csv'\")"
   ]
  },
  {
   "cell_type": "code",
   "execution_count": 2,
   "metadata": {},
   "outputs": [],
   "source": [
    "import pandas as pd\n",
    "import numpy as np\n",
    "import dask.array as da\n",
    "from datetime import timedelta\n",
    "from tqdm import tqdm\n",
    "\n",
    "def extract_gridmet_features(df, ds, window_days=(7, 30), variables=None):\n",
    "    if variables is None:\n",
    "        variables = [\n",
    "            \"air_temperature\", \"precipitation_amount\", \"mean_vapor_pressure_deficit\",\n",
    "            \"surface_downwelling_shortwave_flux_in_air\", \"wind_speed\", \"wind_from_direction\",\n",
    "            \"relative_humidity\", \"specific_humidity\", \"potential_evapotranspiration\",\n",
    "            \"burning_index_g\", \"dead_fuel_moisture_100hr\", \"dead_fuel_moisture_1000hr\"\n",
    "        ]\n",
    "\n",
    "    output = []\n",
    "\n",
    "    # Convert string dates to datetime if needed\n",
    "    df['datetime'] = pd.to_datetime(df['datetime'])\n",
    "\n",
    "    for idx, row in tqdm(df.iterrows(), total=len(df), desc=\"Extracting weather features\"):\n",
    "        lat, lon, date = row[\"decimalLatitude\"], row[\"decimalLongitude\"], row[\"datetime\"]\n",
    "        feature_row = row.to_dict()\n",
    "\n",
    "        for var in variables:\n",
    "            for win in window_days:\n",
    "                try:\n",
    "                    time_start = np.datetime64(date - timedelta(days=win))\n",
    "                    time_end = np.datetime64(date)\n",
    "\n",
    "                    # Extract the sub-data for this variable and time window\n",
    "                    var_data = ds[var].sel(\n",
    "                        lat=lat, lon=lon, method=\"nearest\"\n",
    "                    ).sel(time=slice(time_start, time_end))\n",
    "\n",
    "                    # Compute the mean value over that window\n",
    "                    mean_val = var_data.mean().compute()\n",
    "                    feature_row[f\"{var}_{win}d\"] = float(mean_val)\n",
    "\n",
    "                except Exception as e:\n",
    "                    feature_row[f\"{var}_{win}d\"] = np.nan\n",
    "                    print(f\"⚠️ {var} failed at ({lat}, {lon}) on {date.date()} → {e}\")\n",
    "\n",
    "        output.append(feature_row)\n",
    "\n",
    "    return pd.DataFrame(output)"
   ]
  },
  {
   "cell_type": "code",
   "execution_count": 1,
   "metadata": {},
   "outputs": [
    {
     "name": "stdout",
     "output_type": "stream",
     "text": [
      "🔄 Loading fresh GridMET Zarr dataset from Planetary Computer...\n"
     ]
    },
    {
     "name": "stderr",
     "output_type": "stream",
     "text": [
      "  0%|          | 18/6275 [00:34<3:21:35,  1.93s/it]"
     ]
    },
    {
     "name": "stdout",
     "output_type": "stream",
     "text": [
      "✅ Wrote row 17 to CSV\n"
     ]
    },
    {
     "name": "stderr",
     "output_type": "stream",
     "text": [
      "  0%|          | 19/6275 [00:49<4:57:26,  2.85s/it]"
     ]
    },
    {
     "name": "stdout",
     "output_type": "stream",
     "text": [
      "✅ Wrote row 18 to CSV\n"
     ]
    },
    {
     "name": "stderr",
     "output_type": "stream",
     "text": [
      "  0%|          | 20/6275 [01:05<7:12:07,  4.15s/it]"
     ]
    },
    {
     "name": "stdout",
     "output_type": "stream",
     "text": [
      "✅ Wrote row 19 to CSV\n"
     ]
    },
    {
     "name": "stderr",
     "output_type": "stream",
     "text": [
      "  0%|          | 21/6275 [01:22<9:46:21,  5.63s/it]"
     ]
    },
    {
     "name": "stdout",
     "output_type": "stream",
     "text": [
      "✅ Wrote row 20 to CSV\n"
     ]
    },
    {
     "name": "stderr",
     "output_type": "stream",
     "text": [
      "  0%|          | 22/6275 [01:38<12:26:48,  7.17s/it]"
     ]
    },
    {
     "name": "stdout",
     "output_type": "stream",
     "text": [
      "✅ Wrote row 21 to CSV\n"
     ]
    },
    {
     "name": "stderr",
     "output_type": "stream",
     "text": [
      "  0%|          | 23/6275 [01:51<14:12:02,  8.18s/it]"
     ]
    },
    {
     "name": "stdout",
     "output_type": "stream",
     "text": [
      "✅ Wrote row 22 to CSV\n"
     ]
    },
    {
     "name": "stderr",
     "output_type": "stream",
     "text": [
      "  0%|          | 26/6275 [02:07<12:00:58,  6.92s/it]"
     ]
    },
    {
     "name": "stdout",
     "output_type": "stream",
     "text": [
      "✅ Wrote row 25 to CSV\n"
     ]
    },
    {
     "name": "stderr",
     "output_type": "stream",
     "text": [
      "  0%|          | 27/6275 [02:22<14:27:17,  8.33s/it]"
     ]
    },
    {
     "name": "stdout",
     "output_type": "stream",
     "text": [
      "✅ Wrote row 26 to CSV\n"
     ]
    },
    {
     "name": "stderr",
     "output_type": "stream",
     "text": [
      "  0%|          | 29/6275 [02:35<13:29:33,  7.78s/it]"
     ]
    },
    {
     "name": "stdout",
     "output_type": "stream",
     "text": [
      "✅ Wrote row 28 to CSV\n"
     ]
    },
    {
     "name": "stderr",
     "output_type": "stream",
     "text": [
      "  0%|          | 30/6275 [02:49<15:26:46,  8.90s/it]"
     ]
    },
    {
     "name": "stdout",
     "output_type": "stream",
     "text": [
      "✅ Wrote row 29 to CSV\n"
     ]
    },
    {
     "name": "stderr",
     "output_type": "stream",
     "text": [
      "  0%|          | 31/6275 [03:04<17:38:52, 10.17s/it]"
     ]
    },
    {
     "name": "stdout",
     "output_type": "stream",
     "text": [
      "✅ Wrote row 30 to CSV\n"
     ]
    },
    {
     "name": "stderr",
     "output_type": "stream",
     "text": [
      "  1%|          | 32/6275 [03:20<19:53:44, 11.47s/it]"
     ]
    },
    {
     "name": "stdout",
     "output_type": "stream",
     "text": [
      "✅ Wrote row 31 to CSV\n"
     ]
    },
    {
     "name": "stderr",
     "output_type": "stream",
     "text": [
      "  1%|          | 33/6275 [03:34<21:04:44, 12.16s/it]"
     ]
    },
    {
     "name": "stdout",
     "output_type": "stream",
     "text": [
      "✅ Wrote row 32 to CSV\n"
     ]
    },
    {
     "name": "stderr",
     "output_type": "stream",
     "text": [
      "  1%|          | 36/6275 [03:48<14:22:24,  8.29s/it]"
     ]
    },
    {
     "name": "stdout",
     "output_type": "stream",
     "text": [
      "✅ Wrote row 35 to CSV\n"
     ]
    },
    {
     "name": "stderr",
     "output_type": "stream",
     "text": [
      "  1%|          | 37/6275 [04:04<17:04:36,  9.86s/it]"
     ]
    },
    {
     "name": "stdout",
     "output_type": "stream",
     "text": [
      "✅ Wrote row 36 to CSV\n"
     ]
    },
    {
     "name": "stderr",
     "output_type": "stream",
     "text": [
      "  1%|          | 38/6275 [04:43<28:00:21, 16.17s/it]"
     ]
    },
    {
     "name": "stdout",
     "output_type": "stream",
     "text": [
      "✅ Wrote row 37 to CSV\n"
     ]
    },
    {
     "name": "stderr",
     "output_type": "stream",
     "text": [
      "  1%|          | 39/6275 [05:22<37:46:05, 21.80s/it]"
     ]
    },
    {
     "name": "stdout",
     "output_type": "stream",
     "text": [
      "✅ Wrote row 38 to CSV\n"
     ]
    },
    {
     "name": "stderr",
     "output_type": "stream",
     "text": [
      "  1%|          | 40/6275 [05:37<34:40:09, 20.02s/it]"
     ]
    },
    {
     "name": "stdout",
     "output_type": "stream",
     "text": [
      "✅ Wrote row 39 to CSV\n"
     ]
    },
    {
     "name": "stderr",
     "output_type": "stream",
     "text": [
      "  1%|          | 41/6275 [05:51<31:57:02, 18.45s/it]"
     ]
    },
    {
     "name": "stdout",
     "output_type": "stream",
     "text": [
      "✅ Wrote row 40 to CSV\n"
     ]
    },
    {
     "name": "stderr",
     "output_type": "stream",
     "text": [
      "  1%|          | 42/6275 [06:28<40:50:34, 23.59s/it]"
     ]
    },
    {
     "name": "stdout",
     "output_type": "stream",
     "text": [
      "✅ Wrote row 41 to CSV\n"
     ]
    },
    {
     "name": "stderr",
     "output_type": "stream",
     "text": [
      "  1%|          | 43/6275 [06:44<36:53:18, 21.31s/it]"
     ]
    },
    {
     "name": "stdout",
     "output_type": "stream",
     "text": [
      "✅ Wrote row 42 to CSV\n"
     ]
    },
    {
     "name": "stderr",
     "output_type": "stream",
     "text": [
      "  1%|          | 44/6275 [07:26<47:03:44, 27.19s/it]"
     ]
    },
    {
     "name": "stdout",
     "output_type": "stream",
     "text": [
      "✅ Wrote row 43 to CSV\n"
     ]
    },
    {
     "name": "stderr",
     "output_type": "stream",
     "text": [
      "  1%|          | 45/6275 [07:41<40:55:06, 23.64s/it]"
     ]
    },
    {
     "name": "stdout",
     "output_type": "stream",
     "text": [
      "✅ Wrote row 44 to CSV\n"
     ]
    },
    {
     "name": "stderr",
     "output_type": "stream",
     "text": [
      "  1%|          | 46/6275 [07:54<35:34:12, 20.56s/it]"
     ]
    },
    {
     "name": "stdout",
     "output_type": "stream",
     "text": [
      "✅ Wrote row 45 to CSV\n"
     ]
    },
    {
     "name": "stderr",
     "output_type": "stream",
     "text": [
      "  1%|          | 47/6275 [08:06<31:30:07, 18.21s/it]"
     ]
    },
    {
     "name": "stdout",
     "output_type": "stream",
     "text": [
      "✅ Wrote row 46 to CSV\n"
     ]
    },
    {
     "name": "stderr",
     "output_type": "stream",
     "text": [
      "  1%|          | 48/6275 [08:22<29:58:58, 17.33s/it]"
     ]
    },
    {
     "name": "stdout",
     "output_type": "stream",
     "text": [
      "✅ Wrote row 47 to CSV\n"
     ]
    },
    {
     "name": "stderr",
     "output_type": "stream",
     "text": [
      "  1%|          | 49/6275 [08:37<29:01:44, 16.79s/it]"
     ]
    },
    {
     "name": "stdout",
     "output_type": "stream",
     "text": [
      "✅ Wrote row 48 to CSV\n"
     ]
    },
    {
     "name": "stderr",
     "output_type": "stream",
     "text": [
      "  1%|          | 50/6275 [09:16<40:25:31, 23.38s/it]"
     ]
    },
    {
     "name": "stdout",
     "output_type": "stream",
     "text": [
      "✅ Wrote row 49 to CSV\n"
     ]
    },
    {
     "name": "stderr",
     "output_type": "stream",
     "text": [
      "  1%|          | 51/6275 [09:47<44:36:18, 25.80s/it]"
     ]
    },
    {
     "name": "stdout",
     "output_type": "stream",
     "text": [
      "✅ Wrote row 50 to CSV\n"
     ]
    },
    {
     "name": "stderr",
     "output_type": "stream",
     "text": [
      "  1%|          | 53/6275 [10:04<30:35:55, 17.70s/it]"
     ]
    },
    {
     "name": "stdout",
     "output_type": "stream",
     "text": [
      "✅ Wrote row 52 to CSV\n"
     ]
    },
    {
     "name": "stderr",
     "output_type": "stream",
     "text": [
      "  1%|          | 54/6275 [10:22<30:44:00, 17.79s/it]"
     ]
    },
    {
     "name": "stdout",
     "output_type": "stream",
     "text": [
      "✅ Wrote row 53 to CSV\n"
     ]
    },
    {
     "name": "stderr",
     "output_type": "stream",
     "text": [
      "  1%|          | 55/6275 [10:39<30:24:27, 17.60s/it]"
     ]
    },
    {
     "name": "stdout",
     "output_type": "stream",
     "text": [
      "✅ Wrote row 54 to CSV\n"
     ]
    },
    {
     "name": "stderr",
     "output_type": "stream",
     "text": [
      "  1%|          | 56/6275 [10:54<29:18:53, 16.97s/it]"
     ]
    },
    {
     "name": "stdout",
     "output_type": "stream",
     "text": [
      "✅ Wrote row 55 to CSV\n"
     ]
    },
    {
     "name": "stderr",
     "output_type": "stream",
     "text": [
      "  1%|          | 58/6275 [11:34<31:18:26, 18.13s/it]"
     ]
    },
    {
     "name": "stdout",
     "output_type": "stream",
     "text": [
      "✅ Wrote row 57 to CSV\n"
     ]
    },
    {
     "name": "stderr",
     "output_type": "stream",
     "text": [
      "  1%|          | 60/6275 [12:24<35:53:14, 20.79s/it]"
     ]
    },
    {
     "name": "stdout",
     "output_type": "stream",
     "text": [
      "✅ Wrote row 59 to CSV\n"
     ]
    },
    {
     "name": "stderr",
     "output_type": "stream",
     "text": [
      "  1%|          | 62/6275 [12:39<27:55:33, 16.18s/it]"
     ]
    },
    {
     "name": "stdout",
     "output_type": "stream",
     "text": [
      "✅ Wrote row 61 to CSV\n"
     ]
    },
    {
     "name": "stderr",
     "output_type": "stream",
     "text": [
      "  1%|          | 63/6275 [12:56<28:13:08, 16.35s/it]"
     ]
    },
    {
     "name": "stdout",
     "output_type": "stream",
     "text": [
      "✅ Wrote row 62 to CSV\n"
     ]
    },
    {
     "name": "stderr",
     "output_type": "stream",
     "text": [
      "  1%|          | 65/6275 [13:11<22:40:55, 13.15s/it]"
     ]
    },
    {
     "name": "stdout",
     "output_type": "stream",
     "text": [
      "✅ Wrote row 64 to CSV\n"
     ]
    },
    {
     "name": "stderr",
     "output_type": "stream",
     "text": [
      "  1%|          | 66/6275 [13:28<23:45:24, 13.77s/it]"
     ]
    },
    {
     "name": "stdout",
     "output_type": "stream",
     "text": [
      "✅ Wrote row 65 to CSV\n"
     ]
    },
    {
     "name": "stderr",
     "output_type": "stream",
     "text": [
      "  1%|          | 67/6275 [13:44<24:52:27, 14.42s/it]"
     ]
    },
    {
     "name": "stdout",
     "output_type": "stream",
     "text": [
      "✅ Wrote row 66 to CSV\n"
     ]
    },
    {
     "name": "stderr",
     "output_type": "stream",
     "text": [
      "  1%|          | 68/6275 [14:00<25:30:12, 14.79s/it]"
     ]
    },
    {
     "name": "stdout",
     "output_type": "stream",
     "text": [
      "✅ Wrote row 67 to CSV\n"
     ]
    },
    {
     "name": "stderr",
     "output_type": "stream",
     "text": [
      "  1%|          | 70/6275 [14:15<20:09:22, 11.69s/it]"
     ]
    },
    {
     "name": "stdout",
     "output_type": "stream",
     "text": [
      "✅ Wrote row 69 to CSV\n"
     ]
    },
    {
     "name": "stderr",
     "output_type": "stream",
     "text": [
      "  1%|          | 71/6275 [14:30<21:33:16, 12.51s/it]"
     ]
    },
    {
     "name": "stdout",
     "output_type": "stream",
     "text": [
      "✅ Wrote row 70 to CSV\n"
     ]
    },
    {
     "name": "stderr",
     "output_type": "stream",
     "text": [
      "  1%|          | 72/6275 [14:51<25:02:07, 14.53s/it]"
     ]
    },
    {
     "name": "stdout",
     "output_type": "stream",
     "text": [
      "✅ Wrote row 71 to CSV\n"
     ]
    },
    {
     "name": "stderr",
     "output_type": "stream",
     "text": [
      "  1%|          | 73/6275 [15:07<25:44:23, 14.94s/it]"
     ]
    },
    {
     "name": "stdout",
     "output_type": "stream",
     "text": [
      "✅ Wrote row 72 to CSV\n"
     ]
    },
    {
     "name": "stderr",
     "output_type": "stream",
     "text": [
      "  1%|          | 74/6275 [15:24<26:34:56, 15.43s/it]"
     ]
    },
    {
     "name": "stdout",
     "output_type": "stream",
     "text": [
      "✅ Wrote row 73 to CSV\n"
     ]
    },
    {
     "name": "stderr",
     "output_type": "stream",
     "text": [
      "  1%|          | 75/6275 [16:07<40:09:30, 23.32s/it]"
     ]
    },
    {
     "name": "stdout",
     "output_type": "stream",
     "text": [
      "✅ Wrote row 74 to CSV\n"
     ]
    },
    {
     "name": "stderr",
     "output_type": "stream",
     "text": [
      "  1%|          | 76/6275 [16:24<36:51:25, 21.40s/it]"
     ]
    },
    {
     "name": "stdout",
     "output_type": "stream",
     "text": [
      "✅ Wrote row 75 to CSV\n"
     ]
    },
    {
     "name": "stderr",
     "output_type": "stream",
     "text": [
      "  1%|          | 78/6275 [16:41<26:56:58, 15.66s/it]"
     ]
    },
    {
     "name": "stdout",
     "output_type": "stream",
     "text": [
      "✅ Wrote row 77 to CSV\n"
     ]
    },
    {
     "name": "stderr",
     "output_type": "stream",
     "text": [
      "  1%|▏         | 82/6275 [17:19<20:56:33, 12.17s/it]"
     ]
    },
    {
     "name": "stdout",
     "output_type": "stream",
     "text": [
      "✅ Wrote row 81 to CSV\n"
     ]
    },
    {
     "name": "stderr",
     "output_type": "stream",
     "text": [
      "  1%|▏         | 90/6275 [17:36<10:16:06,  5.98s/it]"
     ]
    },
    {
     "name": "stdout",
     "output_type": "stream",
     "text": [
      "✅ Wrote row 89 to CSV\n"
     ]
    },
    {
     "name": "stderr",
     "output_type": "stream",
     "text": [
      "  1%|▏         | 91/6275 [18:22<17:09:30,  9.99s/it]"
     ]
    },
    {
     "name": "stdout",
     "output_type": "stream",
     "text": [
      "✅ Wrote row 90 to CSV\n"
     ]
    },
    {
     "name": "stderr",
     "output_type": "stream",
     "text": [
      "  1%|▏         | 94/6275 [19:06<19:33:57, 11.40s/it]"
     ]
    },
    {
     "name": "stdout",
     "output_type": "stream",
     "text": [
      "✅ Wrote row 93 to CSV\n"
     ]
    },
    {
     "name": "stderr",
     "output_type": "stream",
     "text": [
      "  2%|▏         | 95/6275 [19:23<20:45:39, 12.09s/it]"
     ]
    },
    {
     "name": "stdout",
     "output_type": "stream",
     "text": [
      "✅ Wrote row 94 to CSV\n"
     ]
    },
    {
     "name": "stderr",
     "output_type": "stream",
     "text": [
      "  2%|▏         | 96/6275 [20:06<28:33:34, 16.64s/it]"
     ]
    },
    {
     "name": "stdout",
     "output_type": "stream",
     "text": [
      "✅ Wrote row 95 to CSV\n"
     ]
    },
    {
     "name": "stderr",
     "output_type": "stream",
     "text": [
      "  2%|▏         | 97/6275 [20:22<28:19:10, 16.50s/it]"
     ]
    },
    {
     "name": "stdout",
     "output_type": "stream",
     "text": [
      "✅ Wrote row 96 to CSV\n"
     ]
    },
    {
     "name": "stderr",
     "output_type": "stream",
     "text": [
      "  2%|▏         | 99/6275 [20:36<22:57:58, 13.39s/it]"
     ]
    },
    {
     "name": "stdout",
     "output_type": "stream",
     "text": [
      "✅ Wrote row 98 to CSV\n"
     ]
    },
    {
     "name": "stderr",
     "output_type": "stream",
     "text": [
      "  2%|▏         | 102/6275 [20:51<17:01:37,  9.93s/it]"
     ]
    },
    {
     "name": "stdout",
     "output_type": "stream",
     "text": [
      "✅ Wrote row 101 to CSV\n"
     ]
    },
    {
     "name": "stderr",
     "output_type": "stream",
     "text": [
      "  2%|▏         | 103/6275 [21:07<18:35:45, 10.85s/it]"
     ]
    },
    {
     "name": "stdout",
     "output_type": "stream",
     "text": [
      "✅ Wrote row 102 to CSV\n"
     ]
    },
    {
     "name": "stderr",
     "output_type": "stream",
     "text": [
      "  2%|▏         | 104/6275 [21:23<20:16:22, 11.83s/it]"
     ]
    },
    {
     "name": "stdout",
     "output_type": "stream",
     "text": [
      "✅ Wrote row 103 to CSV\n"
     ]
    },
    {
     "name": "stderr",
     "output_type": "stream",
     "text": [
      "  2%|▏         | 105/6275 [21:42<23:02:37, 13.45s/it]"
     ]
    },
    {
     "name": "stdout",
     "output_type": "stream",
     "text": [
      "✅ Wrote row 104 to CSV\n"
     ]
    },
    {
     "name": "stderr",
     "output_type": "stream",
     "text": [
      "  2%|▏         | 106/6275 [22:00<24:37:35, 14.37s/it]"
     ]
    },
    {
     "name": "stdout",
     "output_type": "stream",
     "text": [
      "✅ Wrote row 105 to CSV\n"
     ]
    },
    {
     "name": "stderr",
     "output_type": "stream",
     "text": [
      "  2%|▏         | 107/6275 [22:15<25:16:38, 14.75s/it]"
     ]
    },
    {
     "name": "stdout",
     "output_type": "stream",
     "text": [
      "✅ Wrote row 106 to CSV\n"
     ]
    },
    {
     "name": "stderr",
     "output_type": "stream",
     "text": [
      "  2%|▏         | 109/6275 [22:32<20:47:54, 12.14s/it]"
     ]
    },
    {
     "name": "stdout",
     "output_type": "stream",
     "text": [
      "✅ Wrote row 108 to CSV\n"
     ]
    },
    {
     "name": "stderr",
     "output_type": "stream",
     "text": [
      "  2%|▏         | 110/6275 [22:47<21:43:13, 12.68s/it]"
     ]
    },
    {
     "name": "stdout",
     "output_type": "stream",
     "text": [
      "✅ Wrote row 109 to CSV\n"
     ]
    },
    {
     "name": "stderr",
     "output_type": "stream",
     "text": [
      "  2%|▏         | 113/6275 [23:03<15:34:42,  9.10s/it]"
     ]
    },
    {
     "name": "stdout",
     "output_type": "stream",
     "text": [
      "✅ Wrote row 112 to CSV\n"
     ]
    },
    {
     "name": "stderr",
     "output_type": "stream",
     "text": [
      "  2%|▏         | 114/6275 [23:20<17:59:43, 10.52s/it]"
     ]
    },
    {
     "name": "stdout",
     "output_type": "stream",
     "text": [
      "✅ Wrote row 113 to CSV\n"
     ]
    },
    {
     "name": "stderr",
     "output_type": "stream",
     "text": [
      "  2%|▏         | 115/6275 [23:35<19:30:56, 11.41s/it]"
     ]
    },
    {
     "name": "stdout",
     "output_type": "stream",
     "text": [
      "✅ Wrote row 114 to CSV\n"
     ]
    },
    {
     "name": "stderr",
     "output_type": "stream",
     "text": [
      "  2%|▏         | 116/6275 [23:51<21:43:15, 12.70s/it]"
     ]
    },
    {
     "name": "stdout",
     "output_type": "stream",
     "text": [
      "✅ Wrote row 115 to CSV\n"
     ]
    },
    {
     "name": "stderr",
     "output_type": "stream",
     "text": [
      "  2%|▏         | 117/6275 [24:06<22:35:59, 13.21s/it]"
     ]
    },
    {
     "name": "stdout",
     "output_type": "stream",
     "text": [
      "✅ Wrote row 116 to CSV\n"
     ]
    },
    {
     "name": "stderr",
     "output_type": "stream",
     "text": [
      "  2%|▏         | 119/6275 [24:25<19:59:32, 11.69s/it]"
     ]
    },
    {
     "name": "stdout",
     "output_type": "stream",
     "text": [
      "✅ Wrote row 118 to CSV\n"
     ]
    },
    {
     "name": "stderr",
     "output_type": "stream",
     "text": [
      "  2%|▏         | 120/6275 [24:39<20:45:09, 12.14s/it]"
     ]
    },
    {
     "name": "stdout",
     "output_type": "stream",
     "text": [
      "✅ Wrote row 119 to CSV\n"
     ]
    },
    {
     "name": "stderr",
     "output_type": "stream",
     "text": [
      "  2%|▏         | 122/6275 [24:52<16:54:23,  9.89s/it]"
     ]
    },
    {
     "name": "stdout",
     "output_type": "stream",
     "text": [
      "✅ Wrote row 121 to CSV\n"
     ]
    },
    {
     "name": "stderr",
     "output_type": "stream",
     "text": [
      "  2%|▏         | 123/6275 [25:08<19:03:59, 11.16s/it]"
     ]
    },
    {
     "name": "stdout",
     "output_type": "stream",
     "text": [
      "✅ Wrote row 122 to CSV\n"
     ]
    },
    {
     "name": "stderr",
     "output_type": "stream",
     "text": [
      "  2%|▏         | 124/6275 [25:23<20:58:53, 12.28s/it]"
     ]
    },
    {
     "name": "stdout",
     "output_type": "stream",
     "text": [
      "✅ Wrote row 123 to CSV\n"
     ]
    },
    {
     "name": "stderr",
     "output_type": "stream",
     "text": [
      "  2%|▏         | 125/6275 [25:39<22:20:58, 13.08s/it]"
     ]
    },
    {
     "name": "stdout",
     "output_type": "stream",
     "text": [
      "✅ Wrote row 124 to CSV\n"
     ]
    },
    {
     "name": "stderr",
     "output_type": "stream",
     "text": [
      "  2%|▏         | 126/6275 [25:52<22:27:31, 13.15s/it]"
     ]
    },
    {
     "name": "stdout",
     "output_type": "stream",
     "text": [
      "✅ Wrote row 125 to CSV\n"
     ]
    },
    {
     "name": "stderr",
     "output_type": "stream",
     "text": [
      "  2%|▏         | 127/6275 [26:06<22:47:28, 13.35s/it]"
     ]
    },
    {
     "name": "stdout",
     "output_type": "stream",
     "text": [
      "✅ Wrote row 126 to CSV\n"
     ]
    },
    {
     "name": "stderr",
     "output_type": "stream",
     "text": [
      "  2%|▏         | 128/6275 [26:20<22:57:11, 13.44s/it]"
     ]
    },
    {
     "name": "stdout",
     "output_type": "stream",
     "text": [
      "✅ Wrote row 127 to CSV\n"
     ]
    },
    {
     "name": "stderr",
     "output_type": "stream",
     "text": [
      "  2%|▏         | 129/6275 [26:34<23:24:16, 13.71s/it]"
     ]
    },
    {
     "name": "stdout",
     "output_type": "stream",
     "text": [
      "✅ Wrote row 128 to CSV\n"
     ]
    },
    {
     "name": "stderr",
     "output_type": "stream",
     "text": [
      "  2%|▏         | 130/6275 [26:49<23:58:00, 14.04s/it]"
     ]
    },
    {
     "name": "stdout",
     "output_type": "stream",
     "text": [
      "✅ Wrote row 129 to CSV\n"
     ]
    },
    {
     "name": "stderr",
     "output_type": "stream",
     "text": [
      "  2%|▏         | 132/6275 [27:00<17:29:22, 10.25s/it]"
     ]
    },
    {
     "name": "stdout",
     "output_type": "stream",
     "text": [
      "✅ Wrote row 131 to CSV\n"
     ]
    },
    {
     "name": "stderr",
     "output_type": "stream",
     "text": [
      "  2%|▏         | 138/6275 [27:13<8:20:54,  4.90s/it] "
     ]
    },
    {
     "name": "stdout",
     "output_type": "stream",
     "text": [
      "✅ Wrote row 137 to CSV\n"
     ]
    },
    {
     "name": "stderr",
     "output_type": "stream",
     "text": [
      "  2%|▏         | 139/6275 [27:30<11:05:43,  6.51s/it]"
     ]
    },
    {
     "name": "stdout",
     "output_type": "stream",
     "text": [
      "✅ Wrote row 138 to CSV\n"
     ]
    },
    {
     "name": "stderr",
     "output_type": "stream",
     "text": [
      "  2%|▏         | 142/6275 [27:45<10:11:13,  5.98s/it]"
     ]
    },
    {
     "name": "stdout",
     "output_type": "stream",
     "text": [
      "✅ Wrote row 141 to CSV\n"
     ]
    },
    {
     "name": "stderr",
     "output_type": "stream",
     "text": [
      "  2%|▏         | 145/6275 [28:00<9:30:12,  5.58s/it] "
     ]
    },
    {
     "name": "stdout",
     "output_type": "stream",
     "text": [
      "✅ Wrote row 144 to CSV\n"
     ]
    },
    {
     "name": "stderr",
     "output_type": "stream",
     "text": [
      "  2%|▏         | 146/6275 [28:13<11:29:19,  6.75s/it]"
     ]
    },
    {
     "name": "stdout",
     "output_type": "stream",
     "text": [
      "✅ Wrote row 145 to CSV\n"
     ]
    },
    {
     "name": "stderr",
     "output_type": "stream",
     "text": [
      "  2%|▏         | 148/6275 [28:29<11:57:43,  7.03s/it]"
     ]
    },
    {
     "name": "stdout",
     "output_type": "stream",
     "text": [
      "✅ Wrote row 147 to CSV\n"
     ]
    },
    {
     "name": "stderr",
     "output_type": "stream",
     "text": [
      "  2%|▏         | 149/6275 [28:45<14:29:55,  8.52s/it]"
     ]
    },
    {
     "name": "stdout",
     "output_type": "stream",
     "text": [
      "✅ Wrote row 148 to CSV\n"
     ]
    },
    {
     "name": "stderr",
     "output_type": "stream",
     "text": [
      "  2%|▏         | 150/6275 [28:59<16:25:07,  9.65s/it]"
     ]
    },
    {
     "name": "stdout",
     "output_type": "stream",
     "text": [
      "✅ Wrote row 149 to CSV\n"
     ]
    },
    {
     "name": "stderr",
     "output_type": "stream",
     "text": [
      "  2%|▏         | 153/6275 [29:13<12:32:25,  7.37s/it]"
     ]
    },
    {
     "name": "stdout",
     "output_type": "stream",
     "text": [
      "✅ Wrote row 152 to CSV\n"
     ]
    },
    {
     "name": "stderr",
     "output_type": "stream",
     "text": [
      "  2%|▏         | 154/6275 [29:27<14:30:53,  8.54s/it]"
     ]
    },
    {
     "name": "stdout",
     "output_type": "stream",
     "text": [
      "✅ Wrote row 153 to CSV\n"
     ]
    },
    {
     "name": "stderr",
     "output_type": "stream",
     "text": [
      "  2%|▏         | 155/6275 [29:45<17:42:47, 10.42s/it]"
     ]
    },
    {
     "name": "stdout",
     "output_type": "stream",
     "text": [
      "✅ Wrote row 154 to CSV\n"
     ]
    },
    {
     "name": "stderr",
     "output_type": "stream",
     "text": [
      "  3%|▎         | 157/6275 [29:57<15:11:44,  8.94s/it]"
     ]
    },
    {
     "name": "stdout",
     "output_type": "stream",
     "text": [
      "✅ Wrote row 156 to CSV\n"
     ]
    },
    {
     "name": "stderr",
     "output_type": "stream",
     "text": [
      "  3%|▎         | 159/6275 [30:10<13:38:01,  8.03s/it]"
     ]
    },
    {
     "name": "stdout",
     "output_type": "stream",
     "text": [
      "✅ Wrote row 158 to CSV\n"
     ]
    },
    {
     "name": "stderr",
     "output_type": "stream",
     "text": [
      "  3%|▎         | 162/6275 [30:25<11:23:30,  6.71s/it]"
     ]
    },
    {
     "name": "stdout",
     "output_type": "stream",
     "text": [
      "✅ Wrote row 161 to CSV\n"
     ]
    },
    {
     "name": "stderr",
     "output_type": "stream",
     "text": [
      "  3%|▎         | 164/6275 [30:38<11:27:09,  6.75s/it]"
     ]
    },
    {
     "name": "stdout",
     "output_type": "stream",
     "text": [
      "✅ Wrote row 163 to CSV\n"
     ]
    },
    {
     "name": "stderr",
     "output_type": "stream",
     "text": [
      "  3%|▎         | 165/6275 [30:55<14:11:27,  8.36s/it]"
     ]
    },
    {
     "name": "stdout",
     "output_type": "stream",
     "text": [
      "✅ Wrote row 164 to CSV\n"
     ]
    },
    {
     "name": "stderr",
     "output_type": "stream",
     "text": [
      "  3%|▎         | 168/6275 [31:08<11:23:20,  6.71s/it]"
     ]
    },
    {
     "name": "stdout",
     "output_type": "stream",
     "text": [
      "✅ Wrote row 167 to CSV\n"
     ]
    },
    {
     "name": "stderr",
     "output_type": "stream",
     "text": [
      "  3%|▎         | 169/6275 [31:25<14:23:42,  8.49s/it]"
     ]
    },
    {
     "name": "stdout",
     "output_type": "stream",
     "text": [
      "✅ Wrote row 168 to CSV\n"
     ]
    },
    {
     "name": "stderr",
     "output_type": "stream",
     "text": [
      "  3%|▎         | 175/6275 [31:39<8:11:43,  4.84s/it] "
     ]
    },
    {
     "name": "stdout",
     "output_type": "stream",
     "text": [
      "✅ Wrote row 174 to CSV\n"
     ]
    },
    {
     "name": "stderr",
     "output_type": "stream",
     "text": [
      "  3%|▎         | 177/6275 [31:54<9:11:04,  5.42s/it]"
     ]
    },
    {
     "name": "stdout",
     "output_type": "stream",
     "text": [
      "✅ Wrote row 176 to CSV\n"
     ]
    },
    {
     "name": "stderr",
     "output_type": "stream",
     "text": [
      "  3%|▎         | 179/6275 [32:07<9:36:56,  5.68s/it]"
     ]
    },
    {
     "name": "stdout",
     "output_type": "stream",
     "text": [
      "✅ Wrote row 178 to CSV\n"
     ]
    },
    {
     "name": "stderr",
     "output_type": "stream",
     "text": [
      "  3%|▎         | 182/6275 [32:24<9:38:01,  5.69s/it]"
     ]
    },
    {
     "name": "stdout",
     "output_type": "stream",
     "text": [
      "✅ Wrote row 181 to CSV\n"
     ]
    },
    {
     "name": "stderr",
     "output_type": "stream",
     "text": [
      "  3%|▎         | 183/6275 [32:40<12:04:20,  7.13s/it]"
     ]
    },
    {
     "name": "stdout",
     "output_type": "stream",
     "text": [
      "✅ Wrote row 182 to CSV\n"
     ]
    },
    {
     "name": "stderr",
     "output_type": "stream",
     "text": [
      "  3%|▎         | 185/6275 [32:56<12:22:25,  7.31s/it]"
     ]
    },
    {
     "name": "stdout",
     "output_type": "stream",
     "text": [
      "✅ Wrote row 184 to CSV\n"
     ]
    },
    {
     "name": "stderr",
     "output_type": "stream",
     "text": [
      "  3%|▎         | 186/6275 [33:11<14:27:07,  8.54s/it]"
     ]
    },
    {
     "name": "stdout",
     "output_type": "stream",
     "text": [
      "✅ Wrote row 185 to CSV\n"
     ]
    },
    {
     "name": "stderr",
     "output_type": "stream",
     "text": [
      "  3%|▎         | 190/6275 [33:24<10:11:51,  6.03s/it]"
     ]
    },
    {
     "name": "stdout",
     "output_type": "stream",
     "text": [
      "✅ Wrote row 189 to CSV\n"
     ]
    },
    {
     "name": "stderr",
     "output_type": "stream",
     "text": [
      "  3%|▎         | 194/6275 [33:38<8:23:19,  4.97s/it] "
     ]
    },
    {
     "name": "stdout",
     "output_type": "stream",
     "text": [
      "✅ Wrote row 193 to CSV\n"
     ]
    },
    {
     "name": "stderr",
     "output_type": "stream",
     "text": [
      "  3%|▎         | 195/6275 [33:55<10:57:53,  6.49s/it]"
     ]
    },
    {
     "name": "stdout",
     "output_type": "stream",
     "text": [
      "✅ Wrote row 194 to CSV\n"
     ]
    },
    {
     "name": "stderr",
     "output_type": "stream",
     "text": [
      "  3%|▎         | 196/6275 [34:08<12:46:08,  7.56s/it]"
     ]
    },
    {
     "name": "stdout",
     "output_type": "stream",
     "text": [
      "✅ Wrote row 195 to CSV\n"
     ]
    },
    {
     "name": "stderr",
     "output_type": "stream",
     "text": [
      "  3%|▎         | 198/6275 [34:24<12:52:24,  7.63s/it]"
     ]
    },
    {
     "name": "stdout",
     "output_type": "stream",
     "text": [
      "✅ Wrote row 197 to CSV\n"
     ]
    },
    {
     "name": "stderr",
     "output_type": "stream",
     "text": [
      "  3%|▎         | 199/6275 [34:38<14:57:00,  8.86s/it]"
     ]
    },
    {
     "name": "stdout",
     "output_type": "stream",
     "text": [
      "✅ Wrote row 198 to CSV\n"
     ]
    },
    {
     "name": "stderr",
     "output_type": "stream",
     "text": [
      "  3%|▎         | 200/6275 [34:53<17:07:04, 10.14s/it]"
     ]
    },
    {
     "name": "stdout",
     "output_type": "stream",
     "text": [
      "✅ Wrote row 199 to CSV\n"
     ]
    },
    {
     "name": "stderr",
     "output_type": "stream",
     "text": [
      "  3%|▎         | 202/6275 [35:08<15:10:57,  9.00s/it]"
     ]
    },
    {
     "name": "stdout",
     "output_type": "stream",
     "text": [
      "✅ Wrote row 201 to CSV\n"
     ]
    },
    {
     "name": "stderr",
     "output_type": "stream",
     "text": [
      "  3%|▎         | 203/6275 [35:21<16:44:25,  9.93s/it]"
     ]
    },
    {
     "name": "stdout",
     "output_type": "stream",
     "text": [
      "✅ Wrote row 202 to CSV\n"
     ]
    },
    {
     "name": "stderr",
     "output_type": "stream",
     "text": [
      "  3%|▎         | 205/6275 [35:35<14:51:12,  8.81s/it]"
     ]
    },
    {
     "name": "stdout",
     "output_type": "stream",
     "text": [
      "✅ Wrote row 204 to CSV\n"
     ]
    },
    {
     "name": "stderr",
     "output_type": "stream",
     "text": [
      "  3%|▎         | 207/6275 [35:49<13:53:55,  8.25s/it]"
     ]
    },
    {
     "name": "stdout",
     "output_type": "stream",
     "text": [
      "✅ Wrote row 206 to CSV\n"
     ]
    },
    {
     "name": "stderr",
     "output_type": "stream",
     "text": [
      "  3%|▎         | 209/6275 [36:05<13:35:18,  8.06s/it]"
     ]
    },
    {
     "name": "stdout",
     "output_type": "stream",
     "text": [
      "✅ Wrote row 208 to CSV\n"
     ]
    },
    {
     "name": "stderr",
     "output_type": "stream",
     "text": [
      "  3%|▎         | 210/6275 [36:19<15:45:41,  9.36s/it]"
     ]
    },
    {
     "name": "stdout",
     "output_type": "stream",
     "text": [
      "✅ Wrote row 209 to CSV\n"
     ]
    },
    {
     "name": "stderr",
     "output_type": "stream",
     "text": [
      "  3%|▎         | 211/6275 [36:36<18:23:47, 10.92s/it]"
     ]
    },
    {
     "name": "stdout",
     "output_type": "stream",
     "text": [
      "✅ Wrote row 210 to CSV\n"
     ]
    },
    {
     "name": "stderr",
     "output_type": "stream",
     "text": [
      "  3%|▎         | 213/6275 [36:54<17:01:31, 10.11s/it]"
     ]
    },
    {
     "name": "stdout",
     "output_type": "stream",
     "text": [
      "✅ Wrote row 212 to CSV\n"
     ]
    },
    {
     "name": "stderr",
     "output_type": "stream",
     "text": [
      "  3%|▎         | 216/6275 [37:09<13:14:52,  7.87s/it]"
     ]
    },
    {
     "name": "stdout",
     "output_type": "stream",
     "text": [
      "✅ Wrote row 215 to CSV\n"
     ]
    },
    {
     "name": "stderr",
     "output_type": "stream",
     "text": [
      "  3%|▎         | 217/6275 [37:24<15:12:40,  9.04s/it]"
     ]
    },
    {
     "name": "stdout",
     "output_type": "stream",
     "text": [
      "✅ Wrote row 216 to CSV\n"
     ]
    },
    {
     "name": "stderr",
     "output_type": "stream",
     "text": [
      "  3%|▎         | 218/6275 [37:39<17:23:58, 10.34s/it]"
     ]
    },
    {
     "name": "stdout",
     "output_type": "stream",
     "text": [
      "✅ Wrote row 217 to CSV\n"
     ]
    },
    {
     "name": "stderr",
     "output_type": "stream",
     "text": [
      "  3%|▎         | 219/6275 [37:54<19:15:36, 11.45s/it]"
     ]
    },
    {
     "name": "stdout",
     "output_type": "stream",
     "text": [
      "✅ Wrote row 218 to CSV\n"
     ]
    },
    {
     "name": "stderr",
     "output_type": "stream",
     "text": [
      "  4%|▎         | 223/6275 [38:08<11:38:24,  6.92s/it]"
     ]
    },
    {
     "name": "stdout",
     "output_type": "stream",
     "text": [
      "✅ Wrote row 222 to CSV\n"
     ]
    },
    {
     "name": "stderr",
     "output_type": "stream",
     "text": [
      "  4%|▎         | 224/6275 [38:22<13:32:00,  8.05s/it]"
     ]
    },
    {
     "name": "stdout",
     "output_type": "stream",
     "text": [
      "✅ Wrote row 223 to CSV\n"
     ]
    },
    {
     "name": "stderr",
     "output_type": "stream",
     "text": [
      "  4%|▎         | 225/6275 [38:38<16:19:35,  9.71s/it]"
     ]
    },
    {
     "name": "stdout",
     "output_type": "stream",
     "text": [
      "✅ Wrote row 224 to CSV\n"
     ]
    },
    {
     "name": "stderr",
     "output_type": "stream",
     "text": [
      "  4%|▎         | 228/6275 [38:52<12:29:42,  7.44s/it]"
     ]
    },
    {
     "name": "stdout",
     "output_type": "stream",
     "text": [
      "✅ Wrote row 227 to CSV\n"
     ]
    },
    {
     "name": "stderr",
     "output_type": "stream",
     "text": [
      "  4%|▎         | 231/6275 [39:07<10:52:00,  6.47s/it]"
     ]
    },
    {
     "name": "stdout",
     "output_type": "stream",
     "text": [
      "✅ Wrote row 230 to CSV\n"
     ]
    },
    {
     "name": "stderr",
     "output_type": "stream",
     "text": [
      "  4%|▎         | 233/6275 [39:23<11:28:06,  6.83s/it]"
     ]
    },
    {
     "name": "stdout",
     "output_type": "stream",
     "text": [
      "✅ Wrote row 232 to CSV\n"
     ]
    },
    {
     "name": "stderr",
     "output_type": "stream",
     "text": [
      "  4%|▎         | 234/6275 [39:39<14:02:57,  8.37s/it]"
     ]
    },
    {
     "name": "stdout",
     "output_type": "stream",
     "text": [
      "✅ Wrote row 233 to CSV\n"
     ]
    },
    {
     "name": "stderr",
     "output_type": "stream",
     "text": [
      "  4%|▎         | 235/6275 [39:55<16:18:39,  9.72s/it]"
     ]
    },
    {
     "name": "stdout",
     "output_type": "stream",
     "text": [
      "✅ Wrote row 234 to CSV\n"
     ]
    },
    {
     "name": "stderr",
     "output_type": "stream",
     "text": [
      "  4%|▍         | 237/6275 [40:10<15:13:55,  9.08s/it]"
     ]
    },
    {
     "name": "stdout",
     "output_type": "stream",
     "text": [
      "✅ Wrote row 236 to CSV\n"
     ]
    },
    {
     "name": "stderr",
     "output_type": "stream",
     "text": [
      "  4%|▍         | 238/6275 [40:24<16:48:12, 10.02s/it]"
     ]
    },
    {
     "name": "stdout",
     "output_type": "stream",
     "text": [
      "✅ Wrote row 237 to CSV\n"
     ]
    },
    {
     "name": "stderr",
     "output_type": "stream",
     "text": [
      "  4%|▍         | 241/6275 [40:40<13:02:47,  7.78s/it]"
     ]
    },
    {
     "name": "stdout",
     "output_type": "stream",
     "text": [
      "✅ Wrote row 240 to CSV\n"
     ]
    },
    {
     "name": "stderr",
     "output_type": "stream",
     "text": [
      "  4%|▍         | 243/6275 [40:56<13:18:28,  7.94s/it]"
     ]
    },
    {
     "name": "stdout",
     "output_type": "stream",
     "text": [
      "✅ Wrote row 242 to CSV\n"
     ]
    },
    {
     "name": "stderr",
     "output_type": "stream",
     "text": [
      "  4%|▍         | 245/6275 [41:14<13:40:46,  8.17s/it]"
     ]
    },
    {
     "name": "stdout",
     "output_type": "stream",
     "text": [
      "✅ Wrote row 244 to CSV\n"
     ]
    },
    {
     "name": "stderr",
     "output_type": "stream",
     "text": [
      "  4%|▍         | 248/6275 [41:29<11:33:21,  6.90s/it]"
     ]
    },
    {
     "name": "stdout",
     "output_type": "stream",
     "text": [
      "✅ Wrote row 247 to CSV\n"
     ]
    },
    {
     "name": "stderr",
     "output_type": "stream",
     "text": [
      "  4%|▍         | 249/6275 [41:44<13:41:34,  8.18s/it]"
     ]
    },
    {
     "name": "stdout",
     "output_type": "stream",
     "text": [
      "✅ Wrote row 248 to CSV\n"
     ]
    },
    {
     "name": "stderr",
     "output_type": "stream",
     "text": [
      "  4%|▍         | 251/6275 [42:01<13:59:01,  8.36s/it]"
     ]
    },
    {
     "name": "stdout",
     "output_type": "stream",
     "text": [
      "✅ Wrote row 250 to CSV\n"
     ]
    },
    {
     "name": "stderr",
     "output_type": "stream",
     "text": [
      "  4%|▍         | 252/6275 [42:16<15:54:13,  9.51s/it]"
     ]
    },
    {
     "name": "stdout",
     "output_type": "stream",
     "text": [
      "✅ Wrote row 251 to CSV\n"
     ]
    },
    {
     "name": "stderr",
     "output_type": "stream",
     "text": [
      "  4%|▍         | 253/6275 [42:32<18:06:53, 10.83s/it]"
     ]
    },
    {
     "name": "stdout",
     "output_type": "stream",
     "text": [
      "✅ Wrote row 252 to CSV\n"
     ]
    },
    {
     "name": "stderr",
     "output_type": "stream",
     "text": [
      "  4%|▍         | 255/6275 [42:46<15:49:58,  9.47s/it]"
     ]
    },
    {
     "name": "stdout",
     "output_type": "stream",
     "text": [
      "✅ Wrote row 254 to CSV\n"
     ]
    },
    {
     "name": "stderr",
     "output_type": "stream",
     "text": [
      "  4%|▍         | 256/6275 [43:02<18:05:33, 10.82s/it]"
     ]
    },
    {
     "name": "stdout",
     "output_type": "stream",
     "text": [
      "✅ Wrote row 255 to CSV\n"
     ]
    },
    {
     "name": "stderr",
     "output_type": "stream",
     "text": [
      "  4%|▍         | 257/6275 [43:18<20:12:04, 12.08s/it]"
     ]
    },
    {
     "name": "stdout",
     "output_type": "stream",
     "text": [
      "✅ Wrote row 256 to CSV\n"
     ]
    },
    {
     "name": "stderr",
     "output_type": "stream",
     "text": [
      "  4%|▍         | 258/6275 [43:35<22:03:43, 13.20s/it]"
     ]
    },
    {
     "name": "stdout",
     "output_type": "stream",
     "text": [
      "✅ Wrote row 257 to CSV\n"
     ]
    },
    {
     "name": "stderr",
     "output_type": "stream",
     "text": [
      "  4%|▍         | 259/6275 [43:50<23:09:03, 13.85s/it]"
     ]
    },
    {
     "name": "stdout",
     "output_type": "stream",
     "text": [
      "✅ Wrote row 258 to CSV\n"
     ]
    },
    {
     "name": "stderr",
     "output_type": "stream",
     "text": [
      "  4%|▍         | 261/6275 [44:06<18:47:19, 11.25s/it]"
     ]
    },
    {
     "name": "stdout",
     "output_type": "stream",
     "text": [
      "✅ Wrote row 260 to CSV\n"
     ]
    },
    {
     "name": "stderr",
     "output_type": "stream",
     "text": [
      "  4%|▍         | 262/6275 [44:20<19:49:14, 11.87s/it]"
     ]
    },
    {
     "name": "stdout",
     "output_type": "stream",
     "text": [
      "✅ Wrote row 261 to CSV\n"
     ]
    },
    {
     "name": "stderr",
     "output_type": "stream",
     "text": [
      "  4%|▍         | 263/6275 [44:39<22:44:41, 13.62s/it]"
     ]
    },
    {
     "name": "stdout",
     "output_type": "stream",
     "text": [
      "✅ Wrote row 262 to CSV\n"
     ]
    },
    {
     "name": "stderr",
     "output_type": "stream",
     "text": [
      "  4%|▍         | 264/6275 [44:54<23:29:51, 14.07s/it]"
     ]
    },
    {
     "name": "stdout",
     "output_type": "stream",
     "text": [
      "✅ Wrote row 263 to CSV\n",
      "🔁 Signature expired for row 264 on 2024-05-27, reloading...\n",
      "🔄 Loading fresh GridMET Zarr dataset from Planetary Computer...\n"
     ]
    },
    {
     "name": "stderr",
     "output_type": "stream",
     "text": [
      "  4%|▍         | 265/6275 [45:18<27:58:42, 16.76s/it]"
     ]
    },
    {
     "name": "stdout",
     "output_type": "stream",
     "text": [
      "✅ Wrote row 264 to CSV\n"
     ]
    },
    {
     "name": "stderr",
     "output_type": "stream",
     "text": [
      "  4%|▍         | 266/6275 [45:36<28:43:28, 17.21s/it]"
     ]
    },
    {
     "name": "stdout",
     "output_type": "stream",
     "text": [
      "✅ Wrote row 265 to CSV\n"
     ]
    },
    {
     "name": "stderr",
     "output_type": "stream",
     "text": [
      "  4%|▍         | 268/6275 [45:52<21:42:14, 13.01s/it]"
     ]
    },
    {
     "name": "stdout",
     "output_type": "stream",
     "text": [
      "✅ Wrote row 267 to CSV\n"
     ]
    },
    {
     "name": "stderr",
     "output_type": "stream",
     "text": [
      "  4%|▍         | 269/6275 [46:11<24:20:32, 14.59s/it]"
     ]
    },
    {
     "name": "stdout",
     "output_type": "stream",
     "text": [
      "✅ Wrote row 268 to CSV\n"
     ]
    },
    {
     "name": "stderr",
     "output_type": "stream",
     "text": [
      "  4%|▍         | 270/6275 [46:27<24:52:18, 14.91s/it]"
     ]
    },
    {
     "name": "stdout",
     "output_type": "stream",
     "text": [
      "✅ Wrote row 269 to CSV\n"
     ]
    },
    {
     "name": "stderr",
     "output_type": "stream",
     "text": [
      "  4%|▍         | 272/6275 [46:46<20:48:43, 12.48s/it]"
     ]
    },
    {
     "name": "stdout",
     "output_type": "stream",
     "text": [
      "✅ Wrote row 271 to CSV\n"
     ]
    },
    {
     "name": "stderr",
     "output_type": "stream",
     "text": [
      "  4%|▍         | 274/6275 [47:09<20:21:10, 12.21s/it]"
     ]
    },
    {
     "name": "stdout",
     "output_type": "stream",
     "text": [
      "✅ Wrote row 273 to CSV\n"
     ]
    },
    {
     "name": "stderr",
     "output_type": "stream",
     "text": [
      "  4%|▍         | 275/6275 [47:35<25:12:50, 15.13s/it]"
     ]
    },
    {
     "name": "stdout",
     "output_type": "stream",
     "text": [
      "✅ Wrote row 274 to CSV\n"
     ]
    },
    {
     "name": "stderr",
     "output_type": "stream",
     "text": [
      "  4%|▍         | 276/6275 [47:58<28:24:10, 17.04s/it]"
     ]
    },
    {
     "name": "stdout",
     "output_type": "stream",
     "text": [
      "✅ Wrote row 275 to CSV\n"
     ]
    },
    {
     "name": "stderr",
     "output_type": "stream",
     "text": [
      "  4%|▍         | 279/6275 [48:22<20:51:44, 12.53s/it]"
     ]
    },
    {
     "name": "stdout",
     "output_type": "stream",
     "text": [
      "✅ Wrote row 278 to CSV\n"
     ]
    },
    {
     "name": "stderr",
     "output_type": "stream",
     "text": [
      "  4%|▍         | 281/6275 [48:47<20:36:15, 12.37s/it]"
     ]
    },
    {
     "name": "stdout",
     "output_type": "stream",
     "text": [
      "✅ Wrote row 280 to CSV\n"
     ]
    },
    {
     "name": "stderr",
     "output_type": "stream",
     "text": [
      "  4%|▍         | 282/6275 [49:12<24:47:44, 14.89s/it]"
     ]
    },
    {
     "name": "stdout",
     "output_type": "stream",
     "text": [
      "✅ Wrote row 281 to CSV\n"
     ]
    },
    {
     "name": "stderr",
     "output_type": "stream",
     "text": [
      "  5%|▍         | 283/6275 [49:39<28:50:42, 17.33s/it]"
     ]
    },
    {
     "name": "stdout",
     "output_type": "stream",
     "text": [
      "✅ Wrote row 282 to CSV\n"
     ]
    },
    {
     "name": "stderr",
     "output_type": "stream",
     "text": [
      "  5%|▍         | 284/6275 [50:03<31:32:17, 18.95s/it]"
     ]
    },
    {
     "name": "stdout",
     "output_type": "stream",
     "text": [
      "✅ Wrote row 283 to CSV\n"
     ]
    },
    {
     "name": "stderr",
     "output_type": "stream",
     "text": [
      "  5%|▍         | 285/6275 [50:28<34:02:29, 20.46s/it]"
     ]
    },
    {
     "name": "stdout",
     "output_type": "stream",
     "text": [
      "✅ Wrote row 284 to CSV\n"
     ]
    },
    {
     "name": "stderr",
     "output_type": "stream",
     "text": [
      "  5%|▍         | 286/6275 [50:54<36:32:59, 21.97s/it]"
     ]
    },
    {
     "name": "stdout",
     "output_type": "stream",
     "text": [
      "✅ Wrote row 285 to CSV\n"
     ]
    },
    {
     "name": "stderr",
     "output_type": "stream",
     "text": [
      "  5%|▍         | 287/6275 [51:17<36:44:25, 22.09s/it]"
     ]
    },
    {
     "name": "stdout",
     "output_type": "stream",
     "text": [
      "✅ Wrote row 286 to CSV\n"
     ]
    },
    {
     "name": "stderr",
     "output_type": "stream",
     "text": [
      "  5%|▍         | 289/6275 [51:39<28:32:51, 17.17s/it]"
     ]
    },
    {
     "name": "stdout",
     "output_type": "stream",
     "text": [
      "✅ Wrote row 288 to CSV\n"
     ]
    },
    {
     "name": "stderr",
     "output_type": "stream",
     "text": [
      "  5%|▍         | 290/6275 [51:59<29:52:50, 17.97s/it]"
     ]
    },
    {
     "name": "stdout",
     "output_type": "stream",
     "text": [
      "✅ Wrote row 289 to CSV\n"
     ]
    },
    {
     "name": "stderr",
     "output_type": "stream",
     "text": [
      "  5%|▍         | 292/6275 [52:25<26:20:47, 15.85s/it]"
     ]
    },
    {
     "name": "stdout",
     "output_type": "stream",
     "text": [
      "✅ Wrote row 291 to CSV\n"
     ]
    },
    {
     "name": "stderr",
     "output_type": "stream",
     "text": [
      "  5%|▍         | 293/6275 [52:45<27:57:42, 16.83s/it]"
     ]
    },
    {
     "name": "stdout",
     "output_type": "stream",
     "text": [
      "✅ Wrote row 292 to CSV\n"
     ]
    },
    {
     "name": "stderr",
     "output_type": "stream",
     "text": [
      "  5%|▍         | 294/6275 [53:07<30:12:08, 18.18s/it]"
     ]
    },
    {
     "name": "stdout",
     "output_type": "stream",
     "text": [
      "✅ Wrote row 293 to CSV\n"
     ]
    },
    {
     "name": "stderr",
     "output_type": "stream",
     "text": [
      "  5%|▍         | 295/6275 [53:32<33:13:01, 20.00s/it]"
     ]
    },
    {
     "name": "stdout",
     "output_type": "stream",
     "text": [
      "✅ Wrote row 294 to CSV\n"
     ]
    },
    {
     "name": "stderr",
     "output_type": "stream",
     "text": [
      "  5%|▍         | 296/6275 [53:54<34:08:14, 20.55s/it]"
     ]
    },
    {
     "name": "stdout",
     "output_type": "stream",
     "text": [
      "✅ Wrote row 295 to CSV\n"
     ]
    },
    {
     "name": "stderr",
     "output_type": "stream",
     "text": [
      "  5%|▍         | 297/6275 [54:15<33:57:16, 20.45s/it]"
     ]
    },
    {
     "name": "stdout",
     "output_type": "stream",
     "text": [
      "✅ Wrote row 296 to CSV\n"
     ]
    },
    {
     "name": "stderr",
     "output_type": "stream",
     "text": [
      "  5%|▍         | 298/6275 [54:39<35:44:45, 21.53s/it]"
     ]
    },
    {
     "name": "stdout",
     "output_type": "stream",
     "text": [
      "✅ Wrote row 297 to CSV\n"
     ]
    },
    {
     "name": "stderr",
     "output_type": "stream",
     "text": [
      "  5%|▍         | 300/6275 [55:02<28:29:20, 17.16s/it]"
     ]
    },
    {
     "name": "stdout",
     "output_type": "stream",
     "text": [
      "✅ Wrote row 299 to CSV\n"
     ]
    },
    {
     "name": "stderr",
     "output_type": "stream",
     "text": [
      "  5%|▍         | 301/6275 [55:24<30:17:12, 18.25s/it]"
     ]
    },
    {
     "name": "stdout",
     "output_type": "stream",
     "text": [
      "✅ Wrote row 300 to CSV\n"
     ]
    },
    {
     "name": "stderr",
     "output_type": "stream",
     "text": [
      "  5%|▍         | 304/6275 [55:45<20:50:12, 12.56s/it]"
     ]
    },
    {
     "name": "stdout",
     "output_type": "stream",
     "text": [
      "✅ Wrote row 303 to CSV\n"
     ]
    },
    {
     "name": "stderr",
     "output_type": "stream",
     "text": [
      "  5%|▍         | 305/6275 [56:10<24:34:48, 14.82s/it]"
     ]
    },
    {
     "name": "stdout",
     "output_type": "stream",
     "text": [
      "✅ Wrote row 304 to CSV\n"
     ]
    },
    {
     "name": "stderr",
     "output_type": "stream",
     "text": [
      "  5%|▍         | 306/6275 [56:29<26:08:52, 15.77s/it]"
     ]
    },
    {
     "name": "stdout",
     "output_type": "stream",
     "text": [
      "✅ Wrote row 305 to CSV\n"
     ]
    },
    {
     "name": "stderr",
     "output_type": "stream",
     "text": [
      "  5%|▍         | 308/6275 [56:48<22:16:56, 13.44s/it]"
     ]
    },
    {
     "name": "stdout",
     "output_type": "stream",
     "text": [
      "✅ Wrote row 307 to CSV\n"
     ]
    },
    {
     "name": "stderr",
     "output_type": "stream",
     "text": [
      "  5%|▍         | 310/6275 [57:08<20:09:51, 12.17s/it]"
     ]
    },
    {
     "name": "stdout",
     "output_type": "stream",
     "text": [
      "✅ Wrote row 309 to CSV\n"
     ]
    },
    {
     "name": "stderr",
     "output_type": "stream",
     "text": [
      "  5%|▍         | 312/6275 [57:31<19:56:51, 12.04s/it]"
     ]
    },
    {
     "name": "stdout",
     "output_type": "stream",
     "text": [
      "✅ Wrote row 311 to CSV\n"
     ]
    },
    {
     "name": "stderr",
     "output_type": "stream",
     "text": [
      "  5%|▍         | 313/6275 [57:53<23:08:02, 13.97s/it]"
     ]
    },
    {
     "name": "stdout",
     "output_type": "stream",
     "text": [
      "✅ Wrote row 312 to CSV\n"
     ]
    },
    {
     "name": "stderr",
     "output_type": "stream",
     "text": [
      "  5%|▌         | 315/6275 [58:19<22:30:13, 13.59s/it]"
     ]
    },
    {
     "name": "stdout",
     "output_type": "stream",
     "text": [
      "✅ Wrote row 314 to CSV\n"
     ]
    },
    {
     "name": "stderr",
     "output_type": "stream",
     "text": [
      "  5%|▌         | 318/6275 [58:42<18:18:09, 11.06s/it]"
     ]
    },
    {
     "name": "stdout",
     "output_type": "stream",
     "text": [
      "✅ Wrote row 317 to CSV\n"
     ]
    },
    {
     "name": "stderr",
     "output_type": "stream",
     "text": [
      "  5%|▌         | 319/6275 [59:03<21:02:26, 12.72s/it]"
     ]
    },
    {
     "name": "stdout",
     "output_type": "stream",
     "text": [
      "✅ Wrote row 318 to CSV\n"
     ]
    },
    {
     "name": "stderr",
     "output_type": "stream",
     "text": [
      "  5%|▌         | 322/6275 [59:24<16:58:27, 10.26s/it]"
     ]
    },
    {
     "name": "stdout",
     "output_type": "stream",
     "text": [
      "✅ Wrote row 321 to CSV\n"
     ]
    },
    {
     "name": "stderr",
     "output_type": "stream",
     "text": [
      "  5%|▌         | 323/6275 [59:48<20:40:44, 12.51s/it]"
     ]
    },
    {
     "name": "stdout",
     "output_type": "stream",
     "text": [
      "✅ Wrote row 322 to CSV\n"
     ]
    },
    {
     "name": "stderr",
     "output_type": "stream",
     "text": [
      "  5%|▌         | 324/6275 [1:00:08<23:13:13, 14.05s/it]"
     ]
    },
    {
     "name": "stdout",
     "output_type": "stream",
     "text": [
      "✅ Wrote row 323 to CSV\n"
     ]
    },
    {
     "name": "stderr",
     "output_type": "stream",
     "text": [
      "  5%|▌         | 325/6275 [1:00:30<26:00:46, 15.74s/it]"
     ]
    },
    {
     "name": "stdout",
     "output_type": "stream",
     "text": [
      "✅ Wrote row 324 to CSV\n"
     ]
    },
    {
     "name": "stderr",
     "output_type": "stream",
     "text": [
      "  5%|▌         | 326/6275 [1:00:53<28:59:51, 17.55s/it]"
     ]
    },
    {
     "name": "stdout",
     "output_type": "stream",
     "text": [
      "✅ Wrote row 325 to CSV\n"
     ]
    },
    {
     "name": "stderr",
     "output_type": "stream",
     "text": [
      "  5%|▌         | 327/6275 [1:01:15<30:47:35, 18.64s/it]"
     ]
    },
    {
     "name": "stdout",
     "output_type": "stream",
     "text": [
      "✅ Wrote row 326 to CSV\n"
     ]
    },
    {
     "name": "stderr",
     "output_type": "stream",
     "text": [
      "  5%|▌         | 328/6275 [1:01:38<32:39:35, 19.77s/it]"
     ]
    },
    {
     "name": "stdout",
     "output_type": "stream",
     "text": [
      "✅ Wrote row 327 to CSV\n"
     ]
    },
    {
     "name": "stderr",
     "output_type": "stream",
     "text": [
      "  5%|▌         | 330/6275 [1:01:58<25:42:00, 15.56s/it]"
     ]
    },
    {
     "name": "stdout",
     "output_type": "stream",
     "text": [
      "✅ Wrote row 329 to CSV\n"
     ]
    },
    {
     "name": "stderr",
     "output_type": "stream",
     "text": [
      "  5%|▌         | 334/6275 [1:02:21<16:46:23, 10.16s/it]"
     ]
    },
    {
     "name": "stdout",
     "output_type": "stream",
     "text": [
      "✅ Wrote row 333 to CSV\n"
     ]
    },
    {
     "name": "stderr",
     "output_type": "stream",
     "text": [
      "  5%|▌         | 335/6275 [1:02:45<20:22:31, 12.35s/it]"
     ]
    },
    {
     "name": "stdout",
     "output_type": "stream",
     "text": [
      "✅ Wrote row 334 to CSV\n"
     ]
    },
    {
     "name": "stderr",
     "output_type": "stream",
     "text": [
      "  5%|▌         | 336/6275 [1:03:09<24:03:58, 14.59s/it]"
     ]
    },
    {
     "name": "stdout",
     "output_type": "stream",
     "text": [
      "✅ Wrote row 335 to CSV\n"
     ]
    },
    {
     "name": "stderr",
     "output_type": "stream",
     "text": [
      "  5%|▌         | 340/6275 [1:03:29<15:46:15,  9.57s/it]"
     ]
    },
    {
     "name": "stdout",
     "output_type": "stream",
     "text": [
      "✅ Wrote row 339 to CSV\n"
     ]
    },
    {
     "name": "stderr",
     "output_type": "stream",
     "text": [
      "  5%|▌         | 341/6275 [1:03:48<18:15:06, 11.07s/it]"
     ]
    },
    {
     "name": "stdout",
     "output_type": "stream",
     "text": [
      "✅ Wrote row 340 to CSV\n"
     ]
    },
    {
     "name": "stderr",
     "output_type": "stream",
     "text": [
      "  5%|▌         | 342/6275 [1:04:10<21:39:56, 13.15s/it]"
     ]
    },
    {
     "name": "stdout",
     "output_type": "stream",
     "text": [
      "✅ Wrote row 341 to CSV\n"
     ]
    },
    {
     "name": "stderr",
     "output_type": "stream",
     "text": [
      "  5%|▌         | 343/6275 [1:04:32<24:37:02, 14.94s/it]"
     ]
    },
    {
     "name": "stdout",
     "output_type": "stream",
     "text": [
      "✅ Wrote row 342 to CSV\n"
     ]
    },
    {
     "name": "stderr",
     "output_type": "stream",
     "text": [
      "  5%|▌         | 344/6275 [1:04:53<27:05:09, 16.44s/it]"
     ]
    },
    {
     "name": "stdout",
     "output_type": "stream",
     "text": [
      "✅ Wrote row 343 to CSV\n"
     ]
    },
    {
     "name": "stderr",
     "output_type": "stream",
     "text": [
      "  5%|▌         | 345/6275 [1:05:38<38:36:48, 23.44s/it]"
     ]
    },
    {
     "name": "stdout",
     "output_type": "stream",
     "text": [
      "✅ Wrote row 344 to CSV\n"
     ]
    },
    {
     "name": "stderr",
     "output_type": "stream",
     "text": [
      "  6%|▌         | 346/6275 [1:05:57<36:32:37, 22.19s/it]"
     ]
    },
    {
     "name": "stdout",
     "output_type": "stream",
     "text": [
      "✅ Wrote row 345 to CSV\n"
     ]
    },
    {
     "name": "stderr",
     "output_type": "stream",
     "text": [
      "  6%|▌         | 347/6275 [1:06:17<35:45:59, 21.72s/it]"
     ]
    },
    {
     "name": "stdout",
     "output_type": "stream",
     "text": [
      "✅ Wrote row 346 to CSV\n"
     ]
    },
    {
     "name": "stderr",
     "output_type": "stream",
     "text": [
      "  6%|▌         | 351/6275 [1:06:35<18:32:22, 11.27s/it]"
     ]
    },
    {
     "name": "stdout",
     "output_type": "stream",
     "text": [
      "✅ Wrote row 350 to CSV\n"
     ]
    },
    {
     "name": "stderr",
     "output_type": "stream",
     "text": [
      "  6%|▌         | 354/6275 [1:06:54<15:07:47,  9.20s/it]"
     ]
    },
    {
     "name": "stdout",
     "output_type": "stream",
     "text": [
      "✅ Wrote row 353 to CSV\n"
     ]
    },
    {
     "name": "stderr",
     "output_type": "stream",
     "text": [
      "  6%|▌         | 356/6275 [1:07:10<14:45:19,  8.97s/it]"
     ]
    },
    {
     "name": "stdout",
     "output_type": "stream",
     "text": [
      "✅ Wrote row 355 to CSV\n"
     ]
    },
    {
     "name": "stderr",
     "output_type": "stream",
     "text": [
      "  6%|▌         | 357/6275 [1:07:23<15:51:40,  9.65s/it]"
     ]
    },
    {
     "name": "stdout",
     "output_type": "stream",
     "text": [
      "✅ Wrote row 356 to CSV\n"
     ]
    },
    {
     "name": "stderr",
     "output_type": "stream",
     "text": [
      "  6%|▌         | 358/6275 [1:07:38<17:23:26, 10.58s/it]"
     ]
    },
    {
     "name": "stdout",
     "output_type": "stream",
     "text": [
      "✅ Wrote row 357 to CSV\n"
     ]
    },
    {
     "name": "stderr",
     "output_type": "stream",
     "text": [
      "  6%|▌         | 359/6275 [1:07:52<18:42:53, 11.39s/it]"
     ]
    },
    {
     "name": "stdout",
     "output_type": "stream",
     "text": [
      "✅ Wrote row 358 to CSV\n"
     ]
    },
    {
     "name": "stderr",
     "output_type": "stream",
     "text": [
      "  6%|▌         | 360/6275 [1:08:13<22:13:25, 13.53s/it]"
     ]
    },
    {
     "name": "stdout",
     "output_type": "stream",
     "text": [
      "✅ Wrote row 359 to CSV\n"
     ]
    },
    {
     "name": "stderr",
     "output_type": "stream",
     "text": [
      "  6%|▌         | 361/6275 [1:08:28<23:01:21, 14.01s/it]"
     ]
    },
    {
     "name": "stdout",
     "output_type": "stream",
     "text": [
      "✅ Wrote row 360 to CSV\n"
     ]
    },
    {
     "name": "stderr",
     "output_type": "stream",
     "text": [
      "  6%|▌         | 362/6275 [1:08:43<23:28:51, 14.30s/it]"
     ]
    },
    {
     "name": "stdout",
     "output_type": "stream",
     "text": [
      "✅ Wrote row 361 to CSV\n"
     ]
    },
    {
     "name": "stderr",
     "output_type": "stream",
     "text": [
      "  6%|▌         | 363/6275 [1:08:58<23:39:09, 14.40s/it]"
     ]
    },
    {
     "name": "stdout",
     "output_type": "stream",
     "text": [
      "✅ Wrote row 362 to CSV\n"
     ]
    },
    {
     "name": "stderr",
     "output_type": "stream",
     "text": [
      "  6%|▌         | 364/6275 [1:09:16<25:20:40, 15.44s/it]"
     ]
    },
    {
     "name": "stdout",
     "output_type": "stream",
     "text": [
      "✅ Wrote row 363 to CSV\n"
     ]
    },
    {
     "name": "stderr",
     "output_type": "stream",
     "text": [
      "  6%|▌         | 365/6275 [1:09:34<26:11:56, 15.96s/it]"
     ]
    },
    {
     "name": "stdout",
     "output_type": "stream",
     "text": [
      "✅ Wrote row 364 to CSV\n"
     ]
    },
    {
     "name": "stderr",
     "output_type": "stream",
     "text": [
      "  6%|▌         | 366/6275 [1:09:53<27:49:12, 16.95s/it]"
     ]
    },
    {
     "name": "stdout",
     "output_type": "stream",
     "text": [
      "✅ Wrote row 365 to CSV\n"
     ]
    },
    {
     "name": "stderr",
     "output_type": "stream",
     "text": [
      "  6%|▌         | 367/6275 [1:10:10<27:52:16, 16.98s/it]"
     ]
    },
    {
     "name": "stdout",
     "output_type": "stream",
     "text": [
      "✅ Wrote row 366 to CSV\n"
     ]
    },
    {
     "name": "stderr",
     "output_type": "stream",
     "text": [
      "  6%|▌         | 368/6275 [1:10:25<26:50:13, 16.36s/it]"
     ]
    },
    {
     "name": "stdout",
     "output_type": "stream",
     "text": [
      "✅ Wrote row 367 to CSV\n"
     ]
    },
    {
     "name": "stderr",
     "output_type": "stream",
     "text": [
      "  6%|▌         | 369/6275 [1:10:42<27:01:16, 16.47s/it]"
     ]
    },
    {
     "name": "stdout",
     "output_type": "stream",
     "text": [
      "✅ Wrote row 368 to CSV\n"
     ]
    },
    {
     "name": "stderr",
     "output_type": "stream",
     "text": [
      "  6%|▌         | 370/6275 [1:10:58<26:55:28, 16.41s/it]"
     ]
    },
    {
     "name": "stdout",
     "output_type": "stream",
     "text": [
      "✅ Wrote row 369 to CSV\n"
     ]
    },
    {
     "name": "stderr",
     "output_type": "stream",
     "text": [
      "  6%|▌         | 371/6275 [1:11:15<27:13:41, 16.60s/it]"
     ]
    },
    {
     "name": "stdout",
     "output_type": "stream",
     "text": [
      "✅ Wrote row 370 to CSV\n"
     ]
    },
    {
     "name": "stderr",
     "output_type": "stream",
     "text": [
      "  6%|▌         | 373/6275 [1:11:29<20:09:27, 12.30s/it]"
     ]
    },
    {
     "name": "stdout",
     "output_type": "stream",
     "text": [
      "✅ Wrote row 372 to CSV\n"
     ]
    },
    {
     "name": "stderr",
     "output_type": "stream",
     "text": [
      "  6%|▌         | 377/6275 [1:11:45<12:26:36,  7.60s/it]"
     ]
    },
    {
     "name": "stdout",
     "output_type": "stream",
     "text": [
      "✅ Wrote row 376 to CSV\n"
     ]
    },
    {
     "name": "stderr",
     "output_type": "stream",
     "text": [
      "  6%|▌         | 378/6275 [1:12:03<15:14:45,  9.31s/it]"
     ]
    },
    {
     "name": "stdout",
     "output_type": "stream",
     "text": [
      "✅ Wrote row 377 to CSV\n"
     ]
    },
    {
     "name": "stderr",
     "output_type": "stream",
     "text": [
      "  6%|▌         | 379/6275 [1:12:18<17:03:55, 10.42s/it]"
     ]
    },
    {
     "name": "stdout",
     "output_type": "stream",
     "text": [
      "✅ Wrote row 378 to CSV\n"
     ]
    },
    {
     "name": "stderr",
     "output_type": "stream",
     "text": [
      "  6%|▌         | 381/6275 [1:12:35<15:48:29,  9.66s/it]"
     ]
    },
    {
     "name": "stdout",
     "output_type": "stream",
     "text": [
      "✅ Wrote row 380 to CSV\n"
     ]
    },
    {
     "name": "stderr",
     "output_type": "stream",
     "text": [
      "  6%|▌         | 384/6275 [1:12:50<12:28:56,  7.63s/it]"
     ]
    },
    {
     "name": "stdout",
     "output_type": "stream",
     "text": [
      "✅ Wrote row 383 to CSV\n"
     ]
    },
    {
     "name": "stderr",
     "output_type": "stream",
     "text": [
      "  6%|▌         | 385/6275 [1:13:07<15:05:30,  9.22s/it]"
     ]
    },
    {
     "name": "stdout",
     "output_type": "stream",
     "text": [
      "✅ Wrote row 384 to CSV\n"
     ]
    },
    {
     "name": "stderr",
     "output_type": "stream",
     "text": [
      "  6%|▌         | 386/6275 [1:13:22<17:03:50, 10.43s/it]"
     ]
    },
    {
     "name": "stdout",
     "output_type": "stream",
     "text": [
      "✅ Wrote row 385 to CSV\n"
     ]
    },
    {
     "name": "stderr",
     "output_type": "stream",
     "text": [
      "  6%|▌         | 387/6275 [1:13:35<17:53:49, 10.94s/it]"
     ]
    },
    {
     "name": "stdout",
     "output_type": "stream",
     "text": [
      "✅ Wrote row 386 to CSV\n"
     ]
    },
    {
     "name": "stderr",
     "output_type": "stream",
     "text": [
      "  6%|▌         | 388/6275 [1:13:50<19:38:19, 12.01s/it]"
     ]
    },
    {
     "name": "stdout",
     "output_type": "stream",
     "text": [
      "✅ Wrote row 387 to CSV\n"
     ]
    },
    {
     "name": "stderr",
     "output_type": "stream",
     "text": [
      "  6%|▌         | 390/6275 [1:14:08<17:34:19, 10.75s/it]"
     ]
    },
    {
     "name": "stdout",
     "output_type": "stream",
     "text": [
      "✅ Wrote row 389 to CSV\n"
     ]
    },
    {
     "name": "stderr",
     "output_type": "stream",
     "text": [
      "  6%|▌         | 392/6275 [1:14:28<17:00:59, 10.41s/it]"
     ]
    },
    {
     "name": "stdout",
     "output_type": "stream",
     "text": [
      "✅ Wrote row 391 to CSV\n"
     ]
    },
    {
     "name": "stderr",
     "output_type": "stream",
     "text": [
      "  6%|▋         | 394/6275 [1:14:44<15:47:54,  9.67s/it]"
     ]
    },
    {
     "name": "stdout",
     "output_type": "stream",
     "text": [
      "✅ Wrote row 393 to CSV\n"
     ]
    },
    {
     "name": "stderr",
     "output_type": "stream",
     "text": [
      "  6%|▋         | 395/6275 [1:14:59<17:29:42, 10.71s/it]"
     ]
    },
    {
     "name": "stdout",
     "output_type": "stream",
     "text": [
      "✅ Wrote row 394 to CSV\n"
     ]
    },
    {
     "name": "stderr",
     "output_type": "stream",
     "text": [
      "  6%|▋         | 396/6275 [1:15:15<19:16:24, 11.80s/it]"
     ]
    },
    {
     "name": "stdout",
     "output_type": "stream",
     "text": [
      "✅ Wrote row 395 to CSV\n"
     ]
    },
    {
     "name": "stderr",
     "output_type": "stream",
     "text": [
      "  6%|▋         | 398/6275 [1:15:30<16:45:42, 10.27s/it]"
     ]
    },
    {
     "name": "stdout",
     "output_type": "stream",
     "text": [
      "✅ Wrote row 397 to CSV\n"
     ]
    },
    {
     "name": "stderr",
     "output_type": "stream",
     "text": [
      "  6%|▋         | 399/6275 [1:15:46<18:35:51, 11.39s/it]"
     ]
    },
    {
     "name": "stdout",
     "output_type": "stream",
     "text": [
      "✅ Wrote row 398 to CSV\n"
     ]
    },
    {
     "name": "stderr",
     "output_type": "stream",
     "text": [
      "  6%|▋         | 400/6275 [1:16:02<20:20:01, 12.46s/it]"
     ]
    },
    {
     "name": "stdout",
     "output_type": "stream",
     "text": [
      "✅ Wrote row 399 to CSV\n"
     ]
    },
    {
     "name": "stderr",
     "output_type": "stream",
     "text": [
      "  6%|▋         | 401/6275 [1:16:17<21:34:53, 13.23s/it]"
     ]
    },
    {
     "name": "stdout",
     "output_type": "stream",
     "text": [
      "✅ Wrote row 400 to CSV\n"
     ]
    },
    {
     "name": "stderr",
     "output_type": "stream",
     "text": [
      "  6%|▋         | 402/6275 [1:16:33<22:35:51, 13.85s/it]"
     ]
    },
    {
     "name": "stdout",
     "output_type": "stream",
     "text": [
      "✅ Wrote row 401 to CSV\n"
     ]
    },
    {
     "name": "stderr",
     "output_type": "stream",
     "text": [
      "  6%|▋         | 403/6275 [1:16:48<23:18:13, 14.29s/it]"
     ]
    },
    {
     "name": "stdout",
     "output_type": "stream",
     "text": [
      "✅ Wrote row 402 to CSV\n"
     ]
    },
    {
     "name": "stderr",
     "output_type": "stream",
     "text": [
      "  6%|▋         | 404/6275 [1:17:03<23:38:38, 14.50s/it]"
     ]
    },
    {
     "name": "stdout",
     "output_type": "stream",
     "text": [
      "✅ Wrote row 403 to CSV\n"
     ]
    },
    {
     "name": "stderr",
     "output_type": "stream",
     "text": [
      "  6%|▋         | 405/6275 [1:17:19<23:56:10, 14.68s/it]"
     ]
    },
    {
     "name": "stdout",
     "output_type": "stream",
     "text": [
      "✅ Wrote row 404 to CSV\n"
     ]
    },
    {
     "name": "stderr",
     "output_type": "stream",
     "text": [
      "  6%|▋         | 406/6275 [1:17:35<24:59:12, 15.33s/it]"
     ]
    },
    {
     "name": "stdout",
     "output_type": "stream",
     "text": [
      "✅ Wrote row 405 to CSV\n"
     ]
    },
    {
     "name": "stderr",
     "output_type": "stream",
     "text": [
      "  7%|▋         | 408/6275 [1:17:49<18:32:22, 11.38s/it]"
     ]
    },
    {
     "name": "stdout",
     "output_type": "stream",
     "text": [
      "✅ Wrote row 407 to CSV\n"
     ]
    },
    {
     "name": "stderr",
     "output_type": "stream",
     "text": [
      "  7%|▋         | 409/6275 [1:18:05<20:33:20, 12.62s/it]"
     ]
    },
    {
     "name": "stdout",
     "output_type": "stream",
     "text": [
      "✅ Wrote row 408 to CSV\n"
     ]
    },
    {
     "name": "stderr",
     "output_type": "stream",
     "text": [
      "  7%|▋         | 410/6275 [1:18:20<21:40:49, 13.31s/it]"
     ]
    },
    {
     "name": "stdout",
     "output_type": "stream",
     "text": [
      "✅ Wrote row 409 to CSV\n"
     ]
    },
    {
     "name": "stderr",
     "output_type": "stream",
     "text": [
      "  7%|▋         | 411/6275 [1:18:34<21:56:04, 13.47s/it]"
     ]
    },
    {
     "name": "stdout",
     "output_type": "stream",
     "text": [
      "✅ Wrote row 410 to CSV\n"
     ]
    },
    {
     "name": "stderr",
     "output_type": "stream",
     "text": [
      "  7%|▋         | 413/6275 [1:18:51<18:09:17, 11.15s/it]"
     ]
    },
    {
     "name": "stdout",
     "output_type": "stream",
     "text": [
      "✅ Wrote row 412 to CSV\n"
     ]
    },
    {
     "name": "stderr",
     "output_type": "stream",
     "text": [
      "  7%|▋         | 418/6275 [1:19:10<10:50:20,  6.66s/it]"
     ]
    },
    {
     "name": "stdout",
     "output_type": "stream",
     "text": [
      "✅ Wrote row 417 to CSV\n"
     ]
    },
    {
     "name": "stderr",
     "output_type": "stream",
     "text": [
      "  7%|▋         | 420/6275 [1:19:24<11:09:41,  6.86s/it]"
     ]
    },
    {
     "name": "stdout",
     "output_type": "stream",
     "text": [
      "✅ Wrote row 419 to CSV\n"
     ]
    },
    {
     "name": "stderr",
     "output_type": "stream",
     "text": [
      "  7%|▋         | 421/6275 [1:19:40<13:28:27,  8.29s/it]"
     ]
    },
    {
     "name": "stdout",
     "output_type": "stream",
     "text": [
      "✅ Wrote row 420 to CSV\n"
     ]
    },
    {
     "name": "stderr",
     "output_type": "stream",
     "text": [
      "  7%|▋         | 423/6275 [1:19:54<12:48:25,  7.88s/it]"
     ]
    },
    {
     "name": "stdout",
     "output_type": "stream",
     "text": [
      "✅ Wrote row 422 to CSV\n"
     ]
    },
    {
     "name": "stderr",
     "output_type": "stream",
     "text": [
      "  7%|▋         | 424/6275 [1:20:10<15:06:32,  9.30s/it]"
     ]
    },
    {
     "name": "stdout",
     "output_type": "stream",
     "text": [
      "✅ Wrote row 423 to CSV\n"
     ]
    },
    {
     "name": "stderr",
     "output_type": "stream",
     "text": [
      "  7%|▋         | 425/6275 [1:20:26<17:23:47, 10.71s/it]"
     ]
    },
    {
     "name": "stdout",
     "output_type": "stream",
     "text": [
      "✅ Wrote row 424 to CSV\n"
     ]
    },
    {
     "name": "stderr",
     "output_type": "stream",
     "text": [
      "  7%|▋         | 426/6275 [1:20:40<18:28:42, 11.37s/it]"
     ]
    },
    {
     "name": "stdout",
     "output_type": "stream",
     "text": [
      "✅ Wrote row 425 to CSV\n"
     ]
    },
    {
     "name": "stderr",
     "output_type": "stream",
     "text": [
      "  7%|▋         | 429/6275 [1:20:58<14:09:53,  8.72s/it]"
     ]
    },
    {
     "name": "stdout",
     "output_type": "stream",
     "text": [
      "✅ Wrote row 428 to CSV\n"
     ]
    },
    {
     "name": "stderr",
     "output_type": "stream",
     "text": [
      "  7%|▋         | 430/6275 [1:21:16<17:11:47, 10.59s/it]"
     ]
    },
    {
     "name": "stdout",
     "output_type": "stream",
     "text": [
      "✅ Wrote row 429 to CSV\n"
     ]
    },
    {
     "name": "stderr",
     "output_type": "stream",
     "text": [
      "  7%|▋         | 432/6275 [1:21:34<16:02:13,  9.88s/it]"
     ]
    },
    {
     "name": "stdout",
     "output_type": "stream",
     "text": [
      "✅ Wrote row 431 to CSV\n"
     ]
    },
    {
     "name": "stderr",
     "output_type": "stream",
     "text": [
      "  7%|▋         | 435/6275 [1:21:50<13:01:47,  8.03s/it]"
     ]
    },
    {
     "name": "stdout",
     "output_type": "stream",
     "text": [
      "✅ Wrote row 434 to CSV\n"
     ]
    },
    {
     "name": "stderr",
     "output_type": "stream",
     "text": [
      "  7%|▋         | 437/6275 [1:22:06<12:59:45,  8.01s/it]"
     ]
    },
    {
     "name": "stdout",
     "output_type": "stream",
     "text": [
      "✅ Wrote row 436 to CSV\n"
     ]
    },
    {
     "name": "stderr",
     "output_type": "stream",
     "text": [
      "  7%|▋         | 439/6275 [1:22:21<12:46:44,  7.88s/it]"
     ]
    },
    {
     "name": "stdout",
     "output_type": "stream",
     "text": [
      "✅ Wrote row 438 to CSV\n"
     ]
    },
    {
     "name": "stderr",
     "output_type": "stream",
     "text": [
      "  7%|▋         | 440/6275 [1:22:36<14:40:23,  9.05s/it]"
     ]
    },
    {
     "name": "stdout",
     "output_type": "stream",
     "text": [
      "✅ Wrote row 439 to CSV\n"
     ]
    },
    {
     "name": "stderr",
     "output_type": "stream",
     "text": [
      "  7%|▋         | 441/6275 [1:22:55<17:51:03, 11.02s/it]"
     ]
    },
    {
     "name": "stdout",
     "output_type": "stream",
     "text": [
      "✅ Wrote row 440 to CSV\n"
     ]
    },
    {
     "name": "stderr",
     "output_type": "stream",
     "text": [
      "  7%|▋         | 443/6275 [1:23:14<16:52:36, 10.42s/it]"
     ]
    },
    {
     "name": "stdout",
     "output_type": "stream",
     "text": [
      "✅ Wrote row 442 to CSV\n"
     ]
    },
    {
     "name": "stderr",
     "output_type": "stream",
     "text": [
      "  7%|▋         | 444/6275 [1:23:31<19:00:35, 11.74s/it]"
     ]
    },
    {
     "name": "stdout",
     "output_type": "stream",
     "text": [
      "✅ Wrote row 443 to CSV\n"
     ]
    },
    {
     "name": "stderr",
     "output_type": "stream",
     "text": [
      "  7%|▋         | 446/6275 [1:23:47<17:03:08, 10.53s/it]"
     ]
    },
    {
     "name": "stdout",
     "output_type": "stream",
     "text": [
      "✅ Wrote row 445 to CSV\n"
     ]
    },
    {
     "name": "stderr",
     "output_type": "stream",
     "text": [
      "  7%|▋         | 448/6275 [1:24:01<15:01:49,  9.29s/it]"
     ]
    },
    {
     "name": "stdout",
     "output_type": "stream",
     "text": [
      "✅ Wrote row 447 to CSV\n"
     ]
    },
    {
     "name": "stderr",
     "output_type": "stream",
     "text": [
      "  7%|▋         | 450/6275 [1:24:16<14:05:29,  8.71s/it]"
     ]
    },
    {
     "name": "stdout",
     "output_type": "stream",
     "text": [
      "✅ Wrote row 449 to CSV\n"
     ]
    },
    {
     "name": "stderr",
     "output_type": "stream",
     "text": [
      "  7%|▋         | 452/6275 [1:24:33<13:47:01,  8.52s/it]"
     ]
    },
    {
     "name": "stdout",
     "output_type": "stream",
     "text": [
      "✅ Wrote row 451 to CSV\n"
     ]
    },
    {
     "name": "stderr",
     "output_type": "stream",
     "text": [
      "  7%|▋         | 453/6275 [1:24:51<16:50:58, 10.42s/it]"
     ]
    },
    {
     "name": "stdout",
     "output_type": "stream",
     "text": [
      "✅ Wrote row 452 to CSV\n"
     ]
    },
    {
     "name": "stderr",
     "output_type": "stream",
     "text": [
      "  7%|▋         | 455/6275 [1:25:08<15:46:20,  9.76s/it]"
     ]
    },
    {
     "name": "stdout",
     "output_type": "stream",
     "text": [
      "✅ Wrote row 454 to CSV\n"
     ]
    },
    {
     "name": "stderr",
     "output_type": "stream",
     "text": [
      "  7%|▋         | 456/6275 [1:25:25<18:04:42, 11.18s/it]"
     ]
    },
    {
     "name": "stdout",
     "output_type": "stream",
     "text": [
      "✅ Wrote row 455 to CSV\n"
     ]
    },
    {
     "name": "stderr",
     "output_type": "stream",
     "text": [
      "  7%|▋         | 458/6275 [1:25:40<15:48:39,  9.78s/it]"
     ]
    },
    {
     "name": "stdout",
     "output_type": "stream",
     "text": [
      "✅ Wrote row 457 to CSV\n"
     ]
    },
    {
     "name": "stderr",
     "output_type": "stream",
     "text": [
      "  7%|▋         | 459/6275 [1:25:56<18:01:22, 11.16s/it]"
     ]
    },
    {
     "name": "stdout",
     "output_type": "stream",
     "text": [
      "✅ Wrote row 458 to CSV\n"
     ]
    },
    {
     "name": "stderr",
     "output_type": "stream",
     "text": [
      "  7%|▋         | 463/6275 [1:26:12<11:45:38,  7.28s/it]"
     ]
    },
    {
     "name": "stdout",
     "output_type": "stream",
     "text": [
      "✅ Wrote row 462 to CSV\n"
     ]
    },
    {
     "name": "stderr",
     "output_type": "stream",
     "text": [
      "  7%|▋         | 464/6275 [1:26:29<14:09:40,  8.77s/it]"
     ]
    },
    {
     "name": "stdout",
     "output_type": "stream",
     "text": [
      "✅ Wrote row 463 to CSV\n"
     ]
    },
    {
     "name": "stderr",
     "output_type": "stream",
     "text": [
      "  7%|▋         | 465/6275 [1:26:46<16:48:53, 10.42s/it]"
     ]
    },
    {
     "name": "stdout",
     "output_type": "stream",
     "text": [
      "✅ Wrote row 464 to CSV\n"
     ]
    },
    {
     "name": "stderr",
     "output_type": "stream",
     "text": [
      "  7%|▋         | 466/6275 [1:27:02<18:28:17, 11.45s/it]"
     ]
    },
    {
     "name": "stdout",
     "output_type": "stream",
     "text": [
      "✅ Wrote row 465 to CSV\n"
     ]
    },
    {
     "name": "stderr",
     "output_type": "stream",
     "text": [
      "  8%|▊         | 472/6275 [1:27:15<8:47:13,  5.45s/it] "
     ]
    },
    {
     "name": "stdout",
     "output_type": "stream",
     "text": [
      "✅ Wrote row 471 to CSV\n"
     ]
    },
    {
     "name": "stderr",
     "output_type": "stream",
     "text": [
      "  8%|▊         | 475/6275 [1:27:29<8:22:55,  5.20s/it]"
     ]
    },
    {
     "name": "stdout",
     "output_type": "stream",
     "text": [
      "✅ Wrote row 474 to CSV\n"
     ]
    },
    {
     "name": "stderr",
     "output_type": "stream",
     "text": [
      "  8%|▊         | 476/6275 [1:27:43<10:22:36,  6.44s/it]"
     ]
    },
    {
     "name": "stdout",
     "output_type": "stream",
     "text": [
      "✅ Wrote row 475 to CSV\n"
     ]
    },
    {
     "name": "stderr",
     "output_type": "stream",
     "text": [
      "  8%|▊         | 478/6275 [1:27:58<10:48:24,  6.71s/it]"
     ]
    },
    {
     "name": "stdout",
     "output_type": "stream",
     "text": [
      "✅ Wrote row 477 to CSV\n"
     ]
    },
    {
     "name": "stderr",
     "output_type": "stream",
     "text": [
      "  8%|▊         | 479/6275 [1:28:27<16:37:10, 10.32s/it]"
     ]
    },
    {
     "name": "stdout",
     "output_type": "stream",
     "text": [
      "✅ Wrote row 478 to CSV\n"
     ]
    },
    {
     "name": "stderr",
     "output_type": "stream",
     "text": [
      "  8%|▊         | 482/6275 [1:28:40<12:38:59,  7.86s/it]"
     ]
    },
    {
     "name": "stdout",
     "output_type": "stream",
     "text": [
      "✅ Wrote row 481 to CSV\n"
     ]
    },
    {
     "name": "stderr",
     "output_type": "stream",
     "text": [
      "  8%|▊         | 483/6275 [1:28:56<14:46:55,  9.19s/it]"
     ]
    },
    {
     "name": "stdout",
     "output_type": "stream",
     "text": [
      "✅ Wrote row 482 to CSV\n"
     ]
    },
    {
     "name": "stderr",
     "output_type": "stream",
     "text": [
      "  8%|▊         | 486/6275 [1:29:10<11:49:10,  7.35s/it]"
     ]
    },
    {
     "name": "stdout",
     "output_type": "stream",
     "text": [
      "✅ Wrote row 485 to CSV\n"
     ]
    },
    {
     "name": "stderr",
     "output_type": "stream",
     "text": [
      "  8%|▊         | 489/6275 [1:29:41<13:38:37,  8.49s/it]"
     ]
    },
    {
     "name": "stdout",
     "output_type": "stream",
     "text": [
      "✅ Wrote row 488 to CSV\n"
     ]
    },
    {
     "name": "stderr",
     "output_type": "stream",
     "text": [
      "  8%|▊         | 492/6275 [1:29:56<11:34:56,  7.21s/it]"
     ]
    },
    {
     "name": "stdout",
     "output_type": "stream",
     "text": [
      "✅ Wrote row 491 to CSV\n",
      "🔁 Signature expired for row 492 on 2024-06-24, reloading...\n",
      "🔄 Loading fresh GridMET Zarr dataset from Planetary Computer...\n"
     ]
    },
    {
     "name": "stderr",
     "output_type": "stream",
     "text": [
      "  8%|▊         | 493/6275 [1:30:19<15:17:13,  9.52s/it]"
     ]
    },
    {
     "name": "stdout",
     "output_type": "stream",
     "text": [
      "✅ Wrote row 492 to CSV\n"
     ]
    },
    {
     "name": "stderr",
     "output_type": "stream",
     "text": [
      "  8%|▊         | 494/6275 [1:30:38<17:45:59, 11.06s/it]"
     ]
    },
    {
     "name": "stdout",
     "output_type": "stream",
     "text": [
      "✅ Wrote row 493 to CSV\n"
     ]
    },
    {
     "name": "stderr",
     "output_type": "stream",
     "text": [
      "  8%|▊         | 495/6275 [1:30:59<20:45:42, 12.93s/it]"
     ]
    },
    {
     "name": "stdout",
     "output_type": "stream",
     "text": [
      "✅ Wrote row 494 to CSV\n"
     ]
    },
    {
     "name": "stderr",
     "output_type": "stream",
     "text": [
      "  8%|▊         | 496/6275 [1:31:20<23:29:09, 14.63s/it]"
     ]
    },
    {
     "name": "stdout",
     "output_type": "stream",
     "text": [
      "✅ Wrote row 495 to CSV\n"
     ]
    },
    {
     "name": "stderr",
     "output_type": "stream",
     "text": [
      "  8%|▊         | 497/6275 [1:31:39<25:26:37, 15.85s/it]"
     ]
    },
    {
     "name": "stdout",
     "output_type": "stream",
     "text": [
      "✅ Wrote row 496 to CSV\n"
     ]
    },
    {
     "name": "stderr",
     "output_type": "stream",
     "text": [
      "  8%|▊         | 498/6275 [1:31:59<27:00:32, 16.83s/it]"
     ]
    },
    {
     "name": "stdout",
     "output_type": "stream",
     "text": [
      "✅ Wrote row 497 to CSV\n"
     ]
    },
    {
     "name": "stderr",
     "output_type": "stream",
     "text": [
      "  8%|▊         | 499/6275 [1:32:20<28:40:03, 17.87s/it]"
     ]
    },
    {
     "name": "stdout",
     "output_type": "stream",
     "text": [
      "✅ Wrote row 498 to CSV\n"
     ]
    },
    {
     "name": "stderr",
     "output_type": "stream",
     "text": [
      "  8%|▊         | 501/6275 [1:32:38<22:40:52, 14.14s/it]"
     ]
    },
    {
     "name": "stdout",
     "output_type": "stream",
     "text": [
      "✅ Wrote row 500 to CSV\n"
     ]
    },
    {
     "name": "stderr",
     "output_type": "stream",
     "text": [
      "  8%|▊         | 502/6275 [1:32:57<24:32:29, 15.30s/it]"
     ]
    },
    {
     "name": "stdout",
     "output_type": "stream",
     "text": [
      "✅ Wrote row 501 to CSV\n"
     ]
    },
    {
     "name": "stderr",
     "output_type": "stream",
     "text": [
      "  8%|▊         | 503/6275 [1:33:17<26:08:13, 16.30s/it]"
     ]
    },
    {
     "name": "stdout",
     "output_type": "stream",
     "text": [
      "✅ Wrote row 502 to CSV\n"
     ]
    },
    {
     "name": "stderr",
     "output_type": "stream",
     "text": [
      "  8%|▊         | 504/6275 [1:33:35<26:55:10, 16.79s/it]"
     ]
    },
    {
     "name": "stdout",
     "output_type": "stream",
     "text": [
      "✅ Wrote row 503 to CSV\n"
     ]
    },
    {
     "name": "stderr",
     "output_type": "stream",
     "text": [
      "  8%|▊         | 505/6275 [1:33:54<27:55:48, 17.43s/it]"
     ]
    },
    {
     "name": "stdout",
     "output_type": "stream",
     "text": [
      "✅ Wrote row 504 to CSV\n"
     ]
    },
    {
     "name": "stderr",
     "output_type": "stream",
     "text": [
      "  8%|▊         | 506/6275 [1:34:15<29:31:42, 18.43s/it]"
     ]
    },
    {
     "name": "stdout",
     "output_type": "stream",
     "text": [
      "✅ Wrote row 505 to CSV\n"
     ]
    },
    {
     "name": "stderr",
     "output_type": "stream",
     "text": [
      "  8%|▊         | 508/6275 [1:34:35<23:35:59, 14.73s/it]"
     ]
    },
    {
     "name": "stdout",
     "output_type": "stream",
     "text": [
      "✅ Wrote row 507 to CSV\n"
     ]
    },
    {
     "name": "stderr",
     "output_type": "stream",
     "text": [
      "  8%|▊         | 510/6275 [1:34:54<20:25:14, 12.75s/it]"
     ]
    },
    {
     "name": "stdout",
     "output_type": "stream",
     "text": [
      "✅ Wrote row 509 to CSV\n"
     ]
    },
    {
     "name": "stderr",
     "output_type": "stream",
     "text": [
      "  8%|▊         | 512/6275 [1:35:14<18:51:08, 11.78s/it]"
     ]
    },
    {
     "name": "stdout",
     "output_type": "stream",
     "text": [
      "✅ Wrote row 511 to CSV\n"
     ]
    },
    {
     "name": "stderr",
     "output_type": "stream",
     "text": [
      "  8%|▊         | 515/6275 [1:35:34<15:07:59,  9.46s/it]"
     ]
    },
    {
     "name": "stdout",
     "output_type": "stream",
     "text": [
      "✅ Wrote row 514 to CSV\n"
     ]
    },
    {
     "name": "stderr",
     "output_type": "stream",
     "text": [
      "  8%|▊         | 516/6275 [1:35:55<18:15:40, 11.42s/it]"
     ]
    },
    {
     "name": "stdout",
     "output_type": "stream",
     "text": [
      "✅ Wrote row 515 to CSV\n"
     ]
    },
    {
     "name": "stderr",
     "output_type": "stream",
     "text": [
      "  8%|▊         | 517/6275 [1:36:12<20:01:54, 12.52s/it]"
     ]
    },
    {
     "name": "stdout",
     "output_type": "stream",
     "text": [
      "✅ Wrote row 516 to CSV\n"
     ]
    },
    {
     "name": "stderr",
     "output_type": "stream",
     "text": [
      "  8%|▊         | 518/6275 [1:36:29<21:51:07, 13.66s/it]"
     ]
    },
    {
     "name": "stdout",
     "output_type": "stream",
     "text": [
      "✅ Wrote row 517 to CSV\n"
     ]
    },
    {
     "name": "stderr",
     "output_type": "stream",
     "text": [
      "  8%|▊         | 522/6275 [1:37:11<19:00:04, 11.89s/it]"
     ]
    },
    {
     "name": "stdout",
     "output_type": "stream",
     "text": [
      "✅ Wrote row 521 to CSV\n"
     ]
    },
    {
     "name": "stderr",
     "output_type": "stream",
     "text": [
      "  8%|▊         | 524/6275 [1:37:30<17:52:17, 11.19s/it]"
     ]
    },
    {
     "name": "stdout",
     "output_type": "stream",
     "text": [
      "✅ Wrote row 523 to CSV\n"
     ]
    },
    {
     "name": "stderr",
     "output_type": "stream",
     "text": [
      "  8%|▊         | 525/6275 [1:37:49<19:57:08, 12.49s/it]"
     ]
    },
    {
     "name": "stdout",
     "output_type": "stream",
     "text": [
      "✅ Wrote row 524 to CSV\n"
     ]
    },
    {
     "name": "stderr",
     "output_type": "stream",
     "text": [
      "  8%|▊         | 526/6275 [1:38:04<20:34:53, 12.89s/it]"
     ]
    },
    {
     "name": "stdout",
     "output_type": "stream",
     "text": [
      "✅ Wrote row 525 to CSV\n"
     ]
    },
    {
     "name": "stderr",
     "output_type": "stream",
     "text": [
      "  8%|▊         | 527/6275 [1:38:17<20:53:36, 13.09s/it]"
     ]
    },
    {
     "name": "stdout",
     "output_type": "stream",
     "text": [
      "✅ Wrote row 526 to CSV\n"
     ]
    },
    {
     "name": "stderr",
     "output_type": "stream",
     "text": [
      "  8%|▊         | 528/6275 [1:38:35<22:35:22, 14.15s/it]"
     ]
    },
    {
     "name": "stdout",
     "output_type": "stream",
     "text": [
      "✅ Wrote row 527 to CSV\n"
     ]
    },
    {
     "name": "stderr",
     "output_type": "stream",
     "text": [
      "  8%|▊         | 529/6275 [1:38:52<23:41:34, 14.84s/it]"
     ]
    },
    {
     "name": "stdout",
     "output_type": "stream",
     "text": [
      "✅ Wrote row 528 to CSV\n"
     ]
    },
    {
     "name": "stderr",
     "output_type": "stream",
     "text": [
      "  8%|▊         | 530/6275 [1:39:07<23:36:14, 14.79s/it]"
     ]
    },
    {
     "name": "stdout",
     "output_type": "stream",
     "text": [
      "✅ Wrote row 529 to CSV\n"
     ]
    },
    {
     "name": "stderr",
     "output_type": "stream",
     "text": [
      "  8%|▊         | 532/6275 [1:39:22<18:52:47, 11.83s/it]"
     ]
    },
    {
     "name": "stdout",
     "output_type": "stream",
     "text": [
      "✅ Wrote row 531 to CSV\n"
     ]
    },
    {
     "name": "stderr",
     "output_type": "stream",
     "text": [
      "  8%|▊         | 533/6275 [1:39:39<20:36:43, 12.92s/it]"
     ]
    },
    {
     "name": "stdout",
     "output_type": "stream",
     "text": [
      "✅ Wrote row 532 to CSV\n"
     ]
    },
    {
     "name": "stderr",
     "output_type": "stream",
     "text": [
      "  9%|▊         | 534/6275 [1:39:56<22:13:33, 13.94s/it]"
     ]
    },
    {
     "name": "stdout",
     "output_type": "stream",
     "text": [
      "✅ Wrote row 533 to CSV\n"
     ]
    },
    {
     "name": "stderr",
     "output_type": "stream",
     "text": [
      "  9%|▊         | 535/6275 [1:40:13<23:31:09, 14.75s/it]"
     ]
    },
    {
     "name": "stdout",
     "output_type": "stream",
     "text": [
      "✅ Wrote row 534 to CSV\n"
     ]
    },
    {
     "name": "stderr",
     "output_type": "stream",
     "text": [
      "  9%|▊         | 538/6275 [1:40:30<15:46:05,  9.89s/it]"
     ]
    },
    {
     "name": "stdout",
     "output_type": "stream",
     "text": [
      "✅ Wrote row 537 to CSV\n"
     ]
    },
    {
     "name": "stderr",
     "output_type": "stream",
     "text": [
      "  9%|▊         | 539/6275 [1:40:46<17:58:19, 11.28s/it]"
     ]
    },
    {
     "name": "stdout",
     "output_type": "stream",
     "text": [
      "✅ Wrote row 538 to CSV\n"
     ]
    },
    {
     "name": "stderr",
     "output_type": "stream",
     "text": [
      "  9%|▊         | 540/6275 [1:41:03<19:46:05, 12.41s/it]"
     ]
    },
    {
     "name": "stdout",
     "output_type": "stream",
     "text": [
      "✅ Wrote row 539 to CSV\n"
     ]
    },
    {
     "name": "stderr",
     "output_type": "stream",
     "text": [
      "  9%|▊         | 541/6275 [1:41:19<21:21:00, 13.40s/it]"
     ]
    },
    {
     "name": "stdout",
     "output_type": "stream",
     "text": [
      "✅ Wrote row 540 to CSV\n"
     ]
    },
    {
     "name": "stderr",
     "output_type": "stream",
     "text": [
      "  9%|▊         | 542/6275 [1:41:39<23:51:41, 14.98s/it]"
     ]
    },
    {
     "name": "stdout",
     "output_type": "stream",
     "text": [
      "✅ Wrote row 541 to CSV\n"
     ]
    },
    {
     "name": "stderr",
     "output_type": "stream",
     "text": [
      "  9%|▊         | 545/6275 [1:41:59<16:59:20, 10.67s/it]"
     ]
    },
    {
     "name": "stdout",
     "output_type": "stream",
     "text": [
      "✅ Wrote row 544 to CSV\n"
     ]
    },
    {
     "name": "stderr",
     "output_type": "stream",
     "text": [
      "  9%|▊         | 546/6275 [1:42:18<19:34:00, 12.30s/it]"
     ]
    },
    {
     "name": "stdout",
     "output_type": "stream",
     "text": [
      "✅ Wrote row 545 to CSV\n"
     ]
    },
    {
     "name": "stderr",
     "output_type": "stream",
     "text": [
      "  9%|▊         | 547/6275 [1:42:37<22:06:03, 13.89s/it]"
     ]
    },
    {
     "name": "stdout",
     "output_type": "stream",
     "text": [
      "✅ Wrote row 546 to CSV\n"
     ]
    },
    {
     "name": "stderr",
     "output_type": "stream",
     "text": [
      "  9%|▊         | 548/6275 [1:42:53<22:53:02, 14.39s/it]"
     ]
    },
    {
     "name": "stdout",
     "output_type": "stream",
     "text": [
      "✅ Wrote row 547 to CSV\n"
     ]
    },
    {
     "name": "stderr",
     "output_type": "stream",
     "text": [
      "  9%|▊         | 549/6275 [1:43:09<23:31:41, 14.79s/it]"
     ]
    },
    {
     "name": "stdout",
     "output_type": "stream",
     "text": [
      "✅ Wrote row 548 to CSV\n"
     ]
    },
    {
     "name": "stderr",
     "output_type": "stream",
     "text": [
      "  9%|▉         | 550/6275 [1:43:25<23:47:48, 14.96s/it]"
     ]
    },
    {
     "name": "stdout",
     "output_type": "stream",
     "text": [
      "✅ Wrote row 549 to CSV\n"
     ]
    },
    {
     "name": "stderr",
     "output_type": "stream",
     "text": [
      "  9%|▉         | 553/6275 [1:43:41<15:40:24,  9.86s/it]"
     ]
    },
    {
     "name": "stdout",
     "output_type": "stream",
     "text": [
      "✅ Wrote row 552 to CSV\n"
     ]
    },
    {
     "name": "stderr",
     "output_type": "stream",
     "text": [
      "  9%|▉         | 554/6275 [1:43:57<17:34:30, 11.06s/it]"
     ]
    },
    {
     "name": "stdout",
     "output_type": "stream",
     "text": [
      "✅ Wrote row 553 to CSV\n"
     ]
    },
    {
     "name": "stderr",
     "output_type": "stream",
     "text": [
      "  9%|▉         | 555/6275 [1:44:12<19:13:37, 12.10s/it]"
     ]
    },
    {
     "name": "stdout",
     "output_type": "stream",
     "text": [
      "✅ Wrote row 554 to CSV\n"
     ]
    },
    {
     "name": "stderr",
     "output_type": "stream",
     "text": [
      "  9%|▉         | 556/6275 [1:44:28<20:27:20, 12.88s/it]"
     ]
    },
    {
     "name": "stdout",
     "output_type": "stream",
     "text": [
      "✅ Wrote row 555 to CSV\n"
     ]
    },
    {
     "name": "stderr",
     "output_type": "stream",
     "text": [
      "  9%|▉         | 557/6275 [1:44:45<22:11:10, 13.97s/it]"
     ]
    },
    {
     "name": "stdout",
     "output_type": "stream",
     "text": [
      "✅ Wrote row 556 to CSV\n"
     ]
    },
    {
     "name": "stderr",
     "output_type": "stream",
     "text": [
      "  9%|▉         | 558/6275 [1:45:03<24:05:57, 15.18s/it]"
     ]
    },
    {
     "name": "stdout",
     "output_type": "stream",
     "text": [
      "✅ Wrote row 557 to CSV\n"
     ]
    },
    {
     "name": "stderr",
     "output_type": "stream",
     "text": [
      "  9%|▉         | 559/6275 [1:45:21<25:06:01, 15.81s/it]"
     ]
    },
    {
     "name": "stdout",
     "output_type": "stream",
     "text": [
      "✅ Wrote row 558 to CSV\n"
     ]
    },
    {
     "name": "stderr",
     "output_type": "stream",
     "text": [
      "  9%|▉         | 560/6275 [1:45:36<24:52:30, 15.67s/it]"
     ]
    },
    {
     "name": "stdout",
     "output_type": "stream",
     "text": [
      "✅ Wrote row 559 to CSV\n"
     ]
    },
    {
     "name": "stderr",
     "output_type": "stream",
     "text": [
      "  9%|▉         | 562/6275 [1:45:51<19:02:28, 12.00s/it]"
     ]
    },
    {
     "name": "stdout",
     "output_type": "stream",
     "text": [
      "✅ Wrote row 561 to CSV\n"
     ]
    },
    {
     "name": "stderr",
     "output_type": "stream",
     "text": [
      "  9%|▉         | 563/6275 [1:46:06<20:02:47, 12.63s/it]"
     ]
    },
    {
     "name": "stdout",
     "output_type": "stream",
     "text": [
      "✅ Wrote row 562 to CSV\n"
     ]
    },
    {
     "name": "stderr",
     "output_type": "stream",
     "text": [
      "  9%|▉         | 565/6275 [1:46:21<16:44:19, 10.55s/it]"
     ]
    },
    {
     "name": "stdout",
     "output_type": "stream",
     "text": [
      "✅ Wrote row 564 to CSV\n"
     ]
    },
    {
     "name": "stderr",
     "output_type": "stream",
     "text": [
      "  9%|▉         | 566/6275 [1:46:40<19:45:57, 12.46s/it]"
     ]
    },
    {
     "name": "stdout",
     "output_type": "stream",
     "text": [
      "✅ Wrote row 565 to CSV\n"
     ]
    },
    {
     "name": "stderr",
     "output_type": "stream",
     "text": [
      "  9%|▉         | 567/6275 [1:46:56<21:25:04, 13.51s/it]"
     ]
    },
    {
     "name": "stdout",
     "output_type": "stream",
     "text": [
      "✅ Wrote row 566 to CSV\n"
     ]
    },
    {
     "name": "stderr",
     "output_type": "stream",
     "text": [
      "  9%|▉         | 568/6275 [1:47:09<20:49:24, 13.14s/it]"
     ]
    },
    {
     "name": "stdout",
     "output_type": "stream",
     "text": [
      "✅ Wrote row 567 to CSV\n"
     ]
    },
    {
     "name": "stderr",
     "output_type": "stream",
     "text": [
      "  9%|▉         | 569/6275 [1:47:21<20:28:29, 12.92s/it]"
     ]
    },
    {
     "name": "stdout",
     "output_type": "stream",
     "text": [
      "✅ Wrote row 568 to CSV\n"
     ]
    },
    {
     "name": "stderr",
     "output_type": "stream",
     "text": [
      "  9%|▉         | 570/6275 [1:47:36<21:27:38, 13.54s/it]"
     ]
    },
    {
     "name": "stdout",
     "output_type": "stream",
     "text": [
      "✅ Wrote row 569 to CSV\n"
     ]
    },
    {
     "name": "stderr",
     "output_type": "stream",
     "text": [
      "  9%|▉         | 571/6275 [1:47:53<22:51:00, 14.42s/it]"
     ]
    },
    {
     "name": "stdout",
     "output_type": "stream",
     "text": [
      "✅ Wrote row 570 to CSV\n"
     ]
    },
    {
     "name": "stderr",
     "output_type": "stream",
     "text": [
      "  9%|▉         | 572/6275 [1:48:08<23:21:21, 14.74s/it]"
     ]
    },
    {
     "name": "stdout",
     "output_type": "stream",
     "text": [
      "✅ Wrote row 571 to CSV\n"
     ]
    },
    {
     "name": "stderr",
     "output_type": "stream",
     "text": [
      "  9%|▉         | 573/6275 [1:48:22<23:03:34, 14.56s/it]"
     ]
    },
    {
     "name": "stdout",
     "output_type": "stream",
     "text": [
      "✅ Wrote row 572 to CSV\n"
     ]
    },
    {
     "name": "stderr",
     "output_type": "stream",
     "text": [
      "  9%|▉         | 574/6275 [1:48:39<24:13:55, 15.30s/it]"
     ]
    },
    {
     "name": "stdout",
     "output_type": "stream",
     "text": [
      "✅ Wrote row 573 to CSV\n"
     ]
    },
    {
     "name": "stderr",
     "output_type": "stream",
     "text": [
      "  9%|▉         | 575/6275 [1:48:57<25:20:20, 16.00s/it]"
     ]
    },
    {
     "name": "stdout",
     "output_type": "stream",
     "text": [
      "✅ Wrote row 574 to CSV\n"
     ]
    },
    {
     "name": "stderr",
     "output_type": "stream",
     "text": [
      "  9%|▉         | 576/6275 [1:49:13<25:21:56, 16.02s/it]"
     ]
    },
    {
     "name": "stdout",
     "output_type": "stream",
     "text": [
      "✅ Wrote row 575 to CSV\n"
     ]
    },
    {
     "name": "stderr",
     "output_type": "stream",
     "text": [
      "  9%|▉         | 580/6275 [1:49:28<13:00:28,  8.22s/it]"
     ]
    },
    {
     "name": "stdout",
     "output_type": "stream",
     "text": [
      "✅ Wrote row 579 to CSV\n"
     ]
    },
    {
     "name": "stderr",
     "output_type": "stream",
     "text": [
      "  9%|▉         | 581/6275 [1:49:42<14:44:20,  9.32s/it]"
     ]
    },
    {
     "name": "stdout",
     "output_type": "stream",
     "text": [
      "✅ Wrote row 580 to CSV\n"
     ]
    },
    {
     "name": "stderr",
     "output_type": "stream",
     "text": [
      "  9%|▉         | 582/6275 [1:49:58<16:50:36, 10.65s/it]"
     ]
    },
    {
     "name": "stdout",
     "output_type": "stream",
     "text": [
      "✅ Wrote row 581 to CSV\n"
     ]
    },
    {
     "name": "stderr",
     "output_type": "stream",
     "text": [
      "  9%|▉         | 583/6275 [1:50:12<18:13:27, 11.53s/it]"
     ]
    },
    {
     "name": "stdout",
     "output_type": "stream",
     "text": [
      "✅ Wrote row 582 to CSV\n"
     ]
    },
    {
     "name": "stderr",
     "output_type": "stream",
     "text": [
      "  9%|▉         | 584/6275 [1:50:25<18:51:03, 11.92s/it]"
     ]
    },
    {
     "name": "stdout",
     "output_type": "stream",
     "text": [
      "✅ Wrote row 583 to CSV\n"
     ]
    },
    {
     "name": "stderr",
     "output_type": "stream",
     "text": [
      "  9%|▉         | 585/6275 [1:50:37<18:59:34, 12.02s/it]"
     ]
    },
    {
     "name": "stdout",
     "output_type": "stream",
     "text": [
      "✅ Wrote row 584 to CSV\n"
     ]
    },
    {
     "name": "stderr",
     "output_type": "stream",
     "text": [
      "  9%|▉         | 586/6275 [1:50:52<20:15:17, 12.82s/it]"
     ]
    },
    {
     "name": "stdout",
     "output_type": "stream",
     "text": [
      "✅ Wrote row 585 to CSV\n"
     ]
    },
    {
     "name": "stderr",
     "output_type": "stream",
     "text": [
      "  9%|▉         | 587/6275 [1:51:08<21:27:21, 13.58s/it]"
     ]
    },
    {
     "name": "stdout",
     "output_type": "stream",
     "text": [
      "✅ Wrote row 586 to CSV\n"
     ]
    },
    {
     "name": "stderr",
     "output_type": "stream",
     "text": [
      "  9%|▉         | 588/6275 [1:51:23<22:04:47, 13.98s/it]"
     ]
    },
    {
     "name": "stdout",
     "output_type": "stream",
     "text": [
      "✅ Wrote row 587 to CSV\n"
     ]
    },
    {
     "name": "stderr",
     "output_type": "stream",
     "text": [
      "  9%|▉         | 589/6275 [1:52:11<37:41:35, 23.86s/it]"
     ]
    },
    {
     "name": "stdout",
     "output_type": "stream",
     "text": [
      "✅ Wrote row 588 to CSV\n"
     ]
    },
    {
     "name": "stderr",
     "output_type": "stream",
     "text": [
      "  9%|▉         | 591/6275 [1:52:29<27:02:01, 17.12s/it]"
     ]
    },
    {
     "name": "stdout",
     "output_type": "stream",
     "text": [
      "✅ Wrote row 590 to CSV\n"
     ]
    },
    {
     "name": "stderr",
     "output_type": "stream",
     "text": [
      "  9%|▉         | 592/6275 [1:52:45<26:24:20, 16.73s/it]"
     ]
    },
    {
     "name": "stdout",
     "output_type": "stream",
     "text": [
      "✅ Wrote row 591 to CSV\n"
     ]
    },
    {
     "name": "stderr",
     "output_type": "stream",
     "text": [
      "  9%|▉         | 594/6275 [1:53:01<20:47:56, 13.18s/it]"
     ]
    },
    {
     "name": "stdout",
     "output_type": "stream",
     "text": [
      "✅ Wrote row 593 to CSV\n"
     ]
    },
    {
     "name": "stderr",
     "output_type": "stream",
     "text": [
      "  9%|▉         | 595/6275 [1:53:19<22:40:55, 14.38s/it]"
     ]
    },
    {
     "name": "stdout",
     "output_type": "stream",
     "text": [
      "✅ Wrote row 594 to CSV\n"
     ]
    },
    {
     "name": "stderr",
     "output_type": "stream",
     "text": [
      "  9%|▉         | 596/6275 [1:53:36<23:45:49, 15.06s/it]"
     ]
    },
    {
     "name": "stdout",
     "output_type": "stream",
     "text": [
      "✅ Wrote row 595 to CSV\n"
     ]
    },
    {
     "name": "stderr",
     "output_type": "stream",
     "text": [
      " 10%|▉         | 597/6275 [1:53:53<24:13:31, 15.36s/it]"
     ]
    },
    {
     "name": "stdout",
     "output_type": "stream",
     "text": [
      "✅ Wrote row 596 to CSV\n"
     ]
    },
    {
     "name": "stderr",
     "output_type": "stream",
     "text": [
      " 10%|▉         | 599/6275 [1:54:11<20:07:27, 12.76s/it]"
     ]
    },
    {
     "name": "stdout",
     "output_type": "stream",
     "text": [
      "✅ Wrote row 598 to CSV\n"
     ]
    },
    {
     "name": "stderr",
     "output_type": "stream",
     "text": [
      " 10%|▉         | 600/6275 [1:54:29<22:06:14, 14.02s/it]"
     ]
    },
    {
     "name": "stdout",
     "output_type": "stream",
     "text": [
      "✅ Wrote row 599 to CSV\n"
     ]
    },
    {
     "name": "stderr",
     "output_type": "stream",
     "text": [
      " 10%|▉         | 606/6275 [1:54:44<10:01:42,  6.37s/it]"
     ]
    },
    {
     "name": "stdout",
     "output_type": "stream",
     "text": [
      "✅ Wrote row 605 to CSV\n"
     ]
    },
    {
     "name": "stderr",
     "output_type": "stream",
     "text": [
      " 10%|▉         | 609/6275 [1:55:02<9:43:49,  6.18s/it] "
     ]
    },
    {
     "name": "stdout",
     "output_type": "stream",
     "text": [
      "✅ Wrote row 608 to CSV\n"
     ]
    },
    {
     "name": "stderr",
     "output_type": "stream",
     "text": [
      " 10%|▉         | 610/6275 [1:55:22<12:37:15,  8.02s/it]"
     ]
    },
    {
     "name": "stdout",
     "output_type": "stream",
     "text": [
      "✅ Wrote row 609 to CSV\n"
     ]
    },
    {
     "name": "stderr",
     "output_type": "stream",
     "text": [
      " 10%|▉         | 612/6275 [1:55:40<12:59:21,  8.26s/it]"
     ]
    },
    {
     "name": "stdout",
     "output_type": "stream",
     "text": [
      "✅ Wrote row 611 to CSV\n"
     ]
    },
    {
     "name": "stderr",
     "output_type": "stream",
     "text": [
      " 10%|▉         | 614/6275 [1:55:57<13:10:44,  8.38s/it]"
     ]
    },
    {
     "name": "stdout",
     "output_type": "stream",
     "text": [
      "✅ Wrote row 613 to CSV\n"
     ]
    },
    {
     "name": "stderr",
     "output_type": "stream",
     "text": [
      " 10%|▉         | 615/6275 [1:56:16<16:03:46, 10.22s/it]"
     ]
    },
    {
     "name": "stdout",
     "output_type": "stream",
     "text": [
      "✅ Wrote row 614 to CSV\n"
     ]
    },
    {
     "name": "stderr",
     "output_type": "stream",
     "text": [
      " 10%|▉         | 616/6275 [1:56:37<19:09:45, 12.19s/it]"
     ]
    },
    {
     "name": "stdout",
     "output_type": "stream",
     "text": [
      "✅ Wrote row 615 to CSV\n"
     ]
    },
    {
     "name": "stderr",
     "output_type": "stream",
     "text": [
      " 10%|▉         | 617/6275 [1:56:56<21:40:28, 13.79s/it]"
     ]
    },
    {
     "name": "stdout",
     "output_type": "stream",
     "text": [
      "✅ Wrote row 616 to CSV\n"
     ]
    },
    {
     "name": "stderr",
     "output_type": "stream",
     "text": [
      " 10%|▉         | 618/6275 [1:57:15<23:31:37, 14.97s/it]"
     ]
    },
    {
     "name": "stdout",
     "output_type": "stream",
     "text": [
      "✅ Wrote row 617 to CSV\n"
     ]
    },
    {
     "name": "stderr",
     "output_type": "stream",
     "text": [
      " 10%|▉         | 620/6275 [1:57:34<20:06:29, 12.80s/it]"
     ]
    },
    {
     "name": "stdout",
     "output_type": "stream",
     "text": [
      "✅ Wrote row 619 to CSV\n"
     ]
    },
    {
     "name": "stderr",
     "output_type": "stream",
     "text": [
      " 10%|▉         | 621/6275 [1:57:54<22:30:19, 14.33s/it]"
     ]
    },
    {
     "name": "stdout",
     "output_type": "stream",
     "text": [
      "✅ Wrote row 620 to CSV\n"
     ]
    },
    {
     "name": "stderr",
     "output_type": "stream",
     "text": [
      " 10%|▉         | 622/6275 [1:58:14<24:31:10, 15.61s/it]"
     ]
    },
    {
     "name": "stdout",
     "output_type": "stream",
     "text": [
      "✅ Wrote row 621 to CSV\n"
     ]
    },
    {
     "name": "stderr",
     "output_type": "stream",
     "text": [
      " 10%|▉         | 623/6275 [1:58:33<25:59:17, 16.55s/it]"
     ]
    },
    {
     "name": "stdout",
     "output_type": "stream",
     "text": [
      "✅ Wrote row 622 to CSV\n"
     ]
    },
    {
     "name": "stderr",
     "output_type": "stream",
     "text": [
      " 10%|▉         | 624/6275 [1:58:53<27:42:10, 17.65s/it]"
     ]
    },
    {
     "name": "stdout",
     "output_type": "stream",
     "text": [
      "✅ Wrote row 623 to CSV\n"
     ]
    },
    {
     "name": "stderr",
     "output_type": "stream",
     "text": [
      " 10%|▉         | 625/6275 [1:59:12<28:14:45, 18.00s/it]"
     ]
    },
    {
     "name": "stdout",
     "output_type": "stream",
     "text": [
      "✅ Wrote row 624 to CSV\n"
     ]
    },
    {
     "name": "stderr",
     "output_type": "stream",
     "text": [
      " 10%|▉         | 626/6275 [1:59:31<28:33:37, 18.20s/it]"
     ]
    },
    {
     "name": "stdout",
     "output_type": "stream",
     "text": [
      "✅ Wrote row 625 to CSV\n"
     ]
    },
    {
     "name": "stderr",
     "output_type": "stream",
     "text": [
      " 10%|▉         | 627/6275 [1:59:50<28:41:11, 18.28s/it]"
     ]
    },
    {
     "name": "stdout",
     "output_type": "stream",
     "text": [
      "✅ Wrote row 626 to CSV\n"
     ]
    },
    {
     "name": "stderr",
     "output_type": "stream",
     "text": [
      " 10%|█         | 630/6275 [2:00:09<18:33:30, 11.84s/it]"
     ]
    },
    {
     "name": "stdout",
     "output_type": "stream",
     "text": [
      "✅ Wrote row 629 to CSV\n"
     ]
    },
    {
     "name": "stderr",
     "output_type": "stream",
     "text": [
      " 10%|█         | 631/6275 [2:00:30<21:21:24, 13.62s/it]"
     ]
    },
    {
     "name": "stdout",
     "output_type": "stream",
     "text": [
      "✅ Wrote row 630 to CSV\n"
     ]
    },
    {
     "name": "stderr",
     "output_type": "stream",
     "text": [
      " 10%|█         | 633/6275 [2:00:50<19:11:54, 12.25s/it]"
     ]
    },
    {
     "name": "stdout",
     "output_type": "stream",
     "text": [
      "✅ Wrote row 632 to CSV\n"
     ]
    },
    {
     "name": "stderr",
     "output_type": "stream",
     "text": [
      " 10%|█         | 635/6275 [2:01:09<17:44:43, 11.33s/it]"
     ]
    },
    {
     "name": "stdout",
     "output_type": "stream",
     "text": [
      "✅ Wrote row 634 to CSV\n"
     ]
    },
    {
     "name": "stderr",
     "output_type": "stream",
     "text": [
      " 10%|█         | 636/6275 [2:01:28<20:18:42, 12.97s/it]"
     ]
    },
    {
     "name": "stdout",
     "output_type": "stream",
     "text": [
      "✅ Wrote row 635 to CSV\n"
     ]
    },
    {
     "name": "stderr",
     "output_type": "stream",
     "text": [
      " 10%|█         | 637/6275 [2:01:49<22:52:18, 14.60s/it]"
     ]
    },
    {
     "name": "stdout",
     "output_type": "stream",
     "text": [
      "✅ Wrote row 636 to CSV\n"
     ]
    },
    {
     "name": "stderr",
     "output_type": "stream",
     "text": [
      " 10%|█         | 638/6275 [2:02:08<24:31:15, 15.66s/it]"
     ]
    },
    {
     "name": "stdout",
     "output_type": "stream",
     "text": [
      "✅ Wrote row 637 to CSV\n"
     ]
    },
    {
     "name": "stderr",
     "output_type": "stream",
     "text": [
      " 10%|█         | 642/6275 [2:02:28<14:59:18,  9.58s/it]"
     ]
    },
    {
     "name": "stdout",
     "output_type": "stream",
     "text": [
      "✅ Wrote row 641 to CSV\n"
     ]
    },
    {
     "name": "stderr",
     "output_type": "stream",
     "text": [
      " 10%|█         | 643/6275 [2:02:47<17:17:25, 11.05s/it]"
     ]
    },
    {
     "name": "stdout",
     "output_type": "stream",
     "text": [
      "✅ Wrote row 642 to CSV\n"
     ]
    },
    {
     "name": "stderr",
     "output_type": "stream",
     "text": [
      " 10%|█         | 645/6275 [2:03:06<16:37:13, 10.63s/it]"
     ]
    },
    {
     "name": "stdout",
     "output_type": "stream",
     "text": [
      "✅ Wrote row 644 to CSV\n"
     ]
    },
    {
     "name": "stderr",
     "output_type": "stream",
     "text": [
      " 10%|█         | 646/6275 [2:03:26<19:24:35, 12.41s/it]"
     ]
    },
    {
     "name": "stdout",
     "output_type": "stream",
     "text": [
      "✅ Wrote row 645 to CSV\n"
     ]
    },
    {
     "name": "stderr",
     "output_type": "stream",
     "text": [
      " 10%|█         | 647/6275 [2:03:44<21:12:16, 13.56s/it]"
     ]
    },
    {
     "name": "stdout",
     "output_type": "stream",
     "text": [
      "✅ Wrote row 646 to CSV\n"
     ]
    },
    {
     "name": "stderr",
     "output_type": "stream",
     "text": [
      " 10%|█         | 648/6275 [2:04:01<22:27:27, 14.37s/it]"
     ]
    },
    {
     "name": "stdout",
     "output_type": "stream",
     "text": [
      "✅ Wrote row 647 to CSV\n"
     ]
    },
    {
     "name": "stderr",
     "output_type": "stream",
     "text": [
      " 10%|█         | 652/6275 [2:04:19<13:36:09,  8.71s/it]"
     ]
    },
    {
     "name": "stdout",
     "output_type": "stream",
     "text": [
      "✅ Wrote row 651 to CSV\n"
     ]
    },
    {
     "name": "stderr",
     "output_type": "stream",
     "text": [
      " 10%|█         | 653/6275 [2:04:39<16:35:36, 10.63s/it]"
     ]
    },
    {
     "name": "stdout",
     "output_type": "stream",
     "text": [
      "✅ Wrote row 652 to CSV\n"
     ]
    },
    {
     "name": "stderr",
     "output_type": "stream",
     "text": [
      " 10%|█         | 656/6275 [2:04:56<13:24:49,  8.59s/it]"
     ]
    },
    {
     "name": "stdout",
     "output_type": "stream",
     "text": [
      "✅ Wrote row 655 to CSV\n"
     ]
    },
    {
     "name": "stderr",
     "output_type": "stream",
     "text": [
      " 10%|█         | 657/6275 [2:05:15<16:04:33, 10.30s/it]"
     ]
    },
    {
     "name": "stdout",
     "output_type": "stream",
     "text": [
      "✅ Wrote row 656 to CSV\n"
     ]
    },
    {
     "name": "stderr",
     "output_type": "stream",
     "text": [
      " 11%|█         | 660/6275 [2:05:34<13:21:59,  8.57s/it]"
     ]
    },
    {
     "name": "stdout",
     "output_type": "stream",
     "text": [
      "✅ Wrote row 659 to CSV\n"
     ]
    },
    {
     "name": "stderr",
     "output_type": "stream",
     "text": [
      " 11%|█         | 663/6275 [2:05:51<11:48:53,  7.58s/it]"
     ]
    },
    {
     "name": "stdout",
     "output_type": "stream",
     "text": [
      "✅ Wrote row 662 to CSV\n"
     ]
    },
    {
     "name": "stderr",
     "output_type": "stream",
     "text": [
      " 11%|█         | 664/6275 [2:06:10<14:24:01,  9.24s/it]"
     ]
    },
    {
     "name": "stdout",
     "output_type": "stream",
     "text": [
      "✅ Wrote row 663 to CSV\n"
     ]
    },
    {
     "name": "stderr",
     "output_type": "stream",
     "text": [
      " 11%|█         | 665/6275 [2:06:30<17:17:21, 11.09s/it]"
     ]
    },
    {
     "name": "stdout",
     "output_type": "stream",
     "text": [
      "✅ Wrote row 664 to CSV\n"
     ]
    },
    {
     "name": "stderr",
     "output_type": "stream",
     "text": [
      " 11%|█         | 667/6275 [2:06:48<16:10:53, 10.39s/it]"
     ]
    },
    {
     "name": "stdout",
     "output_type": "stream",
     "text": [
      "✅ Wrote row 666 to CSV\n"
     ]
    },
    {
     "name": "stderr",
     "output_type": "stream",
     "text": [
      " 11%|█         | 668/6275 [2:07:06<18:41:37, 12.00s/it]"
     ]
    },
    {
     "name": "stdout",
     "output_type": "stream",
     "text": [
      "✅ Wrote row 667 to CSV\n"
     ]
    },
    {
     "name": "stderr",
     "output_type": "stream",
     "text": [
      " 11%|█         | 669/6275 [2:07:29<22:18:52, 14.33s/it]"
     ]
    },
    {
     "name": "stdout",
     "output_type": "stream",
     "text": [
      "✅ Wrote row 668 to CSV\n"
     ]
    },
    {
     "name": "stderr",
     "output_type": "stream",
     "text": [
      " 11%|█         | 671/6275 [2:07:48<19:32:43, 12.56s/it]"
     ]
    },
    {
     "name": "stdout",
     "output_type": "stream",
     "text": [
      "✅ Wrote row 670 to CSV\n"
     ]
    },
    {
     "name": "stderr",
     "output_type": "stream",
     "text": [
      " 11%|█         | 672/6275 [2:08:10<22:31:35, 14.47s/it]"
     ]
    },
    {
     "name": "stdout",
     "output_type": "stream",
     "text": [
      "✅ Wrote row 671 to CSV\n"
     ]
    },
    {
     "name": "stderr",
     "output_type": "stream",
     "text": [
      " 11%|█         | 674/6275 [2:08:28<19:17:21, 12.40s/it]"
     ]
    },
    {
     "name": "stdout",
     "output_type": "stream",
     "text": [
      "✅ Wrote row 673 to CSV\n"
     ]
    },
    {
     "name": "stderr",
     "output_type": "stream",
     "text": [
      " 11%|█         | 675/6275 [2:08:47<21:28:15, 13.80s/it]"
     ]
    },
    {
     "name": "stdout",
     "output_type": "stream",
     "text": [
      "✅ Wrote row 674 to CSV\n"
     ]
    },
    {
     "name": "stderr",
     "output_type": "stream",
     "text": [
      " 11%|█         | 676/6275 [2:09:06<23:18:33, 14.99s/it]"
     ]
    },
    {
     "name": "stdout",
     "output_type": "stream",
     "text": [
      "✅ Wrote row 675 to CSV\n"
     ]
    },
    {
     "name": "stderr",
     "output_type": "stream",
     "text": [
      " 11%|█         | 678/6275 [2:09:26<20:12:39, 13.00s/it]"
     ]
    },
    {
     "name": "stdout",
     "output_type": "stream",
     "text": [
      "✅ Wrote row 677 to CSV\n"
     ]
    },
    {
     "name": "stderr",
     "output_type": "stream",
     "text": [
      " 11%|█         | 679/6275 [2:09:47<22:55:48, 14.75s/it]"
     ]
    },
    {
     "name": "stdout",
     "output_type": "stream",
     "text": [
      "✅ Wrote row 678 to CSV\n"
     ]
    },
    {
     "name": "stderr",
     "output_type": "stream",
     "text": [
      " 11%|█         | 680/6275 [2:10:08<25:16:30, 16.26s/it]"
     ]
    },
    {
     "name": "stdout",
     "output_type": "stream",
     "text": [
      "✅ Wrote row 679 to CSV\n"
     ]
    },
    {
     "name": "stderr",
     "output_type": "stream",
     "text": [
      " 11%|█         | 682/6275 [2:10:28<21:31:26, 13.85s/it]"
     ]
    },
    {
     "name": "stdout",
     "output_type": "stream",
     "text": [
      "✅ Wrote row 681 to CSV\n"
     ]
    },
    {
     "name": "stderr",
     "output_type": "stream",
     "text": [
      " 11%|█         | 683/6275 [2:10:50<24:14:18, 15.60s/it]"
     ]
    },
    {
     "name": "stdout",
     "output_type": "stream",
     "text": [
      "✅ Wrote row 682 to CSV\n"
     ]
    },
    {
     "name": "stderr",
     "output_type": "stream",
     "text": [
      " 11%|█         | 685/6275 [2:11:09<20:36:48, 13.28s/it]"
     ]
    },
    {
     "name": "stdout",
     "output_type": "stream",
     "text": [
      "✅ Wrote row 684 to CSV\n"
     ]
    },
    {
     "name": "stderr",
     "output_type": "stream",
     "text": [
      " 11%|█         | 687/6275 [2:11:29<18:48:28, 12.12s/it]"
     ]
    },
    {
     "name": "stdout",
     "output_type": "stream",
     "text": [
      "✅ Wrote row 686 to CSV\n"
     ]
    },
    {
     "name": "stderr",
     "output_type": "stream",
     "text": [
      " 11%|█         | 689/6275 [2:11:51<18:09:17, 11.70s/it]"
     ]
    },
    {
     "name": "stdout",
     "output_type": "stream",
     "text": [
      "✅ Wrote row 688 to CSV\n"
     ]
    },
    {
     "name": "stderr",
     "output_type": "stream",
     "text": [
      " 11%|█         | 690/6275 [2:12:11<20:32:58, 13.25s/it]"
     ]
    },
    {
     "name": "stdout",
     "output_type": "stream",
     "text": [
      "✅ Wrote row 689 to CSV\n"
     ]
    },
    {
     "name": "stderr",
     "output_type": "stream",
     "text": [
      " 11%|█         | 691/6275 [2:12:32<23:15:04, 14.99s/it]"
     ]
    },
    {
     "name": "stdout",
     "output_type": "stream",
     "text": [
      "✅ Wrote row 690 to CSV\n"
     ]
    },
    {
     "name": "stderr",
     "output_type": "stream",
     "text": [
      " 11%|█         | 693/6275 [2:12:50<19:41:35, 12.70s/it]"
     ]
    },
    {
     "name": "stdout",
     "output_type": "stream",
     "text": [
      "✅ Wrote row 692 to CSV\n"
     ]
    },
    {
     "name": "stderr",
     "output_type": "stream",
     "text": [
      " 11%|█         | 694/6275 [2:13:10<22:12:51, 14.33s/it]"
     ]
    },
    {
     "name": "stdout",
     "output_type": "stream",
     "text": [
      "✅ Wrote row 693 to CSV\n"
     ]
    },
    {
     "name": "stderr",
     "output_type": "stream",
     "text": [
      " 11%|█         | 695/6275 [2:13:27<22:58:40, 14.82s/it]"
     ]
    },
    {
     "name": "stdout",
     "output_type": "stream",
     "text": [
      "✅ Wrote row 694 to CSV\n"
     ]
    },
    {
     "name": "stderr",
     "output_type": "stream",
     "text": [
      " 11%|█         | 696/6275 [2:13:50<26:09:34, 16.88s/it]"
     ]
    },
    {
     "name": "stdout",
     "output_type": "stream",
     "text": [
      "✅ Wrote row 695 to CSV\n"
     ]
    },
    {
     "name": "stderr",
     "output_type": "stream",
     "text": [
      " 11%|█         | 697/6275 [2:14:10<27:17:18, 17.61s/it]"
     ]
    },
    {
     "name": "stdout",
     "output_type": "stream",
     "text": [
      "✅ Wrote row 696 to CSV\n"
     ]
    },
    {
     "name": "stderr",
     "output_type": "stream",
     "text": [
      " 11%|█         | 699/6275 [2:14:28<21:35:17, 13.94s/it]"
     ]
    },
    {
     "name": "stdout",
     "output_type": "stream",
     "text": [
      "✅ Wrote row 698 to CSV\n"
     ]
    },
    {
     "name": "stderr",
     "output_type": "stream",
     "text": [
      " 11%|█         | 701/6275 [2:14:47<19:11:28, 12.39s/it]"
     ]
    },
    {
     "name": "stdout",
     "output_type": "stream",
     "text": [
      "✅ Wrote row 700 to CSV\n",
      "🔁 Signature expired for row 704 on 2024-07-13, reloading...\n",
      "🔄 Loading fresh GridMET Zarr dataset from Planetary Computer...\n"
     ]
    },
    {
     "name": "stderr",
     "output_type": "stream",
     "text": [
      " 11%|█         | 705/6275 [2:15:25<16:40:09, 10.77s/it]"
     ]
    },
    {
     "name": "stdout",
     "output_type": "stream",
     "text": [
      "✅ Wrote row 704 to CSV\n"
     ]
    },
    {
     "name": "stderr",
     "output_type": "stream",
     "text": [
      " 11%|█▏        | 706/6275 [2:15:47<19:31:54, 12.63s/it]"
     ]
    },
    {
     "name": "stdout",
     "output_type": "stream",
     "text": [
      "✅ Wrote row 705 to CSV\n"
     ]
    },
    {
     "name": "stderr",
     "output_type": "stream",
     "text": [
      " 11%|█▏        | 707/6275 [2:16:08<21:56:04, 14.18s/it]"
     ]
    },
    {
     "name": "stdout",
     "output_type": "stream",
     "text": [
      "✅ Wrote row 706 to CSV\n"
     ]
    },
    {
     "name": "stderr",
     "output_type": "stream",
     "text": [
      " 11%|█▏        | 708/6275 [2:16:44<28:59:49, 18.75s/it]"
     ]
    },
    {
     "name": "stdout",
     "output_type": "stream",
     "text": [
      "✅ Wrote row 707 to CSV\n"
     ]
    },
    {
     "name": "stderr",
     "output_type": "stream",
     "text": [
      " 11%|█▏        | 709/6275 [2:17:38<41:07:58, 26.60s/it]"
     ]
    },
    {
     "name": "stdout",
     "output_type": "stream",
     "text": [
      "✅ Wrote row 708 to CSV\n"
     ]
    },
    {
     "name": "stderr",
     "output_type": "stream",
     "text": [
      " 11%|█▏        | 710/6275 [2:18:25<49:05:48, 31.76s/it]"
     ]
    },
    {
     "name": "stdout",
     "output_type": "stream",
     "text": [
      "✅ Wrote row 709 to CSV\n"
     ]
    },
    {
     "name": "stderr",
     "output_type": "stream",
     "text": [
      " 11%|█▏        | 711/6275 [2:19:02<50:59:14, 32.99s/it]"
     ]
    },
    {
     "name": "stdout",
     "output_type": "stream",
     "text": [
      "✅ Wrote row 710 to CSV\n"
     ]
    },
    {
     "name": "stderr",
     "output_type": "stream",
     "text": [
      " 11%|█▏        | 712/6275 [2:19:54<59:00:01, 38.18s/it]"
     ]
    },
    {
     "name": "stdout",
     "output_type": "stream",
     "text": [
      "✅ Wrote row 711 to CSV\n"
     ]
    },
    {
     "name": "stderr",
     "output_type": "stream",
     "text": [
      " 11%|█▏        | 713/6275 [2:20:38<61:43:43, 39.95s/it]"
     ]
    },
    {
     "name": "stdout",
     "output_type": "stream",
     "text": [
      "✅ Wrote row 712 to CSV\n"
     ]
    },
    {
     "name": "stderr",
     "output_type": "stream",
     "text": [
      " 11%|█▏        | 714/6275 [2:21:37<70:09:48, 45.42s/it]"
     ]
    },
    {
     "name": "stdout",
     "output_type": "stream",
     "text": [
      "✅ Wrote row 713 to CSV\n"
     ]
    },
    {
     "name": "stderr",
     "output_type": "stream",
     "text": [
      " 11%|█▏        | 715/6275 [2:22:30<73:11:51, 47.39s/it]"
     ]
    },
    {
     "name": "stdout",
     "output_type": "stream",
     "text": [
      "✅ Wrote row 714 to CSV\n"
     ]
    },
    {
     "name": "stderr",
     "output_type": "stream",
     "text": [
      " 11%|█▏        | 716/6275 [2:23:29<78:37:12, 50.91s/it]"
     ]
    },
    {
     "name": "stdout",
     "output_type": "stream",
     "text": [
      "✅ Wrote row 715 to CSV\n"
     ]
    },
    {
     "name": "stderr",
     "output_type": "stream",
     "text": [
      " 11%|█▏        | 719/6275 [2:24:13<47:30:19, 30.78s/it]"
     ]
    },
    {
     "name": "stdout",
     "output_type": "stream",
     "text": [
      "✅ Wrote row 718 to CSV\n"
     ]
    },
    {
     "name": "stderr",
     "output_type": "stream",
     "text": [
      " 11%|█▏        | 720/6275 [2:24:55<50:58:48, 33.04s/it]"
     ]
    },
    {
     "name": "stdout",
     "output_type": "stream",
     "text": [
      "✅ Wrote row 719 to CSV\n"
     ]
    },
    {
     "name": "stderr",
     "output_type": "stream",
     "text": [
      " 11%|█▏        | 721/6275 [2:25:43<56:13:47, 36.45s/it]"
     ]
    },
    {
     "name": "stdout",
     "output_type": "stream",
     "text": [
      "✅ Wrote row 720 to CSV\n"
     ]
    },
    {
     "name": "stderr",
     "output_type": "stream",
     "text": [
      " 12%|█▏        | 722/6275 [2:26:34<61:59:53, 40.19s/it]"
     ]
    },
    {
     "name": "stdout",
     "output_type": "stream",
     "text": [
      "✅ Wrote row 721 to CSV\n"
     ]
    },
    {
     "name": "stderr",
     "output_type": "stream",
     "text": [
      " 12%|█▏        | 723/6275 [2:27:34<69:55:39, 45.34s/it]"
     ]
    },
    {
     "name": "stdout",
     "output_type": "stream",
     "text": [
      "✅ Wrote row 722 to CSV\n"
     ]
    },
    {
     "name": "stderr",
     "output_type": "stream",
     "text": [
      " 12%|█▏        | 725/6275 [2:28:23<56:01:09, 36.34s/it]"
     ]
    },
    {
     "name": "stdout",
     "output_type": "stream",
     "text": [
      "✅ Wrote row 724 to CSV\n"
     ]
    },
    {
     "name": "stderr",
     "output_type": "stream",
     "text": [
      " 12%|█▏        | 727/6275 [2:28:59<45:29:53, 29.52s/it]"
     ]
    },
    {
     "name": "stdout",
     "output_type": "stream",
     "text": [
      "✅ Wrote row 726 to CSV\n"
     ]
    },
    {
     "name": "stderr",
     "output_type": "stream",
     "text": [
      " 12%|█▏        | 728/6275 [2:29:47<51:27:26, 33.40s/it]"
     ]
    },
    {
     "name": "stdout",
     "output_type": "stream",
     "text": [
      "✅ Wrote row 727 to CSV\n"
     ]
    },
    {
     "name": "stderr",
     "output_type": "stream",
     "text": [
      " 12%|█▏        | 729/6275 [2:30:37<57:17:57, 37.19s/it]"
     ]
    },
    {
     "name": "stdout",
     "output_type": "stream",
     "text": [
      "✅ Wrote row 728 to CSV\n"
     ]
    },
    {
     "name": "stderr",
     "output_type": "stream",
     "text": [
      " 12%|█▏        | 730/6275 [2:31:28<62:31:09, 40.59s/it]"
     ]
    },
    {
     "name": "stdout",
     "output_type": "stream",
     "text": [
      "✅ Wrote row 729 to CSV\n"
     ]
    },
    {
     "name": "stderr",
     "output_type": "stream",
     "text": [
      " 12%|█▏        | 732/6275 [2:32:12<50:50:50, 33.02s/it]"
     ]
    },
    {
     "name": "stdout",
     "output_type": "stream",
     "text": [
      "✅ Wrote row 731 to CSV\n"
     ]
    },
    {
     "name": "stderr",
     "output_type": "stream",
     "text": [
      " 12%|█▏        | 735/6275 [2:33:01<38:42:17, 25.15s/it]"
     ]
    },
    {
     "name": "stdout",
     "output_type": "stream",
     "text": [
      "✅ Wrote row 734 to CSV\n"
     ]
    },
    {
     "name": "stderr",
     "output_type": "stream",
     "text": [
      " 12%|█▏        | 736/6275 [2:33:45<43:50:00, 28.49s/it]"
     ]
    },
    {
     "name": "stdout",
     "output_type": "stream",
     "text": [
      "✅ Wrote row 735 to CSV\n"
     ]
    },
    {
     "name": "stderr",
     "output_type": "stream",
     "text": [
      " 12%|█▏        | 737/6275 [2:34:39<51:59:20, 33.80s/it]"
     ]
    },
    {
     "name": "stdout",
     "output_type": "stream",
     "text": [
      "✅ Wrote row 736 to CSV\n"
     ]
    },
    {
     "name": "stderr",
     "output_type": "stream",
     "text": [
      " 12%|█▏        | 738/6275 [2:35:21<54:49:10, 35.64s/it]"
     ]
    },
    {
     "name": "stdout",
     "output_type": "stream",
     "text": [
      "✅ Wrote row 737 to CSV\n"
     ]
    },
    {
     "name": "stderr",
     "output_type": "stream",
     "text": [
      " 12%|█▏        | 741/6275 [2:36:20<42:48:26, 27.85s/it]"
     ]
    },
    {
     "name": "stdout",
     "output_type": "stream",
     "text": [
      "✅ Wrote row 740 to CSV\n"
     ]
    },
    {
     "name": "stderr",
     "output_type": "stream",
     "text": [
      " 12%|█▏        | 742/6275 [2:37:22<52:47:17, 34.35s/it]"
     ]
    },
    {
     "name": "stdout",
     "output_type": "stream",
     "text": [
      "✅ Wrote row 741 to CSV\n"
     ]
    },
    {
     "name": "stderr",
     "output_type": "stream",
     "text": [
      " 12%|█▏        | 746/6275 [2:38:05<33:47:33, 22.00s/it]"
     ]
    },
    {
     "name": "stdout",
     "output_type": "stream",
     "text": [
      "✅ Wrote row 745 to CSV\n"
     ]
    },
    {
     "name": "stderr",
     "output_type": "stream",
     "text": [
      " 12%|█▏        | 748/6275 [2:38:53<34:40:59, 22.59s/it]"
     ]
    },
    {
     "name": "stdout",
     "output_type": "stream",
     "text": [
      "✅ Wrote row 747 to CSV\n"
     ]
    },
    {
     "name": "stderr",
     "output_type": "stream",
     "text": [
      " 12%|█▏        | 749/6275 [2:39:50<43:14:17, 28.17s/it]"
     ]
    },
    {
     "name": "stdout",
     "output_type": "stream",
     "text": [
      "✅ Wrote row 748 to CSV\n"
     ]
    },
    {
     "name": "stderr",
     "output_type": "stream",
     "text": [
      " 12%|█▏        | 751/6275 [2:40:38<41:01:34, 26.74s/it]"
     ]
    },
    {
     "name": "stdout",
     "output_type": "stream",
     "text": [
      "✅ Wrote row 750 to CSV\n"
     ]
    },
    {
     "name": "stderr",
     "output_type": "stream",
     "text": [
      " 12%|█▏        | 752/6275 [2:41:37<50:16:00, 32.76s/it]"
     ]
    },
    {
     "name": "stdout",
     "output_type": "stream",
     "text": [
      "✅ Wrote row 751 to CSV\n"
     ]
    },
    {
     "name": "stderr",
     "output_type": "stream",
     "text": [
      " 12%|█▏        | 753/6275 [2:42:30<56:46:34, 37.01s/it]"
     ]
    },
    {
     "name": "stdout",
     "output_type": "stream",
     "text": [
      "✅ Wrote row 752 to CSV\n"
     ]
    },
    {
     "name": "stderr",
     "output_type": "stream",
     "text": [
      " 12%|█▏        | 755/6275 [2:43:21<50:01:01, 32.62s/it]"
     ]
    },
    {
     "name": "stdout",
     "output_type": "stream",
     "text": [
      "✅ Wrote row 754 to CSV\n"
     ]
    },
    {
     "name": "stderr",
     "output_type": "stream",
     "text": [
      " 12%|█▏        | 756/6275 [2:44:14<56:42:05, 36.99s/it]"
     ]
    },
    {
     "name": "stdout",
     "output_type": "stream",
     "text": [
      "✅ Wrote row 755 to CSV\n"
     ]
    },
    {
     "name": "stderr",
     "output_type": "stream",
     "text": [
      " 12%|█▏        | 757/6275 [2:44:55<58:06:19, 37.91s/it]"
     ]
    },
    {
     "name": "stdout",
     "output_type": "stream",
     "text": [
      "✅ Wrote row 756 to CSV\n"
     ]
    },
    {
     "name": "stderr",
     "output_type": "stream",
     "text": [
      " 12%|█▏        | 758/6275 [2:45:44<62:25:50, 40.74s/it]"
     ]
    },
    {
     "name": "stdout",
     "output_type": "stream",
     "text": [
      "✅ Wrote row 757 to CSV\n"
     ]
    },
    {
     "name": "stderr",
     "output_type": "stream",
     "text": [
      " 12%|█▏        | 759/6275 [2:46:33<65:48:17, 42.95s/it]"
     ]
    },
    {
     "name": "stdout",
     "output_type": "stream",
     "text": [
      "✅ Wrote row 758 to CSV\n"
     ]
    },
    {
     "name": "stderr",
     "output_type": "stream",
     "text": [
      " 12%|█▏        | 760/6275 [2:47:26<69:43:47, 45.52s/it]"
     ]
    },
    {
     "name": "stdout",
     "output_type": "stream",
     "text": [
      "✅ Wrote row 759 to CSV\n"
     ]
    },
    {
     "name": "stderr",
     "output_type": "stream",
     "text": [
      " 12%|█▏        | 761/6275 [2:48:11<69:22:55, 45.30s/it]"
     ]
    },
    {
     "name": "stdout",
     "output_type": "stream",
     "text": [
      "✅ Wrote row 760 to CSV\n"
     ]
    },
    {
     "name": "stderr",
     "output_type": "stream",
     "text": [
      " 12%|█▏        | 764/6275 [2:48:57<44:20:17, 28.96s/it]"
     ]
    },
    {
     "name": "stdout",
     "output_type": "stream",
     "text": [
      "✅ Wrote row 763 to CSV\n"
     ]
    },
    {
     "name": "stderr",
     "output_type": "stream",
     "text": [
      " 12%|█▏        | 765/6275 [2:49:49<51:41:43, 33.78s/it]"
     ]
    },
    {
     "name": "stdout",
     "output_type": "stream",
     "text": [
      "✅ Wrote row 764 to CSV\n"
     ]
    },
    {
     "name": "stderr",
     "output_type": "stream",
     "text": [
      " 12%|█▏        | 767/6275 [2:50:42<47:36:11, 31.11s/it]"
     ]
    },
    {
     "name": "stdout",
     "output_type": "stream",
     "text": [
      "✅ Wrote row 766 to CSV\n"
     ]
    },
    {
     "name": "stderr",
     "output_type": "stream",
     "text": [
      " 12%|█▏        | 768/6275 [2:51:26<51:47:14, 33.85s/it]"
     ]
    },
    {
     "name": "stdout",
     "output_type": "stream",
     "text": [
      "✅ Wrote row 767 to CSV\n"
     ]
    },
    {
     "name": "stderr",
     "output_type": "stream",
     "text": [
      " 12%|█▏        | 769/6275 [2:52:15<56:58:23, 37.25s/it]"
     ]
    },
    {
     "name": "stdout",
     "output_type": "stream",
     "text": [
      "✅ Wrote row 768 to CSV\n"
     ]
    },
    {
     "name": "stderr",
     "output_type": "stream",
     "text": [
      " 12%|█▏        | 770/6275 [2:53:07<62:40:29, 40.99s/it]"
     ]
    },
    {
     "name": "stdout",
     "output_type": "stream",
     "text": [
      "✅ Wrote row 769 to CSV\n"
     ]
    },
    {
     "name": "stderr",
     "output_type": "stream",
     "text": [
      " 12%|█▏        | 771/6275 [2:54:03<68:39:48, 44.91s/it]"
     ]
    },
    {
     "name": "stdout",
     "output_type": "stream",
     "text": [
      "✅ Wrote row 770 to CSV\n"
     ]
    },
    {
     "name": "stderr",
     "output_type": "stream",
     "text": [
      " 12%|█▏        | 772/6275 [2:54:57<72:18:28, 47.30s/it]"
     ]
    },
    {
     "name": "stdout",
     "output_type": "stream",
     "text": [
      "✅ Wrote row 771 to CSV\n"
     ]
    },
    {
     "name": "stderr",
     "output_type": "stream",
     "text": [
      " 12%|█▏        | 773/6275 [2:55:44<72:00:16, 47.11s/it]"
     ]
    },
    {
     "name": "stdout",
     "output_type": "stream",
     "text": [
      "✅ Wrote row 772 to CSV\n"
     ]
    },
    {
     "name": "stderr",
     "output_type": "stream",
     "text": [
      " 12%|█▏        | 775/6275 [2:56:39<58:48:32, 38.49s/it]"
     ]
    },
    {
     "name": "stdout",
     "output_type": "stream",
     "text": [
      "✅ Wrote row 774 to CSV\n"
     ]
    },
    {
     "name": "stderr",
     "output_type": "stream",
     "text": [
      " 12%|█▏        | 776/6275 [2:57:25<61:32:40, 40.29s/it]"
     ]
    },
    {
     "name": "stdout",
     "output_type": "stream",
     "text": [
      "✅ Wrote row 775 to CSV\n"
     ]
    },
    {
     "name": "stderr",
     "output_type": "stream",
     "text": [
      " 12%|█▏        | 777/6275 [2:58:12<64:08:07, 41.99s/it]"
     ]
    },
    {
     "name": "stdout",
     "output_type": "stream",
     "text": [
      "✅ Wrote row 776 to CSV\n"
     ]
    },
    {
     "name": "stderr",
     "output_type": "stream",
     "text": [
      " 12%|█▏        | 778/6275 [2:58:55<64:24:46, 42.18s/it]"
     ]
    },
    {
     "name": "stdout",
     "output_type": "stream",
     "text": [
      "✅ Wrote row 777 to CSV\n"
     ]
    },
    {
     "name": "stderr",
     "output_type": "stream",
     "text": [
      " 12%|█▏        | 779/6275 [2:59:39<65:07:46, 42.66s/it]"
     ]
    },
    {
     "name": "stdout",
     "output_type": "stream",
     "text": [
      "✅ Wrote row 778 to CSV\n",
      "🔁 Signature expired for row 779 on 2024-08-13, reloading...\n",
      "🔄 Loading fresh GridMET Zarr dataset from Planetary Computer...\n"
     ]
    },
    {
     "name": "stderr",
     "output_type": "stream",
     "text": [
      " 12%|█▏        | 780/6275 [3:00:35<70:55:46, 46.47s/it]"
     ]
    },
    {
     "name": "stdout",
     "output_type": "stream",
     "text": [
      "✅ Wrote row 779 to CSV\n"
     ]
    },
    {
     "name": "stderr",
     "output_type": "stream",
     "text": [
      " 12%|█▏        | 781/6275 [3:01:16<68:46:30, 45.07s/it]"
     ]
    },
    {
     "name": "stdout",
     "output_type": "stream",
     "text": [
      "✅ Wrote row 780 to CSV\n"
     ]
    },
    {
     "name": "stderr",
     "output_type": "stream",
     "text": [
      " 12%|█▏        | 782/6275 [3:01:58<67:08:09, 44.00s/it]"
     ]
    },
    {
     "name": "stdout",
     "output_type": "stream",
     "text": [
      "✅ Wrote row 781 to CSV\n"
     ]
    },
    {
     "name": "stderr",
     "output_type": "stream",
     "text": [
      " 12%|█▏        | 784/6275 [3:02:47<53:41:07, 35.20s/it]"
     ]
    },
    {
     "name": "stdout",
     "output_type": "stream",
     "text": [
      "✅ Wrote row 783 to CSV\n"
     ]
    },
    {
     "name": "stderr",
     "output_type": "stream",
     "text": [
      " 13%|█▎        | 786/6275 [3:03:34<46:40:21, 30.61s/it]"
     ]
    },
    {
     "name": "stdout",
     "output_type": "stream",
     "text": [
      "✅ Wrote row 785 to CSV\n"
     ]
    },
    {
     "name": "stderr",
     "output_type": "stream",
     "text": [
      " 13%|█▎        | 788/6275 [3:04:23<43:11:06, 28.33s/it]"
     ]
    },
    {
     "name": "stdout",
     "output_type": "stream",
     "text": [
      "✅ Wrote row 787 to CSV\n"
     ]
    },
    {
     "name": "stderr",
     "output_type": "stream",
     "text": [
      " 13%|█▎        | 791/6275 [3:05:00<32:40:25, 21.45s/it]"
     ]
    },
    {
     "name": "stdout",
     "output_type": "stream",
     "text": [
      "✅ Wrote row 790 to CSV\n"
     ]
    },
    {
     "name": "stderr",
     "output_type": "stream",
     "text": [
      " 13%|█▎        | 792/6275 [3:05:40<37:23:00, 24.54s/it]"
     ]
    },
    {
     "name": "stdout",
     "output_type": "stream",
     "text": [
      "✅ Wrote row 791 to CSV\n"
     ]
    },
    {
     "name": "stderr",
     "output_type": "stream",
     "text": [
      " 13%|█▎        | 793/6275 [3:06:17<41:17:38, 27.12s/it]"
     ]
    },
    {
     "name": "stdout",
     "output_type": "stream",
     "text": [
      "✅ Wrote row 792 to CSV\n"
     ]
    },
    {
     "name": "stderr",
     "output_type": "stream",
     "text": [
      " 13%|█▎        | 795/6275 [3:06:59<37:49:49, 24.85s/it]"
     ]
    },
    {
     "name": "stdout",
     "output_type": "stream",
     "text": [
      "✅ Wrote row 794 to CSV\n"
     ]
    },
    {
     "name": "stderr",
     "output_type": "stream",
     "text": [
      " 13%|█▎        | 796/6275 [3:07:43<43:55:17, 28.86s/it]"
     ]
    },
    {
     "name": "stdout",
     "output_type": "stream",
     "text": [
      "✅ Wrote row 795 to CSV\n"
     ]
    },
    {
     "name": "stderr",
     "output_type": "stream",
     "text": [
      " 13%|█▎        | 798/6275 [3:08:45<44:54:08, 29.51s/it]"
     ]
    },
    {
     "name": "stdout",
     "output_type": "stream",
     "text": [
      "✅ Wrote row 797 to CSV\n"
     ]
    },
    {
     "name": "stderr",
     "output_type": "stream",
     "text": [
      " 13%|█▎        | 799/6275 [3:09:19<46:30:37, 30.58s/it]"
     ]
    },
    {
     "name": "stdout",
     "output_type": "stream",
     "text": [
      "✅ Wrote row 798 to CSV\n"
     ]
    },
    {
     "name": "stderr",
     "output_type": "stream",
     "text": [
      " 13%|█▎        | 801/6275 [3:09:43<35:49:45, 23.56s/it]"
     ]
    },
    {
     "name": "stdout",
     "output_type": "stream",
     "text": [
      "✅ Wrote row 800 to CSV\n"
     ]
    },
    {
     "name": "stderr",
     "output_type": "stream",
     "text": [
      " 13%|█▎        | 803/6275 [3:10:07<29:43:11, 19.55s/it]"
     ]
    },
    {
     "name": "stdout",
     "output_type": "stream",
     "text": [
      "✅ Wrote row 802 to CSV\n"
     ]
    },
    {
     "name": "stderr",
     "output_type": "stream",
     "text": [
      " 13%|█▎        | 804/6275 [3:10:30<30:46:26, 20.25s/it]"
     ]
    },
    {
     "name": "stdout",
     "output_type": "stream",
     "text": [
      "✅ Wrote row 803 to CSV\n"
     ]
    },
    {
     "name": "stderr",
     "output_type": "stream",
     "text": [
      " 13%|█▎        | 805/6275 [3:10:52<31:16:32, 20.58s/it]"
     ]
    },
    {
     "name": "stdout",
     "output_type": "stream",
     "text": [
      "✅ Wrote row 804 to CSV\n"
     ]
    },
    {
     "name": "stderr",
     "output_type": "stream",
     "text": [
      " 13%|█▎        | 807/6275 [3:11:16<26:12:12, 17.25s/it]"
     ]
    },
    {
     "name": "stdout",
     "output_type": "stream",
     "text": [
      "✅ Wrote row 806 to CSV\n"
     ]
    },
    {
     "name": "stderr",
     "output_type": "stream",
     "text": [
      " 13%|█▎        | 808/6275 [3:11:38<27:45:52, 18.28s/it]"
     ]
    },
    {
     "name": "stdout",
     "output_type": "stream",
     "text": [
      "✅ Wrote row 807 to CSV\n"
     ]
    },
    {
     "name": "stderr",
     "output_type": "stream",
     "text": [
      " 13%|█▎        | 809/6275 [3:12:01<29:36:29, 19.50s/it]"
     ]
    },
    {
     "name": "stdout",
     "output_type": "stream",
     "text": [
      "✅ Wrote row 808 to CSV\n"
     ]
    },
    {
     "name": "stderr",
     "output_type": "stream",
     "text": [
      " 13%|█▎        | 810/6275 [3:12:25<31:12:56, 20.56s/it]"
     ]
    },
    {
     "name": "stdout",
     "output_type": "stream",
     "text": [
      "✅ Wrote row 809 to CSV\n"
     ]
    },
    {
     "name": "stderr",
     "output_type": "stream",
     "text": [
      " 13%|█▎        | 811/6275 [3:12:48<32:28:28, 21.40s/it]"
     ]
    },
    {
     "name": "stdout",
     "output_type": "stream",
     "text": [
      "✅ Wrote row 810 to CSV\n"
     ]
    },
    {
     "name": "stderr",
     "output_type": "stream",
     "text": [
      " 13%|█▎        | 812/6275 [3:13:12<33:22:14, 21.99s/it]"
     ]
    },
    {
     "name": "stdout",
     "output_type": "stream",
     "text": [
      "✅ Wrote row 811 to CSV\n"
     ]
    },
    {
     "name": "stderr",
     "output_type": "stream",
     "text": [
      " 13%|█▎        | 815/6275 [3:13:36<21:56:34, 14.47s/it]"
     ]
    },
    {
     "name": "stdout",
     "output_type": "stream",
     "text": [
      "✅ Wrote row 814 to CSV\n"
     ]
    },
    {
     "name": "stderr",
     "output_type": "stream",
     "text": [
      " 13%|█▎        | 816/6275 [3:14:00<24:52:51, 16.41s/it]"
     ]
    },
    {
     "name": "stdout",
     "output_type": "stream",
     "text": [
      "✅ Wrote row 815 to CSV\n"
     ]
    },
    {
     "name": "stderr",
     "output_type": "stream",
     "text": [
      " 13%|█▎        | 817/6275 [3:14:24<27:33:29, 18.18s/it]"
     ]
    },
    {
     "name": "stdout",
     "output_type": "stream",
     "text": [
      "✅ Wrote row 816 to CSV\n"
     ]
    },
    {
     "name": "stderr",
     "output_type": "stream",
     "text": [
      " 13%|█▎        | 818/6275 [3:14:47<29:20:45, 19.36s/it]"
     ]
    },
    {
     "name": "stdout",
     "output_type": "stream",
     "text": [
      "✅ Wrote row 817 to CSV\n"
     ]
    },
    {
     "name": "stderr",
     "output_type": "stream",
     "text": [
      " 13%|█▎        | 819/6275 [3:15:11<30:58:11, 20.43s/it]"
     ]
    },
    {
     "name": "stdout",
     "output_type": "stream",
     "text": [
      "✅ Wrote row 818 to CSV\n"
     ]
    },
    {
     "name": "stderr",
     "output_type": "stream",
     "text": [
      " 13%|█▎        | 822/6275 [3:15:35<21:01:43, 13.88s/it]"
     ]
    },
    {
     "name": "stdout",
     "output_type": "stream",
     "text": [
      "✅ Wrote row 821 to CSV\n"
     ]
    },
    {
     "name": "stderr",
     "output_type": "stream",
     "text": [
      " 13%|█▎        | 823/6275 [3:15:59<23:59:56, 15.85s/it]"
     ]
    },
    {
     "name": "stdout",
     "output_type": "stream",
     "text": [
      "✅ Wrote row 822 to CSV\n"
     ]
    },
    {
     "name": "stderr",
     "output_type": "stream",
     "text": [
      " 13%|█▎        | 824/6275 [3:16:22<26:24:20, 17.44s/it]"
     ]
    },
    {
     "name": "stdout",
     "output_type": "stream",
     "text": [
      "✅ Wrote row 823 to CSV\n"
     ]
    },
    {
     "name": "stderr",
     "output_type": "stream",
     "text": [
      " 13%|█▎        | 825/6275 [3:16:46<29:00:55, 19.17s/it]"
     ]
    },
    {
     "name": "stdout",
     "output_type": "stream",
     "text": [
      "✅ Wrote row 824 to CSV\n"
     ]
    },
    {
     "name": "stderr",
     "output_type": "stream",
     "text": [
      " 13%|█▎        | 826/6275 [3:17:09<30:25:44, 20.10s/it]"
     ]
    },
    {
     "name": "stdout",
     "output_type": "stream",
     "text": [
      "✅ Wrote row 825 to CSV\n"
     ]
    },
    {
     "name": "stderr",
     "output_type": "stream",
     "text": [
      " 13%|█▎        | 827/6275 [3:17:33<32:09:18, 21.25s/it]"
     ]
    },
    {
     "name": "stdout",
     "output_type": "stream",
     "text": [
      "✅ Wrote row 826 to CSV\n"
     ]
    },
    {
     "name": "stderr",
     "output_type": "stream",
     "text": [
      " 13%|█▎        | 829/6275 [3:17:58<26:07:05, 17.27s/it]"
     ]
    },
    {
     "name": "stdout",
     "output_type": "stream",
     "text": [
      "✅ Wrote row 828 to CSV\n"
     ]
    },
    {
     "name": "stderr",
     "output_type": "stream",
     "text": [
      " 13%|█▎        | 830/6275 [3:18:21<28:21:28, 18.75s/it]"
     ]
    },
    {
     "name": "stdout",
     "output_type": "stream",
     "text": [
      "✅ Wrote row 829 to CSV\n"
     ]
    },
    {
     "name": "stderr",
     "output_type": "stream",
     "text": [
      " 13%|█▎        | 831/6275 [3:18:45<30:15:55, 20.01s/it]"
     ]
    },
    {
     "name": "stdout",
     "output_type": "stream",
     "text": [
      "✅ Wrote row 830 to CSV\n"
     ]
    },
    {
     "name": "stderr",
     "output_type": "stream",
     "text": [
      " 13%|█▎        | 832/6275 [3:19:08<31:38:45, 20.93s/it]"
     ]
    },
    {
     "name": "stdout",
     "output_type": "stream",
     "text": [
      "✅ Wrote row 831 to CSV\n"
     ]
    },
    {
     "name": "stderr",
     "output_type": "stream",
     "text": [
      " 13%|█▎        | 835/6275 [3:19:32<21:08:42, 13.99s/it]"
     ]
    },
    {
     "name": "stdout",
     "output_type": "stream",
     "text": [
      "✅ Wrote row 834 to CSV\n"
     ]
    },
    {
     "name": "stderr",
     "output_type": "stream",
     "text": [
      " 13%|█▎        | 836/6275 [3:19:56<24:05:25, 15.95s/it]"
     ]
    },
    {
     "name": "stdout",
     "output_type": "stream",
     "text": [
      "✅ Wrote row 835 to CSV\n"
     ]
    },
    {
     "name": "stderr",
     "output_type": "stream",
     "text": [
      " 13%|█▎        | 840/6275 [3:20:19<15:55:54, 10.55s/it]"
     ]
    },
    {
     "name": "stdout",
     "output_type": "stream",
     "text": [
      "✅ Wrote row 839 to CSV\n"
     ]
    },
    {
     "name": "stderr",
     "output_type": "stream",
     "text": [
      " 13%|█▎        | 841/6275 [3:20:42<18:57:40, 12.56s/it]"
     ]
    },
    {
     "name": "stdout",
     "output_type": "stream",
     "text": [
      "✅ Wrote row 840 to CSV\n"
     ]
    },
    {
     "name": "stderr",
     "output_type": "stream",
     "text": [
      " 13%|█▎        | 842/6275 [3:21:06<22:09:09, 14.68s/it]"
     ]
    },
    {
     "name": "stdout",
     "output_type": "stream",
     "text": [
      "✅ Wrote row 841 to CSV\n"
     ]
    },
    {
     "name": "stderr",
     "output_type": "stream",
     "text": [
      " 14%|█▎        | 849/6275 [3:21:29<10:56:30,  7.26s/it]"
     ]
    },
    {
     "name": "stdout",
     "output_type": "stream",
     "text": [
      "✅ Wrote row 848 to CSV\n"
     ]
    },
    {
     "name": "stderr",
     "output_type": "stream",
     "text": [
      " 14%|█▎        | 850/6275 [3:21:53<13:51:07,  9.19s/it]"
     ]
    },
    {
     "name": "stdout",
     "output_type": "stream",
     "text": [
      "✅ Wrote row 849 to CSV\n"
     ]
    },
    {
     "name": "stderr",
     "output_type": "stream",
     "text": [
      " 14%|█▎        | 851/6275 [3:22:17<17:03:40, 11.32s/it]"
     ]
    },
    {
     "name": "stdout",
     "output_type": "stream",
     "text": [
      "✅ Wrote row 850 to CSV\n"
     ]
    },
    {
     "name": "stderr",
     "output_type": "stream",
     "text": [
      " 14%|█▎        | 856/6275 [3:22:40<11:55:43,  7.92s/it]"
     ]
    },
    {
     "name": "stdout",
     "output_type": "stream",
     "text": [
      "✅ Wrote row 855 to CSV\n"
     ]
    },
    {
     "name": "stderr",
     "output_type": "stream",
     "text": [
      " 14%|█▎        | 857/6275 [3:23:04<14:54:24,  9.90s/it]"
     ]
    },
    {
     "name": "stdout",
     "output_type": "stream",
     "text": [
      "✅ Wrote row 856 to CSV\n"
     ]
    },
    {
     "name": "stderr",
     "output_type": "stream",
     "text": [
      " 14%|█▎        | 858/6275 [3:23:26<17:50:57, 11.86s/it]"
     ]
    },
    {
     "name": "stdout",
     "output_type": "stream",
     "text": [
      "✅ Wrote row 857 to CSV\n"
     ]
    },
    {
     "name": "stderr",
     "output_type": "stream",
     "text": [
      " 14%|█▎        | 859/6275 [3:23:52<21:33:58, 14.34s/it]"
     ]
    },
    {
     "name": "stdout",
     "output_type": "stream",
     "text": [
      "✅ Wrote row 858 to CSV\n"
     ]
    },
    {
     "name": "stderr",
     "output_type": "stream",
     "text": [
      " 14%|█▎        | 860/6275 [3:24:17<24:55:22, 16.57s/it]"
     ]
    },
    {
     "name": "stdout",
     "output_type": "stream",
     "text": [
      "✅ Wrote row 859 to CSV\n"
     ]
    },
    {
     "name": "stderr",
     "output_type": "stream",
     "text": [
      " 14%|█▎        | 861/6275 [3:24:42<27:38:38, 18.38s/it]"
     ]
    },
    {
     "name": "stdout",
     "output_type": "stream",
     "text": [
      "✅ Wrote row 860 to CSV\n"
     ]
    },
    {
     "name": "stderr",
     "output_type": "stream",
     "text": [
      " 14%|█▎        | 862/6275 [3:25:06<29:44:48, 19.78s/it]"
     ]
    },
    {
     "name": "stdout",
     "output_type": "stream",
     "text": [
      "✅ Wrote row 861 to CSV\n"
     ]
    },
    {
     "name": "stderr",
     "output_type": "stream",
     "text": [
      " 14%|█▍        | 863/6275 [3:25:33<32:23:22, 21.55s/it]"
     ]
    },
    {
     "name": "stdout",
     "output_type": "stream",
     "text": [
      "✅ Wrote row 862 to CSV\n"
     ]
    },
    {
     "name": "stderr",
     "output_type": "stream",
     "text": [
      " 14%|█▍        | 864/6275 [3:25:58<33:54:50, 22.56s/it]"
     ]
    },
    {
     "name": "stdout",
     "output_type": "stream",
     "text": [
      "✅ Wrote row 863 to CSV\n"
     ]
    },
    {
     "name": "stderr",
     "output_type": "stream",
     "text": [
      " 14%|█▍        | 866/6275 [3:26:22<27:12:03, 18.10s/it]"
     ]
    },
    {
     "name": "stdout",
     "output_type": "stream",
     "text": [
      "✅ Wrote row 865 to CSV\n"
     ]
    },
    {
     "name": "stderr",
     "output_type": "stream",
     "text": [
      " 14%|█▍        | 867/6275 [3:26:50<30:34:34, 20.35s/it]"
     ]
    },
    {
     "name": "stdout",
     "output_type": "stream",
     "text": [
      "✅ Wrote row 866 to CSV\n"
     ]
    },
    {
     "name": "stderr",
     "output_type": "stream",
     "text": [
      " 14%|█▍        | 869/6275 [3:27:14<25:31:27, 17.00s/it]"
     ]
    },
    {
     "name": "stdout",
     "output_type": "stream",
     "text": [
      "✅ Wrote row 868 to CSV\n"
     ]
    },
    {
     "name": "stderr",
     "output_type": "stream",
     "text": [
      " 14%|█▍        | 874/6275 [3:27:40<15:00:33, 10.00s/it]"
     ]
    },
    {
     "name": "stdout",
     "output_type": "stream",
     "text": [
      "✅ Wrote row 873 to CSV\n"
     ]
    },
    {
     "name": "stderr",
     "output_type": "stream",
     "text": [
      " 14%|█▍        | 875/6275 [3:28:07<18:48:06, 12.53s/it]"
     ]
    },
    {
     "name": "stdout",
     "output_type": "stream",
     "text": [
      "✅ Wrote row 874 to CSV\n"
     ]
    },
    {
     "name": "stderr",
     "output_type": "stream",
     "text": [
      " 14%|█▍        | 877/6275 [3:28:32<18:42:06, 12.47s/it]"
     ]
    },
    {
     "name": "stdout",
     "output_type": "stream",
     "text": [
      "✅ Wrote row 876 to CSV\n"
     ]
    },
    {
     "name": "stderr",
     "output_type": "stream",
     "text": [
      " 14%|█▍        | 878/6275 [3:28:58<22:08:07, 14.77s/it]"
     ]
    },
    {
     "name": "stdout",
     "output_type": "stream",
     "text": [
      "✅ Wrote row 877 to CSV\n"
     ]
    },
    {
     "name": "stderr",
     "output_type": "stream",
     "text": [
      " 14%|█▍        | 879/6275 [3:29:24<25:31:37, 17.03s/it]"
     ]
    },
    {
     "name": "stdout",
     "output_type": "stream",
     "text": [
      "✅ Wrote row 878 to CSV\n"
     ]
    },
    {
     "name": "stderr",
     "output_type": "stream",
     "text": [
      " 14%|█▍        | 880/6275 [3:29:48<27:46:17, 18.53s/it]"
     ]
    },
    {
     "name": "stdout",
     "output_type": "stream",
     "text": [
      "✅ Wrote row 879 to CSV\n"
     ]
    },
    {
     "name": "stderr",
     "output_type": "stream",
     "text": [
      " 14%|█▍        | 881/6275 [3:30:15<30:40:15, 20.47s/it]"
     ]
    },
    {
     "name": "stdout",
     "output_type": "stream",
     "text": [
      "✅ Wrote row 880 to CSV\n"
     ]
    },
    {
     "name": "stderr",
     "output_type": "stream",
     "text": [
      " 14%|█▍        | 882/6275 [3:30:39<32:01:15, 21.38s/it]"
     ]
    },
    {
     "name": "stdout",
     "output_type": "stream",
     "text": [
      "✅ Wrote row 881 to CSV\n"
     ]
    },
    {
     "name": "stderr",
     "output_type": "stream",
     "text": [
      " 14%|█▍        | 883/6275 [3:31:03<33:06:44, 22.11s/it]"
     ]
    },
    {
     "name": "stdout",
     "output_type": "stream",
     "text": [
      "✅ Wrote row 882 to CSV\n"
     ]
    },
    {
     "name": "stderr",
     "output_type": "stream",
     "text": [
      " 14%|█▍        | 884/6275 [3:31:28<34:25:27, 22.99s/it]"
     ]
    },
    {
     "name": "stdout",
     "output_type": "stream",
     "text": [
      "✅ Wrote row 883 to CSV\n"
     ]
    },
    {
     "name": "stderr",
     "output_type": "stream",
     "text": [
      " 14%|█▍        | 889/6275 [3:32:26<23:03:51, 15.42s/it]"
     ]
    },
    {
     "name": "stdout",
     "output_type": "stream",
     "text": [
      "✅ Wrote row 888 to CSV\n"
     ]
    },
    {
     "name": "stderr",
     "output_type": "stream",
     "text": [
      " 14%|█▍        | 890/6275 [3:32:51<25:24:07, 16.98s/it]"
     ]
    },
    {
     "name": "stdout",
     "output_type": "stream",
     "text": [
      "✅ Wrote row 889 to CSV\n"
     ]
    },
    {
     "name": "stderr",
     "output_type": "stream",
     "text": [
      " 14%|█▍        | 891/6275 [3:33:13<26:46:08, 17.90s/it]"
     ]
    },
    {
     "name": "stdout",
     "output_type": "stream",
     "text": [
      "✅ Wrote row 890 to CSV\n"
     ]
    },
    {
     "name": "stderr",
     "output_type": "stream",
     "text": [
      " 14%|█▍        | 892/6275 [3:33:32<27:13:58, 18.21s/it]"
     ]
    },
    {
     "name": "stdout",
     "output_type": "stream",
     "text": [
      "✅ Wrote row 891 to CSV\n"
     ]
    },
    {
     "name": "stderr",
     "output_type": "stream",
     "text": [
      " 14%|█▍        | 893/6275 [3:33:54<28:13:01, 18.87s/it]"
     ]
    },
    {
     "name": "stdout",
     "output_type": "stream",
     "text": [
      "✅ Wrote row 892 to CSV\n"
     ]
    },
    {
     "name": "stderr",
     "output_type": "stream",
     "text": [
      " 14%|█▍        | 894/6275 [3:34:13<28:36:40, 19.14s/it]"
     ]
    },
    {
     "name": "stdout",
     "output_type": "stream",
     "text": [
      "✅ Wrote row 893 to CSV\n"
     ]
    },
    {
     "name": "stderr",
     "output_type": "stream",
     "text": [
      " 14%|█▍        | 896/6275 [3:34:35<23:17:35, 15.59s/it]"
     ]
    },
    {
     "name": "stdout",
     "output_type": "stream",
     "text": [
      "✅ Wrote row 895 to CSV\n"
     ]
    },
    {
     "name": "stderr",
     "output_type": "stream",
     "text": [
      " 14%|█▍        | 897/6275 [3:34:57<25:29:48, 17.07s/it]"
     ]
    },
    {
     "name": "stdout",
     "output_type": "stream",
     "text": [
      "✅ Wrote row 896 to CSV\n"
     ]
    },
    {
     "name": "stderr",
     "output_type": "stream",
     "text": [
      " 14%|█▍        | 899/6275 [3:35:18<21:41:09, 14.52s/it]"
     ]
    },
    {
     "name": "stdout",
     "output_type": "stream",
     "text": [
      "✅ Wrote row 898 to CSV\n"
     ]
    },
    {
     "name": "stderr",
     "output_type": "stream",
     "text": [
      " 14%|█▍        | 902/6275 [3:35:39<16:35:23, 11.12s/it]"
     ]
    },
    {
     "name": "stdout",
     "output_type": "stream",
     "text": [
      "✅ Wrote row 901 to CSV\n"
     ]
    },
    {
     "name": "stderr",
     "output_type": "stream",
     "text": [
      " 14%|█▍        | 904/6275 [3:36:02<16:37:11, 11.14s/it]"
     ]
    },
    {
     "name": "stdout",
     "output_type": "stream",
     "text": [
      "✅ Wrote row 903 to CSV\n"
     ]
    },
    {
     "name": "stderr",
     "output_type": "stream",
     "text": [
      " 14%|█▍        | 906/6275 [3:36:23<16:25:59, 11.02s/it]"
     ]
    },
    {
     "name": "stdout",
     "output_type": "stream",
     "text": [
      "✅ Wrote row 905 to CSV\n"
     ]
    },
    {
     "name": "stderr",
     "output_type": "stream",
     "text": [
      " 14%|█▍        | 907/6275 [3:36:46<19:41:48, 13.21s/it]"
     ]
    },
    {
     "name": "stdout",
     "output_type": "stream",
     "text": [
      "✅ Wrote row 906 to CSV\n"
     ]
    },
    {
     "name": "stderr",
     "output_type": "stream",
     "text": [
      " 14%|█▍        | 909/6275 [3:37:07<18:21:17, 12.31s/it]"
     ]
    },
    {
     "name": "stdout",
     "output_type": "stream",
     "text": [
      "✅ Wrote row 908 to CSV\n"
     ]
    },
    {
     "name": "stderr",
     "output_type": "stream",
     "text": [
      " 15%|█▍        | 910/6275 [3:37:29<21:01:16, 14.11s/it]"
     ]
    },
    {
     "name": "stdout",
     "output_type": "stream",
     "text": [
      "✅ Wrote row 909 to CSV\n"
     ]
    },
    {
     "name": "stderr",
     "output_type": "stream",
     "text": [
      " 15%|█▍        | 911/6275 [3:37:51<23:25:07, 15.72s/it]"
     ]
    },
    {
     "name": "stdout",
     "output_type": "stream",
     "text": [
      "✅ Wrote row 910 to CSV\n"
     ]
    },
    {
     "name": "stderr",
     "output_type": "stream",
     "text": [
      " 15%|█▍        | 912/6275 [3:38:10<24:40:40, 16.57s/it]"
     ]
    },
    {
     "name": "stdout",
     "output_type": "stream",
     "text": [
      "✅ Wrote row 911 to CSV\n"
     ]
    },
    {
     "name": "stderr",
     "output_type": "stream",
     "text": [
      " 15%|█▍        | 913/6275 [3:38:32<26:35:43, 17.86s/it]"
     ]
    },
    {
     "name": "stdout",
     "output_type": "stream",
     "text": [
      "✅ Wrote row 912 to CSV\n"
     ]
    },
    {
     "name": "stderr",
     "output_type": "stream",
     "text": [
      " 15%|█▍        | 914/6275 [3:38:53<27:58:18, 18.78s/it]"
     ]
    },
    {
     "name": "stdout",
     "output_type": "stream",
     "text": [
      "✅ Wrote row 913 to CSV\n"
     ]
    },
    {
     "name": "stderr",
     "output_type": "stream",
     "text": [
      " 15%|█▍        | 916/6275 [3:39:13<22:23:16, 15.04s/it]"
     ]
    },
    {
     "name": "stdout",
     "output_type": "stream",
     "text": [
      "✅ Wrote row 915 to CSV\n"
     ]
    },
    {
     "name": "stderr",
     "output_type": "stream",
     "text": [
      " 15%|█▍        | 917/6275 [3:39:36<25:14:47, 16.96s/it]"
     ]
    },
    {
     "name": "stdout",
     "output_type": "stream",
     "text": [
      "✅ Wrote row 916 to CSV\n"
     ]
    },
    {
     "name": "stderr",
     "output_type": "stream",
     "text": [
      " 15%|█▍        | 919/6275 [3:39:57<21:22:38, 14.37s/it]"
     ]
    },
    {
     "name": "stdout",
     "output_type": "stream",
     "text": [
      "✅ Wrote row 918 to CSV\n"
     ]
    },
    {
     "name": "stderr",
     "output_type": "stream",
     "text": [
      " 15%|█▍        | 920/6275 [3:40:20<24:15:27, 16.31s/it]"
     ]
    },
    {
     "name": "stdout",
     "output_type": "stream",
     "text": [
      "✅ Wrote row 919 to CSV\n"
     ]
    },
    {
     "name": "stderr",
     "output_type": "stream",
     "text": [
      " 15%|█▍        | 921/6275 [3:40:43<26:30:15, 17.82s/it]"
     ]
    },
    {
     "name": "stdout",
     "output_type": "stream",
     "text": [
      "✅ Wrote row 920 to CSV\n"
     ]
    },
    {
     "name": "stderr",
     "output_type": "stream",
     "text": [
      " 15%|█▍        | 923/6275 [3:41:06<22:47:44, 15.33s/it]"
     ]
    },
    {
     "name": "stdout",
     "output_type": "stream",
     "text": [
      "✅ Wrote row 922 to CSV\n"
     ]
    },
    {
     "name": "stderr",
     "output_type": "stream",
     "text": [
      " 15%|█▍        | 924/6275 [3:41:29<25:20:04, 17.04s/it]"
     ]
    },
    {
     "name": "stdout",
     "output_type": "stream",
     "text": [
      "✅ Wrote row 923 to CSV\n"
     ]
    },
    {
     "name": "stderr",
     "output_type": "stream",
     "text": [
      " 15%|█▍        | 925/6275 [3:41:51<26:57:57, 18.15s/it]"
     ]
    },
    {
     "name": "stdout",
     "output_type": "stream",
     "text": [
      "✅ Wrote row 924 to CSV\n"
     ]
    },
    {
     "name": "stderr",
     "output_type": "stream",
     "text": [
      " 15%|█▍        | 927/6275 [3:42:12<22:21:22, 15.05s/it]"
     ]
    },
    {
     "name": "stdout",
     "output_type": "stream",
     "text": [
      "✅ Wrote row 926 to CSV\n"
     ]
    },
    {
     "name": "stderr",
     "output_type": "stream",
     "text": [
      " 15%|█▍        | 928/6275 [3:42:34<24:38:19, 16.59s/it]"
     ]
    },
    {
     "name": "stdout",
     "output_type": "stream",
     "text": [
      "✅ Wrote row 927 to CSV\n"
     ]
    },
    {
     "name": "stderr",
     "output_type": "stream",
     "text": [
      " 15%|█▍        | 929/6275 [3:42:57<27:00:01, 18.18s/it]"
     ]
    },
    {
     "name": "stdout",
     "output_type": "stream",
     "text": [
      "✅ Wrote row 928 to CSV\n"
     ]
    },
    {
     "name": "stderr",
     "output_type": "stream",
     "text": [
      " 15%|█▍        | 931/6275 [3:43:18<22:24:58, 15.10s/it]"
     ]
    },
    {
     "name": "stdout",
     "output_type": "stream",
     "text": [
      "✅ Wrote row 930 to CSV\n"
     ]
    },
    {
     "name": "stderr",
     "output_type": "stream",
     "text": [
      " 15%|█▍        | 932/6275 [3:43:41<24:54:13, 16.78s/it]"
     ]
    },
    {
     "name": "stdout",
     "output_type": "stream",
     "text": [
      "✅ Wrote row 931 to CSV\n"
     ]
    },
    {
     "name": "stderr",
     "output_type": "stream",
     "text": [
      " 15%|█▍        | 933/6275 [3:44:03<27:00:20, 18.20s/it]"
     ]
    },
    {
     "name": "stdout",
     "output_type": "stream",
     "text": [
      "✅ Wrote row 932 to CSV\n"
     ]
    },
    {
     "name": "stderr",
     "output_type": "stream",
     "text": [
      " 15%|█▍        | 934/6275 [3:44:26<28:29:34, 19.21s/it]"
     ]
    },
    {
     "name": "stdout",
     "output_type": "stream",
     "text": [
      "✅ Wrote row 933 to CSV\n"
     ]
    },
    {
     "name": "stderr",
     "output_type": "stream",
     "text": [
      " 15%|█▍        | 935/6275 [3:44:48<29:57:18, 20.19s/it]"
     ]
    },
    {
     "name": "stdout",
     "output_type": "stream",
     "text": [
      "✅ Wrote row 934 to CSV\n",
      "🔁 Signature expired for row 935 on 2024-10-11, reloading...\n",
      "🔄 Loading fresh GridMET Zarr dataset from Planetary Computer...\n"
     ]
    },
    {
     "name": "stderr",
     "output_type": "stream",
     "text": [
      " 15%|█▍        | 936/6275 [3:45:23<35:58:30, 24.26s/it]"
     ]
    },
    {
     "name": "stdout",
     "output_type": "stream",
     "text": [
      "✅ Wrote row 935 to CSV\n"
     ]
    },
    {
     "name": "stderr",
     "output_type": "stream",
     "text": [
      " 15%|█▍        | 938/6275 [3:45:47<27:45:55, 18.73s/it]"
     ]
    },
    {
     "name": "stdout",
     "output_type": "stream",
     "text": [
      "✅ Wrote row 937 to CSV\n"
     ]
    },
    {
     "name": "stderr",
     "output_type": "stream",
     "text": [
      " 15%|█▍        | 939/6275 [3:46:09<29:00:12, 19.57s/it]"
     ]
    },
    {
     "name": "stdout",
     "output_type": "stream",
     "text": [
      "✅ Wrote row 938 to CSV\n"
     ]
    },
    {
     "name": "stderr",
     "output_type": "stream",
     "text": [
      " 15%|█▍        | 940/6275 [3:46:31<29:54:30, 20.18s/it]"
     ]
    },
    {
     "name": "stdout",
     "output_type": "stream",
     "text": [
      "✅ Wrote row 939 to CSV\n"
     ]
    },
    {
     "name": "stderr",
     "output_type": "stream",
     "text": [
      " 15%|█▍        | 941/6275 [3:46:52<30:19:27, 20.47s/it]"
     ]
    },
    {
     "name": "stdout",
     "output_type": "stream",
     "text": [
      "✅ Wrote row 940 to CSV\n"
     ]
    },
    {
     "name": "stderr",
     "output_type": "stream",
     "text": [
      " 15%|█▌        | 942/6275 [3:47:15<31:08:43, 21.02s/it]"
     ]
    },
    {
     "name": "stdout",
     "output_type": "stream",
     "text": [
      "✅ Wrote row 941 to CSV\n"
     ]
    },
    {
     "name": "stderr",
     "output_type": "stream",
     "text": [
      " 15%|█▌        | 943/6275 [3:48:08<44:42:02, 30.18s/it]"
     ]
    },
    {
     "name": "stdout",
     "output_type": "stream",
     "text": [
      "✅ Wrote row 942 to CSV\n"
     ]
    },
    {
     "name": "stderr",
     "output_type": "stream",
     "text": [
      " 15%|█▌        | 944/6275 [3:48:29<40:42:11, 27.49s/it]"
     ]
    },
    {
     "name": "stdout",
     "output_type": "stream",
     "text": [
      "✅ Wrote row 943 to CSV\n"
     ]
    },
    {
     "name": "stderr",
     "output_type": "stream",
     "text": [
      " 15%|█▌        | 945/6275 [3:48:51<38:13:09, 25.81s/it]"
     ]
    },
    {
     "name": "stdout",
     "output_type": "stream",
     "text": [
      "✅ Wrote row 944 to CSV\n"
     ]
    },
    {
     "name": "stderr",
     "output_type": "stream",
     "text": [
      " 15%|█▌        | 946/6275 [3:49:12<36:25:41, 24.61s/it]"
     ]
    },
    {
     "name": "stdout",
     "output_type": "stream",
     "text": [
      "✅ Wrote row 945 to CSV\n"
     ]
    },
    {
     "name": "stderr",
     "output_type": "stream",
     "text": [
      " 15%|█▌        | 947/6275 [3:49:34<35:10:55, 23.77s/it]"
     ]
    },
    {
     "name": "stdout",
     "output_type": "stream",
     "text": [
      "✅ Wrote row 946 to CSV\n"
     ]
    },
    {
     "name": "stderr",
     "output_type": "stream",
     "text": [
      " 15%|█▌        | 948/6275 [3:49:56<34:07:29, 23.06s/it]"
     ]
    },
    {
     "name": "stdout",
     "output_type": "stream",
     "text": [
      "✅ Wrote row 947 to CSV\n"
     ]
    },
    {
     "name": "stderr",
     "output_type": "stream",
     "text": [
      " 15%|█▌        | 949/6275 [3:50:18<34:02:15, 23.01s/it]"
     ]
    },
    {
     "name": "stdout",
     "output_type": "stream",
     "text": [
      "✅ Wrote row 948 to CSV\n"
     ]
    },
    {
     "name": "stderr",
     "output_type": "stream",
     "text": [
      " 15%|█▌        | 950/6275 [3:50:39<33:01:10, 22.32s/it]"
     ]
    },
    {
     "name": "stdout",
     "output_type": "stream",
     "text": [
      "✅ Wrote row 949 to CSV\n"
     ]
    },
    {
     "name": "stderr",
     "output_type": "stream",
     "text": [
      " 15%|█▌        | 951/6275 [3:51:02<33:13:21, 22.46s/it]"
     ]
    },
    {
     "name": "stdout",
     "output_type": "stream",
     "text": [
      "✅ Wrote row 950 to CSV\n"
     ]
    },
    {
     "name": "stderr",
     "output_type": "stream",
     "text": [
      " 15%|█▌        | 952/6275 [3:51:23<32:46:13, 22.16s/it]"
     ]
    },
    {
     "name": "stdout",
     "output_type": "stream",
     "text": [
      "✅ Wrote row 951 to CSV\n"
     ]
    },
    {
     "name": "stderr",
     "output_type": "stream",
     "text": [
      " 15%|█▌        | 953/6275 [3:51:45<32:35:18, 22.04s/it]"
     ]
    },
    {
     "name": "stdout",
     "output_type": "stream",
     "text": [
      "✅ Wrote row 952 to CSV\n"
     ]
    },
    {
     "name": "stderr",
     "output_type": "stream",
     "text": [
      " 15%|█▌        | 954/6275 [3:52:07<32:37:15, 22.07s/it]"
     ]
    },
    {
     "name": "stdout",
     "output_type": "stream",
     "text": [
      "✅ Wrote row 953 to CSV\n"
     ]
    },
    {
     "name": "stderr",
     "output_type": "stream",
     "text": [
      " 15%|█▌        | 955/6275 [3:52:29<32:27:18, 21.96s/it]"
     ]
    },
    {
     "name": "stdout",
     "output_type": "stream",
     "text": [
      "✅ Wrote row 954 to CSV\n"
     ]
    },
    {
     "name": "stderr",
     "output_type": "stream",
     "text": [
      " 15%|█▌        | 956/6275 [3:52:50<31:54:14, 21.59s/it]"
     ]
    },
    {
     "name": "stdout",
     "output_type": "stream",
     "text": [
      "✅ Wrote row 955 to CSV\n"
     ]
    },
    {
     "name": "stderr",
     "output_type": "stream",
     "text": [
      " 15%|█▌        | 957/6275 [3:53:10<31:12:57, 21.13s/it]"
     ]
    },
    {
     "name": "stdout",
     "output_type": "stream",
     "text": [
      "✅ Wrote row 956 to CSV\n"
     ]
    },
    {
     "name": "stderr",
     "output_type": "stream",
     "text": [
      " 15%|█▌        | 958/6275 [3:53:31<31:25:38, 21.28s/it]"
     ]
    },
    {
     "name": "stdout",
     "output_type": "stream",
     "text": [
      "✅ Wrote row 957 to CSV\n"
     ]
    },
    {
     "name": "stderr",
     "output_type": "stream",
     "text": [
      " 15%|█▌        | 959/6275 [3:53:54<32:00:59, 21.68s/it]"
     ]
    },
    {
     "name": "stdout",
     "output_type": "stream",
     "text": [
      "✅ Wrote row 958 to CSV\n"
     ]
    },
    {
     "name": "stderr",
     "output_type": "stream",
     "text": [
      " 15%|█▌        | 960/6275 [3:54:16<32:20:47, 21.91s/it]"
     ]
    },
    {
     "name": "stdout",
     "output_type": "stream",
     "text": [
      "✅ Wrote row 959 to CSV\n"
     ]
    },
    {
     "name": "stderr",
     "output_type": "stream",
     "text": [
      " 15%|█▌        | 960/6275 [3:54:32<21:38:30, 14.66s/it]\n"
     ]
    },
    {
     "ename": "KeyboardInterrupt",
     "evalue": "",
     "output_type": "error",
     "traceback": [
      "\u001b[1;31m---------------------------------------------------------------------------\u001b[0m",
      "\u001b[1;31mKeyboardInterrupt\u001b[0m                         Traceback (most recent call last)",
      "Cell \u001b[1;32mIn[1], line 75\u001b[0m\n\u001b[0;32m     68\u001b[0m \u001b[38;5;28;01mfor\u001b[39;00m var \u001b[38;5;129;01min\u001b[39;00m [\n\u001b[0;32m     69\u001b[0m     \u001b[38;5;124m\"\u001b[39m\u001b[38;5;124mair_temperature\u001b[39m\u001b[38;5;124m\"\u001b[39m, \u001b[38;5;124m\"\u001b[39m\u001b[38;5;124mprecipitation_amount\u001b[39m\u001b[38;5;124m\"\u001b[39m, \u001b[38;5;124m\"\u001b[39m\u001b[38;5;124mspecific_humidity\u001b[39m\u001b[38;5;124m\"\u001b[39m,\n\u001b[0;32m     70\u001b[0m     \u001b[38;5;124m\"\u001b[39m\u001b[38;5;124msurface_downwelling_shortwave_flux_in_air\u001b[39m\u001b[38;5;124m\"\u001b[39m, \u001b[38;5;124m\"\u001b[39m\u001b[38;5;124mwind_speed\u001b[39m\u001b[38;5;124m\"\u001b[39m,\n\u001b[0;32m     71\u001b[0m     \u001b[38;5;124m\"\u001b[39m\u001b[38;5;124mwind_from_direction\u001b[39m\u001b[38;5;124m\"\u001b[39m, \u001b[38;5;124m\"\u001b[39m\u001b[38;5;124mrelative_humidity\u001b[39m\u001b[38;5;124m\"\u001b[39m, \u001b[38;5;124m\"\u001b[39m\u001b[38;5;124mpotential_evapotranspiration\u001b[39m\u001b[38;5;124m\"\u001b[39m,\n\u001b[0;32m     72\u001b[0m     \u001b[38;5;124m\"\u001b[39m\u001b[38;5;124mburning_index_g\u001b[39m\u001b[38;5;124m\"\u001b[39m, \u001b[38;5;124m\"\u001b[39m\u001b[38;5;124mdead_fuel_moisture_100hr\u001b[39m\u001b[38;5;124m\"\u001b[39m, \u001b[38;5;124m\"\u001b[39m\u001b[38;5;124mdead_fuel_moisture_1000hr\u001b[39m\u001b[38;5;124m\"\u001b[39m\n\u001b[0;32m     73\u001b[0m ]:\n\u001b[0;32m     74\u001b[0m     \u001b[38;5;28;01mfor\u001b[39;00m delta \u001b[38;5;129;01min\u001b[39;00m [\u001b[38;5;241m7\u001b[39m, \u001b[38;5;241m30\u001b[39m]:\n\u001b[1;32m---> 75\u001b[0m         val \u001b[38;5;241m=\u001b[39m \u001b[43mds\u001b[49m\u001b[43m[\u001b[49m\u001b[43mvar\u001b[49m\u001b[43m]\u001b[49m\u001b[38;5;241;43m.\u001b[39;49m\u001b[43msel\u001b[49m\u001b[43m(\u001b[49m\n\u001b[0;32m     76\u001b[0m \u001b[43m            \u001b[49m\u001b[43mtime\u001b[49m\u001b[38;5;241;43m=\u001b[39;49m\u001b[43mdate\u001b[49m\u001b[43m \u001b[49m\u001b[38;5;241;43m-\u001b[39;49m\u001b[43m \u001b[49m\u001b[43mpd\u001b[49m\u001b[38;5;241;43m.\u001b[39;49m\u001b[43mTimedelta\u001b[49m\u001b[43m(\u001b[49m\u001b[43mdays\u001b[49m\u001b[38;5;241;43m=\u001b[39;49m\u001b[43mdelta\u001b[49m\u001b[43m)\u001b[49m\u001b[43m,\u001b[49m\n\u001b[0;32m     77\u001b[0m \u001b[43m            \u001b[49m\u001b[43mlat\u001b[49m\u001b[38;5;241;43m=\u001b[39;49m\u001b[43mlat\u001b[49m\u001b[43m,\u001b[49m\u001b[43m \u001b[49m\u001b[43mlon\u001b[49m\u001b[38;5;241;43m=\u001b[39;49m\u001b[43mlon\u001b[49m\u001b[43m,\u001b[49m\u001b[43m \u001b[49m\u001b[43mmethod\u001b[49m\u001b[38;5;241;43m=\u001b[39;49m\u001b[38;5;124;43m\"\u001b[39;49m\u001b[38;5;124;43mnearest\u001b[39;49m\u001b[38;5;124;43m\"\u001b[39;49m\n\u001b[0;32m     78\u001b[0m \u001b[43m        \u001b[49m\u001b[43m)\u001b[49m\u001b[38;5;241;43m.\u001b[39;49m\u001b[43mvalues\u001b[49m\u001b[38;5;241m.\u001b[39mitem()\n\u001b[0;32m     79\u001b[0m         entry[\u001b[38;5;124mf\u001b[39m\u001b[38;5;124m\"\u001b[39m\u001b[38;5;132;01m{\u001b[39;00mvar\u001b[38;5;132;01m}\u001b[39;00m\u001b[38;5;124m_\u001b[39m\u001b[38;5;132;01m{\u001b[39;00mdelta\u001b[38;5;132;01m}\u001b[39;00m\u001b[38;5;124md\u001b[39m\u001b[38;5;124m\"\u001b[39m] \u001b[38;5;241m=\u001b[39m val\n\u001b[0;32m     80\u001b[0m \u001b[38;5;28;01mbreak\u001b[39;00m  \u001b[38;5;66;03m# success\u001b[39;00m\n",
      "File \u001b[1;32mc:\\Users\\SABIO\\anaconda3\\envs\\Capstone-Microsoft\\lib\\site-packages\\xarray\\core\\dataarray.py:801\u001b[0m, in \u001b[0;36mDataArray.values\u001b[1;34m(self)\u001b[0m\n\u001b[0;32m    788\u001b[0m \u001b[38;5;129m@property\u001b[39m\n\u001b[0;32m    789\u001b[0m \u001b[38;5;28;01mdef\u001b[39;00m\u001b[38;5;250m \u001b[39m\u001b[38;5;21mvalues\u001b[39m(\u001b[38;5;28mself\u001b[39m) \u001b[38;5;241m-\u001b[39m\u001b[38;5;241m>\u001b[39m np\u001b[38;5;241m.\u001b[39mndarray:\n\u001b[0;32m    790\u001b[0m \u001b[38;5;250m    \u001b[39m\u001b[38;5;124;03m\"\"\"\u001b[39;00m\n\u001b[0;32m    791\u001b[0m \u001b[38;5;124;03m    The array's data converted to numpy.ndarray.\u001b[39;00m\n\u001b[0;32m    792\u001b[0m \n\u001b[1;32m   (...)\u001b[0m\n\u001b[0;32m    799\u001b[0m \u001b[38;5;124;03m    to this array may be reflected in the DataArray as well.\u001b[39;00m\n\u001b[0;32m    800\u001b[0m \u001b[38;5;124;03m    \"\"\"\u001b[39;00m\n\u001b[1;32m--> 801\u001b[0m     \u001b[38;5;28;01mreturn\u001b[39;00m \u001b[38;5;28;43mself\u001b[39;49m\u001b[38;5;241;43m.\u001b[39;49m\u001b[43mvariable\u001b[49m\u001b[38;5;241;43m.\u001b[39;49m\u001b[43mvalues\u001b[49m\n",
      "File \u001b[1;32mc:\\Users\\SABIO\\anaconda3\\envs\\Capstone-Microsoft\\lib\\site-packages\\xarray\\core\\variable.py:541\u001b[0m, in \u001b[0;36mVariable.values\u001b[1;34m(self)\u001b[0m\n\u001b[0;32m    538\u001b[0m \u001b[38;5;129m@property\u001b[39m\n\u001b[0;32m    539\u001b[0m \u001b[38;5;28;01mdef\u001b[39;00m\u001b[38;5;250m \u001b[39m\u001b[38;5;21mvalues\u001b[39m(\u001b[38;5;28mself\u001b[39m):\n\u001b[0;32m    540\u001b[0m \u001b[38;5;250m    \u001b[39m\u001b[38;5;124;03m\"\"\"The variable's data as a numpy.ndarray\"\"\"\u001b[39;00m\n\u001b[1;32m--> 541\u001b[0m     \u001b[38;5;28;01mreturn\u001b[39;00m \u001b[43m_as_array_or_item\u001b[49m\u001b[43m(\u001b[49m\u001b[38;5;28;43mself\u001b[39;49m\u001b[38;5;241;43m.\u001b[39;49m\u001b[43m_data\u001b[49m\u001b[43m)\u001b[49m\n",
      "File \u001b[1;32mc:\\Users\\SABIO\\anaconda3\\envs\\Capstone-Microsoft\\lib\\site-packages\\xarray\\core\\variable.py:339\u001b[0m, in \u001b[0;36m_as_array_or_item\u001b[1;34m(data)\u001b[0m\n\u001b[0;32m    325\u001b[0m \u001b[38;5;28;01mdef\u001b[39;00m\u001b[38;5;250m \u001b[39m\u001b[38;5;21m_as_array_or_item\u001b[39m(data):\n\u001b[0;32m    326\u001b[0m \u001b[38;5;250m    \u001b[39m\u001b[38;5;124;03m\"\"\"Return the given values as a numpy array, or as an individual item if\u001b[39;00m\n\u001b[0;32m    327\u001b[0m \u001b[38;5;124;03m    it's a 0d datetime64 or timedelta64 array.\u001b[39;00m\n\u001b[0;32m    328\u001b[0m \n\u001b[1;32m   (...)\u001b[0m\n\u001b[0;32m    337\u001b[0m \u001b[38;5;124;03m    TODO: remove this (replace with np.asarray) once these issues are fixed\u001b[39;00m\n\u001b[0;32m    338\u001b[0m \u001b[38;5;124;03m    \"\"\"\u001b[39;00m\n\u001b[1;32m--> 339\u001b[0m     data \u001b[38;5;241m=\u001b[39m \u001b[43mnp\u001b[49m\u001b[38;5;241;43m.\u001b[39;49m\u001b[43masarray\u001b[49m\u001b[43m(\u001b[49m\u001b[43mdata\u001b[49m\u001b[43m)\u001b[49m\n\u001b[0;32m    340\u001b[0m     \u001b[38;5;28;01mif\u001b[39;00m data\u001b[38;5;241m.\u001b[39mndim \u001b[38;5;241m==\u001b[39m \u001b[38;5;241m0\u001b[39m:\n\u001b[0;32m    341\u001b[0m         \u001b[38;5;28;01mif\u001b[39;00m data\u001b[38;5;241m.\u001b[39mdtype\u001b[38;5;241m.\u001b[39mkind \u001b[38;5;241m==\u001b[39m \u001b[38;5;124m\"\u001b[39m\u001b[38;5;124mM\u001b[39m\u001b[38;5;124m\"\u001b[39m:\n",
      "File \u001b[1;32mc:\\Users\\SABIO\\anaconda3\\envs\\Capstone-Microsoft\\lib\\site-packages\\dask\\array\\core.py:1693\u001b[0m, in \u001b[0;36mArray.__array__\u001b[1;34m(self, dtype, **kwargs)\u001b[0m\n\u001b[0;32m   1692\u001b[0m \u001b[38;5;28;01mdef\u001b[39;00m\u001b[38;5;250m \u001b[39m\u001b[38;5;21m__array__\u001b[39m(\u001b[38;5;28mself\u001b[39m, dtype\u001b[38;5;241m=\u001b[39m\u001b[38;5;28;01mNone\u001b[39;00m, \u001b[38;5;241m*\u001b[39m\u001b[38;5;241m*\u001b[39mkwargs):\n\u001b[1;32m-> 1693\u001b[0m     x \u001b[38;5;241m=\u001b[39m \u001b[38;5;28;43mself\u001b[39;49m\u001b[38;5;241;43m.\u001b[39;49m\u001b[43mcompute\u001b[49m\u001b[43m(\u001b[49m\u001b[43m)\u001b[49m\n\u001b[0;32m   1694\u001b[0m     \u001b[38;5;28;01mif\u001b[39;00m dtype \u001b[38;5;129;01mand\u001b[39;00m x\u001b[38;5;241m.\u001b[39mdtype \u001b[38;5;241m!=\u001b[39m dtype:\n\u001b[0;32m   1695\u001b[0m         x \u001b[38;5;241m=\u001b[39m x\u001b[38;5;241m.\u001b[39mastype(dtype)\n",
      "File \u001b[1;32mc:\\Users\\SABIO\\anaconda3\\envs\\Capstone-Microsoft\\lib\\site-packages\\dask\\base.py:376\u001b[0m, in \u001b[0;36mDaskMethodsMixin.compute\u001b[1;34m(self, **kwargs)\u001b[0m\n\u001b[0;32m    352\u001b[0m \u001b[38;5;28;01mdef\u001b[39;00m\u001b[38;5;250m \u001b[39m\u001b[38;5;21mcompute\u001b[39m(\u001b[38;5;28mself\u001b[39m, \u001b[38;5;241m*\u001b[39m\u001b[38;5;241m*\u001b[39mkwargs):\n\u001b[0;32m    353\u001b[0m \u001b[38;5;250m    \u001b[39m\u001b[38;5;124;03m\"\"\"Compute this dask collection\u001b[39;00m\n\u001b[0;32m    354\u001b[0m \n\u001b[0;32m    355\u001b[0m \u001b[38;5;124;03m    This turns a lazy Dask collection into its in-memory equivalent.\u001b[39;00m\n\u001b[1;32m   (...)\u001b[0m\n\u001b[0;32m    374\u001b[0m \u001b[38;5;124;03m    dask.compute\u001b[39;00m\n\u001b[0;32m    375\u001b[0m \u001b[38;5;124;03m    \"\"\"\u001b[39;00m\n\u001b[1;32m--> 376\u001b[0m     (result,) \u001b[38;5;241m=\u001b[39m compute(\u001b[38;5;28mself\u001b[39m, traverse\u001b[38;5;241m=\u001b[39m\u001b[38;5;28;01mFalse\u001b[39;00m, \u001b[38;5;241m*\u001b[39m\u001b[38;5;241m*\u001b[39mkwargs)\n\u001b[0;32m    377\u001b[0m     \u001b[38;5;28;01mreturn\u001b[39;00m result\n",
      "File \u001b[1;32mc:\\Users\\SABIO\\anaconda3\\envs\\Capstone-Microsoft\\lib\\site-packages\\dask\\base.py:662\u001b[0m, in \u001b[0;36mcompute\u001b[1;34m(traverse, optimize_graph, scheduler, get, *args, **kwargs)\u001b[0m\n\u001b[0;32m    659\u001b[0m     postcomputes\u001b[38;5;241m.\u001b[39mappend(x\u001b[38;5;241m.\u001b[39m__dask_postcompute__())\n\u001b[0;32m    661\u001b[0m \u001b[38;5;28;01mwith\u001b[39;00m shorten_traceback():\n\u001b[1;32m--> 662\u001b[0m     results \u001b[38;5;241m=\u001b[39m schedule(dsk, keys, \u001b[38;5;241m*\u001b[39m\u001b[38;5;241m*\u001b[39mkwargs)\n\u001b[0;32m    664\u001b[0m \u001b[38;5;28;01mreturn\u001b[39;00m repack([f(r, \u001b[38;5;241m*\u001b[39ma) \u001b[38;5;28;01mfor\u001b[39;00m r, (f, a) \u001b[38;5;129;01min\u001b[39;00m \u001b[38;5;28mzip\u001b[39m(results, postcomputes)])\n",
      "File \u001b[1;32mc:\\Users\\SABIO\\anaconda3\\envs\\Capstone-Microsoft\\lib\\queue.py:180\u001b[0m, in \u001b[0;36mQueue.get\u001b[1;34m(self, block, timeout)\u001b[0m\n\u001b[0;32m    178\u001b[0m         \u001b[38;5;28;01mif\u001b[39;00m remaining \u001b[38;5;241m<\u001b[39m\u001b[38;5;241m=\u001b[39m \u001b[38;5;241m0.0\u001b[39m:\n\u001b[0;32m    179\u001b[0m             \u001b[38;5;28;01mraise\u001b[39;00m Empty\n\u001b[1;32m--> 180\u001b[0m         \u001b[38;5;28;43mself\u001b[39;49m\u001b[38;5;241;43m.\u001b[39;49m\u001b[43mnot_empty\u001b[49m\u001b[38;5;241;43m.\u001b[39;49m\u001b[43mwait\u001b[49m\u001b[43m(\u001b[49m\u001b[43mremaining\u001b[49m\u001b[43m)\u001b[49m\n\u001b[0;32m    181\u001b[0m item \u001b[38;5;241m=\u001b[39m \u001b[38;5;28mself\u001b[39m\u001b[38;5;241m.\u001b[39m_get()\n\u001b[0;32m    182\u001b[0m \u001b[38;5;28mself\u001b[39m\u001b[38;5;241m.\u001b[39mnot_full\u001b[38;5;241m.\u001b[39mnotify()\n",
      "File \u001b[1;32mc:\\Users\\SABIO\\anaconda3\\envs\\Capstone-Microsoft\\lib\\threading.py:316\u001b[0m, in \u001b[0;36mCondition.wait\u001b[1;34m(self, timeout)\u001b[0m\n\u001b[0;32m    314\u001b[0m \u001b[38;5;28;01melse\u001b[39;00m:\n\u001b[0;32m    315\u001b[0m     \u001b[38;5;28;01mif\u001b[39;00m timeout \u001b[38;5;241m>\u001b[39m \u001b[38;5;241m0\u001b[39m:\n\u001b[1;32m--> 316\u001b[0m         gotit \u001b[38;5;241m=\u001b[39m \u001b[43mwaiter\u001b[49m\u001b[38;5;241;43m.\u001b[39;49m\u001b[43macquire\u001b[49m\u001b[43m(\u001b[49m\u001b[38;5;28;43;01mTrue\u001b[39;49;00m\u001b[43m,\u001b[49m\u001b[43m \u001b[49m\u001b[43mtimeout\u001b[49m\u001b[43m)\u001b[49m\n\u001b[0;32m    317\u001b[0m     \u001b[38;5;28;01melse\u001b[39;00m:\n\u001b[0;32m    318\u001b[0m         gotit \u001b[38;5;241m=\u001b[39m waiter\u001b[38;5;241m.\u001b[39macquire(\u001b[38;5;28;01mFalse\u001b[39;00m)\n",
      "\u001b[1;31mKeyboardInterrupt\u001b[0m: "
     ]
    }
   ],
   "source": [
    "import pandas as pd\n",
    "import numpy as np\n",
    "import xarray as xr\n",
    "import pystac_client\n",
    "import planetary_computer\n",
    "from tqdm import tqdm\n",
    "import time\n",
    "import os\n",
    "from datetime import datetime\n",
    "\n",
    "# Load GridMET dataset\n",
    "def load_gridmet_dataset():\n",
    "    print(\"🔄 Loading fresh GridMET Zarr dataset from Planetary Computer...\")\n",
    "    catalog = pystac_client.Client.open(\n",
    "        \"https://planetarycomputer.microsoft.com/api/stac/v1\",\n",
    "        modifier=planetary_computer.sign_inplace,\n",
    "    )\n",
    "    asset = catalog.get_collection(\"gridmet\").assets[\"zarr-abfs\"]\n",
    "    return xr.open_zarr(\n",
    "        asset.href,\n",
    "        storage_options=asset.extra_fields[\"xarray:storage_options\"],\n",
    "        **asset.extra_fields[\"xarray:open_kwargs\"]\n",
    "    )\n",
    "\n",
    "# Define output file\n",
    "output_file = \"huckleberry_rowwise_output.csv\"\n",
    "\n",
    "# Check for header\n",
    "if not os.path.exists(output_file):\n",
    "    with open(output_file, \"w\") as f:\n",
    "        header = [\n",
    "            \"gbifID\", \"datetime\", \"decimalLatitude\", \"decimalLongitude\"\n",
    "        ] + [f\"{var}_{d}\" for var in [\n",
    "            \"air_temperature\", \"precipitation_amount\", \"specific_humidity\",\n",
    "            \"surface_downwelling_shortwave_flux_in_air\", \"wind_speed\",\n",
    "            \"wind_from_direction\", \"relative_humidity\", \"potential_evapotranspiration\",\n",
    "            \"burning_index_g\", \"dead_fuel_moisture_100hr\", \"dead_fuel_moisture_1000hr\"\n",
    "        ] for d in [\"7d\", \"30d\"]]\n",
    "        f.write(\",\".join(header) + \"\\n\")\n",
    "\n",
    "# Load dataset and input\n",
    "ds = load_gridmet_dataset()\n",
    "df = pd.read_csv(\"../data/processed/date_location_occurrances.csv\")\n",
    "\n",
    "# Process each row\n",
    "with open(output_file, \"a\", buffering=1) as f:\n",
    "    for idx, row in tqdm(df.iterrows(), total=len(df)):\n",
    "        lat, lon = row[\"decimalLatitude\"], row[\"decimalLongitude\"]\n",
    "        try:\n",
    "            date = pd.to_datetime(row[\"datetime\"])\n",
    "        except:\n",
    "            print(f\"⚠️ Skipping invalid date at row {idx}\")\n",
    "            continue\n",
    "\n",
    "        # Filter: GridMET range (lat: 25–50, lon: -125 to -104) & after 1979\n",
    "        if not (25 <= lat <= 50 and -125 <= lon <= -104 and date.year >= 1980):\n",
    "            continue\n",
    "\n",
    "        entry = {\n",
    "            \"gbifID\": row[\"gbifID\"],\n",
    "            \"datetime\": date,\n",
    "            \"decimalLatitude\": lat,\n",
    "            \"decimalLongitude\": lon,\n",
    "        }\n",
    "\n",
    "        for attempt in range(2):\n",
    "            try:\n",
    "                for var in [\n",
    "                    \"air_temperature\", \"precipitation_amount\", \"specific_humidity\",\n",
    "                    \"surface_downwelling_shortwave_flux_in_air\", \"wind_speed\",\n",
    "                    \"wind_from_direction\", \"relative_humidity\", \"potential_evapotranspiration\",\n",
    "                    \"burning_index_g\", \"dead_fuel_moisture_100hr\", \"dead_fuel_moisture_1000hr\"\n",
    "                ]:\n",
    "                    for delta in [7, 30]:\n",
    "                        val = ds[var].sel(\n",
    "                            time=date - pd.Timedelta(days=delta),\n",
    "                            lat=lat, lon=lon, method=\"nearest\"\n",
    "                        ).values.item()\n",
    "                        entry[f\"{var}_{delta}d\"] = val\n",
    "                break  # success\n",
    "            except Exception as e:\n",
    "                if \"Signature not valid in the specified time frame\" in str(e) and attempt == 0:\n",
    "                    print(f\"🔁 Signature expired for row {idx} on {date.date()}, reloading...\")\n",
    "                    ds = load_gridmet_dataset()\n",
    "                    time.sleep(1)\n",
    "                else:\n",
    "                    print(f\"⚠️ Failed at row {idx} ({lat}, {lon}) on {date.date()}: {e}\")\n",
    "                    for var in [\n",
    "                        \"air_temperature\", \"precipitation_amount\", \"specific_humidity\",\n",
    "                        \"surface_downwelling_shortwave_flux_in_air\", \"wind_speed\",\n",
    "                        \"wind_from_direction\", \"relative_humidity\", \"potential_evapotranspiration\",\n",
    "                        \"burning_index_g\", \"dead_fuel_moisture_100hr\", \"dead_fuel_moisture_1000hr\"\n",
    "                    ]:\n",
    "                        entry[f\"{var}_7d\"] = None\n",
    "                        entry[f\"{var}_30d\"] = None\n",
    "                    break\n",
    "\n",
    "        # Write to CSV\n",
    "        line = \",\".join(str(entry[k]) for k in header)\n",
    "        f.write(line + \"\\n\")\n",
    "        f.flush()  # ensure it writes immediately\n",
    "        print(f\"✅ Wrote row {idx} to CSV\")"
   ]
  }
 ],
 "metadata": {
  "kernelspec": {
   "display_name": "Capstone-Microsoft",
   "language": "python",
   "name": "python3"
  },
  "language_info": {
   "codemirror_mode": {
    "name": "ipython",
    "version": 3
   },
   "file_extension": ".py",
   "mimetype": "text/x-python",
   "name": "python",
   "nbconvert_exporter": "python",
   "pygments_lexer": "ipython3",
   "version": "3.9.22"
  }
 },
 "nbformat": 4,
 "nbformat_minor": 2
}
